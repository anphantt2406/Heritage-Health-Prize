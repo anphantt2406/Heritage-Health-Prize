{
  "nbformat": 4,
  "nbformat_minor": 0,
  "metadata": {
    "colab": {
      "name": "[ML2020][HHP][G4.PTThuyAn]-ExploreData.ipynb",
      "provenance": [],
      "collapsed_sections": [],
      "authorship_tag": "ABX9TyPc2rxN0O33reGNS1pBkgKR",
      "include_colab_link": true
    },
    "kernelspec": {
      "name": "python3",
      "display_name": "Python 3"
    }
  },
  "cells": [
    {
      "cell_type": "markdown",
      "metadata": {
        "id": "view-in-github",
        "colab_type": "text"
      },
      "source": [
        "<a href=\"https://colab.research.google.com/github/anphantt2406/Heritage-Health-Prize/blob/main/%5BML2020%5D%5BHHP%5D%5BG4_PTThuyAn%5D_ExploreData.ipynb\" target=\"_parent\"><img src=\"https://colab.research.google.com/assets/colab-badge.svg\" alt=\"Open In Colab\"/></a>"
      ]
    },
    {
      "cell_type": "code",
      "metadata": {
        "colab": {
          "base_uri": "https://localhost:8080/"
        },
        "id": "1hFN9RhVMZZy",
        "outputId": "b4e7211d-7d84-4bac-dbb4-e3172e1e8136"
      },
      "source": [
        "from google.colab import drive\r\n",
        "drive.mount('/content/drive')\r\n",
        "%cd /content/drive/My Drive/HHP_release3/"
      ],
      "execution_count": 3,
      "outputs": [
        {
          "output_type": "stream",
          "text": [
            "Mounted at /content/drive\n",
            "/content/drive/My Drive/HHP_release3\n"
          ],
          "name": "stdout"
        }
      ]
    },
    {
      "cell_type": "markdown",
      "metadata": {
        "id": "poK8NPr1PoY5"
      },
      "source": [
        "# Import Library"
      ]
    },
    {
      "cell_type": "code",
      "metadata": {
        "id": "THY28zYGOtoy"
      },
      "source": [
        "import pandas as pd\n",
        "import numpy as np\n",
        "import matplotlib as mpl\n",
        "%matplotlib inline \n",
        "import seaborn as sns\n",
        "import scipy.stats as st\n",
        "import matplotlib.pyplot as plt\n",
        "plt.style.use('seaborn-darkgrid')"
      ],
      "execution_count": 4,
      "outputs": []
    },
    {
      "cell_type": "markdown",
      "metadata": {
        "id": "-A6casZ5PyRP"
      },
      "source": [
        "# Import data"
      ]
    },
    {
      "cell_type": "code",
      "metadata": {
        "id": "OW7u0X79O1Ba"
      },
      "source": [
        "member_df = pd.read_csv(\"Members.csv\")\n",
        "claims_df = pd.read_csv(\"3_Claims.csv\")\n",
        "drug_df = pd.read_csv(\"DrugCount.csv\")\n",
        "lab_df = pd.read_csv(\"LabCount.csv\")\n",
        "DIHY2_df = pd.read_csv(\"DaysInHospital_Y2.csv\")\n",
        "DIHY3_df = pd.read_csv(\"DaysInHospital_Y3.csv\")"
      ],
      "execution_count": 5,
      "outputs": []
    },
    {
      "cell_type": "markdown",
      "metadata": {
        "id": "guSYe2xsP3vm"
      },
      "source": [
        "# Observe and Explore"
      ]
    },
    {
      "cell_type": "markdown",
      "metadata": {
        "id": "JtV0dlzeNdW_"
      },
      "source": [
        "##Member"
      ]
    },
    {
      "cell_type": "code",
      "metadata": {
        "colab": {
          "base_uri": "https://localhost:8080/",
          "height": 402
        },
        "id": "L7OmfbgfTmFc",
        "outputId": "240cdcd5-8f35-4e4d-dc9f-e2fb7b565ccd"
      },
      "source": [
        "member_df.sort_values('MemberID',ignore_index=True)"
      ],
      "execution_count": 6,
      "outputs": [
        {
          "output_type": "execute_result",
          "data": {
            "text/html": [
              "<div>\n",
              "<style scoped>\n",
              "    .dataframe tbody tr th:only-of-type {\n",
              "        vertical-align: middle;\n",
              "    }\n",
              "\n",
              "    .dataframe tbody tr th {\n",
              "        vertical-align: top;\n",
              "    }\n",
              "\n",
              "    .dataframe thead th {\n",
              "        text-align: right;\n",
              "    }\n",
              "</style>\n",
              "<table border=\"1\" class=\"dataframe\">\n",
              "  <thead>\n",
              "    <tr style=\"text-align: right;\">\n",
              "      <th></th>\n",
              "      <th>MemberID</th>\n",
              "      <th>AgeAtFirstClaim</th>\n",
              "      <th>Sex</th>\n",
              "    </tr>\n",
              "  </thead>\n",
              "  <tbody>\n",
              "    <tr>\n",
              "      <th>0</th>\n",
              "      <td>4</td>\n",
              "      <td>0-9</td>\n",
              "      <td>M</td>\n",
              "    </tr>\n",
              "    <tr>\n",
              "      <th>1</th>\n",
              "      <td>210</td>\n",
              "      <td>30-39</td>\n",
              "      <td>NaN</td>\n",
              "    </tr>\n",
              "    <tr>\n",
              "      <th>2</th>\n",
              "      <td>3197</td>\n",
              "      <td>0-9</td>\n",
              "      <td>F</td>\n",
              "    </tr>\n",
              "    <tr>\n",
              "      <th>3</th>\n",
              "      <td>3457</td>\n",
              "      <td>0-9</td>\n",
              "      <td>M</td>\n",
              "    </tr>\n",
              "    <tr>\n",
              "      <th>4</th>\n",
              "      <td>3713</td>\n",
              "      <td>40-49</td>\n",
              "      <td>F</td>\n",
              "    </tr>\n",
              "    <tr>\n",
              "      <th>...</th>\n",
              "      <td>...</td>\n",
              "      <td>...</td>\n",
              "      <td>...</td>\n",
              "    </tr>\n",
              "    <tr>\n",
              "      <th>112995</th>\n",
              "      <td>99996214</td>\n",
              "      <td>40-49</td>\n",
              "      <td>M</td>\n",
              "    </tr>\n",
              "    <tr>\n",
              "      <th>112996</th>\n",
              "      <td>99997485</td>\n",
              "      <td>10-19</td>\n",
              "      <td>M</td>\n",
              "    </tr>\n",
              "    <tr>\n",
              "      <th>112997</th>\n",
              "      <td>99997895</td>\n",
              "      <td>40-49</td>\n",
              "      <td>M</td>\n",
              "    </tr>\n",
              "    <tr>\n",
              "      <th>112998</th>\n",
              "      <td>99998627</td>\n",
              "      <td>30-39</td>\n",
              "      <td>F</td>\n",
              "    </tr>\n",
              "    <tr>\n",
              "      <th>112999</th>\n",
              "      <td>99998824</td>\n",
              "      <td>30-39</td>\n",
              "      <td>F</td>\n",
              "    </tr>\n",
              "  </tbody>\n",
              "</table>\n",
              "<p>113000 rows × 3 columns</p>\n",
              "</div>"
            ],
            "text/plain": [
              "        MemberID AgeAtFirstClaim  Sex\n",
              "0              4             0-9    M\n",
              "1            210           30-39  NaN\n",
              "2           3197             0-9    F\n",
              "3           3457             0-9    M\n",
              "4           3713           40-49    F\n",
              "...          ...             ...  ...\n",
              "112995  99996214           40-49    M\n",
              "112996  99997485           10-19    M\n",
              "112997  99997895           40-49    M\n",
              "112998  99998627           30-39    F\n",
              "112999  99998824           30-39    F\n",
              "\n",
              "[113000 rows x 3 columns]"
            ]
          },
          "metadata": {
            "tags": []
          },
          "execution_count": 6
        }
      ]
    },
    {
      "cell_type": "code",
      "metadata": {
        "id": "oPbjMWEideLh"
      },
      "source": [
        "member_df[\"Sex\"].fillna(\"Unknown\", inplace = True) "
      ],
      "execution_count": 7,
      "outputs": []
    },
    {
      "cell_type": "code",
      "metadata": {
        "colab": {
          "base_uri": "https://localhost:8080/",
          "height": 472
        },
        "id": "GCPO1PNhkOGi",
        "outputId": "32a3a4a6-b1eb-45a1-897e-8e01b33ef3d4"
      },
      "source": [
        "plt.figure(figsize=(10,7))\r\n",
        "member_df.groupby(['AgeAtFirstClaim']).size().plot.bar()"
      ],
      "execution_count": 8,
      "outputs": [
        {
          "output_type": "execute_result",
          "data": {
            "text/plain": [
              "<matplotlib.axes._subplots.AxesSubplot at 0x7f41b8e357f0>"
            ]
          },
          "metadata": {
            "tags": []
          },
          "execution_count": 8
        },
        {
          "output_type": "display_data",
          "data": {
            "image/png": "[encoded data removed]",
            "text/plain": [
              "<Figure size 720x504 with 1 Axes>"
            ]
          },
          "metadata": {
            "tags": []
          }
        }
      ]
    },
    {
      "cell_type": "code",
      "metadata": {
        "colab": {
          "base_uri": "https://localhost:8080/",
          "height": 487
        },
        "id": "FEtFHbRqkVOn",
        "outputId": "6a5c8554-a2d9-4b6b-f9a0-f725eaeb58ba"
      },
      "source": [
        "plt.figure(figsize=(10,7))\r\n",
        "member_df.groupby(['Sex']).size().plot.bar()"
      ],
      "execution_count": 9,
      "outputs": [
        {
          "output_type": "execute_result",
          "data": {
            "text/plain": [
              "<matplotlib.axes._subplots.AxesSubplot at 0x7f41b8e35668>"
            ]
          },
          "metadata": {
            "tags": []
          },
          "execution_count": 9
        },
        {
          "output_type": "display_data",
          "data": {
            "image/png": "[encoded data removed]",
            "text/plain": [
              "<Figure size 720x504 with 1 Axes>"
            ]
          },
          "metadata": {
            "tags": []
          }
        }
      ]
    },
    {
      "cell_type": "markdown",
      "metadata": {
        "id": "a-QefG5UNiLs"
      },
      "source": [
        "##Claims"
      ]
    },
    {
      "cell_type": "code",
      "metadata": {
        "colab": {
          "base_uri": "https://localhost:8080/",
          "height": 570
        },
        "id": "erqngjrcO4XC",
        "outputId": "cbfd1829-e3ca-4724-9f5b-a0b51acb9eac"
      },
      "source": [
        "claims_df.sort_values('MemberID',ignore_index=True)"
      ],
      "execution_count": 10,
      "outputs": [
        {
          "output_type": "execute_result",
          "data": {
            "text/html": [
              "<div>\n",
              "<style scoped>\n",
              "    .dataframe tbody tr th:only-of-type {\n",
              "        vertical-align: middle;\n",
              "    }\n",
              "\n",
              "    .dataframe tbody tr th {\n",
              "        vertical-align: top;\n",
              "    }\n",
              "\n",
              "    .dataframe thead th {\n",
              "        text-align: right;\n",
              "    }\n",
              "</style>\n",
              "<table border=\"1\" class=\"dataframe\">\n",
              "  <thead>\n",
              "    <tr style=\"text-align: right;\">\n",
              "      <th></th>\n",
              "      <th>MemberID</th>\n",
              "      <th>ProviderID</th>\n",
              "      <th>Vendor</th>\n",
              "      <th>PCP</th>\n",
              "      <th>Year</th>\n",
              "      <th>Specialty</th>\n",
              "      <th>PlaceSvc</th>\n",
              "      <th>PayDelay</th>\n",
              "      <th>LengthOfStay</th>\n",
              "      <th>DSFS</th>\n",
              "      <th>PrimaryConditionGroup</th>\n",
              "      <th>CharlsonIndex</th>\n",
              "      <th>ProcedureGroup</th>\n",
              "      <th>SupLOS</th>\n",
              "    </tr>\n",
              "  </thead>\n",
              "  <tbody>\n",
              "    <tr>\n",
              "      <th>0</th>\n",
              "      <td>4</td>\n",
              "      <td>994608.0</td>\n",
              "      <td>851052.0</td>\n",
              "      <td>31106.0</td>\n",
              "      <td>Y2</td>\n",
              "      <td>Pediatrics</td>\n",
              "      <td>Office</td>\n",
              "      <td>43</td>\n",
              "      <td>NaN</td>\n",
              "      <td>0- 1 month</td>\n",
              "      <td>RESPR4</td>\n",
              "      <td>0</td>\n",
              "      <td>EM</td>\n",
              "      <td>0</td>\n",
              "    </tr>\n",
              "    <tr>\n",
              "      <th>1</th>\n",
              "      <td>210</td>\n",
              "      <td>6380938.0</td>\n",
              "      <td>142747.0</td>\n",
              "      <td>37508.0</td>\n",
              "      <td>Y3</td>\n",
              "      <td>Other</td>\n",
              "      <td>Office</td>\n",
              "      <td>41</td>\n",
              "      <td>NaN</td>\n",
              "      <td>3- 4 months</td>\n",
              "      <td>PRGNCY</td>\n",
              "      <td>0</td>\n",
              "      <td>MED</td>\n",
              "      <td>0</td>\n",
              "    </tr>\n",
              "    <tr>\n",
              "      <th>2</th>\n",
              "      <td>210</td>\n",
              "      <td>8448244.0</td>\n",
              "      <td>122401.0</td>\n",
              "      <td>37508.0</td>\n",
              "      <td>Y1</td>\n",
              "      <td>Internal</td>\n",
              "      <td>Office</td>\n",
              "      <td>162+</td>\n",
              "      <td>NaN</td>\n",
              "      <td>3- 4 months</td>\n",
              "      <td>PRGNCY</td>\n",
              "      <td>0</td>\n",
              "      <td>MED</td>\n",
              "      <td>0</td>\n",
              "    </tr>\n",
              "    <tr>\n",
              "      <th>3</th>\n",
              "      <td>210</td>\n",
              "      <td>7053364.0</td>\n",
              "      <td>240043.0</td>\n",
              "      <td>37508.0</td>\n",
              "      <td>Y1</td>\n",
              "      <td>Laboratory</td>\n",
              "      <td>Independent Lab</td>\n",
              "      <td>22</td>\n",
              "      <td>NaN</td>\n",
              "      <td>1- 2 months</td>\n",
              "      <td>MSC2a3</td>\n",
              "      <td>0</td>\n",
              "      <td>PL</td>\n",
              "      <td>0</td>\n",
              "    </tr>\n",
              "    <tr>\n",
              "      <th>4</th>\n",
              "      <td>210</td>\n",
              "      <td>6380938.0</td>\n",
              "      <td>142747.0</td>\n",
              "      <td>37508.0</td>\n",
              "      <td>Y3</td>\n",
              "      <td>Other</td>\n",
              "      <td>Office</td>\n",
              "      <td>35</td>\n",
              "      <td>NaN</td>\n",
              "      <td>0- 1 month</td>\n",
              "      <td>PRGNCY</td>\n",
              "      <td>0</td>\n",
              "      <td>MED</td>\n",
              "      <td>0</td>\n",
              "    </tr>\n",
              "    <tr>\n",
              "      <th>...</th>\n",
              "      <td>...</td>\n",
              "      <td>...</td>\n",
              "      <td>...</td>\n",
              "      <td>...</td>\n",
              "      <td>...</td>\n",
              "      <td>...</td>\n",
              "      <td>...</td>\n",
              "      <td>...</td>\n",
              "      <td>...</td>\n",
              "      <td>...</td>\n",
              "      <td>...</td>\n",
              "      <td>...</td>\n",
              "      <td>...</td>\n",
              "      <td>...</td>\n",
              "    </tr>\n",
              "    <tr>\n",
              "      <th>2668985</th>\n",
              "      <td>99998824</td>\n",
              "      <td>6392159.0</td>\n",
              "      <td>440960.0</td>\n",
              "      <td>44164.0</td>\n",
              "      <td>Y2</td>\n",
              "      <td>Obstetrics and Gynecology</td>\n",
              "      <td>Office</td>\n",
              "      <td>80</td>\n",
              "      <td>NaN</td>\n",
              "      <td>4- 5 months</td>\n",
              "      <td>MSC2a3</td>\n",
              "      <td>0</td>\n",
              "      <td>EM</td>\n",
              "      <td>0</td>\n",
              "    </tr>\n",
              "    <tr>\n",
              "      <th>2668986</th>\n",
              "      <td>99998824</td>\n",
              "      <td>6392159.0</td>\n",
              "      <td>327442.0</td>\n",
              "      <td>44164.0</td>\n",
              "      <td>Y2</td>\n",
              "      <td>Obstetrics and Gynecology</td>\n",
              "      <td>Office</td>\n",
              "      <td>73</td>\n",
              "      <td>NaN</td>\n",
              "      <td>4- 5 months</td>\n",
              "      <td>MSC2a3</td>\n",
              "      <td>0</td>\n",
              "      <td>EM</td>\n",
              "      <td>0</td>\n",
              "    </tr>\n",
              "    <tr>\n",
              "      <th>2668987</th>\n",
              "      <td>99998824</td>\n",
              "      <td>4085829.0</td>\n",
              "      <td>404032.0</td>\n",
              "      <td>44164.0</td>\n",
              "      <td>Y2</td>\n",
              "      <td>General Practice</td>\n",
              "      <td>Office</td>\n",
              "      <td>41</td>\n",
              "      <td>NaN</td>\n",
              "      <td>0- 1 month</td>\n",
              "      <td>MISCL5</td>\n",
              "      <td>0</td>\n",
              "      <td>EM</td>\n",
              "      <td>0</td>\n",
              "    </tr>\n",
              "    <tr>\n",
              "      <th>2668988</th>\n",
              "      <td>99998824</td>\n",
              "      <td>7053364.0</td>\n",
              "      <td>240043.0</td>\n",
              "      <td>44164.0</td>\n",
              "      <td>Y2</td>\n",
              "      <td>Laboratory</td>\n",
              "      <td>Independent Lab</td>\n",
              "      <td>17</td>\n",
              "      <td>NaN</td>\n",
              "      <td>4- 5 months</td>\n",
              "      <td>MSC2a3</td>\n",
              "      <td>0</td>\n",
              "      <td>PL</td>\n",
              "      <td>0</td>\n",
              "    </tr>\n",
              "    <tr>\n",
              "      <th>2668989</th>\n",
              "      <td>99998824</td>\n",
              "      <td>4085829.0</td>\n",
              "      <td>404032.0</td>\n",
              "      <td>44164.0</td>\n",
              "      <td>Y2</td>\n",
              "      <td>General Practice</td>\n",
              "      <td>Office</td>\n",
              "      <td>41</td>\n",
              "      <td>NaN</td>\n",
              "      <td>1- 2 months</td>\n",
              "      <td>MSC2a3</td>\n",
              "      <td>0</td>\n",
              "      <td>EM</td>\n",
              "      <td>0</td>\n",
              "    </tr>\n",
              "  </tbody>\n",
              "</table>\n",
              "<p>2668990 rows × 14 columns</p>\n",
              "</div>"
            ],
            "text/plain": [
              "         MemberID  ProviderID    Vendor  ...  CharlsonIndex ProcedureGroup SupLOS\n",
              "0               4    994608.0  851052.0  ...              0             EM      0\n",
              "1             210   6380938.0  142747.0  ...              0            MED      0\n",
              "2             210   8448244.0  122401.0  ...              0            MED      0\n",
              "3             210   7053364.0  240043.0  ...              0             PL      0\n",
              "4             210   6380938.0  142747.0  ...              0            MED      0\n",
              "...           ...         ...       ...  ...            ...            ...    ...\n",
              "2668985  99998824   6392159.0  440960.0  ...              0             EM      0\n",
              "2668986  99998824   6392159.0  327442.0  ...              0             EM      0\n",
              "2668987  99998824   4085829.0  404032.0  ...              0             EM      0\n",
              "2668988  99998824   7053364.0  240043.0  ...              0             PL      0\n",
              "2668989  99998824   4085829.0  404032.0  ...              0             EM      0\n",
              "\n",
              "[2668990 rows x 14 columns]"
            ]
          },
          "metadata": {
            "tags": []
          },
          "execution_count": 10
        }
      ]
    },
    {
      "cell_type": "code",
      "metadata": {
        "colab": {
          "base_uri": "https://localhost:8080/",
          "height": 458
        },
        "id": "GIE_3LG9moLy",
        "outputId": "7c6d120f-c7f0-4a6d-a2af-e31aefe1012c"
      },
      "source": [
        "plt.figure(figsize=(10,7))\r\n",
        "claims_df.groupby(['Year']).size().plot.bar()"
      ],
      "execution_count": 11,
      "outputs": [
        {
          "output_type": "execute_result",
          "data": {
            "text/plain": [
              "<matplotlib.axes._subplots.AxesSubplot at 0x7f41b7fd0c88>"
            ]
          },
          "metadata": {
            "tags": []
          },
          "execution_count": 11
        },
        {
          "output_type": "display_data",
          "data": {
            "image/png": "[encoded data removed]",
            "text/plain": [
              "<Figure size 720x504 with 1 Axes>"
            ]
          },
          "metadata": {
            "tags": []
          }
        }
      ]
    },
    {
      "cell_type": "code",
      "metadata": {
        "colab": {
          "base_uri": "https://localhost:8080/",
          "height": 567
        },
        "id": "ld2GGpY4O454",
        "outputId": "3fefdc78-be5b-42a3-b4e9-a3c2ad77af92"
      },
      "source": [
        "plt.figure(figsize=(10,7))\r\n",
        "claims_df.groupby(['Specialty']).size().plot.bar()"
      ],
      "execution_count": 12,
      "outputs": [
        {
          "output_type": "execute_result",
          "data": {
            "text/plain": [
              "<matplotlib.axes._subplots.AxesSubplot at 0x7f41b7fafeb8>"
            ]
          },
          "metadata": {
            "tags": []
          },
          "execution_count": 12
        },
        {
          "output_type": "display_data",
          "data": {
            "image/png": "[encoded data removed]",
            "text/plain": [
              "<Figure size 720x504 with 1 Axes>"
            ]
          },
          "metadata": {
            "tags": []
          }
        }
      ]
    },
    {
      "cell_type": "code",
      "metadata": {
        "colab": {
          "base_uri": "https://localhost:8080/",
          "height": 542
        },
        "id": "ftcNf6I-muko",
        "outputId": "7d76ee61-ef8e-487d-bd26-a768a98edf29"
      },
      "source": [
        "plt.figure(figsize=(10,7))\r\n",
        "claims_df.groupby(['PlaceSvc']).size().plot.bar()"
      ],
      "execution_count": 13,
      "outputs": [
        {
          "output_type": "execute_result",
          "data": {
            "text/plain": [
              "<matplotlib.axes._subplots.AxesSubplot at 0x7f41b7f27048>"
            ]
          },
          "metadata": {
            "tags": []
          },
          "execution_count": 13
        },
        {
          "output_type": "display_data",
          "data": {
            "image/png": "[encoded data removed]",
            "text/plain": [
              "<Figure size 720x504 with 1 Axes>"
            ]
          },
          "metadata": {
            "tags": []
          }
        }
      ]
    },
    {
      "cell_type": "code",
      "metadata": {
        "colab": {
          "base_uri": "https://localhost:8080/",
          "height": 469
        },
        "id": "q07sYW6Vp1_e",
        "outputId": "349bf6b5-1a11-472a-895e-401e457a6767"
      },
      "source": [
        "plt.figure(figsize=(10,7))\n",
        "claims_df.groupby(['PayDelay']).size().plot.bar()"
      ],
      "execution_count": 14,
      "outputs": [
        {
          "output_type": "execute_result",
          "data": {
            "text/plain": [
              "<matplotlib.axes._subplots.AxesSubplot at 0x7f41b7ec5160>"
            ]
          },
          "metadata": {
            "tags": []
          },
          "execution_count": 14
        },
        {
          "output_type": "display_data",
          "data": {
            "image/png": "[encoded data removed]",
            "text/plain": [
              "<Figure size 720x504 with 1 Axes>"
            ]
          },
          "metadata": {
            "tags": []
          }
        }
      ]
    },
    {
      "cell_type": "code",
      "metadata": {
        "colab": {
          "base_uri": "https://localhost:8080/",
          "height": 507
        },
        "id": "3Cd1i3R3T3U2",
        "outputId": "ece42ab9-a067-46e5-a02e-881061bb0ddc"
      },
      "source": [
        "plt.figure(figsize=(10,7))\r\n",
        "claims_df.groupby(['DSFS']).size().plot.bar()"
      ],
      "execution_count": 15,
      "outputs": [
        {
          "output_type": "execute_result",
          "data": {
            "text/plain": [
              "<matplotlib.axes._subplots.AxesSubplot at 0x7f41b7b976d8>"
            ]
          },
          "metadata": {
            "tags": []
          },
          "execution_count": 15
        },
        {
          "output_type": "display_data",
          "data": {
            "image/png": "[encoded data removed]",
            "text/plain": [
              "<Figure size 720x504 with 1 Axes>"
            ]
          },
          "metadata": {
            "tags": []
          }
        }
      ]
    },
    {
      "cell_type": "code",
      "metadata": {
        "colab": {
          "base_uri": "https://localhost:8080/",
          "height": 487
        },
        "id": "MDB4JUsgVB1v",
        "outputId": "df2695ec-c4b0-4e89-f288-1fa0a4efb331"
      },
      "source": [
        "plt.figure(figsize=(10,7))\r\n",
        "claims_df.groupby(['ProcedureGroup']).size().plot.bar()"
      ],
      "execution_count": 16,
      "outputs": [
        {
          "output_type": "execute_result",
          "data": {
            "text/plain": [
              "<matplotlib.axes._subplots.AxesSubplot at 0x7f41b7a56940>"
            ]
          },
          "metadata": {
            "tags": []
          },
          "execution_count": 16
        },
        {
          "output_type": "display_data",
          "data": {
            "image/png": "[encoded data removed]",
            "text/plain": [
              "<Figure size 720x504 with 1 Axes>"
            ]
          },
          "metadata": {
            "tags": []
          }
        }
      ]
    },
    {
      "cell_type": "code",
      "metadata": {
        "colab": {
          "base_uri": "https://localhost:8080/",
          "height": 495
        },
        "id": "nnslrI-Ljxhe",
        "outputId": "5e2fe227-4cca-49d5-83cd-d72660ad0fa0"
      },
      "source": [
        "plt.figure(figsize=(10,7))\r\n",
        "claims_df.groupby(['LengthOfStay']).size().plot.bar()"
      ],
      "execution_count": 17,
      "outputs": [
        {
          "output_type": "execute_result",
          "data": {
            "text/plain": [
              "<matplotlib.axes._subplots.AxesSubplot at 0x7f41b7b06390>"
            ]
          },
          "metadata": {
            "tags": []
          },
          "execution_count": 17
        },
        {
          "output_type": "display_data",
          "data": {
            "image/png": "[encoded data removed]",
            "text/plain": [
              "<Figure size 720x504 with 1 Axes>"
            ]
          },
          "metadata": {
            "tags": []
          }
        }
      ]
    },
    {
      "cell_type": "code",
      "metadata": {
        "colab": {
          "base_uri": "https://localhost:8080/",
          "height": 472
        },
        "id": "4an2mlaUm3Mz",
        "outputId": "c0ee2e53-45a5-4296-da1d-680659981186"
      },
      "source": [
        "plt.figure(figsize=(10,7))\r\n",
        "claims_df.groupby(['CharlsonIndex']).size().plot.bar()"
      ],
      "execution_count": 18,
      "outputs": [
        {
          "output_type": "execute_result",
          "data": {
            "text/plain": [
              "<matplotlib.axes._subplots.AxesSubplot at 0x7f41b793d9e8>"
            ]
          },
          "metadata": {
            "tags": []
          },
          "execution_count": 18
        },
        {
          "output_type": "display_data",
          "data": {
            "image/png": "[encoded data removed]",
            "text/plain": [
              "<Figure size 720x504 with 1 Axes>"
            ]
          },
          "metadata": {
            "tags": []
          }
        }
      ]
    },
    {
      "cell_type": "code",
      "metadata": {
        "colab": {
          "base_uri": "https://localhost:8080/"
        },
        "id": "7Fuguo0VnCgB",
        "outputId": "9e5b2164-fa2b-4a1a-f121-334e61091b74"
      },
      "source": [
        "claims_df.SupLOS.value_counts()"
      ],
      "execution_count": 19,
      "outputs": [
        {
          "output_type": "execute_result",
          "data": {
            "text/plain": [
              "0    2657658\n",
              "1      11332\n",
              "Name: SupLOS, dtype: int64"
            ]
          },
          "metadata": {
            "tags": []
          },
          "execution_count": 19
        }
      ]
    },
    {
      "cell_type": "markdown",
      "metadata": {
        "id": "E9f2uDmQNo-E"
      },
      "source": [
        "## Lab and Drug Count"
      ]
    },
    {
      "cell_type": "code",
      "metadata": {
        "colab": {
          "base_uri": "https://localhost:8080/",
          "height": 402
        },
        "id": "drfaihuqV312",
        "outputId": "72ff6a78-c437-4224-f7cc-8e331ae619a0"
      },
      "source": [
        "lab_df.sort_values('MemberID',ignore_index=True)"
      ],
      "execution_count": 20,
      "outputs": [
        {
          "output_type": "execute_result",
          "data": {
            "text/html": [
              "<div>\n",
              "<style scoped>\n",
              "    .dataframe tbody tr th:only-of-type {\n",
              "        vertical-align: middle;\n",
              "    }\n",
              "\n",
              "    .dataframe tbody tr th {\n",
              "        vertical-align: top;\n",
              "    }\n",
              "\n",
              "    .dataframe thead th {\n",
              "        text-align: right;\n",
              "    }\n",
              "</style>\n",
              "<table border=\"1\" class=\"dataframe\">\n",
              "  <thead>\n",
              "    <tr style=\"text-align: right;\">\n",
              "      <th></th>\n",
              "      <th>MemberID</th>\n",
              "      <th>Year</th>\n",
              "      <th>DSFS</th>\n",
              "      <th>LabCount</th>\n",
              "    </tr>\n",
              "  </thead>\n",
              "  <tbody>\n",
              "    <tr>\n",
              "      <th>0</th>\n",
              "      <td>210</td>\n",
              "      <td>Y1</td>\n",
              "      <td>1- 2 months</td>\n",
              "      <td>2</td>\n",
              "    </tr>\n",
              "    <tr>\n",
              "      <th>1</th>\n",
              "      <td>210</td>\n",
              "      <td>Y2</td>\n",
              "      <td>0- 1 month</td>\n",
              "      <td>1</td>\n",
              "    </tr>\n",
              "    <tr>\n",
              "      <th>2</th>\n",
              "      <td>210</td>\n",
              "      <td>Y3</td>\n",
              "      <td>2- 3 months</td>\n",
              "      <td>1</td>\n",
              "    </tr>\n",
              "    <tr>\n",
              "      <th>3</th>\n",
              "      <td>3197</td>\n",
              "      <td>Y2</td>\n",
              "      <td>1- 2 months</td>\n",
              "      <td>2</td>\n",
              "    </tr>\n",
              "    <tr>\n",
              "      <th>4</th>\n",
              "      <td>3713</td>\n",
              "      <td>Y2</td>\n",
              "      <td>1- 2 months</td>\n",
              "      <td>1</td>\n",
              "    </tr>\n",
              "    <tr>\n",
              "      <th>...</th>\n",
              "      <td>...</td>\n",
              "      <td>...</td>\n",
              "      <td>...</td>\n",
              "      <td>...</td>\n",
              "    </tr>\n",
              "    <tr>\n",
              "      <th>361479</th>\n",
              "      <td>99997895</td>\n",
              "      <td>Y1</td>\n",
              "      <td>8- 9 months</td>\n",
              "      <td>4</td>\n",
              "    </tr>\n",
              "    <tr>\n",
              "      <th>361480</th>\n",
              "      <td>99997895</td>\n",
              "      <td>Y1</td>\n",
              "      <td>3- 4 months</td>\n",
              "      <td>6</td>\n",
              "    </tr>\n",
              "    <tr>\n",
              "      <th>361481</th>\n",
              "      <td>99998627</td>\n",
              "      <td>Y1</td>\n",
              "      <td>0- 1 month</td>\n",
              "      <td>5</td>\n",
              "    </tr>\n",
              "    <tr>\n",
              "      <th>361482</th>\n",
              "      <td>99998824</td>\n",
              "      <td>Y2</td>\n",
              "      <td>1- 2 months</td>\n",
              "      <td>2</td>\n",
              "    </tr>\n",
              "    <tr>\n",
              "      <th>361483</th>\n",
              "      <td>99998824</td>\n",
              "      <td>Y2</td>\n",
              "      <td>4- 5 months</td>\n",
              "      <td>3</td>\n",
              "    </tr>\n",
              "  </tbody>\n",
              "</table>\n",
              "<p>361484 rows × 4 columns</p>\n",
              "</div>"
            ],
            "text/plain": [
              "        MemberID Year         DSFS LabCount\n",
              "0            210   Y1  1- 2 months        2\n",
              "1            210   Y2   0- 1 month        1\n",
              "2            210   Y3  2- 3 months        1\n",
              "3           3197   Y2  1- 2 months        2\n",
              "4           3713   Y2  1- 2 months        1\n",
              "...          ...  ...          ...      ...\n",
              "361479  99997895   Y1  8- 9 months        4\n",
              "361480  99997895   Y1  3- 4 months        6\n",
              "361481  99998627   Y1   0- 1 month        5\n",
              "361482  99998824   Y2  1- 2 months        2\n",
              "361483  99998824   Y2  4- 5 months        3\n",
              "\n",
              "[361484 rows x 4 columns]"
            ]
          },
          "metadata": {
            "tags": []
          },
          "execution_count": 20
        }
      ]
    },
    {
      "cell_type": "code",
      "metadata": {
        "colab": {
          "base_uri": "https://localhost:8080/",
          "height": 463
        },
        "id": "ld8U4wIsV2_s",
        "outputId": "48e20dd0-45ae-4076-dd5f-50d149e4e884"
      },
      "source": [
        "plt.figure(figsize=(10,7))\r\n",
        "lab_df.groupby(['LabCount']).size().plot.bar()"
      ],
      "execution_count": 21,
      "outputs": [
        {
          "output_type": "execute_result",
          "data": {
            "text/plain": [
              "<matplotlib.axes._subplots.AxesSubplot at 0x7f41b78a9cf8>"
            ]
          },
          "metadata": {
            "tags": []
          },
          "execution_count": 21
        },
        {
          "output_type": "display_data",
          "data": {
            "image/png": "[encoded data removed]",
            "text/plain": [
              "<Figure size 720x504 with 1 Axes>"
            ]
          },
          "metadata": {
            "tags": []
          }
        }
      ]
    },
    {
      "cell_type": "code",
      "metadata": {
        "colab": {
          "base_uri": "https://localhost:8080/",
          "height": 418
        },
        "id": "skdaIluYV715",
        "outputId": "066093eb-b4c0-41e1-fa14-1b6a23c743c8"
      },
      "source": [
        "plt.figure(figsize=(10,7))\r\n",
        "drug_df.sort_values('MemberID',ignore_index=True)"
      ],
      "execution_count": 22,
      "outputs": [
        {
          "output_type": "execute_result",
          "data": {
            "text/html": [
              "<div>\n",
              "<style scoped>\n",
              "    .dataframe tbody tr th:only-of-type {\n",
              "        vertical-align: middle;\n",
              "    }\n",
              "\n",
              "    .dataframe tbody tr th {\n",
              "        vertical-align: top;\n",
              "    }\n",
              "\n",
              "    .dataframe thead th {\n",
              "        text-align: right;\n",
              "    }\n",
              "</style>\n",
              "<table border=\"1\" class=\"dataframe\">\n",
              "  <thead>\n",
              "    <tr style=\"text-align: right;\">\n",
              "      <th></th>\n",
              "      <th>MemberID</th>\n",
              "      <th>Year</th>\n",
              "      <th>DSFS</th>\n",
              "      <th>DrugCount</th>\n",
              "    </tr>\n",
              "  </thead>\n",
              "  <tbody>\n",
              "    <tr>\n",
              "      <th>0</th>\n",
              "      <td>210</td>\n",
              "      <td>Y3</td>\n",
              "      <td>7- 8 months</td>\n",
              "      <td>1</td>\n",
              "    </tr>\n",
              "    <tr>\n",
              "      <th>1</th>\n",
              "      <td>210</td>\n",
              "      <td>Y1</td>\n",
              "      <td>0- 1 month</td>\n",
              "      <td>2</td>\n",
              "    </tr>\n",
              "    <tr>\n",
              "      <th>2</th>\n",
              "      <td>210</td>\n",
              "      <td>Y3</td>\n",
              "      <td>5- 6 months</td>\n",
              "      <td>2</td>\n",
              "    </tr>\n",
              "    <tr>\n",
              "      <th>3</th>\n",
              "      <td>210</td>\n",
              "      <td>Y3</td>\n",
              "      <td>6- 7 months</td>\n",
              "      <td>1</td>\n",
              "    </tr>\n",
              "    <tr>\n",
              "      <th>4</th>\n",
              "      <td>210</td>\n",
              "      <td>Y3</td>\n",
              "      <td>8- 9 months</td>\n",
              "      <td>1</td>\n",
              "    </tr>\n",
              "    <tr>\n",
              "      <th>...</th>\n",
              "      <td>...</td>\n",
              "      <td>...</td>\n",
              "      <td>...</td>\n",
              "      <td>...</td>\n",
              "    </tr>\n",
              "    <tr>\n",
              "      <th>818236</th>\n",
              "      <td>99995554</td>\n",
              "      <td>Y1</td>\n",
              "      <td>4- 5 months</td>\n",
              "      <td>1</td>\n",
              "    </tr>\n",
              "    <tr>\n",
              "      <th>818237</th>\n",
              "      <td>99995554</td>\n",
              "      <td>Y1</td>\n",
              "      <td>5- 6 months</td>\n",
              "      <td>2</td>\n",
              "    </tr>\n",
              "    <tr>\n",
              "      <th>818238</th>\n",
              "      <td>99997485</td>\n",
              "      <td>Y3</td>\n",
              "      <td>0- 1 month</td>\n",
              "      <td>1</td>\n",
              "    </tr>\n",
              "    <tr>\n",
              "      <th>818239</th>\n",
              "      <td>99997485</td>\n",
              "      <td>Y3</td>\n",
              "      <td>4- 5 months</td>\n",
              "      <td>1</td>\n",
              "    </tr>\n",
              "    <tr>\n",
              "      <th>818240</th>\n",
              "      <td>99998627</td>\n",
              "      <td>Y1</td>\n",
              "      <td>0- 1 month</td>\n",
              "      <td>1</td>\n",
              "    </tr>\n",
              "  </tbody>\n",
              "</table>\n",
              "<p>818241 rows × 4 columns</p>\n",
              "</div>"
            ],
            "text/plain": [
              "        MemberID Year         DSFS DrugCount\n",
              "0            210   Y3  7- 8 months         1\n",
              "1            210   Y1   0- 1 month         2\n",
              "2            210   Y3  5- 6 months         2\n",
              "3            210   Y3  6- 7 months         1\n",
              "4            210   Y3  8- 9 months         1\n",
              "...          ...  ...          ...       ...\n",
              "818236  99995554   Y1  4- 5 months         1\n",
              "818237  99995554   Y1  5- 6 months         2\n",
              "818238  99997485   Y3   0- 1 month         1\n",
              "818239  99997485   Y3  4- 5 months         1\n",
              "818240  99998627   Y1   0- 1 month         1\n",
              "\n",
              "[818241 rows x 4 columns]"
            ]
          },
          "metadata": {
            "tags": []
          },
          "execution_count": 22
        },
        {
          "output_type": "display_data",
          "data": {
            "text/plain": [
              "<Figure size 720x504 with 0 Axes>"
            ]
          },
          "metadata": {
            "tags": []
          }
        }
      ]
    },
    {
      "cell_type": "code",
      "metadata": {
        "colab": {
          "base_uri": "https://localhost:8080/",
          "height": 457
        },
        "id": "HY1EZOKeV7bL",
        "outputId": "8fe2ee10-4f55-43d5-bc16-b0cd7c7288b0"
      },
      "source": [
        "plt.figure(figsize=(10,7))\r\n",
        "drug_df.groupby(['DrugCount']).size().plot.bar()"
      ],
      "execution_count": 31,
      "outputs": [
        {
          "output_type": "execute_result",
          "data": {
            "text/plain": [
              "<matplotlib.axes._subplots.AxesSubplot at 0x7f41b7ae2f98>"
            ]
          },
          "metadata": {
            "tags": []
          },
          "execution_count": 31
        },
        {
          "output_type": "display_data",
          "data": {
            "image/png": "[encoded data removed]",
            "text/plain": [
              "<Figure size 720x504 with 1 Axes>"
            ]
          },
          "metadata": {
            "tags": []
          }
        }
      ]
    },
    {
      "cell_type": "markdown",
      "metadata": {
        "id": "bVlKOuFrNxeG"
      },
      "source": [
        "##Target - Days in Hospital"
      ]
    },
    {
      "cell_type": "code",
      "metadata": {
        "colab": {
          "base_uri": "https://localhost:8080/",
          "height": 402
        },
        "id": "9inN607ooOHX",
        "outputId": "f966d7b3-f543-4ab0-f761-f201ea4f41f0"
      },
      "source": [
        "DIHY2_df.sort_values('MemberID',ignore_index=True)"
      ],
      "execution_count": 24,
      "outputs": [
        {
          "output_type": "execute_result",
          "data": {
            "text/html": [
              "<div>\n",
              "<style scoped>\n",
              "    .dataframe tbody tr th:only-of-type {\n",
              "        vertical-align: middle;\n",
              "    }\n",
              "\n",
              "    .dataframe tbody tr th {\n",
              "        vertical-align: top;\n",
              "    }\n",
              "\n",
              "    .dataframe thead th {\n",
              "        text-align: right;\n",
              "    }\n",
              "</style>\n",
              "<table border=\"1\" class=\"dataframe\">\n",
              "  <thead>\n",
              "    <tr style=\"text-align: right;\">\n",
              "      <th></th>\n",
              "      <th>MemberID</th>\n",
              "      <th>ClaimsTruncated</th>\n",
              "      <th>DaysInHospital</th>\n",
              "    </tr>\n",
              "  </thead>\n",
              "  <tbody>\n",
              "    <tr>\n",
              "      <th>0</th>\n",
              "      <td>210</td>\n",
              "      <td>0</td>\n",
              "      <td>0</td>\n",
              "    </tr>\n",
              "    <tr>\n",
              "      <th>1</th>\n",
              "      <td>3197</td>\n",
              "      <td>0</td>\n",
              "      <td>0</td>\n",
              "    </tr>\n",
              "    <tr>\n",
              "      <th>2</th>\n",
              "      <td>3889</td>\n",
              "      <td>0</td>\n",
              "      <td>0</td>\n",
              "    </tr>\n",
              "    <tr>\n",
              "      <th>3</th>\n",
              "      <td>4187</td>\n",
              "      <td>0</td>\n",
              "      <td>0</td>\n",
              "    </tr>\n",
              "    <tr>\n",
              "      <th>4</th>\n",
              "      <td>9063</td>\n",
              "      <td>0</td>\n",
              "      <td>0</td>\n",
              "    </tr>\n",
              "    <tr>\n",
              "      <th>...</th>\n",
              "      <td>...</td>\n",
              "      <td>...</td>\n",
              "      <td>...</td>\n",
              "    </tr>\n",
              "    <tr>\n",
              "      <th>76033</th>\n",
              "      <td>99995554</td>\n",
              "      <td>1</td>\n",
              "      <td>0</td>\n",
              "    </tr>\n",
              "    <tr>\n",
              "      <th>76034</th>\n",
              "      <td>99996214</td>\n",
              "      <td>0</td>\n",
              "      <td>0</td>\n",
              "    </tr>\n",
              "    <tr>\n",
              "      <th>76035</th>\n",
              "      <td>99997485</td>\n",
              "      <td>0</td>\n",
              "      <td>0</td>\n",
              "    </tr>\n",
              "    <tr>\n",
              "      <th>76036</th>\n",
              "      <td>99997895</td>\n",
              "      <td>0</td>\n",
              "      <td>0</td>\n",
              "    </tr>\n",
              "    <tr>\n",
              "      <th>76037</th>\n",
              "      <td>99998627</td>\n",
              "      <td>0</td>\n",
              "      <td>0</td>\n",
              "    </tr>\n",
              "  </tbody>\n",
              "</table>\n",
              "<p>76038 rows × 3 columns</p>\n",
              "</div>"
            ],
            "text/plain": [
              "       MemberID  ClaimsTruncated  DaysInHospital\n",
              "0           210                0               0\n",
              "1          3197                0               0\n",
              "2          3889                0               0\n",
              "3          4187                0               0\n",
              "4          9063                0               0\n",
              "...         ...              ...             ...\n",
              "76033  99995554                1               0\n",
              "76034  99996214                0               0\n",
              "76035  99997485                0               0\n",
              "76036  99997895                0               0\n",
              "76037  99998627                0               0\n",
              "\n",
              "[76038 rows x 3 columns]"
            ]
          },
          "metadata": {
            "tags": []
          },
          "execution_count": 24
        }
      ]
    },
    {
      "cell_type": "code",
      "metadata": {
        "colab": {
          "base_uri": "https://localhost:8080/"
        },
        "id": "cG2R9mCZoYe5",
        "outputId": "58f0d89d-c469-4eeb-b34d-ecbc4420ccf4"
      },
      "source": [
        "DIHY2_df.DaysInHospital.value_counts()"
      ],
      "execution_count": 25,
      "outputs": [
        {
          "output_type": "execute_result",
          "data": {
            "text/plain": [
              "0     64269\n",
              "1      4835\n",
              "2      2366\n",
              "3      1453\n",
              "4       977\n",
              "5       565\n",
              "6       373\n",
              "15      261\n",
              "7       256\n",
              "8       173\n",
              "9       148\n",
              "10      106\n",
              "11       80\n",
              "12       73\n",
              "13       61\n",
              "14       42\n",
              "Name: DaysInHospital, dtype: int64"
            ]
          },
          "metadata": {
            "tags": []
          },
          "execution_count": 25
        }
      ]
    },
    {
      "cell_type": "code",
      "metadata": {
        "colab": {
          "base_uri": "https://localhost:8080/",
          "height": 620
        },
        "id": "moB476AzoQ2a",
        "outputId": "b40d3448-58e9-4fb7-b1b4-105bf6342159"
      },
      "source": [
        "plt.figure(figsize=(20,10))\r\n",
        "DIHY2_df.groupby(['DaysInHospital']).size().plot.bar()"
      ],
      "execution_count": 26,
      "outputs": [
        {
          "output_type": "execute_result",
          "data": {
            "text/plain": [
              "<matplotlib.axes._subplots.AxesSubplot at 0x7f41b7a9d6a0>"
            ]
          },
          "metadata": {
            "tags": []
          },
          "execution_count": 26
        },
        {
          "output_type": "display_data",
          "data": {
            "image/png": "[encoded data removed]",
            "text/plain": [
              "<Figure size 1440x720 with 1 Axes>"
            ]
          },
          "metadata": {
            "tags": []
          }
        }
      ]
    },
    {
      "cell_type": "code",
      "metadata": {
        "id": "4OXiRdKuPHM-",
        "colab": {
          "base_uri": "https://localhost:8080/",
          "height": 402
        },
        "outputId": "da0b43c0-6cb8-4565-ae0c-6fb45693eecb"
      },
      "source": [
        "DIHY3_df.sort_values('MemberID',ignore_index=True)"
      ],
      "execution_count": 27,
      "outputs": [
        {
          "output_type": "execute_result",
          "data": {
            "text/html": [
              "<div>\n",
              "<style scoped>\n",
              "    .dataframe tbody tr th:only-of-type {\n",
              "        vertical-align: middle;\n",
              "    }\n",
              "\n",
              "    .dataframe tbody tr th {\n",
              "        vertical-align: top;\n",
              "    }\n",
              "\n",
              "    .dataframe thead th {\n",
              "        text-align: right;\n",
              "    }\n",
              "</style>\n",
              "<table border=\"1\" class=\"dataframe\">\n",
              "  <thead>\n",
              "    <tr style=\"text-align: right;\">\n",
              "      <th></th>\n",
              "      <th>MemberID</th>\n",
              "      <th>ClaimsTruncated</th>\n",
              "      <th>DaysInHospital</th>\n",
              "    </tr>\n",
              "  </thead>\n",
              "  <tbody>\n",
              "    <tr>\n",
              "      <th>0</th>\n",
              "      <td>4</td>\n",
              "      <td>0</td>\n",
              "      <td>0</td>\n",
              "    </tr>\n",
              "    <tr>\n",
              "      <th>1</th>\n",
              "      <td>210</td>\n",
              "      <td>0</td>\n",
              "      <td>0</td>\n",
              "    </tr>\n",
              "    <tr>\n",
              "      <th>2</th>\n",
              "      <td>3197</td>\n",
              "      <td>0</td>\n",
              "      <td>0</td>\n",
              "    </tr>\n",
              "    <tr>\n",
              "      <th>3</th>\n",
              "      <td>3457</td>\n",
              "      <td>0</td>\n",
              "      <td>0</td>\n",
              "    </tr>\n",
              "    <tr>\n",
              "      <th>4</th>\n",
              "      <td>3713</td>\n",
              "      <td>0</td>\n",
              "      <td>0</td>\n",
              "    </tr>\n",
              "    <tr>\n",
              "      <th>...</th>\n",
              "      <td>...</td>\n",
              "      <td>...</td>\n",
              "      <td>...</td>\n",
              "    </tr>\n",
              "    <tr>\n",
              "      <th>71430</th>\n",
              "      <td>99985996</td>\n",
              "      <td>0</td>\n",
              "      <td>0</td>\n",
              "    </tr>\n",
              "    <tr>\n",
              "      <th>71431</th>\n",
              "      <td>99987030</td>\n",
              "      <td>0</td>\n",
              "      <td>0</td>\n",
              "    </tr>\n",
              "    <tr>\n",
              "      <th>71432</th>\n",
              "      <td>99995391</td>\n",
              "      <td>0</td>\n",
              "      <td>0</td>\n",
              "    </tr>\n",
              "    <tr>\n",
              "      <th>71433</th>\n",
              "      <td>99995554</td>\n",
              "      <td>0</td>\n",
              "      <td>0</td>\n",
              "    </tr>\n",
              "    <tr>\n",
              "      <th>71434</th>\n",
              "      <td>99998824</td>\n",
              "      <td>0</td>\n",
              "      <td>0</td>\n",
              "    </tr>\n",
              "  </tbody>\n",
              "</table>\n",
              "<p>71435 rows × 3 columns</p>\n",
              "</div>"
            ],
            "text/plain": [
              "       MemberID  ClaimsTruncated  DaysInHospital\n",
              "0             4                0               0\n",
              "1           210                0               0\n",
              "2          3197                0               0\n",
              "3          3457                0               0\n",
              "4          3713                0               0\n",
              "...         ...              ...             ...\n",
              "71430  99985996                0               0\n",
              "71431  99987030                0               0\n",
              "71432  99995391                0               0\n",
              "71433  99995554                0               0\n",
              "71434  99998824                0               0\n",
              "\n",
              "[71435 rows x 3 columns]"
            ]
          },
          "metadata": {
            "tags": []
          },
          "execution_count": 27
        }
      ]
    },
    {
      "cell_type": "code",
      "metadata": {
        "id": "dIIW148yPIuM",
        "colab": {
          "base_uri": "https://localhost:8080/"
        },
        "outputId": "c58fc575-ce5f-4ed1-b102-f6befd1a2bee"
      },
      "source": [
        "DIHY3_df.DaysInHospital.value_counts()"
      ],
      "execution_count": 28,
      "outputs": [
        {
          "output_type": "execute_result",
          "data": {
            "text/plain": [
              "0     60706\n",
              "1      4464\n",
              "2      2182\n",
              "3      1429\n",
              "4       842\n",
              "5       528\n",
              "6       287\n",
              "15      218\n",
              "7       218\n",
              "8       143\n",
              "9       115\n",
              "10      103\n",
              "11       65\n",
              "12       62\n",
              "13       50\n",
              "14       23\n",
              "Name: DaysInHospital, dtype: int64"
            ]
          },
          "metadata": {
            "tags": []
          },
          "execution_count": 28
        }
      ]
    },
    {
      "cell_type": "code",
      "metadata": {
        "colab": {
          "base_uri": "https://localhost:8080/",
          "height": 620
        },
        "id": "UMKt6l2iosR3",
        "outputId": "8de31a00-f9dd-4af5-c294-d9723a2cbfdd"
      },
      "source": [
        "plt.figure(figsize=(20,10))\r\n",
        "DIHY3_df.groupby(['DaysInHospital']).size().plot.bar()"
      ],
      "execution_count": 29,
      "outputs": [
        {
          "output_type": "execute_result",
          "data": {
            "text/plain": [
              "<matplotlib.axes._subplots.AxesSubplot at 0x7f41b7b87240>"
            ]
          },
          "metadata": {
            "tags": []
          },
          "execution_count": 29
        },
        {
          "output_type": "display_data",
          "data": {
            "image/png": "[encoded data removed]",
            "text/plain": [
              "<Figure size 1440x720 with 1 Axes>"
            ]
          },
          "metadata": {
            "tags": []
          }
        }
      ]
    }
  ]
}
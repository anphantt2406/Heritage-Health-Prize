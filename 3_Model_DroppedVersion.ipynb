{
  "nbformat": 4,
  "nbformat_minor": 0,
  "metadata": {
    "colab": {
      "name": "3_Model_DroppedVersion.ipynb",
      "provenance": [],
      "collapsed_sections": [
        "S-JF0vVffnbR",
        "5pnD4X7jfrRS",
        "KdHMn2Wo3heF"
      ],
      "authorship_tag": "ABX9TyOix5bYt8l6uNNvtuvftOea",
      "include_colab_link": true
    },
    "kernelspec": {
      "display_name": "Python 3",
      "name": "python3"
    }
  },
  "cells": [
    {
      "cell_type": "markdown",
      "metadata": {
        "id": "view-in-github",
        "colab_type": "text"
      },
      "source": [
        "<a href=\"https://colab.research.google.com/github/anphantt2406/Heritage-Health-Prize/blob/main/3_Model_DroppedVersion.ipynb\" target=\"_parent\"><img src=\"https://colab.research.google.com/assets/colab-badge.svg\" alt=\"Open In Colab\"/></a>"
      ]
    },
    {
      "cell_type": "code",
      "metadata": {
        "colab": {
          "base_uri": "https://localhost:8080/"
        },
        "id": "JTp1IHuy_n9Y",
        "outputId": "d5bc3d64-27cc-47da-9b4d-3940401f3662"
      },
      "source": [
        "from google.colab import drive\r\n",
        "drive.mount('/content/drive')\r\n",
        "%cd /content/drive/My Drive/HHP_release3/data_processed"
      ],
      "execution_count": 1,
      "outputs": [
        {
          "output_type": "stream",
          "text": [
            "Mounted at /content/drive\n",
            "/content/drive/My Drive/HHP_release3/data_processed\n"
          ],
          "name": "stdout"
        }
      ]
    },
    {
      "cell_type": "markdown",
      "metadata": {
        "id": "S-JF0vVffnbR"
      },
      "source": [
        "#Import Library"
      ]
    },
    {
      "cell_type": "code",
      "metadata": {
        "id": "MBhQiO2v3hQM"
      },
      "source": [
        "import glob\n",
        "import math\n",
        "import pandas as pd\n",
        "import numpy as np\n",
        "import xgboost\n",
        "from sklearn.linear_model import LinearRegression, LogisticRegression, Lasso, Ridge, SGDRegressor\n",
        "from sklearn.metrics import mean_squared_error, r2_score, classification_report, roc_auc_score, plot_roc_curve\n",
        "import matplotlib.pyplot as plt\n",
        "import matplotlib.patches as mpatches\n",
        "from sklearn.model_selection import train_test_split, GridSearchCV\n",
        "from keras.layers import Dense, Activation\n",
        "from keras.models import Sequential\n",
        "from sklearn.neural_network import MLPRegressor\n",
        "from sklearn import datasets, ensemble\n",
        "from sklearn.datasets import make_regression\n",
        "\n",
        "import seaborn as sns # Library for plotting\n",
        "color = sns.color_palette()\n",
        "sns.set_style('darkgrid')\n",
        "from sklearn.svm import SVC\n",
        "from sklearn.metrics import confusion_matrix"
      ],
      "execution_count": 2,
      "outputs": []
    },
    {
      "cell_type": "markdown",
      "metadata": {
        "id": "5pnD4X7jfrRS"
      },
      "source": [
        "#Define some needed function\r\n",
        "\r\n",
        "Predictions are evaluated using root mean squared logarithmic error, referred to henceforth as RMSLE.\r\n",
        "\r\n",
        "$$\\varepsilon = \\sqrt{\\frac{1}{n}\\sum_{i=1}^{n}\\left(log(p_i+1) - log(a_i+1)^2 \\right )}$$\r\n",
        "\r\n",
        "Where:\r\n",
        "\r\n",
        "\r\n",
        "\r\n",
        "*   $i$ is a patient's unique MemberID\r\n",
        "*   $n$ is the total number of patients\r\n",
        "*   $p_i$ is the prediction made for patient $i$\r\n",
        "*   $a_i$ is the actual number of days spent in the hospital by patient $i$\r\n",
        "\r\n",
        "\r\n",
        "\r\n"
      ]
    },
    {
      "cell_type": "code",
      "metadata": {
        "id": "L75u6E2x3uHu"
      },
      "source": [
        "def RMSLE_cal(pred, actu, name=None):\n",
        "    RMSLE = round(np.sqrt(((np.log(pred + 1) - np.log(actu + 1)) ** 2).sum() / actu.shape[0]), 6).item()\n",
        "    print('RMSLE', name, ':', RMSLE)"
      ],
      "execution_count": 3,
      "outputs": []
    },
    {
      "cell_type": "code",
      "metadata": {
        "id": "PnabKSiS3xex"
      },
      "source": [
        "def rmsle(pred, dtrain):\n",
        "    \"\"\"Used for stacked in Xgboost\n",
        "    \"\"\"\n",
        "    actu = dtrain.get_label()\n",
        "    RMSLE = round(np.sqrt(((np.log(pred + 1) - np.log(actu + 1)) ** 2).sum() / actu.shape[0]), 6).item()\n",
        "    return 'RMSLE', RMSLE"
      ],
      "execution_count": 4,
      "outputs": []
    },
    {
      "cell_type": "code",
      "metadata": {
        "id": "EmhapNDRQnoC"
      },
      "source": [
        "def eval(model, X_test, y_test, name = None):\n",
        "    pred_y = model.predict(X_test) # your predicted y values\n",
        "    # The root mean square logarithmic error\n",
        "    pred_y = pred_y.clip(min=0)\n",
        "    pred_y = pred_y.clip(max=15)\n",
        "    pred_y = pred_y.round(0).astype(int)\n",
        "    msle = np.mean( (np.log(pred_y + 1) - np.log(y_test + 1)) ** 2)\n",
        "    rmsle = math.sqrt(msle)\n",
        "    from sklearn.metrics import r2_score\n",
        "    r2 = r2_score(y_test,pred_y)\n",
        "    from sklearn.metrics import mean_squared_log_error\n",
        "    err = math.sqrt(mean_squared_log_error(y_test,pred_y))\n",
        "    print(\"RMSLE of\", name, \": %.4f\" %rmsle)\n",
        "    print(\"R2 value of\", name, \": %.4f\" %r2)\n",
        "    print(\"Err value of\", name, \": %.4f\" %err)"
      ],
      "execution_count": 5,
      "outputs": []
    },
    {
      "cell_type": "code",
      "metadata": {
        "id": "doF_jqmfbcwG"
      },
      "source": [
        "def plotResult(results, cv=None):\n",
        "    fig, ax = plt.subplots()\n",
        "    if cv:\n",
        "        ax.plot(range(results.shape[0]), results['train-RMSLE-mean'])\n",
        "        ax.plot(range(results.shape[0]), results['test-RMSLE-mean'])\n",
        "    else:\n",
        "        ax.plot(range(len(results['train']['RMSLE'])), results['train']['RMSLE'])\n",
        "        ax.plot(range(len(results['test']['RMSLE'])), results['test']['RMSLE'])\n",
        "        \n",
        "    ax.set(xlabel='Boost round', ylabel='RMSLE', title='Train/Test RMSLE')\n",
        "    ax.grid()\n",
        "\n",
        "    train_patch = mpatches.Patch(color='blue', label='Train')\n",
        "    test_patch = mpatches.Patch(color='orange', label='Test')\n",
        "\n",
        "    plt.legend(handles=[train_patch, test_patch])\n",
        "    plt.show()"
      ],
      "execution_count": 6,
      "outputs": []
    },
    {
      "cell_type": "markdown",
      "metadata": {
        "id": "riX7ZDSQf1e2"
      },
      "source": [
        "#Prepare data for training and testing\r\n",
        "\r\n",
        "In this notebook, we use Claims data in Year 1 for training and validation, Claims data in Year 2 for testing."
      ]
    },
    {
      "cell_type": "code",
      "metadata": {
        "id": "sS7HAUkF0VNF"
      },
      "source": [
        "dataY1_df = pd.read_csv('fulldataY1.csv')\n",
        "dataY2_df = pd.read_csv('fulldataY2.csv')"
      ],
      "execution_count": 7,
      "outputs": []
    },
    {
      "cell_type": "code",
      "metadata": {
        "id": "AtOlgBjJIRWo"
      },
      "source": [
        "dataY1 = dataY1_df.drop(\"MemberID\", axis = 1)\r\n",
        "y = dataY1['TARGET']\r\n",
        "X = dataY1.drop(['TARGET'], axis = 1)\r\n",
        "X_train, X_valid, y_train, y_valid = train_test_split(X, y, test_size=0.25)"
      ],
      "execution_count": 8,
      "outputs": []
    },
    {
      "cell_type": "code",
      "metadata": {
        "id": "-OSmKvsoIRWq"
      },
      "source": [
        "from sklearn.preprocessing import StandardScaler\r\n",
        "scaler = StandardScaler()\r\n",
        "# Fit only to the training data\r\n",
        "scaler.fit(X_train)\r\n",
        "X_train = scaler.transform(X_train)\r\n",
        "X_valid = scaler.transform(X_valid)"
      ],
      "execution_count": 9,
      "outputs": []
    },
    {
      "cell_type": "code",
      "metadata": {
        "id": "jM-orfrbFwWx"
      },
      "source": [
        "dataY2 = dataY2_df.drop(\"MemberID\", axis = 1)\r\n",
        "y_test = dataY2['TARGET']\r\n",
        "X_test = dataY2.drop(['TARGET'], axis = 1)\r\n",
        "X_test = scaler.transform(X_test)"
      ],
      "execution_count": 10,
      "outputs": []
    },
    {
      "cell_type": "markdown",
      "metadata": {
        "id": "5_Dy67txiTSk"
      },
      "source": [
        "# Regression"
      ]
    },
    {
      "cell_type": "markdown",
      "metadata": {
        "id": "_fN4E2PSfi7P"
      },
      "source": [
        "## MODEL 1: Linear Regression"
      ]
    },
    {
      "cell_type": "code",
      "metadata": {
        "colab": {
          "base_uri": "https://localhost:8080/",
          "height": 675
        },
        "id": "Fyj-evy7Hx4U",
        "outputId": "90f9ce59-4ff4-4588-e032-3175f6cf2cd5"
      },
      "source": [
        "# Create linear regression object\r\n",
        "model_1 = LinearRegression()\r\n",
        "# Train the model using the training sets\r\n",
        "model_1.fit(X_train, y_train)\r\n",
        "# Predict on Test set\r\n",
        "y_pred_1 = model_1.predict(X_valid)\r\n",
        "\r\n",
        "# Evaluation on Validation set\r\n",
        "eval(model_1, X_valid, y_valid,'linear regression')\r\n",
        "\r\n",
        "plt.figure(figsize = (15,10))\r\n",
        "plt.scatter(y_pred_1, y_valid, alpha=.2, s = 60, color='r') #alpha helps to show overlapping data\r\n",
        "plt.xlabel('DIH prediction')\r\n",
        "plt.ylabel('Actual DIH')\r\n",
        "plt.title('Linear Regression Model')\r\n",
        "plt.show()"
      ],
      "execution_count": 11,
      "outputs": [
        {
          "output_type": "stream",
          "text": [
            "RMSLE of linear regression : 0.2203\n",
            "R2 value of linear regression : 0.4575\n",
            "Err value of linear regression : 0.2203\n"
          ],
          "name": "stdout"
        },
        {
          "output_type": "display_data",
          "data": {
            "image/png": "[encoded data removed]",
            "text/plain": [
              "<Figure size 1080x720 with 1 Axes>"
            ]
          },
          "metadata": {
            "tags": []
          }
        }
      ]
    },
    {
      "cell_type": "markdown",
      "metadata": {
        "id": "KdHMn2Wo3heF"
      },
      "source": [
        "## MODEL 2: Stochastic Gradient Descent"
      ]
    },
    {
      "cell_type": "code",
      "metadata": {
        "colab": {
          "base_uri": "https://localhost:8080/"
        },
        "id": "VviJ28km1SLZ",
        "outputId": "5ac1fb96-68a9-4ddd-b7a5-7cb5a99a2e4e"
      },
      "source": [
        "from sklearn.linear_model import SGDRegressor\r\n",
        "\r\n",
        "model_2 = SGDRegressor(max_iter=3000, tol=1e-1)\r\n",
        "model_2.fit(X_train, y_train)\r\n",
        "y_pred_2 = model_2.predict(X_valid)\r\n",
        "eval(model_2, X_valid, y_valid, 'Stochastic Gradient Descent')"
      ],
      "execution_count": 12,
      "outputs": [
        {
          "output_type": "stream",
          "text": [
            "RMSLE of Stochastic Gradient Descent : 0.2363\n",
            "R2 value of Stochastic Gradient Descent : 0.4401\n",
            "Err value of Stochastic Gradient Descent : 0.2363\n"
          ],
          "name": "stdout"
        }
      ]
    },
    {
      "cell_type": "code",
      "metadata": {
        "colab": {
          "base_uri": "https://localhost:8080/"
        },
        "id": "LzG6l6Y1Es2r",
        "outputId": "9d27a4a5-fb5e-4b62-fc19-d03d1f2691d5"
      },
      "source": [
        "model_2i = Lasso(alpha=0.001, copy_X=True, fit_intercept=True, max_iter=5000,\r\n",
        "     normalize=False, positive=False, precompute=False, random_state=None,\r\n",
        "     selection='cyclic', tol=0.0001, warm_start=False)\r\n",
        "model_2i.fit(X_train, y_train)\r\n",
        "eval(model_2i, X_valid, y_valid, 'Lasso regression')"
      ],
      "execution_count": 13,
      "outputs": [
        {
          "output_type": "stream",
          "text": [
            "RMSLE of Lasso regression : 0.2194\n",
            "R2 value of Lasso regression : 0.4584\n",
            "Err value of Lasso regression : 0.2194\n"
          ],
          "name": "stdout"
        }
      ]
    },
    {
      "cell_type": "markdown",
      "metadata": {
        "id": "74HgPgHvfaKT"
      },
      "source": [
        "##MODEL 3: Neural Network"
      ]
    },
    {
      "cell_type": "code",
      "metadata": {
        "colab": {
          "base_uri": "https://localhost:8080/"
        },
        "id": "RVCA7wgHlj9Y",
        "outputId": "28ae3d8c-867f-4023-99da-62c521ebcf0a"
      },
      "source": [
        "#(i) Neural Network with default hyperparameters\r\n",
        "model_3i = MLPRegressor(random_state=1, max_iter=500).fit(X_train, y_train)\r\n",
        "y_pred_3 = model_3i.predict(X_valid)\r\n",
        "eval(model_3i, X_valid, y_valid, 'Neural Network_default')"
      ],
      "execution_count": 14,
      "outputs": [
        {
          "output_type": "stream",
          "text": [
            "RMSLE of Neural Network_default : 0.3305\n",
            "R2 value of Neural Network_default : 0.3473\n",
            "Err value of Neural Network_default : 0.3305\n"
          ],
          "name": "stdout"
        }
      ]
    },
    {
      "cell_type": "code",
      "metadata": {
        "colab": {
          "base_uri": "https://localhost:8080/"
        },
        "id": "e1WcOea9Qr4G",
        "outputId": "26a6cf60-6295-4e3f-819e-99e4f5d03344"
      },
      "source": [
        "#(ii) random hyperparameter\n",
        "model_3ii = MLPRegressor(activation='relu', alpha=0.0001, batch_size='auto', beta_1=0.9,\n",
        "        beta_2=0.999, early_stopping=False, epsilon=1e-08,\n",
        "        hidden_layer_sizes=7, learning_rate='adaptive',\n",
        "        learning_rate_init=0.001, max_iter=3000, momentum=0.9,\n",
        "        nesterovs_momentum=True, power_t=0.5, random_state=None,\n",
        "        shuffle=True, solver='adam', tol=0.0001, validation_fraction=0.1,\n",
        "        verbose=1, warm_start=False)\n",
        "\n",
        "model_3ii.fit(X_train, y_train)\n",
        "eval(model_3ii, X_valid, y_valid , 'Neural Network_random')"
      ],
      "execution_count": 15,
      "outputs": [
        {
          "output_type": "stream",
          "text": [
            "Iteration 1, loss = 1.18234720\n",
            "Iteration 2, loss = 0.78049627\n",
            "Iteration 3, loss = 0.64600579\n",
            "Iteration 4, loss = 0.55998578\n",
            "Iteration 5, loss = 0.52835307\n",
            "Iteration 6, loss = 0.51569118\n",
            "Iteration 7, loss = 0.50847934\n",
            "Iteration 8, loss = 0.50238557\n",
            "Iteration 9, loss = 0.49980670\n",
            "Iteration 10, loss = 0.49654210\n",
            "Iteration 11, loss = 0.49330923\n",
            "Iteration 12, loss = 0.49215880\n",
            "Iteration 13, loss = 0.49110251\n",
            "Iteration 14, loss = 0.48932582\n",
            "Iteration 15, loss = 0.48793384\n",
            "Iteration 16, loss = 0.48756642\n",
            "Iteration 17, loss = 0.48652201\n",
            "Iteration 18, loss = 0.48534367\n",
            "Iteration 19, loss = 0.48489730\n",
            "Iteration 20, loss = 0.48379080\n",
            "Iteration 21, loss = 0.48329487\n",
            "Iteration 22, loss = 0.48263261\n",
            "Iteration 23, loss = 0.48125255\n",
            "Iteration 24, loss = 0.48108917\n",
            "Iteration 25, loss = 0.47984115\n",
            "Iteration 26, loss = 0.47925709\n",
            "Iteration 27, loss = 0.47895111\n",
            "Iteration 28, loss = 0.47803458\n",
            "Iteration 29, loss = 0.47763693\n",
            "Iteration 30, loss = 0.47707023\n",
            "Iteration 31, loss = 0.47648707\n",
            "Iteration 32, loss = 0.47653740\n",
            "Iteration 33, loss = 0.47487213\n",
            "Iteration 34, loss = 0.47659586\n",
            "Iteration 35, loss = 0.47486381\n",
            "Iteration 36, loss = 0.47401267\n",
            "Iteration 37, loss = 0.47343528\n",
            "Iteration 38, loss = 0.47388236\n",
            "Iteration 39, loss = 0.47269177\n",
            "Iteration 40, loss = 0.47287376\n",
            "Iteration 41, loss = 0.47235698\n",
            "Iteration 42, loss = 0.47264565\n",
            "Iteration 43, loss = 0.47148573\n",
            "Iteration 44, loss = 0.47167660\n",
            "Iteration 45, loss = 0.47135276\n",
            "Iteration 46, loss = 0.47108796\n",
            "Iteration 47, loss = 0.47110887\n",
            "Iteration 48, loss = 0.47076181\n",
            "Iteration 49, loss = 0.46978302\n",
            "Iteration 50, loss = 0.46916022\n",
            "Iteration 51, loss = 0.47064560\n",
            "Iteration 52, loss = 0.46945133\n",
            "Iteration 53, loss = 0.46898861\n",
            "Iteration 54, loss = 0.46873002\n",
            "Iteration 55, loss = 0.46848556\n",
            "Iteration 56, loss = 0.46833087\n",
            "Iteration 57, loss = 0.46795188\n",
            "Iteration 58, loss = 0.46828799\n",
            "Iteration 59, loss = 0.46772076\n",
            "Iteration 60, loss = 0.46698719\n",
            "Iteration 61, loss = 0.46672409\n",
            "Iteration 62, loss = 0.46698084\n",
            "Iteration 63, loss = 0.46581774\n",
            "Iteration 64, loss = 0.46608497\n",
            "Iteration 65, loss = 0.46673426\n",
            "Iteration 66, loss = 0.46586662\n",
            "Iteration 67, loss = 0.46587066\n",
            "Iteration 68, loss = 0.46592370\n",
            "Iteration 69, loss = 0.46495619\n",
            "Iteration 70, loss = 0.46567056\n",
            "Iteration 71, loss = 0.46450558\n",
            "Iteration 72, loss = 0.46483374\n",
            "Iteration 73, loss = 0.46484078\n",
            "Iteration 74, loss = 0.46390838\n",
            "Iteration 75, loss = 0.46408796\n",
            "Iteration 76, loss = 0.46432065\n",
            "Iteration 77, loss = 0.46397024\n",
            "Iteration 78, loss = 0.46378198\n",
            "Iteration 79, loss = 0.46359510\n",
            "Iteration 80, loss = 0.46314205\n",
            "Iteration 81, loss = 0.46406330\n",
            "Iteration 82, loss = 0.46276175\n",
            "Iteration 83, loss = 0.46279449\n",
            "Iteration 84, loss = 0.46289829\n",
            "Iteration 85, loss = 0.46209751\n",
            "Iteration 86, loss = 0.46305399\n",
            "Iteration 87, loss = 0.46207109\n",
            "Iteration 88, loss = 0.46173917\n",
            "Iteration 89, loss = 0.46212039\n",
            "Iteration 90, loss = 0.46189708\n",
            "Iteration 91, loss = 0.46143604\n",
            "Iteration 92, loss = 0.46134623\n",
            "Iteration 93, loss = 0.46133192\n",
            "Iteration 94, loss = 0.46178591\n",
            "Iteration 95, loss = 0.46162356\n",
            "Iteration 96, loss = 0.46054296\n",
            "Iteration 97, loss = 0.46128833\n",
            "Iteration 98, loss = 0.46098959\n",
            "Iteration 99, loss = 0.46037673\n",
            "Iteration 100, loss = 0.46109931\n",
            "Iteration 101, loss = 0.46107593\n",
            "Iteration 102, loss = 0.46035267\n",
            "Iteration 103, loss = 0.45992358\n",
            "Iteration 104, loss = 0.46008576\n",
            "Iteration 105, loss = 0.45985525\n",
            "Iteration 106, loss = 0.46030043\n",
            "Iteration 107, loss = 0.45954866\n",
            "Iteration 108, loss = 0.45952324\n",
            "Iteration 109, loss = 0.45986007\n",
            "Iteration 110, loss = 0.45937527\n",
            "Iteration 111, loss = 0.45975349\n",
            "Iteration 112, loss = 0.45949163\n",
            "Iteration 113, loss = 0.45976088\n",
            "Iteration 114, loss = 0.45977652\n",
            "Iteration 115, loss = 0.45851721\n",
            "Iteration 116, loss = 0.45917785\n",
            "Iteration 117, loss = 0.45876017\n",
            "Iteration 118, loss = 0.45920407\n",
            "Iteration 119, loss = 0.45838352\n",
            "Iteration 120, loss = 0.45819691\n",
            "Iteration 121, loss = 0.45832205\n",
            "Iteration 122, loss = 0.45850391\n",
            "Iteration 123, loss = 0.45789393\n",
            "Iteration 124, loss = 0.45872103\n",
            "Iteration 125, loss = 0.45776829\n",
            "Iteration 126, loss = 0.45828095\n",
            "Iteration 127, loss = 0.45774751\n",
            "Iteration 128, loss = 0.45753946\n",
            "Iteration 129, loss = 0.45824290\n",
            "Iteration 130, loss = 0.45818640\n",
            "Iteration 131, loss = 0.45751895\n",
            "Iteration 132, loss = 0.45737555\n",
            "Iteration 133, loss = 0.45698962\n",
            "Iteration 134, loss = 0.45718480\n",
            "Iteration 135, loss = 0.45743779\n",
            "Iteration 136, loss = 0.45717764\n",
            "Iteration 137, loss = 0.45642589\n",
            "Iteration 138, loss = 0.45673272\n",
            "Iteration 139, loss = 0.45799162\n",
            "Iteration 140, loss = 0.45636004\n",
            "Iteration 141, loss = 0.45662690\n",
            "Iteration 142, loss = 0.45675523\n",
            "Iteration 143, loss = 0.45644869\n",
            "Iteration 144, loss = 0.45617282\n",
            "Iteration 145, loss = 0.45572843\n",
            "Iteration 146, loss = 0.45619604\n",
            "Iteration 147, loss = 0.45591936\n",
            "Iteration 148, loss = 0.45559656\n",
            "Iteration 149, loss = 0.45524632\n",
            "Iteration 150, loss = 0.45643400\n",
            "Iteration 151, loss = 0.45556461\n",
            "Iteration 152, loss = 0.45563915\n",
            "Iteration 153, loss = 0.45463730\n",
            "Iteration 154, loss = 0.45543052\n",
            "Iteration 155, loss = 0.45532549\n",
            "Iteration 156, loss = 0.45475299\n",
            "Iteration 157, loss = 0.45539793\n",
            "Iteration 158, loss = 0.45478338\n",
            "Iteration 159, loss = 0.45506806\n",
            "Iteration 160, loss = 0.45445362\n",
            "Iteration 161, loss = 0.45412342\n",
            "Iteration 162, loss = 0.45471904\n",
            "Iteration 163, loss = 0.45453354\n",
            "Iteration 164, loss = 0.45434744\n",
            "Iteration 165, loss = 0.45462711\n",
            "Iteration 166, loss = 0.45358048\n",
            "Iteration 167, loss = 0.45383349\n",
            "Iteration 168, loss = 0.45410893\n",
            "Iteration 169, loss = 0.45318934\n",
            "Iteration 170, loss = 0.45406739\n",
            "Iteration 171, loss = 0.45378156\n",
            "Iteration 172, loss = 0.45360818\n",
            "Iteration 173, loss = 0.45378117\n",
            "Iteration 174, loss = 0.45281490\n",
            "Iteration 175, loss = 0.45347589\n",
            "Iteration 176, loss = 0.45271887\n",
            "Iteration 177, loss = 0.45327110\n",
            "Iteration 178, loss = 0.45259536\n",
            "Iteration 179, loss = 0.45267092\n",
            "Iteration 180, loss = 0.45248032\n",
            "Iteration 181, loss = 0.45284666\n",
            "Iteration 182, loss = 0.45316706\n",
            "Iteration 183, loss = 0.45205249\n",
            "Iteration 184, loss = 0.45191302\n",
            "Iteration 185, loss = 0.45153986\n",
            "Iteration 186, loss = 0.45213383\n",
            "Iteration 187, loss = 0.45189470\n",
            "Iteration 188, loss = 0.45148373\n",
            "Iteration 189, loss = 0.45144678\n",
            "Iteration 190, loss = 0.45150760\n",
            "Iteration 191, loss = 0.45048745\n",
            "Iteration 192, loss = 0.45128485\n",
            "Iteration 193, loss = 0.45077388\n",
            "Iteration 194, loss = 0.45127522\n",
            "Iteration 195, loss = 0.45058549\n",
            "Iteration 196, loss = 0.45067927\n",
            "Iteration 197, loss = 0.45084682\n",
            "Iteration 198, loss = 0.45087534\n",
            "Iteration 199, loss = 0.45008288\n",
            "Iteration 200, loss = 0.45014535\n",
            "Iteration 201, loss = 0.45009869\n",
            "Iteration 202, loss = 0.45065248\n",
            "Iteration 203, loss = 0.45021651\n",
            "Iteration 204, loss = 0.44974362\n",
            "Iteration 205, loss = 0.44990074\n",
            "Iteration 206, loss = 0.44927856\n",
            "Iteration 207, loss = 0.44955214\n",
            "Iteration 208, loss = 0.44898733\n",
            "Iteration 209, loss = 0.44922776\n",
            "Iteration 210, loss = 0.44931421\n",
            "Iteration 211, loss = 0.44932287\n",
            "Iteration 212, loss = 0.44941324\n",
            "Iteration 213, loss = 0.44891441\n",
            "Iteration 214, loss = 0.44857768\n",
            "Iteration 215, loss = 0.44875113\n",
            "Iteration 216, loss = 0.44832105\n",
            "Iteration 217, loss = 0.44843482\n",
            "Iteration 218, loss = 0.44792105\n",
            "Iteration 219, loss = 0.44840894\n",
            "Iteration 220, loss = 0.44864809\n",
            "Iteration 221, loss = 0.44796221\n",
            "Iteration 222, loss = 0.44763239\n",
            "Iteration 223, loss = 0.44805150\n",
            "Iteration 224, loss = 0.44804627\n",
            "Iteration 225, loss = 0.44740126\n",
            "Iteration 226, loss = 0.44747106\n",
            "Iteration 227, loss = 0.44774735\n",
            "Iteration 228, loss = 0.44690563\n",
            "Iteration 229, loss = 0.44738308\n",
            "Iteration 230, loss = 0.44684197\n",
            "Iteration 231, loss = 0.44670091\n",
            "Iteration 232, loss = 0.44636249\n",
            "Iteration 233, loss = 0.44734079\n",
            "Iteration 234, loss = 0.44694562\n",
            "Iteration 235, loss = 0.44697889\n",
            "Iteration 236, loss = 0.44719817\n",
            "Iteration 237, loss = 0.44607052\n",
            "Iteration 238, loss = 0.44691720\n",
            "Iteration 239, loss = 0.44600885\n",
            "Iteration 240, loss = 0.44565726\n",
            "Iteration 241, loss = 0.44672559\n",
            "Iteration 242, loss = 0.44620264\n",
            "Iteration 243, loss = 0.44666573\n",
            "Iteration 244, loss = 0.44575878\n",
            "Iteration 245, loss = 0.44495837\n",
            "Iteration 246, loss = 0.44558242\n",
            "Iteration 247, loss = 0.44507597\n",
            "Iteration 248, loss = 0.44604007\n",
            "Iteration 249, loss = 0.44564577\n",
            "Iteration 250, loss = 0.44518291\n",
            "Iteration 251, loss = 0.44521983\n",
            "Iteration 252, loss = 0.44456132\n",
            "Iteration 253, loss = 0.44582455\n",
            "Iteration 254, loss = 0.44492011\n",
            "Iteration 255, loss = 0.44517702\n",
            "Iteration 256, loss = 0.44404448\n",
            "Iteration 257, loss = 0.44450565\n",
            "Iteration 258, loss = 0.44454793\n",
            "Iteration 259, loss = 0.44383628\n",
            "Iteration 260, loss = 0.44426950\n",
            "Iteration 261, loss = 0.44380967\n",
            "Iteration 262, loss = 0.44408316\n",
            "Iteration 263, loss = 0.44330917\n",
            "Iteration 264, loss = 0.44303897\n",
            "Iteration 265, loss = 0.44321803\n",
            "Iteration 266, loss = 0.44286471\n",
            "Iteration 267, loss = 0.44318737\n",
            "Iteration 268, loss = 0.44379112\n",
            "Iteration 269, loss = 0.44337268\n",
            "Iteration 270, loss = 0.44195078\n",
            "Iteration 271, loss = 0.44325825\n",
            "Iteration 272, loss = 0.44312079\n",
            "Iteration 273, loss = 0.44237598\n",
            "Iteration 274, loss = 0.44211889\n",
            "Iteration 275, loss = 0.44249312\n",
            "Iteration 276, loss = 0.44204996\n",
            "Iteration 277, loss = 0.44234871\n",
            "Iteration 278, loss = 0.44229987\n",
            "Iteration 279, loss = 0.44208351\n",
            "Iteration 280, loss = 0.44149473\n",
            "Iteration 281, loss = 0.44181505\n",
            "Iteration 282, loss = 0.44187825\n",
            "Iteration 283, loss = 0.44129710\n",
            "Iteration 284, loss = 0.44145015\n",
            "Iteration 285, loss = 0.44181388\n",
            "Iteration 286, loss = 0.44108749\n",
            "Iteration 287, loss = 0.44143316\n",
            "Iteration 288, loss = 0.44091884\n",
            "Iteration 289, loss = 0.44093073\n",
            "Iteration 290, loss = 0.44030468\n",
            "Iteration 291, loss = 0.44021508\n",
            "Iteration 292, loss = 0.43991796\n",
            "Iteration 293, loss = 0.44033635\n",
            "Iteration 294, loss = 0.44056015\n",
            "Iteration 295, loss = 0.44026593\n",
            "Iteration 296, loss = 0.43931374\n",
            "Iteration 297, loss = 0.43923819\n",
            "Iteration 298, loss = 0.43949201\n",
            "Iteration 299, loss = 0.44087344\n",
            "Iteration 300, loss = 0.43935136\n",
            "Iteration 301, loss = 0.43945706\n",
            "Iteration 302, loss = 0.43938117\n",
            "Iteration 303, loss = 0.43970886\n",
            "Iteration 304, loss = 0.43824705\n",
            "Iteration 305, loss = 0.43886393\n",
            "Iteration 306, loss = 0.43843110\n",
            "Iteration 307, loss = 0.43874374\n",
            "Iteration 308, loss = 0.43871355\n",
            "Iteration 309, loss = 0.43850642\n",
            "Iteration 310, loss = 0.43901979\n",
            "Iteration 311, loss = 0.43835842\n",
            "Iteration 312, loss = 0.43867426\n",
            "Iteration 313, loss = 0.43803291\n",
            "Iteration 314, loss = 0.43949511\n",
            "Iteration 315, loss = 0.43814602\n",
            "Iteration 316, loss = 0.43778573\n",
            "Iteration 317, loss = 0.43773771\n",
            "Iteration 318, loss = 0.43876702\n",
            "Iteration 319, loss = 0.43867267\n",
            "Iteration 320, loss = 0.43829912\n",
            "Iteration 321, loss = 0.43771232\n",
            "Iteration 322, loss = 0.43799304\n",
            "Iteration 323, loss = 0.43763382\n",
            "Iteration 324, loss = 0.43706252\n",
            "Iteration 325, loss = 0.43863966\n",
            "Iteration 326, loss = 0.43781342\n",
            "Iteration 327, loss = 0.43711724\n",
            "Iteration 328, loss = 0.43732666\n",
            "Iteration 329, loss = 0.43635812\n",
            "Iteration 330, loss = 0.43740235\n",
            "Iteration 331, loss = 0.43720467\n",
            "Iteration 332, loss = 0.43709026\n",
            "Iteration 333, loss = 0.43723624\n",
            "Iteration 334, loss = 0.43732193\n",
            "Iteration 335, loss = 0.43654147\n",
            "Iteration 336, loss = 0.43703883\n",
            "Iteration 337, loss = 0.43658408\n",
            "Iteration 338, loss = 0.43633560\n",
            "Iteration 339, loss = 0.43717243\n",
            "Iteration 340, loss = 0.43576255\n",
            "Iteration 341, loss = 0.43645947\n",
            "Iteration 342, loss = 0.43640479\n",
            "Iteration 343, loss = 0.43585554\n",
            "Iteration 344, loss = 0.43652615\n",
            "Iteration 345, loss = 0.43631054\n",
            "Iteration 346, loss = 0.43525188\n",
            "Iteration 347, loss = 0.43578152\n",
            "Iteration 348, loss = 0.43619318\n",
            "Iteration 349, loss = 0.43587876\n",
            "Iteration 350, loss = 0.43589136\n",
            "Iteration 351, loss = 0.43585399\n",
            "Iteration 352, loss = 0.43638678\n",
            "Iteration 353, loss = 0.43569721\n",
            "Iteration 354, loss = 0.43565899\n",
            "Iteration 355, loss = 0.43523554\n",
            "Iteration 356, loss = 0.43601252\n",
            "Iteration 357, loss = 0.43520720\n",
            "Training loss did not improve more than tol=0.000100 for 10 consecutive epochs. Stopping.\n",
            "RMSLE of Neural Network_random : 0.2200\n",
            "R2 value of Neural Network_random : 0.4405\n",
            "Err value of Neural Network_random : 0.2200\n"
          ],
          "name": "stdout"
        }
      ]
    },
    {
      "cell_type": "markdown",
      "metadata": {
        "id": "BRabSrujJ44t"
      },
      "source": [
        "**Hyperparameter Optimization using Grid Search**"
      ]
    },
    {
      "cell_type": "code",
      "metadata": {
        "id": "uBfOkQNpeO2n"
      },
      "source": [
        "#parameter_grid = {'hidden_layer_sizes': [i for i in range(1,10)],\r\n",
        "#                  'activation': ['tanh', 'relu'],\r\n",
        "#                  'solver': ['sgd','adam'],\r\n",
        "#                  'learning_rate': ['constant'],\r\n",
        "#                  'learning_rate_init': [0.001],\r\n",
        "#                  'alpha': [0.0001],\r\n",
        "#                  'max_iter': [1000],}\r\n",
        "\r\n",
        "#rgr = GridSearchCV(MLPRegressor(), parameter_grid,\r\n",
        "#                   cv = 5, verbose=True, pre_dispatch='2*n_jobs')\r\n",
        "#rgr.fit(X_train, y_train)\r\n",
        "\r\n",
        "#train_mse = mean_squared_error(y_train, rgr.predict(X_train))\r\n",
        "#test_mse = mean_squared_error(y_valid, rgr.predict(X_valid))\r\n",
        "\r\n",
        "#print(rgr.best_params_)\r\n",
        "#print(rgr.best_score_)\r\n",
        "#print(\"Train MSE:\", np.round(train_mse,2))\r\n",
        "#print(\"Test MSE:\", np.round(test_mse,2))"
      ],
      "execution_count": 16,
      "outputs": []
    },
    {
      "cell_type": "code",
      "metadata": {
        "colab": {
          "base_uri": "https://localhost:8080/"
        },
        "id": "-rFUO9A92R8T",
        "outputId": "c2eb3cde-7234-46b0-a352-6bc0b818ad21"
      },
      "source": [
        "from sklearn.neural_network import MLPRegressor\n",
        "\n",
        "model_3 = MLPRegressor(activation='relu', alpha=0.0001, batch_size='auto', beta_1=0.9,\n",
        "        beta_2=0.999, early_stopping=False, epsilon=1e-08,\n",
        "        hidden_layer_sizes=2, learning_rate='constant',\n",
        "        learning_rate_init=0.001, max_iter=1000, momentum=0.9,\n",
        "        nesterovs_momentum=True, power_t=0.5, random_state=None,\n",
        "        shuffle=True, solver='adam', tol=0.0001, validation_fraction=0.1,\n",
        "        verbose=1, warm_start=False)\n",
        "\n",
        "model_3.fit(X_train, y_train)\n",
        "eval(model_3, X_valid, y_valid, 'Neural Network_gridsearch')"
      ],
      "execution_count": 17,
      "outputs": [
        {
          "output_type": "stream",
          "text": [
            "Iteration 1, loss = 1.03045764\n",
            "Iteration 2, loss = 0.79248017\n",
            "Iteration 3, loss = 0.66784642\n",
            "Iteration 4, loss = 0.57301855\n",
            "Iteration 5, loss = 0.52681027\n",
            "Iteration 6, loss = 0.51025028\n",
            "Iteration 7, loss = 0.50219938\n",
            "Iteration 8, loss = 0.49820641\n",
            "Iteration 9, loss = 0.49603329\n",
            "Iteration 10, loss = 0.49529482\n",
            "Iteration 11, loss = 0.49326612\n",
            "Iteration 12, loss = 0.49301571\n",
            "Iteration 13, loss = 0.49252155\n",
            "Iteration 14, loss = 0.49133586\n",
            "Iteration 15, loss = 0.49143007\n",
            "Iteration 16, loss = 0.49022740\n",
            "Iteration 17, loss = 0.49069601\n",
            "Iteration 18, loss = 0.49036600\n",
            "Iteration 19, loss = 0.49012319\n",
            "Iteration 20, loss = 0.49012261\n",
            "Iteration 21, loss = 0.48957934\n",
            "Iteration 22, loss = 0.48928028\n",
            "Iteration 23, loss = 0.48913779\n",
            "Iteration 24, loss = 0.48972622\n",
            "Iteration 25, loss = 0.48836510\n",
            "Iteration 26, loss = 0.48877061\n",
            "Iteration 27, loss = 0.48818166\n",
            "Iteration 28, loss = 0.48767205\n",
            "Iteration 29, loss = 0.48772259\n",
            "Iteration 30, loss = 0.48795444\n",
            "Iteration 31, loss = 0.48749515\n",
            "Iteration 32, loss = 0.48817649\n",
            "Iteration 33, loss = 0.48762288\n",
            "Iteration 34, loss = 0.48823469\n",
            "Iteration 35, loss = 0.48840214\n",
            "Iteration 36, loss = 0.48712538\n",
            "Iteration 37, loss = 0.48741032\n",
            "Iteration 38, loss = 0.48699853\n",
            "Iteration 39, loss = 0.48681986\n",
            "Iteration 40, loss = 0.48676403\n",
            "Iteration 41, loss = 0.48677742\n",
            "Iteration 42, loss = 0.48675756\n",
            "Iteration 43, loss = 0.48680847\n",
            "Iteration 44, loss = 0.48645929\n",
            "Iteration 45, loss = 0.48642514\n",
            "Iteration 46, loss = 0.48626330\n",
            "Iteration 47, loss = 0.48615698\n",
            "Iteration 48, loss = 0.48605348\n",
            "Iteration 49, loss = 0.48591691\n",
            "Iteration 50, loss = 0.48666820\n",
            "Iteration 51, loss = 0.48649030\n",
            "Iteration 52, loss = 0.48577893\n",
            "Iteration 53, loss = 0.48602423\n",
            "Iteration 54, loss = 0.48563490\n",
            "Iteration 55, loss = 0.48536290\n",
            "Iteration 56, loss = 0.48561238\n",
            "Iteration 57, loss = 0.48569776\n",
            "Iteration 58, loss = 0.48595873\n",
            "Iteration 59, loss = 0.48530173\n",
            "Iteration 60, loss = 0.48506383\n",
            "Iteration 61, loss = 0.48536068\n",
            "Iteration 62, loss = 0.48549106\n",
            "Iteration 63, loss = 0.48530717\n",
            "Iteration 64, loss = 0.48487147\n",
            "Iteration 65, loss = 0.48488376\n",
            "Iteration 66, loss = 0.48469573\n",
            "Iteration 67, loss = 0.48537193\n",
            "Iteration 68, loss = 0.48471859\n",
            "Iteration 69, loss = 0.48460346\n",
            "Iteration 70, loss = 0.48487479\n",
            "Iteration 71, loss = 0.48402241\n",
            "Iteration 72, loss = 0.48478228\n",
            "Iteration 73, loss = 0.48500206\n",
            "Iteration 74, loss = 0.48460862\n",
            "Iteration 75, loss = 0.48466759\n",
            "Iteration 76, loss = 0.48415249\n",
            "Iteration 77, loss = 0.48455617\n",
            "Iteration 78, loss = 0.48408701\n",
            "Iteration 79, loss = 0.48410939\n",
            "Iteration 80, loss = 0.48463664\n",
            "Iteration 81, loss = 0.48470706\n",
            "Iteration 82, loss = 0.48452450\n",
            "Training loss did not improve more than tol=0.000100 for 10 consecutive epochs. Stopping.\n",
            "RMSLE of Neural Network_gridsearch : 0.2095\n",
            "R2 value of Neural Network_gridsearch : 0.4727\n",
            "Err value of Neural Network_gridsearch : 0.2095\n"
          ],
          "name": "stdout"
        }
      ]
    },
    {
      "cell_type": "markdown",
      "metadata": {
        "id": "eVUxzLr-bcw5"
      },
      "source": [
        "## MODEL 4: XGBoost -  Gradient Boost Linear Regression Function"
      ]
    },
    {
      "cell_type": "code",
      "metadata": {
        "colab": {
          "base_uri": "https://localhost:8080/"
        },
        "id": "hBJ42ntWeZxa",
        "outputId": "4cf5c65a-0973-4682-81db-6f2db9d96f83"
      },
      "source": [
        "reg = ensemble.GradientBoostingRegressor(n_estimators = 500,\r\n",
        "          max_depth = 4,\r\n",
        "          min_samples_split= 5,\r\n",
        "          learning_rate = 0.01,\r\n",
        "          loss = 'ls')\r\n",
        "reg.fit(X_train, y_train)\r\n",
        "eval(reg, X_valid, y_valid,'Gradient Boosting Regressor')"
      ],
      "execution_count": 18,
      "outputs": [
        {
          "output_type": "stream",
          "text": [
            "RMSLE of Gradient Boosting Regressor : 0.2009\n",
            "R2 value of Gradient Boosting Regressor : 0.4764\n",
            "Err value of Gradient Boosting Regressor : 0.2009\n"
          ],
          "name": "stdout"
        }
      ]
    },
    {
      "cell_type": "code",
      "metadata": {
        "id": "RqkQIJJ6bcw8"
      },
      "source": [
        "# Set XGBoost DataMatrix\n",
        "dmatrix_train = xgboost.DMatrix(data=X_train,label=y_train)\n",
        "dmatrix_test = xgboost.DMatrix(data=X_test,label=y_test)"
      ],
      "execution_count": 19,
      "outputs": []
    },
    {
      "cell_type": "code",
      "metadata": {
        "id": "bvrLEOK4bcxA",
        "scrolled": true,
        "colab": {
          "base_uri": "https://localhost:8080/",
          "height": 1000
        },
        "outputId": "4469d33e-8fd0-4b8b-f140-e3f8bb385ab5"
      },
      "source": [
        "# XGBoost\n",
        "params = {'objective': 'reg:linear', 'gamma': 0,\n",
        "          'subsample': 0.3, 'colsample_by*': 0.5, 'learning_rate': 0.1, 'max_depth': 15, 'lambda': 10,\n",
        "          'booster': 'gblinear'}\n",
        "xgb_results = {}\n",
        "xgb_model = xgboost.train(dtrain=dmatrix_train, params=params, evals_result=xgb_results,\n",
        "                          feval=rmsle, evals=[(dmatrix_test,'test'), (dmatrix_train,'train')], \n",
        "                          num_boost_round=500, early_stopping_rounds=5)\n",
        "\n",
        "plotResult(xgb_results, cv=False)\n",
        "print('RMSLE Train set:', xgb_results['train']['RMSLE'][-1])"
      ],
      "execution_count": 20,
      "outputs": [
        {
          "output_type": "stream",
          "text": [
            "[07:56:42] WARNING: /workspace/src/objective/regression_obj.cu:152: reg:linear is now deprecated in favor of reg:squarederror.\n",
            "[0]\ttest-rmse:1.36785\ttrain-rmse:1.39012\ttest-RMSLE:0.494484\ttrain-RMSLE:0.499056\n",
            "Multiple eval metrics have been passed: 'train-RMSLE' will be used for early stopping.\n",
            "\n",
            "Will train until train-RMSLE hasn't improved in 5 rounds.\n",
            "[1]\ttest-rmse:1.359\ttrain-rmse:1.38171\ttest-RMSLE:0.48505\ttrain-RMSLE:0.490229\n",
            "[2]\ttest-rmse:1.35166\ttrain-rmse:1.3747\ttest-RMSLE:0.477001\ttrain-RMSLE:0.482649\n",
            "[3]\ttest-rmse:1.34549\ttrain-rmse:1.36876\ttest-RMSLE:0.470052\ttrain-RMSLE:0.476059\n",
            "[4]\ttest-rmse:1.34024\ttrain-rmse:1.36368\ttest-RMSLE:0.463995\ttrain-RMSLE:0.470278\n",
            "[5]\ttest-rmse:1.33574\ttrain-rmse:1.35929\ttest-RMSLE:0.458681\ttrain-RMSLE:0.465173\n",
            "[6]\ttest-rmse:1.33184\ttrain-rmse:1.35547\ttest-RMSLE:0.453991\ttrain-RMSLE:0.460644\n",
            "[7]\ttest-rmse:1.32845\ttrain-rmse:1.35213\ttest-RMSLE:0.449837\ttrain-RMSLE:0.456611\n",
            "[8]\ttest-rmse:1.32549\ttrain-rmse:1.34919\ttest-RMSLE:0.446146\ttrain-RMSLE:0.453012\n",
            "[9]\ttest-rmse:1.32289\ttrain-rmse:1.3466\ttest-RMSLE:0.442858\ttrain-RMSLE:0.449794\n",
            "[10]\ttest-rmse:1.32059\ttrain-rmse:1.34431\ttest-RMSLE:0.439924\ttrain-RMSLE:0.446913\n",
            "[11]\ttest-rmse:1.31857\ttrain-rmse:1.34229\ttest-RMSLE:0.437303\ttrain-RMSLE:0.44433\n",
            "[12]\ttest-rmse:1.31677\ttrain-rmse:1.34049\ttest-RMSLE:0.434957\ttrain-RMSLE:0.442014\n",
            "[13]\ttest-rmse:1.31518\ttrain-rmse:1.33889\ttest-RMSLE:0.432857\ttrain-RMSLE:0.439936\n",
            "[14]\ttest-rmse:1.31377\ttrain-rmse:1.33746\ttest-RMSLE:0.430975\ttrain-RMSLE:0.43807\n",
            "[15]\ttest-rmse:1.31251\ttrain-rmse:1.33619\ttest-RMSLE:0.429288\ttrain-RMSLE:0.436394\n",
            "[16]\ttest-rmse:1.31139\ttrain-rmse:1.33506\ttest-RMSLE:0.427774\ttrain-RMSLE:0.434889\n",
            "[17]\ttest-rmse:1.31039\ttrain-rmse:1.33405\ttest-RMSLE:0.426416\ttrain-RMSLE:0.433537\n",
            "[18]\ttest-rmse:1.3095\ttrain-rmse:1.33315\ttest-RMSLE:0.425197\ttrain-RMSLE:0.432322\n",
            "[19]\ttest-rmse:1.30871\ttrain-rmse:1.33234\ttest-RMSLE:0.424102\ttrain-RMSLE:0.43123\n",
            "[20]\ttest-rmse:1.30799\ttrain-rmse:1.33162\ttest-RMSLE:0.423119\ttrain-RMSLE:0.430249\n",
            "[21]\ttest-rmse:1.30736\ttrain-rmse:1.33096\ttest-RMSLE:0.422235\ttrain-RMSLE:0.429366\n",
            "[22]\ttest-rmse:1.30679\ttrain-rmse:1.33039\ttest-RMSLE:0.421442\ttrain-RMSLE:0.428573\n",
            "[23]\ttest-rmse:1.30628\ttrain-rmse:1.32987\ttest-RMSLE:0.420729\ttrain-RMSLE:0.42786\n",
            "[24]\ttest-rmse:1.30582\ttrain-rmse:1.3294\ttest-RMSLE:0.420088\ttrain-RMSLE:0.427219\n",
            "[25]\ttest-rmse:1.30541\ttrain-rmse:1.32899\ttest-RMSLE:0.419512\ttrain-RMSLE:0.426643\n",
            "[26]\ttest-rmse:1.30504\ttrain-rmse:1.32861\ttest-RMSLE:0.418994\ttrain-RMSLE:0.426125\n",
            "[27]\ttest-rmse:1.30471\ttrain-rmse:1.32827\ttest-RMSLE:0.418528\ttrain-RMSLE:0.425659\n",
            "[28]\ttest-rmse:1.30441\ttrain-rmse:1.32797\ttest-RMSLE:0.41811\ttrain-RMSLE:0.42524\n",
            "[29]\ttest-rmse:1.30415\ttrain-rmse:1.3277\ttest-RMSLE:0.417734\ttrain-RMSLE:0.424863\n",
            "[30]\ttest-rmse:1.30391\ttrain-rmse:1.32746\ttest-RMSLE:0.417395\ttrain-RMSLE:0.424524\n",
            "[31]\ttest-rmse:1.3037\ttrain-rmse:1.32724\ttest-RMSLE:0.417091\ttrain-RMSLE:0.424219\n",
            "[32]\ttest-rmse:1.30351\ttrain-rmse:1.32705\ttest-RMSLE:0.416817\ttrain-RMSLE:0.423945\n",
            "[33]\ttest-rmse:1.30333\ttrain-rmse:1.32687\ttest-RMSLE:0.416571\ttrain-RMSLE:0.423699\n",
            "[34]\ttest-rmse:1.30318\ttrain-rmse:1.32671\ttest-RMSLE:0.41635\ttrain-RMSLE:0.423477\n",
            "[35]\ttest-rmse:1.30304\ttrain-rmse:1.32657\ttest-RMSLE:0.416151\ttrain-RMSLE:0.423277\n",
            "[36]\ttest-rmse:1.30291\ttrain-rmse:1.32644\ttest-RMSLE:0.415972\ttrain-RMSLE:0.423098\n",
            "[37]\ttest-rmse:1.3028\ttrain-rmse:1.32632\ttest-RMSLE:0.41581\ttrain-RMSLE:0.422937\n",
            "[38]\ttest-rmse:1.3027\ttrain-rmse:1.32622\ttest-RMSLE:0.415666\ttrain-RMSLE:0.422792\n",
            "[39]\ttest-rmse:1.30261\ttrain-rmse:1.32613\ttest-RMSLE:0.415535\ttrain-RMSLE:0.422661\n",
            "[40]\ttest-rmse:1.30252\ttrain-rmse:1.32605\ttest-RMSLE:0.415418\ttrain-RMSLE:0.422543\n",
            "[41]\ttest-rmse:1.30245\ttrain-rmse:1.32597\ttest-RMSLE:0.415313\ttrain-RMSLE:0.422438\n",
            "[42]\ttest-rmse:1.30238\ttrain-rmse:1.3259\ttest-RMSLE:0.415218\ttrain-RMSLE:0.422343\n",
            "[43]\ttest-rmse:1.30233\ttrain-rmse:1.32584\ttest-RMSLE:0.415132\ttrain-RMSLE:0.422257\n",
            "[44]\ttest-rmse:1.30227\ttrain-rmse:1.32579\ttest-RMSLE:0.415056\ttrain-RMSLE:0.42218\n",
            "[45]\ttest-rmse:1.30222\ttrain-rmse:1.32574\ttest-RMSLE:0.414987\ttrain-RMSLE:0.422111\n",
            "[46]\ttest-rmse:1.30218\ttrain-rmse:1.3257\ttest-RMSLE:0.414925\ttrain-RMSLE:0.422049\n",
            "[47]\ttest-rmse:1.30215\ttrain-rmse:1.32566\ttest-RMSLE:0.414869\ttrain-RMSLE:0.421993\n",
            "[48]\ttest-rmse:1.30211\ttrain-rmse:1.32562\ttest-RMSLE:0.414818\ttrain-RMSLE:0.421943\n",
            "[49]\ttest-rmse:1.30208\ttrain-rmse:1.32559\ttest-RMSLE:0.414773\ttrain-RMSLE:0.421897\n",
            "[50]\ttest-rmse:1.30205\ttrain-rmse:1.32556\ttest-RMSLE:0.414733\ttrain-RMSLE:0.421857\n",
            "[51]\ttest-rmse:1.30202\ttrain-rmse:1.32554\ttest-RMSLE:0.414696\ttrain-RMSLE:0.42182\n",
            "[52]\ttest-rmse:1.302\ttrain-rmse:1.32551\ttest-RMSLE:0.414663\ttrain-RMSLE:0.421787\n",
            "[53]\ttest-rmse:1.30198\ttrain-rmse:1.32549\ttest-RMSLE:0.414633\ttrain-RMSLE:0.421757\n",
            "[54]\ttest-rmse:1.30196\ttrain-rmse:1.32547\ttest-RMSLE:0.414607\ttrain-RMSLE:0.42173\n",
            "[55]\ttest-rmse:1.30194\ttrain-rmse:1.32546\ttest-RMSLE:0.414583\ttrain-RMSLE:0.421706\n",
            "[56]\ttest-rmse:1.30193\ttrain-rmse:1.32544\ttest-RMSLE:0.414561\ttrain-RMSLE:0.421685\n",
            "[57]\ttest-rmse:1.30192\ttrain-rmse:1.32543\ttest-RMSLE:0.414542\ttrain-RMSLE:0.421665\n",
            "[58]\ttest-rmse:1.3019\ttrain-rmse:1.32542\ttest-RMSLE:0.414524\ttrain-RMSLE:0.421648\n",
            "[59]\ttest-rmse:1.30189\ttrain-rmse:1.3254\ttest-RMSLE:0.414508\ttrain-RMSLE:0.421632\n",
            "[60]\ttest-rmse:1.30188\ttrain-rmse:1.3254\ttest-RMSLE:0.414494\ttrain-RMSLE:0.421618\n",
            "[61]\ttest-rmse:1.30187\ttrain-rmse:1.32539\ttest-RMSLE:0.414482\ttrain-RMSLE:0.421605\n",
            "[62]\ttest-rmse:1.30187\ttrain-rmse:1.32538\ttest-RMSLE:0.41447\ttrain-RMSLE:0.421594\n",
            "[63]\ttest-rmse:1.30186\ttrain-rmse:1.32537\ttest-RMSLE:0.41446\ttrain-RMSLE:0.421583\n",
            "[64]\ttest-rmse:1.30185\ttrain-rmse:1.32536\ttest-RMSLE:0.414451\ttrain-RMSLE:0.421574\n",
            "[65]\ttest-rmse:1.30185\ttrain-rmse:1.32536\ttest-RMSLE:0.414442\ttrain-RMSLE:0.421566\n",
            "[66]\ttest-rmse:1.30184\ttrain-rmse:1.32535\ttest-RMSLE:0.414435\ttrain-RMSLE:0.421558\n",
            "[67]\ttest-rmse:1.30184\ttrain-rmse:1.32535\ttest-RMSLE:0.414428\ttrain-RMSLE:0.421551\n",
            "[68]\ttest-rmse:1.30183\ttrain-rmse:1.32534\ttest-RMSLE:0.414422\ttrain-RMSLE:0.421545\n",
            "[69]\ttest-rmse:1.30183\ttrain-rmse:1.32534\ttest-RMSLE:0.414416\ttrain-RMSLE:0.42154\n",
            "[70]\ttest-rmse:1.30183\ttrain-rmse:1.32534\ttest-RMSLE:0.414412\ttrain-RMSLE:0.421535\n",
            "[71]\ttest-rmse:1.30182\ttrain-rmse:1.32533\ttest-RMSLE:0.414407\ttrain-RMSLE:0.421531\n",
            "[72]\ttest-rmse:1.30182\ttrain-rmse:1.32533\ttest-RMSLE:0.414403\ttrain-RMSLE:0.421527\n",
            "[73]\ttest-rmse:1.30182\ttrain-rmse:1.32533\ttest-RMSLE:0.4144\ttrain-RMSLE:0.421523\n",
            "[74]\ttest-rmse:1.30181\ttrain-rmse:1.32533\ttest-RMSLE:0.414396\ttrain-RMSLE:0.42152\n",
            "[75]\ttest-rmse:1.30181\ttrain-rmse:1.32532\ttest-RMSLE:0.414393\ttrain-RMSLE:0.421517\n",
            "[76]\ttest-rmse:1.30181\ttrain-rmse:1.32532\ttest-RMSLE:0.414391\ttrain-RMSLE:0.421514\n",
            "[77]\ttest-rmse:1.30181\ttrain-rmse:1.32532\ttest-RMSLE:0.414388\ttrain-RMSLE:0.421512\n",
            "[78]\ttest-rmse:1.30181\ttrain-rmse:1.32532\ttest-RMSLE:0.414386\ttrain-RMSLE:0.42151\n",
            "[79]\ttest-rmse:1.30181\ttrain-rmse:1.32532\ttest-RMSLE:0.414384\ttrain-RMSLE:0.421508\n",
            "[80]\ttest-rmse:1.30181\ttrain-rmse:1.32532\ttest-RMSLE:0.414383\ttrain-RMSLE:0.421506\n",
            "[81]\ttest-rmse:1.30181\ttrain-rmse:1.32532\ttest-RMSLE:0.414381\ttrain-RMSLE:0.421505\n",
            "[82]\ttest-rmse:1.3018\ttrain-rmse:1.32531\ttest-RMSLE:0.41438\ttrain-RMSLE:0.421503\n",
            "[83]\ttest-rmse:1.3018\ttrain-rmse:1.32531\ttest-RMSLE:0.414379\ttrain-RMSLE:0.421502\n",
            "[84]\ttest-rmse:1.3018\ttrain-rmse:1.32531\ttest-RMSLE:0.414377\ttrain-RMSLE:0.421501\n",
            "[85]\ttest-rmse:1.3018\ttrain-rmse:1.32531\ttest-RMSLE:0.414376\ttrain-RMSLE:0.4215\n",
            "[86]\ttest-rmse:1.3018\ttrain-rmse:1.32531\ttest-RMSLE:0.414376\ttrain-RMSLE:0.421499\n",
            "[87]\ttest-rmse:1.3018\ttrain-rmse:1.32531\ttest-RMSLE:0.414375\ttrain-RMSLE:0.421498\n",
            "[88]\ttest-rmse:1.3018\ttrain-rmse:1.32531\ttest-RMSLE:0.414374\ttrain-RMSLE:0.421497\n",
            "[89]\ttest-rmse:1.3018\ttrain-rmse:1.32531\ttest-RMSLE:0.414373\ttrain-RMSLE:0.421497\n",
            "[90]\ttest-rmse:1.3018\ttrain-rmse:1.32531\ttest-RMSLE:0.414373\ttrain-RMSLE:0.421496\n",
            "[91]\ttest-rmse:1.3018\ttrain-rmse:1.32531\ttest-RMSLE:0.414372\ttrain-RMSLE:0.421496\n",
            "[92]\ttest-rmse:1.3018\ttrain-rmse:1.32531\ttest-RMSLE:0.414372\ttrain-RMSLE:0.421495\n",
            "[93]\ttest-rmse:1.3018\ttrain-rmse:1.32531\ttest-RMSLE:0.414371\ttrain-RMSLE:0.421495\n",
            "[94]\ttest-rmse:1.3018\ttrain-rmse:1.32531\ttest-RMSLE:0.414371\ttrain-RMSLE:0.421494\n",
            "[95]\ttest-rmse:1.3018\ttrain-rmse:1.32531\ttest-RMSLE:0.414371\ttrain-RMSLE:0.421494\n",
            "[96]\ttest-rmse:1.3018\ttrain-rmse:1.32531\ttest-RMSLE:0.41437\ttrain-RMSLE:0.421494\n",
            "[97]\ttest-rmse:1.3018\ttrain-rmse:1.32531\ttest-RMSLE:0.41437\ttrain-RMSLE:0.421493\n",
            "[98]\ttest-rmse:1.3018\ttrain-rmse:1.32531\ttest-RMSLE:0.41437\ttrain-RMSLE:0.421493\n",
            "[99]\ttest-rmse:1.3018\ttrain-rmse:1.32531\ttest-RMSLE:0.414369\ttrain-RMSLE:0.421493\n",
            "[100]\ttest-rmse:1.3018\ttrain-rmse:1.32531\ttest-RMSLE:0.414369\ttrain-RMSLE:0.421493\n",
            "[101]\ttest-rmse:1.3018\ttrain-rmse:1.32531\ttest-RMSLE:0.414369\ttrain-RMSLE:0.421492\n",
            "[102]\ttest-rmse:1.3018\ttrain-rmse:1.32531\ttest-RMSLE:0.414369\ttrain-RMSLE:0.421492\n",
            "[103]\ttest-rmse:1.3018\ttrain-rmse:1.32531\ttest-RMSLE:0.414369\ttrain-RMSLE:0.421492\n",
            "[104]\ttest-rmse:1.3018\ttrain-rmse:1.32531\ttest-RMSLE:0.414369\ttrain-RMSLE:0.421492\n",
            "[105]\ttest-rmse:1.3018\ttrain-rmse:1.32531\ttest-RMSLE:0.414368\ttrain-RMSLE:0.421492\n",
            "[106]\ttest-rmse:1.3018\ttrain-rmse:1.32531\ttest-RMSLE:0.414368\ttrain-RMSLE:0.421492\n",
            "Stopping. Best iteration:\n",
            "[101]\ttest-rmse:1.3018\ttrain-rmse:1.32531\ttest-RMSLE:0.414369\ttrain-RMSLE:0.421492\n",
            "\n"
          ],
          "name": "stdout"
        },
        {
          "output_type": "display_data",
          "data": {
            "image/png": "[encoded data removed]",
            "text/plain": [
              "<Figure size 432x288 with 1 Axes>"
            ]
          },
          "metadata": {
            "tags": []
          }
        },
        {
          "output_type": "stream",
          "text": [
            "RMSLE Train set: 0.421492\n"
          ],
          "name": "stdout"
        }
      ]
    },
    {
      "cell_type": "markdown",
      "metadata": {
        "id": "DoFhyWI4Fr5t"
      },
      "source": [
        "# Final Results"
      ]
    },
    {
      "cell_type": "code",
      "metadata": {
        "id": "biOZdcZD2pLA",
        "colab": {
          "base_uri": "https://localhost:8080/"
        },
        "outputId": "dbfcf8ce-a2a5-4276-90f1-5cd8417e20b6"
      },
      "source": [
        "eval(model_1, X_test, y_test,'linear regression')\r\n",
        "print('******')\r\n",
        "eval(model_2, X_test, y_test, 'Stochastic Gradient Descent')\r\n",
        "print('******')\r\n",
        "eval(model_2i, X_test, y_test, 'Lasso regression')\r\n",
        "print('******')\r\n",
        "eval(model_3i, X_test, y_test, 'Neural Network_default')\r\n",
        "print('******')\r\n",
        "eval(model_3ii, X_test, y_test, 'Neural Network_random')\r\n",
        "print('******')\r\n",
        "eval(model_3, X_test, y_test, 'Neural Network_gridsearch')\r\n",
        "print('******')\r\n",
        "eval(reg, X_test, y_test,'Gradient Boosting Regressor')\r\n",
        "print('******')\r\n",
        "print('Gradient Boost Linear Regression _ RMSLE Test set:', xgb_results['test']['RMSLE'][-1]) "
      ],
      "execution_count": 21,
      "outputs": [
        {
          "output_type": "stream",
          "text": [
            "RMSLE of linear regression : 0.2196\n",
            "R2 value of linear regression : 0.4585\n",
            "Err value of linear regression : 0.2196\n",
            "******\n",
            "RMSLE of Stochastic Gradient Descent : 0.2369\n",
            "R2 value of Stochastic Gradient Descent : 0.4413\n",
            "Err value of Stochastic Gradient Descent : 0.2369\n",
            "******\n",
            "RMSLE of Lasso regression : 0.2186\n",
            "R2 value of Lasso regression : 0.4591\n",
            "Err value of Lasso regression : 0.2186\n",
            "******\n",
            "RMSLE of Neural Network_default : 0.3278\n",
            "R2 value of Neural Network_default : 0.3427\n",
            "Err value of Neural Network_default : 0.3278\n",
            "******\n",
            "RMSLE of Neural Network_random : 0.2205\n",
            "R2 value of Neural Network_random : 0.4418\n",
            "Err value of Neural Network_random : 0.2205\n",
            "******\n",
            "RMSLE of Neural Network_gridsearch : 0.2075\n",
            "R2 value of Neural Network_gridsearch : 0.4748\n",
            "Err value of Neural Network_gridsearch : 0.2075\n",
            "******\n",
            "RMSLE of Gradient Boosting Regressor : 0.1987\n",
            "R2 value of Gradient Boosting Regressor : 0.4821\n",
            "Err value of Gradient Boosting Regressor : 0.1987\n",
            "******\n",
            "Gradient Boost Linear Regression _ RMSLE Test set: 0.414368\n"
          ],
          "name": "stdout"
        }
      ]
    },
    {
      "cell_type": "code",
      "metadata": {
        "id": "nEm4Q-V32sCU",
        "colab": {
          "base_uri": "https://localhost:8080/"
        },
        "outputId": "181bce93-349e-4627-ca3a-a1f27098fc4f"
      },
      "source": [
        "pred_y = xgb_model.predict(dmatrix_test)\r\n",
        "\r\n",
        "submission = pd.DataFrame()\r\n",
        "submission['MemberID'] = dataY2_df['MemberID']\r\n",
        "\r\n",
        "pred_y = pred_y.clip(min=0)\r\n",
        "pred_y = pred_y.clip(max=15)\r\n",
        "# pred_y = pred_y.astype(int)\r\n",
        "\r\n",
        "submission['DIH'] = pred_y\r\n",
        "submission.groupby(['DIH']).size()"
      ],
      "execution_count": 22,
      "outputs": [
        {
          "output_type": "execute_result",
          "data": {
            "text/plain": [
              "DIH\n",
              "0.213368    1\n",
              "0.215793    1\n",
              "0.215946    1\n",
              "0.216009    2\n",
              "0.216027    2\n",
              "           ..\n",
              "1.148928    1\n",
              "1.165810    1\n",
              "1.205070    1\n",
              "1.218391    1\n",
              "1.244732    1\n",
              "Length: 66372, dtype: int64"
            ]
          },
          "metadata": {
            "tags": []
          },
          "execution_count": 22
        }
      ]
    },
    {
      "cell_type": "code",
      "metadata": {
        "colab": {
          "base_uri": "https://localhost:8080/",
          "height": 399
        },
        "id": "niH1gNwsEZ7W",
        "outputId": "1b90f1f0-c168-4aad-f1e9-7ea6368f4068"
      },
      "source": [
        "submission[submission['DIH']>=1]"
      ],
      "execution_count": 23,
      "outputs": [
        {
          "output_type": "execute_result",
          "data": {
            "text/html": [
              "<div>\n",
              "<style scoped>\n",
              "    .dataframe tbody tr th:only-of-type {\n",
              "        vertical-align: middle;\n",
              "    }\n",
              "\n",
              "    .dataframe tbody tr th {\n",
              "        vertical-align: top;\n",
              "    }\n",
              "\n",
              "    .dataframe thead th {\n",
              "        text-align: right;\n",
              "    }\n",
              "</style>\n",
              "<table border=\"1\" class=\"dataframe\">\n",
              "  <thead>\n",
              "    <tr style=\"text-align: right;\">\n",
              "      <th></th>\n",
              "      <th>MemberID</th>\n",
              "      <th>DIH</th>\n",
              "    </tr>\n",
              "  </thead>\n",
              "  <tbody>\n",
              "    <tr>\n",
              "      <th>760</th>\n",
              "      <td>1139828</td>\n",
              "      <td>1.001359</td>\n",
              "    </tr>\n",
              "    <tr>\n",
              "      <th>1811</th>\n",
              "      <td>2689993</td>\n",
              "      <td>1.007715</td>\n",
              "    </tr>\n",
              "    <tr>\n",
              "      <th>4264</th>\n",
              "      <td>6362123</td>\n",
              "      <td>1.021909</td>\n",
              "    </tr>\n",
              "    <tr>\n",
              "      <th>4408</th>\n",
              "      <td>6568367</td>\n",
              "      <td>1.218391</td>\n",
              "    </tr>\n",
              "    <tr>\n",
              "      <th>4665</th>\n",
              "      <td>6911910</td>\n",
              "      <td>1.056170</td>\n",
              "    </tr>\n",
              "    <tr>\n",
              "      <th>...</th>\n",
              "      <td>...</td>\n",
              "      <td>...</td>\n",
              "    </tr>\n",
              "    <tr>\n",
              "      <th>65766</th>\n",
              "      <td>98134353</td>\n",
              "      <td>1.068563</td>\n",
              "    </tr>\n",
              "    <tr>\n",
              "      <th>66279</th>\n",
              "      <td>98889976</td>\n",
              "      <td>1.010414</td>\n",
              "    </tr>\n",
              "    <tr>\n",
              "      <th>66311</th>\n",
              "      <td>98928951</td>\n",
              "      <td>1.022010</td>\n",
              "    </tr>\n",
              "    <tr>\n",
              "      <th>66358</th>\n",
              "      <td>98999739</td>\n",
              "      <td>1.048670</td>\n",
              "    </tr>\n",
              "    <tr>\n",
              "      <th>66394</th>\n",
              "      <td>99032666</td>\n",
              "      <td>1.064451</td>\n",
              "    </tr>\n",
              "  </tbody>\n",
              "</table>\n",
              "<p>82 rows × 2 columns</p>\n",
              "</div>"
            ],
            "text/plain": [
              "       MemberID       DIH\n",
              "760     1139828  1.001359\n",
              "1811    2689993  1.007715\n",
              "4264    6362123  1.021909\n",
              "4408    6568367  1.218391\n",
              "4665    6911910  1.056170\n",
              "...         ...       ...\n",
              "65766  98134353  1.068563\n",
              "66279  98889976  1.010414\n",
              "66311  98928951  1.022010\n",
              "66358  98999739  1.048670\n",
              "66394  99032666  1.064451\n",
              "\n",
              "[82 rows x 2 columns]"
            ]
          },
          "metadata": {
            "tags": []
          },
          "execution_count": 23
        }
      ]
    }
  ]
}
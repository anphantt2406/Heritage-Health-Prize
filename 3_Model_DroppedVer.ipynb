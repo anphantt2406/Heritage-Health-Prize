{
  "nbformat": 4,
  "nbformat_minor": 0,
  "metadata": {
    "colab": {
      "name": "3_Model_DroppedVersion.ipynb",
      "provenance": [],
      "collapsed_sections": [
        "S-JF0vVffnbR",
        "5pnD4X7jfrRS",
        "KdHMn2Wo3heF"
      ],
      "authorship_tag": "ABX9TyNECpyCdc/deoxaDFcBywTh",
      "include_colab_link": true
    },
    "kernelspec": {
      "display_name": "Python 3",
      "name": "python3"
    }
  },
  "cells": [
    {
      "cell_type": "markdown",
      "metadata": {
        "id": "view-in-github",
        "colab_type": "text"
      },
      "source": [
        "<a href=\"https://colab.research.google.com/github/anphantt2406/Heritage-Health-Prize/blob/main/3_Model_DroppedVer.ipynb\" target=\"_parent\"><img src=\"https://colab.research.google.com/assets/colab-badge.svg\" alt=\"Open In Colab\"/></a>"
      ]
    },
    {
      "cell_type": "code",
      "metadata": {
        "colab": {
          "base_uri": "https://localhost:8080/"
        },
        "id": "JTp1IHuy_n9Y",
        "outputId": "3a7c09c9-a960-469a-ead1-0b18203e59d3"
      },
      "source": [
        "from google.colab import drive\r\n",
        "drive.mount('/content/drive')\r\n",
        "%cd /content/drive/My Drive/HHP_release3/data_processed"
      ],
      "execution_count": 31,
      "outputs": [
        {
          "output_type": "stream",
          "text": [
            "Drive already mounted at /content/drive; to attempt to forcibly remount, call drive.mount(\"/content/drive\", force_remount=True).\n",
            "/content/drive/My Drive/HHP_release3/data_processed\n"
          ],
          "name": "stdout"
        }
      ]
    },
    {
      "cell_type": "markdown",
      "metadata": {
        "id": "S-JF0vVffnbR"
      },
      "source": [
        "#Import Library"
      ]
    },
    {
      "cell_type": "code",
      "metadata": {
        "id": "MBhQiO2v3hQM"
      },
      "source": [
        "import glob\n",
        "import math\n",
        "import pandas as pd\n",
        "import numpy as np\n",
        "import xgboost\n",
        "from sklearn.linear_model import LinearRegression, LogisticRegression, Lasso, Ridge, SGDRegressor\n",
        "from sklearn.metrics import mean_squared_error, r2_score, classification_report, roc_auc_score, plot_roc_curve\n",
        "import matplotlib.pyplot as plt\n",
        "import matplotlib.patches as mpatches\n",
        "from sklearn.model_selection import train_test_split, GridSearchCV\n",
        "from keras.layers import Dense, Activation\n",
        "from keras.models import Sequential\n",
        "from sklearn.neural_network import MLPRegressor\n",
        "from sklearn import datasets, ensemble\n",
        "from sklearn.datasets import make_regression\n",
        "\n",
        "import seaborn as sns # Library for plotting\n",
        "color = sns.color_palette()\n",
        "sns.set_style('darkgrid')\n",
        "from sklearn.svm import SVC\n",
        "from sklearn.metrics import confusion_matrix"
      ],
      "execution_count": 32,
      "outputs": []
    },
    {
      "cell_type": "markdown",
      "metadata": {
        "id": "5pnD4X7jfrRS"
      },
      "source": [
        "#Define some needed function\r\n",
        "\r\n",
        "Predictions are evaluated using root mean squared logarithmic error, referred to henceforth as RMSLE.\r\n",
        "\r\n",
        "$$\\varepsilon = \\sqrt{\\frac{1}{n}\\sum_{i=1}^{n}\\left(log(p_i+1) - log(a_i+1)^2 \\right )}$$\r\n",
        "\r\n",
        "Where:\r\n",
        "\r\n",
        "\r\n",
        "\r\n",
        "*   $i$ is a patient's unique MemberID\r\n",
        "*   $n$ is the total number of patients\r\n",
        "*   $p_i$ is the prediction made for patient $i$\r\n",
        "*   $a_i$ is the actual number of days spent in the hospital by patient $i$\r\n",
        "\r\n",
        "\r\n",
        "\r\n"
      ]
    },
    {
      "cell_type": "code",
      "metadata": {
        "id": "L75u6E2x3uHu"
      },
      "source": [
        "def RMSLE_cal(pred, actu, name=None):\n",
        "    RMSLE = round(np.sqrt(((np.log(pred + 1) - np.log(actu + 1)) ** 2).sum() / actu.shape[0]), 6).item()\n",
        "    print('RMSLE', name, ':', RMSLE)"
      ],
      "execution_count": 33,
      "outputs": []
    },
    {
      "cell_type": "code",
      "metadata": {
        "id": "PnabKSiS3xex"
      },
      "source": [
        "def rmsle(pred, dtrain):\n",
        "    \"\"\"Used for stacked in Xgboost\n",
        "    \"\"\"\n",
        "    actu = dtrain.get_label()\n",
        "    RMSLE = round(np.sqrt(((np.log(pred + 1) - np.log(actu + 1)) ** 2).sum() / actu.shape[0]), 6).item()\n",
        "    return 'RMSLE', RMSLE"
      ],
      "execution_count": 34,
      "outputs": []
    },
    {
      "cell_type": "code",
      "metadata": {
        "id": "EmhapNDRQnoC"
      },
      "source": [
        "def eval(model, X_test, y_test, name = None):\n",
        "    pred_y = model.predict(X_test) # your predicted y values\n",
        "    # The root mean square logarithmic error\n",
        "    pred_y = pred_y.clip(min=0)\n",
        "    pred_y = pred_y.clip(max=15)\n",
        "    pred_y = pred_y.round(0).astype(int)\n",
        "    msle = np.mean( (np.log(pred_y + 1) - np.log(y_test + 1)) ** 2)\n",
        "    rmsle = math.sqrt(msle)\n",
        "    from sklearn.metrics import r2_score\n",
        "    r2 = r2_score(y_test,pred_y)\n",
        "    from sklearn.metrics import mean_squared_log_error\n",
        "    err = math.sqrt(mean_squared_log_error(y_test,pred_y))\n",
        "    print(\"RMSLE of\", name, \": %.4f\" %rmsle)\n",
        "    print(\"R2 value of\", name, \": %.4f\" %r2)\n",
        "    print(\"Err value of\", name, \": %.4f\" %err)"
      ],
      "execution_count": 35,
      "outputs": []
    },
    {
      "cell_type": "code",
      "metadata": {
        "id": "doF_jqmfbcwG"
      },
      "source": [
        "def plotResult(results, cv=None):\n",
        "    fig, ax = plt.subplots()\n",
        "    if cv:\n",
        "        ax.plot(range(results.shape[0]), results['train-RMSLE-mean'])\n",
        "        ax.plot(range(results.shape[0]), results['test-RMSLE-mean'])\n",
        "    else:\n",
        "        ax.plot(range(len(results['train']['RMSLE'])), results['train']['RMSLE'])\n",
        "        ax.plot(range(len(results['test']['RMSLE'])), results['test']['RMSLE'])\n",
        "        \n",
        "    ax.set(xlabel='Boost round', ylabel='RMSLE', title='Train/Test RMSLE')\n",
        "    ax.grid()\n",
        "\n",
        "    train_patch = mpatches.Patch(color='blue', label='Train')\n",
        "    test_patch = mpatches.Patch(color='orange', label='Test')\n",
        "\n",
        "    plt.legend(handles=[train_patch, test_patch])\n",
        "    plt.show()"
      ],
      "execution_count": 36,
      "outputs": []
    },
    {
      "cell_type": "markdown",
      "metadata": {
        "id": "riX7ZDSQf1e2"
      },
      "source": [
        "#Prepare data for training and testing\r\n",
        "\r\n",
        "In this notebook, we use Claims data in Year 1 for training and validation, Claims data in Year 2 for testing."
      ]
    },
    {
      "cell_type": "code",
      "metadata": {
        "id": "sS7HAUkF0VNF"
      },
      "source": [
        "dataY1_df = pd.read_csv('fulldataY1.csv')\n",
        "dataY2_df = pd.read_csv('fulldataY2.csv')"
      ],
      "execution_count": 37,
      "outputs": []
    },
    {
      "cell_type": "code",
      "metadata": {
        "id": "AtOlgBjJIRWo"
      },
      "source": [
        "dataY1 = dataY1_df.drop(\"MemberID\", axis = 1)\r\n",
        "y = dataY1['TARGET']\r\n",
        "X = dataY1.drop(['TARGET'], axis = 1)\r\n",
        "X_train, X_valid, y_train, y_valid = train_test_split(X, y, test_size=0.25)"
      ],
      "execution_count": 38,
      "outputs": []
    },
    {
      "cell_type": "code",
      "metadata": {
        "id": "-OSmKvsoIRWq"
      },
      "source": [
        "from sklearn.preprocessing import StandardScaler\r\n",
        "scaler = StandardScaler()\r\n",
        "# Fit only to the training data\r\n",
        "scaler.fit(X_train)\r\n",
        "X_train = scaler.transform(X_train)\r\n",
        "X_valid = scaler.transform(X_valid)"
      ],
      "execution_count": 39,
      "outputs": []
    },
    {
      "cell_type": "code",
      "metadata": {
        "id": "jM-orfrbFwWx"
      },
      "source": [
        "dataY2 = dataY2_df.drop(\"MemberID\", axis = 1)\r\n",
        "y_test = dataY2['TARGET']\r\n",
        "X_test = dataY2.drop(['TARGET'], axis = 1)\r\n",
        "X_test = scaler.transform(X_test)"
      ],
      "execution_count": 40,
      "outputs": []
    },
    {
      "cell_type": "markdown",
      "metadata": {
        "id": "5_Dy67txiTSk"
      },
      "source": [
        "# Regression"
      ]
    },
    {
      "cell_type": "markdown",
      "metadata": {
        "id": "_fN4E2PSfi7P"
      },
      "source": [
        "## MODEL 1: Linear Regression"
      ]
    },
    {
      "cell_type": "code",
      "metadata": {
        "colab": {
          "base_uri": "https://localhost:8080/",
          "height": 675
        },
        "id": "Fyj-evy7Hx4U",
        "outputId": "8514fd24-ccaf-4069-9ed4-ec6035b4d324"
      },
      "source": [
        "# Create linear regression object\r\n",
        "model_1 = LinearRegression()\r\n",
        "# Train the model using the training sets\r\n",
        "model_1.fit(X_train, y_train)\r\n",
        "# Predict on Test set\r\n",
        "y_pred_1 = model_1.predict(X_valid)\r\n",
        "\r\n",
        "# Evaluation on Validation set\r\n",
        "eval(model_1, X_valid, y_valid,'linear regression')\r\n",
        "\r\n",
        "plt.figure(figsize = (15,10))\r\n",
        "plt.scatter(y_pred_1, y_valid, alpha=.2, s = 60, color='r') #alpha helps to show overlapping data\r\n",
        "plt.xlabel('DIH prediction')\r\n",
        "plt.ylabel('Actual DIH')\r\n",
        "plt.title('Linear Regression Model')\r\n",
        "plt.show()"
      ],
      "execution_count": 41,
      "outputs": [
        {
          "output_type": "stream",
          "text": [
            "RMSLE of linear regression : 0.2178\n",
            "R2 value of linear regression : 0.4653\n",
            "Err value of linear regression : 0.2178\n"
          ],
          "name": "stdout"
        },
        {
          "output_type": "display_data",
          "data": {
            "image/png": "[encoded data removed]",
            "text/plain": [
              "<Figure size 1080x720 with 1 Axes>"
            ]
          },
          "metadata": {
            "tags": []
          }
        }
      ]
    },
    {
      "cell_type": "markdown",
      "metadata": {
        "id": "KdHMn2Wo3heF"
      },
      "source": [
        "## MODEL 2: Stochastic Gradient Descent"
      ]
    },
    {
      "cell_type": "code",
      "metadata": {
        "id": "JLjvAjiDxISg"
      },
      "source": [
        ""
      ],
      "execution_count": 41,
      "outputs": []
    },
    {
      "cell_type": "code",
      "metadata": {
        "colab": {
          "base_uri": "https://localhost:8080/"
        },
        "id": "VviJ28km1SLZ",
        "outputId": "8f0020dd-43e1-4b48-83db-ede2af92ed46"
      },
      "source": [
        "from sklearn.linear_model import SGDRegressor\r\n",
        "\r\n",
        "model_2 = SGDRegressor(max_iter=3000, tol=1e-1)\r\n",
        "model_2.fit(X_train, y_train)\r\n",
        "y_pred_2 = model_2.predict(X_valid)\r\n",
        "eval(model_2, X_valid, y_valid, 'Stochastic Gradient Descent')"
      ],
      "execution_count": 42,
      "outputs": [
        {
          "output_type": "stream",
          "text": [
            "RMSLE of Stochastic Gradient Descent : 0.2624\n",
            "R2 value of Stochastic Gradient Descent : 0.4297\n",
            "Err value of Stochastic Gradient Descent : 0.2624\n"
          ],
          "name": "stdout"
        }
      ]
    },
    {
      "cell_type": "code",
      "metadata": {
        "colab": {
          "base_uri": "https://localhost:8080/"
        },
        "id": "LzG6l6Y1Es2r",
        "outputId": "2c3d7a15-9042-421b-804c-95cfa6b83298"
      },
      "source": [
        "model_2i = Lasso(alpha=0.001, copy_X=True, fit_intercept=True, max_iter=5000,\r\n",
        "     normalize=False, positive=False, precompute=False, random_state=None,\r\n",
        "     selection='cyclic', tol=0.0001, warm_start=False)\r\n",
        "model_2i.fit(X_train, y_train)\r\n",
        "eval(model_2i, X_valid, y_valid, 'Lasso regression')"
      ],
      "execution_count": 43,
      "outputs": [
        {
          "output_type": "stream",
          "text": [
            "RMSLE of Lasso regression : 0.2171\n",
            "R2 value of Lasso regression : 0.4664\n",
            "Err value of Lasso regression : 0.2171\n"
          ],
          "name": "stdout"
        }
      ]
    },
    {
      "cell_type": "markdown",
      "metadata": {
        "id": "74HgPgHvfaKT"
      },
      "source": [
        "##MODEL 3: Neural Network"
      ]
    },
    {
      "cell_type": "code",
      "metadata": {
        "colab": {
          "base_uri": "https://localhost:8080/"
        },
        "id": "RVCA7wgHlj9Y",
        "outputId": "2ba35103-fe5b-4f9c-a043-69ba746244e5"
      },
      "source": [
        "#(i) Neural Network with default hyperparameters\r\n",
        "model_3i = MLPRegressor(random_state=1, max_iter=500).fit(X_train, y_train)\r\n",
        "y_pred_3 = model_3i.predict(X_valid)\r\n",
        "eval(model_3i, X_valid, y_valid, 'Neural Network_default')"
      ],
      "execution_count": 44,
      "outputs": [
        {
          "output_type": "stream",
          "text": [
            "RMSLE of Neural Network_default : 0.3213\n",
            "R2 value of Neural Network_default : 0.3633\n",
            "Err value of Neural Network_default : 0.3213\n"
          ],
          "name": "stdout"
        }
      ]
    },
    {
      "cell_type": "code",
      "metadata": {
        "colab": {
          "base_uri": "https://localhost:8080/"
        },
        "id": "e1WcOea9Qr4G",
        "outputId": "7728a913-8949-4ced-9a23-e20c94c1734c"
      },
      "source": [
        "#(ii) random hyperparameter\n",
        "model_3ii = MLPRegressor(activation='relu', alpha=0.0001, batch_size='auto', beta_1=0.9,\n",
        "        beta_2=0.999, early_stopping=False, epsilon=1e-08,\n",
        "        hidden_layer_sizes=7, learning_rate='adaptive',\n",
        "        learning_rate_init=0.001, max_iter=3000, momentum=0.9,\n",
        "        nesterovs_momentum=True, power_t=0.5, random_state=None,\n",
        "        shuffle=True, solver='adam', tol=0.0001, validation_fraction=0.1,\n",
        "        verbose=1, warm_start=False)\n",
        "\n",
        "model_3ii.fit(X_train, y_train)\n",
        "eval(model_3ii, X_valid, y_valid , 'Neural Network_random')"
      ],
      "execution_count": 45,
      "outputs": [
        {
          "output_type": "stream",
          "text": [
            "Iteration 1, loss = 0.95501605\n",
            "Iteration 2, loss = 0.72511765\n",
            "Iteration 3, loss = 0.61204549\n",
            "Iteration 4, loss = 0.54844259\n",
            "Iteration 5, loss = 0.52139396\n",
            "Iteration 6, loss = 0.50785353\n",
            "Iteration 7, loss = 0.50000816\n",
            "Iteration 8, loss = 0.49487602\n",
            "Iteration 9, loss = 0.49110394\n",
            "Iteration 10, loss = 0.48893561\n",
            "Iteration 11, loss = 0.48587059\n",
            "Iteration 12, loss = 0.48335305\n",
            "Iteration 13, loss = 0.48175776\n",
            "Iteration 14, loss = 0.48019127\n",
            "Iteration 15, loss = 0.47908061\n",
            "Iteration 16, loss = 0.47870132\n",
            "Iteration 17, loss = 0.47737796\n",
            "Iteration 18, loss = 0.47584979\n",
            "Iteration 19, loss = 0.47569751\n",
            "Iteration 20, loss = 0.47492057\n",
            "Iteration 21, loss = 0.47453685\n",
            "Iteration 22, loss = 0.47287046\n",
            "Iteration 23, loss = 0.47287277\n",
            "Iteration 24, loss = 0.47212899\n",
            "Iteration 25, loss = 0.47157460\n",
            "Iteration 26, loss = 0.47068105\n",
            "Iteration 27, loss = 0.47017723\n",
            "Iteration 28, loss = 0.47033049\n",
            "Iteration 29, loss = 0.46933932\n",
            "Iteration 30, loss = 0.46894559\n",
            "Iteration 31, loss = 0.46809332\n",
            "Iteration 32, loss = 0.46826699\n",
            "Iteration 33, loss = 0.46815938\n",
            "Iteration 34, loss = 0.46742598\n",
            "Iteration 35, loss = 0.46690928\n",
            "Iteration 36, loss = 0.46725950\n",
            "Iteration 37, loss = 0.46637702\n",
            "Iteration 38, loss = 0.46568939\n",
            "Iteration 39, loss = 0.46560052\n",
            "Iteration 40, loss = 0.46568749\n",
            "Iteration 41, loss = 0.46519855\n",
            "Iteration 42, loss = 0.46541602\n",
            "Iteration 43, loss = 0.46426521\n",
            "Iteration 44, loss = 0.46338022\n",
            "Iteration 45, loss = 0.46387844\n",
            "Iteration 46, loss = 0.46343569\n",
            "Iteration 47, loss = 0.46325901\n",
            "Iteration 48, loss = 0.46280157\n",
            "Iteration 49, loss = 0.46267970\n",
            "Iteration 50, loss = 0.46279244\n",
            "Iteration 51, loss = 0.46318589\n",
            "Iteration 52, loss = 0.46287401\n",
            "Iteration 53, loss = 0.46227260\n",
            "Iteration 54, loss = 0.46172727\n",
            "Iteration 55, loss = 0.46248308\n",
            "Iteration 56, loss = 0.46150392\n",
            "Iteration 57, loss = 0.46146844\n",
            "Iteration 58, loss = 0.46144856\n",
            "Iteration 59, loss = 0.46049618\n",
            "Iteration 60, loss = 0.46090941\n",
            "Iteration 61, loss = 0.46180550\n",
            "Iteration 62, loss = 0.46137938\n",
            "Iteration 63, loss = 0.46105877\n",
            "Iteration 64, loss = 0.46080607\n",
            "Iteration 65, loss = 0.46092552\n",
            "Iteration 66, loss = 0.46096022\n",
            "Iteration 67, loss = 0.46052627\n",
            "Iteration 68, loss = 0.45934033\n",
            "Iteration 69, loss = 0.46036096\n",
            "Iteration 70, loss = 0.45929692\n",
            "Iteration 71, loss = 0.45985818\n",
            "Iteration 72, loss = 0.45919808\n",
            "Iteration 73, loss = 0.45947030\n",
            "Iteration 74, loss = 0.45943761\n",
            "Iteration 75, loss = 0.45972728\n",
            "Iteration 76, loss = 0.45855062\n",
            "Iteration 77, loss = 0.45947208\n",
            "Iteration 78, loss = 0.45888153\n",
            "Iteration 79, loss = 0.45908044\n",
            "Iteration 80, loss = 0.45854917\n",
            "Iteration 81, loss = 0.45800774\n",
            "Iteration 82, loss = 0.45894220\n",
            "Iteration 83, loss = 0.45909516\n",
            "Iteration 84, loss = 0.45869309\n",
            "Iteration 85, loss = 0.45781722\n",
            "Iteration 86, loss = 0.45764905\n",
            "Iteration 87, loss = 0.45817926\n",
            "Iteration 88, loss = 0.45807201\n",
            "Iteration 89, loss = 0.45773072\n",
            "Iteration 90, loss = 0.45753084\n",
            "Iteration 91, loss = 0.45775540\n",
            "Iteration 92, loss = 0.45814118\n",
            "Iteration 93, loss = 0.45731629\n",
            "Iteration 94, loss = 0.45724538\n",
            "Iteration 95, loss = 0.45709722\n",
            "Iteration 96, loss = 0.45710891\n",
            "Iteration 97, loss = 0.45657716\n",
            "Iteration 98, loss = 0.45719267\n",
            "Iteration 99, loss = 0.45720992\n",
            "Iteration 100, loss = 0.45559270\n",
            "Iteration 101, loss = 0.45629955\n",
            "Iteration 102, loss = 0.45619597\n",
            "Iteration 103, loss = 0.45584690\n",
            "Iteration 104, loss = 0.45633629\n",
            "Iteration 105, loss = 0.45534729\n",
            "Iteration 106, loss = 0.45477194\n",
            "Iteration 107, loss = 0.45483652\n",
            "Iteration 108, loss = 0.45500891\n",
            "Iteration 109, loss = 0.45496587\n",
            "Iteration 110, loss = 0.45434368\n",
            "Iteration 111, loss = 0.45484886\n",
            "Iteration 112, loss = 0.45403021\n",
            "Iteration 113, loss = 0.45354479\n",
            "Iteration 114, loss = 0.45398568\n",
            "Iteration 115, loss = 0.45483485\n",
            "Iteration 116, loss = 0.45470971\n",
            "Iteration 117, loss = 0.45426867\n",
            "Iteration 118, loss = 0.45379005\n",
            "Iteration 119, loss = 0.45311316\n",
            "Iteration 120, loss = 0.45364839\n",
            "Iteration 121, loss = 0.45364124\n",
            "Iteration 122, loss = 0.45305664\n",
            "Iteration 123, loss = 0.45376648\n",
            "Iteration 124, loss = 0.45349035\n",
            "Iteration 125, loss = 0.45323428\n",
            "Iteration 126, loss = 0.45289891\n",
            "Iteration 127, loss = 0.45300230\n",
            "Iteration 128, loss = 0.45306200\n",
            "Iteration 129, loss = 0.45250259\n",
            "Iteration 130, loss = 0.45244581\n",
            "Iteration 131, loss = 0.45286446\n",
            "Iteration 132, loss = 0.45211181\n",
            "Iteration 133, loss = 0.45204286\n",
            "Iteration 134, loss = 0.45233453\n",
            "Iteration 135, loss = 0.45210110\n",
            "Iteration 136, loss = 0.45220304\n",
            "Iteration 137, loss = 0.45162232\n",
            "Iteration 138, loss = 0.45185307\n",
            "Iteration 139, loss = 0.45193042\n",
            "Iteration 140, loss = 0.45120539\n",
            "Iteration 141, loss = 0.45200970\n",
            "Iteration 142, loss = 0.45215332\n",
            "Iteration 143, loss = 0.45163647\n",
            "Iteration 144, loss = 0.45089467\n",
            "Iteration 145, loss = 0.45086578\n",
            "Iteration 146, loss = 0.45107772\n",
            "Iteration 147, loss = 0.45078550\n",
            "Iteration 148, loss = 0.45017211\n",
            "Iteration 149, loss = 0.45056693\n",
            "Iteration 150, loss = 0.45076672\n",
            "Iteration 151, loss = 0.45087904\n",
            "Iteration 152, loss = 0.45041062\n",
            "Iteration 153, loss = 0.45058038\n",
            "Iteration 154, loss = 0.45038193\n",
            "Iteration 155, loss = 0.45002306\n",
            "Iteration 156, loss = 0.45043558\n",
            "Iteration 157, loss = 0.44990881\n",
            "Iteration 158, loss = 0.44931863\n",
            "Iteration 159, loss = 0.44947261\n",
            "Iteration 160, loss = 0.44961681\n",
            "Iteration 161, loss = 0.44910368\n",
            "Iteration 162, loss = 0.44948390\n",
            "Iteration 163, loss = 0.44906349\n",
            "Iteration 164, loss = 0.44938420\n",
            "Iteration 165, loss = 0.44856316\n",
            "Iteration 166, loss = 0.44836910\n",
            "Iteration 167, loss = 0.44943563\n",
            "Iteration 168, loss = 0.44817901\n",
            "Iteration 169, loss = 0.44875005\n",
            "Iteration 170, loss = 0.44784851\n",
            "Iteration 171, loss = 0.44828593\n",
            "Iteration 172, loss = 0.44752187\n",
            "Iteration 173, loss = 0.44731552\n",
            "Iteration 174, loss = 0.44706094\n",
            "Iteration 175, loss = 0.44790784\n",
            "Iteration 176, loss = 0.44723115\n",
            "Iteration 177, loss = 0.44675268\n",
            "Iteration 178, loss = 0.44632267\n",
            "Iteration 179, loss = 0.44665568\n",
            "Iteration 180, loss = 0.44622877\n",
            "Iteration 181, loss = 0.44685789\n",
            "Iteration 182, loss = 0.44602983\n",
            "Iteration 183, loss = 0.44653052\n",
            "Iteration 184, loss = 0.44570734\n",
            "Iteration 185, loss = 0.44600733\n",
            "Iteration 186, loss = 0.44564892\n",
            "Iteration 187, loss = 0.44582690\n",
            "Iteration 188, loss = 0.44599265\n",
            "Iteration 189, loss = 0.44600418\n",
            "Iteration 190, loss = 0.44482548\n",
            "Iteration 191, loss = 0.44565666\n",
            "Iteration 192, loss = 0.44521440\n",
            "Iteration 193, loss = 0.44473262\n",
            "Iteration 194, loss = 0.44443513\n",
            "Iteration 195, loss = 0.44449173\n",
            "Iteration 196, loss = 0.44361350\n",
            "Iteration 197, loss = 0.44484677\n",
            "Iteration 198, loss = 0.44489408\n",
            "Iteration 199, loss = 0.44451094\n",
            "Iteration 200, loss = 0.44414852\n",
            "Iteration 201, loss = 0.44462800\n",
            "Iteration 202, loss = 0.44413271\n",
            "Iteration 203, loss = 0.44386410\n",
            "Iteration 204, loss = 0.44363176\n",
            "Iteration 205, loss = 0.44345431\n",
            "Iteration 206, loss = 0.44347278\n",
            "Iteration 207, loss = 0.44386999\n",
            "Iteration 208, loss = 0.44298779\n",
            "Iteration 209, loss = 0.44308875\n",
            "Iteration 210, loss = 0.44335506\n",
            "Iteration 211, loss = 0.44313684\n",
            "Iteration 212, loss = 0.44313221\n",
            "Iteration 213, loss = 0.44285276\n",
            "Iteration 214, loss = 0.44383642\n",
            "Iteration 215, loss = 0.44313174\n",
            "Iteration 216, loss = 0.44316765\n",
            "Iteration 217, loss = 0.44308140\n",
            "Iteration 218, loss = 0.44226207\n",
            "Iteration 219, loss = 0.44232231\n",
            "Iteration 220, loss = 0.44257171\n",
            "Iteration 221, loss = 0.44255662\n",
            "Iteration 222, loss = 0.44221644\n",
            "Iteration 223, loss = 0.44161538\n",
            "Iteration 224, loss = 0.44182772\n",
            "Iteration 225, loss = 0.44163033\n",
            "Iteration 226, loss = 0.44192471\n",
            "Iteration 227, loss = 0.44167605\n",
            "Iteration 228, loss = 0.44160066\n",
            "Iteration 229, loss = 0.44114007\n",
            "Iteration 230, loss = 0.44148484\n",
            "Iteration 231, loss = 0.44076162\n",
            "Iteration 232, loss = 0.44100880\n",
            "Iteration 233, loss = 0.44103003\n",
            "Iteration 234, loss = 0.44038978\n",
            "Iteration 235, loss = 0.44129564\n",
            "Iteration 236, loss = 0.44042753\n",
            "Iteration 237, loss = 0.44091290\n",
            "Iteration 238, loss = 0.44063548\n",
            "Iteration 239, loss = 0.44094663\n",
            "Iteration 240, loss = 0.44069930\n",
            "Iteration 241, loss = 0.44059047\n",
            "Iteration 242, loss = 0.43968883\n",
            "Iteration 243, loss = 0.43990816\n",
            "Iteration 244, loss = 0.44023142\n",
            "Iteration 245, loss = 0.44018014\n",
            "Iteration 246, loss = 0.43991860\n",
            "Iteration 247, loss = 0.43995430\n",
            "Iteration 248, loss = 0.43910596\n",
            "Iteration 249, loss = 0.43885095\n",
            "Iteration 250, loss = 0.43924457\n",
            "Iteration 251, loss = 0.43949062\n",
            "Iteration 252, loss = 0.43934057\n",
            "Iteration 253, loss = 0.43959770\n",
            "Iteration 254, loss = 0.43877851\n",
            "Iteration 255, loss = 0.43912080\n",
            "Iteration 256, loss = 0.43809575\n",
            "Iteration 257, loss = 0.43833922\n",
            "Iteration 258, loss = 0.43814012\n",
            "Iteration 259, loss = 0.43794256\n",
            "Iteration 260, loss = 0.43843603\n",
            "Iteration 261, loss = 0.43760207\n",
            "Iteration 262, loss = 0.43819117\n",
            "Iteration 263, loss = 0.43867445\n",
            "Iteration 264, loss = 0.43832137\n",
            "Iteration 265, loss = 0.43756230\n",
            "Iteration 266, loss = 0.43737440\n",
            "Iteration 267, loss = 0.43760651\n",
            "Iteration 268, loss = 0.43760314\n",
            "Iteration 269, loss = 0.43732501\n",
            "Iteration 270, loss = 0.43738462\n",
            "Iteration 271, loss = 0.43718904\n",
            "Iteration 272, loss = 0.43699959\n",
            "Iteration 273, loss = 0.43735466\n",
            "Iteration 274, loss = 0.43707377\n",
            "Iteration 275, loss = 0.43694396\n",
            "Iteration 276, loss = 0.43684234\n",
            "Iteration 277, loss = 0.43684800\n",
            "Iteration 278, loss = 0.43641086\n",
            "Iteration 279, loss = 0.43644289\n",
            "Iteration 280, loss = 0.43686077\n",
            "Iteration 281, loss = 0.43616096\n",
            "Iteration 282, loss = 0.43602253\n",
            "Iteration 283, loss = 0.43542108\n",
            "Iteration 284, loss = 0.43733232\n",
            "Iteration 285, loss = 0.43554998\n",
            "Iteration 286, loss = 0.43644260\n",
            "Iteration 287, loss = 0.43620200\n",
            "Iteration 288, loss = 0.43551547\n",
            "Iteration 289, loss = 0.43549126\n",
            "Iteration 290, loss = 0.43541040\n",
            "Iteration 291, loss = 0.43591790\n",
            "Iteration 292, loss = 0.43460694\n",
            "Iteration 293, loss = 0.43530317\n",
            "Iteration 294, loss = 0.43387576\n",
            "Iteration 295, loss = 0.43524180\n",
            "Iteration 296, loss = 0.43463827\n",
            "Iteration 297, loss = 0.43395584\n",
            "Iteration 298, loss = 0.43458197\n",
            "Iteration 299, loss = 0.43380206\n",
            "Iteration 300, loss = 0.43513577\n",
            "Iteration 301, loss = 0.43375464\n",
            "Iteration 302, loss = 0.43390153\n",
            "Iteration 303, loss = 0.43364858\n",
            "Iteration 304, loss = 0.43290753\n",
            "Iteration 305, loss = 0.43326790\n",
            "Iteration 306, loss = 0.43301990\n",
            "Iteration 307, loss = 0.43290186\n",
            "Iteration 308, loss = 0.43265924\n",
            "Iteration 309, loss = 0.43263181\n",
            "Iteration 310, loss = 0.43245740\n",
            "Iteration 311, loss = 0.43264946\n",
            "Iteration 312, loss = 0.43248839\n",
            "Iteration 313, loss = 0.43340144\n",
            "Iteration 314, loss = 0.43186989\n",
            "Iteration 315, loss = 0.43249652\n",
            "Iteration 316, loss = 0.43223127\n",
            "Iteration 317, loss = 0.43140147\n",
            "Iteration 318, loss = 0.43214427\n",
            "Iteration 319, loss = 0.43091561\n",
            "Iteration 320, loss = 0.43113741\n",
            "Iteration 321, loss = 0.43165249\n",
            "Iteration 322, loss = 0.43179197\n",
            "Iteration 323, loss = 0.43061628\n",
            "Iteration 324, loss = 0.43193363\n",
            "Iteration 325, loss = 0.43147330\n",
            "Iteration 326, loss = 0.43050982\n",
            "Iteration 327, loss = 0.42960779\n",
            "Iteration 328, loss = 0.43044167\n",
            "Iteration 329, loss = 0.43052027\n",
            "Iteration 330, loss = 0.43052699\n",
            "Iteration 331, loss = 0.42958204\n",
            "Iteration 332, loss = 0.43064437\n",
            "Iteration 333, loss = 0.43039018\n",
            "Iteration 334, loss = 0.42968121\n",
            "Iteration 335, loss = 0.42968398\n",
            "Iteration 336, loss = 0.43042007\n",
            "Iteration 337, loss = 0.43014710\n",
            "Iteration 338, loss = 0.42984642\n",
            "Training loss did not improve more than tol=0.000100 for 10 consecutive epochs. Stopping.\n",
            "RMSLE of Neural Network_random : 0.2199\n",
            "R2 value of Neural Network_random : 0.4500\n",
            "Err value of Neural Network_random : 0.2199\n"
          ],
          "name": "stdout"
        }
      ]
    },
    {
      "cell_type": "markdown",
      "metadata": {
        "id": "BRabSrujJ44t"
      },
      "source": [
        "**Hyperparameter Optimization using Grid Search**"
      ]
    },
    {
      "cell_type": "code",
      "metadata": {
        "id": "uBfOkQNpeO2n"
      },
      "source": [
        "#parameter_grid = {'hidden_layer_sizes': [i for i in range(1,10)],\r\n",
        "#                  'activation': ['tanh', 'relu'],\r\n",
        "#                  'solver': ['sgd','adam'],\r\n",
        "#                  'learning_rate': ['constant'],\r\n",
        "#                  'learning_rate_init': [0.001],\r\n",
        "#                  'alpha': [0.0001],\r\n",
        "#                  'max_iter': [1000],}\r\n",
        "\r\n",
        "#rgr = GridSearchCV(MLPRegressor(), parameter_grid,\r\n",
        "#                   cv = 5, verbose=True, pre_dispatch='2*n_jobs')\r\n",
        "#rgr.fit(X_train, y_train)\r\n",
        "\r\n",
        "#train_mse = mean_squared_error(y_train, rgr.predict(X_train))\r\n",
        "#test_mse = mean_squared_error(y_valid, rgr.predict(X_valid))\r\n",
        "\r\n",
        "#print(rgr.best_params_)\r\n",
        "#print(rgr.best_score_)\r\n",
        "#print(\"Train MSE:\", np.round(train_mse,2))\r\n",
        "#print(\"Test MSE:\", np.round(test_mse,2))"
      ],
      "execution_count": 46,
      "outputs": []
    },
    {
      "cell_type": "code",
      "metadata": {
        "colab": {
          "base_uri": "https://localhost:8080/"
        },
        "id": "-rFUO9A92R8T",
        "outputId": "25e41b76-1ff7-4c62-87d0-094becbdee5d"
      },
      "source": [
        "from sklearn.neural_network import MLPRegressor\n",
        "\n",
        "model_3 = MLPRegressor(activation='relu', alpha=0.0001, batch_size='auto', beta_1=0.9,\n",
        "        beta_2=0.999, early_stopping=False, epsilon=1e-08,\n",
        "        hidden_layer_sizes=2, learning_rate='constant',\n",
        "        learning_rate_init=0.001, max_iter=1000, momentum=0.9,\n",
        "        nesterovs_momentum=True, power_t=0.5, random_state=None,\n",
        "        shuffle=True, solver='adam', tol=0.0001, validation_fraction=0.1,\n",
        "        verbose=1, warm_start=False)\n",
        "\n",
        "model_3.fit(X_train, y_train)\n",
        "eval(model_3, X_valid, y_valid, 'Neural Network_gridsearch')"
      ],
      "execution_count": 47,
      "outputs": [
        {
          "output_type": "stream",
          "text": [
            "Iteration 1, loss = 1.46029456\n",
            "Iteration 2, loss = 1.07325999\n",
            "Iteration 3, loss = 0.97932710\n",
            "Iteration 4, loss = 0.93854688\n",
            "Iteration 5, loss = 0.91216409\n",
            "Iteration 6, loss = 0.88817726\n",
            "Iteration 7, loss = 0.86328538\n",
            "Iteration 8, loss = 0.83676347\n",
            "Iteration 9, loss = 0.80697406\n",
            "Iteration 10, loss = 0.77468018\n",
            "Iteration 11, loss = 0.74222692\n",
            "Iteration 12, loss = 0.71042939\n",
            "Iteration 13, loss = 0.68001664\n",
            "Iteration 14, loss = 0.65082594\n",
            "Iteration 15, loss = 0.62494355\n",
            "Iteration 16, loss = 0.60292738\n",
            "Iteration 17, loss = 0.58474585\n",
            "Iteration 18, loss = 0.56926956\n",
            "Iteration 19, loss = 0.55650639\n",
            "Iteration 20, loss = 0.54574038\n",
            "Iteration 21, loss = 0.53716655\n",
            "Iteration 22, loss = 0.52997346\n",
            "Iteration 23, loss = 0.52435772\n",
            "Iteration 24, loss = 0.52008001\n",
            "Iteration 25, loss = 0.51676302\n",
            "Iteration 26, loss = 0.51431150\n",
            "Iteration 27, loss = 0.51243086\n",
            "Iteration 28, loss = 0.51106362\n",
            "Iteration 29, loss = 0.51005918\n",
            "Iteration 30, loss = 0.50926686\n",
            "Iteration 31, loss = 0.50880239\n",
            "Iteration 32, loss = 0.50853803\n",
            "Iteration 33, loss = 0.50809042\n",
            "Iteration 34, loss = 0.50793515\n",
            "Iteration 35, loss = 0.50786388\n",
            "Iteration 36, loss = 0.50763601\n",
            "Iteration 37, loss = 0.50753732\n",
            "Iteration 38, loss = 0.50751657\n",
            "Iteration 39, loss = 0.50748388\n",
            "Iteration 40, loss = 0.50736801\n",
            "Iteration 41, loss = 0.50726602\n",
            "Iteration 42, loss = 0.50722308\n",
            "Iteration 43, loss = 0.50720331\n",
            "Iteration 44, loss = 0.50720045\n",
            "Iteration 45, loss = 0.50711800\n",
            "Iteration 46, loss = 0.50716164\n",
            "Iteration 47, loss = 0.50713449\n",
            "Iteration 48, loss = 0.50710656\n",
            "Iteration 49, loss = 0.50702823\n",
            "Iteration 50, loss = 0.50705234\n",
            "Iteration 51, loss = 0.50736862\n",
            "Iteration 52, loss = 0.50713613\n",
            "Training loss did not improve more than tol=0.000100 for 10 consecutive epochs. Stopping.\n",
            "RMSLE of Neural Network_gridsearch : 0.2134\n",
            "R2 value of Neural Network_gridsearch : 0.4683\n",
            "Err value of Neural Network_gridsearch : 0.2134\n"
          ],
          "name": "stdout"
        }
      ]
    },
    {
      "cell_type": "markdown",
      "metadata": {
        "id": "eVUxzLr-bcw5"
      },
      "source": [
        "## MODEL 4: XGBoost -  Gradient Boost Linear Regression Function"
      ]
    },
    {
      "cell_type": "code",
      "metadata": {
        "colab": {
          "base_uri": "https://localhost:8080/"
        },
        "id": "hBJ42ntWeZxa",
        "outputId": "77972d94-a13c-4394-a446-96ab458d2223"
      },
      "source": [
        "reg = ensemble.GradientBoostingRegressor(n_estimators = 500,\r\n",
        "          max_depth = 4,\r\n",
        "          min_samples_split= 5,\r\n",
        "          learning_rate = 0.01,\r\n",
        "          loss = 'ls')\r\n",
        "reg.fit(X_train, y_train)\r\n",
        "eval(reg, X_valid, y_valid,'Gradient Boosting Regressor')"
      ],
      "execution_count": 48,
      "outputs": [
        {
          "output_type": "stream",
          "text": [
            "RMSLE of Gradient Boosting Regressor : 0.2017\n",
            "R2 value of Gradient Boosting Regressor : 0.4813\n",
            "Err value of Gradient Boosting Regressor : 0.2017\n"
          ],
          "name": "stdout"
        }
      ]
    },
    {
      "cell_type": "code",
      "metadata": {
        "id": "RqkQIJJ6bcw8"
      },
      "source": [
        "# Set XGBoost DataMatrix\n",
        "dmatrix_train = xgboost.DMatrix(data=X_train,label=y_train)\n",
        "dmatrix_test = xgboost.DMatrix(data=X_test,label=y_test)"
      ],
      "execution_count": 49,
      "outputs": []
    },
    {
      "cell_type": "code",
      "metadata": {
        "id": "bvrLEOK4bcxA",
        "scrolled": true,
        "colab": {
          "base_uri": "https://localhost:8080/",
          "height": 1000
        },
        "outputId": "6adbfd0e-35aa-46fb-d17d-f9ed0e19b937"
      },
      "source": [
        "# XGBoost\n",
        "params = {'objective': 'reg:linear', 'gamma': 0,\n",
        "          'subsample': 0.3, 'colsample_by*': 0.5, 'learning_rate': 0.1, 'max_depth': 15, 'lambda': 10,\n",
        "          'booster': 'gblinear'}\n",
        "xgb_results = {}\n",
        "xgb_model = xgboost.train(dtrain=dmatrix_train, params=params, evals_result=xgb_results,\n",
        "                          feval=rmsle, evals=[(dmatrix_test,'test'), (dmatrix_train,'train')], \n",
        "                          num_boost_round=500, early_stopping_rounds=5)\n",
        "\n",
        "plotResult(xgb_results, cv=False)\n",
        "print('RMSLE Train set:', xgb_results['train']['RMSLE'][-1])"
      ],
      "execution_count": 50,
      "outputs": [
        {
          "output_type": "stream",
          "text": [
            "[17:24:57] WARNING: /workspace/src/objective/regression_obj.cu:152: reg:linear is now deprecated in favor of reg:squarederror.\n",
            "[0]\ttest-rmse:1.368\ttrain-rmse:1.37822\ttest-RMSLE:0.494536\ttrain-RMSLE:0.497816\n",
            "Multiple eval metrics have been passed: 'train-RMSLE' will be used for early stopping.\n",
            "\n",
            "Will train until train-RMSLE hasn't improved in 5 rounds.\n",
            "[1]\ttest-rmse:1.35926\ttrain-rmse:1.36991\ttest-RMSLE:0.485122\ttrain-RMSLE:0.489064\n",
            "[2]\ttest-rmse:1.352\ttrain-rmse:1.36296\ttest-RMSLE:0.477078\ttrain-RMSLE:0.481529\n",
            "[3]\ttest-rmse:1.3459\ttrain-rmse:1.35707\ttest-RMSLE:0.470126\ttrain-RMSLE:0.474967\n",
            "[4]\ttest-rmse:1.3407\ttrain-rmse:1.35203\ttest-RMSLE:0.464062\ttrain-RMSLE:0.469201\n",
            "[5]\ttest-rmse:1.33624\ttrain-rmse:1.34766\ttest-RMSLE:0.458739\ttrain-RMSLE:0.464103\n",
            "[6]\ttest-rmse:1.33238\ttrain-rmse:1.34386\ttest-RMSLE:0.454042\ttrain-RMSLE:0.459576\n",
            "[7]\ttest-rmse:1.32902\ttrain-rmse:1.34053\ttest-RMSLE:0.44988\ttrain-RMSLE:0.455543\n",
            "[8]\ttest-rmse:1.32609\ttrain-rmse:1.33761\ttest-RMSLE:0.446182\ttrain-RMSLE:0.451942\n",
            "[9]\ttest-rmse:1.32351\ttrain-rmse:1.33503\ttest-RMSLE:0.442889\ttrain-RMSLE:0.44872\n",
            "[10]\ttest-rmse:1.32124\ttrain-rmse:1.33275\ttest-RMSLE:0.439951\ttrain-RMSLE:0.445834\n",
            "[11]\ttest-rmse:1.31924\ttrain-rmse:1.33073\ttest-RMSLE:0.437325\ttrain-RMSLE:0.443248\n",
            "[12]\ttest-rmse:1.31746\ttrain-rmse:1.32894\ttest-RMSLE:0.434977\ttrain-RMSLE:0.440927\n",
            "[13]\ttest-rmse:1.3159\ttrain-rmse:1.32735\ttest-RMSLE:0.432874\ttrain-RMSLE:0.438845\n",
            "[14]\ttest-rmse:1.31449\ttrain-rmse:1.32593\ttest-RMSLE:0.430991\ttrain-RMSLE:0.436975\n",
            "[15]\ttest-rmse:1.31325\ttrain-rmse:1.32466\ttest-RMSLE:0.429302\ttrain-RMSLE:0.435296\n",
            "[16]\ttest-rmse:1.31214\ttrain-rmse:1.32353\ttest-RMSLE:0.427788\ttrain-RMSLE:0.433788\n",
            "[17]\ttest-rmse:1.31116\ttrain-rmse:1.32253\ttest-RMSLE:0.426429\ttrain-RMSLE:0.432433\n",
            "[18]\ttest-rmse:1.31028\ttrain-rmse:1.32162\ttest-RMSLE:0.42521\ttrain-RMSLE:0.431215\n",
            "[19]\ttest-rmse:1.30949\ttrain-rmse:1.32082\ttest-RMSLE:0.424115\ttrain-RMSLE:0.43012\n",
            "[20]\ttest-rmse:1.30879\ttrain-rmse:1.3201\ttest-RMSLE:0.423131\ttrain-RMSLE:0.429137\n",
            "[21]\ttest-rmse:1.30816\ttrain-rmse:1.31946\ttest-RMSLE:0.422248\ttrain-RMSLE:0.428253\n",
            "[22]\ttest-rmse:1.30759\ttrain-rmse:1.31888\ttest-RMSLE:0.421455\ttrain-RMSLE:0.427458\n",
            "[23]\ttest-rmse:1.30709\ttrain-rmse:1.31836\ttest-RMSLE:0.420742\ttrain-RMSLE:0.426743\n",
            "[24]\ttest-rmse:1.30664\ttrain-rmse:1.3179\ttest-RMSLE:0.420101\ttrain-RMSLE:0.426101\n",
            "[25]\ttest-rmse:1.30623\ttrain-rmse:1.31748\ttest-RMSLE:0.419525\ttrain-RMSLE:0.425523\n",
            "[26]\ttest-rmse:1.30587\ttrain-rmse:1.31711\ttest-RMSLE:0.419008\ttrain-RMSLE:0.425004\n",
            "[27]\ttest-rmse:1.30554\ttrain-rmse:1.31677\ttest-RMSLE:0.418542\ttrain-RMSLE:0.424537\n",
            "[28]\ttest-rmse:1.30525\ttrain-rmse:1.31647\ttest-RMSLE:0.418124\ttrain-RMSLE:0.424117\n",
            "[29]\ttest-rmse:1.30499\ttrain-rmse:1.3162\ttest-RMSLE:0.417748\ttrain-RMSLE:0.423739\n",
            "[30]\ttest-rmse:1.30475\ttrain-rmse:1.31596\ttest-RMSLE:0.41741\ttrain-RMSLE:0.4234\n",
            "[31]\ttest-rmse:1.30454\ttrain-rmse:1.31574\ttest-RMSLE:0.417106\ttrain-RMSLE:0.423094\n",
            "[32]\ttest-rmse:1.30435\ttrain-rmse:1.31555\ttest-RMSLE:0.416832\ttrain-RMSLE:0.42282\n",
            "[33]\ttest-rmse:1.30418\ttrain-rmse:1.31537\ttest-RMSLE:0.416586\ttrain-RMSLE:0.422573\n",
            "[34]\ttest-rmse:1.30403\ttrain-rmse:1.31522\ttest-RMSLE:0.416365\ttrain-RMSLE:0.42235\n",
            "[35]\ttest-rmse:1.30389\ttrain-rmse:1.31507\ttest-RMSLE:0.416166\ttrain-RMSLE:0.422151\n",
            "[36]\ttest-rmse:1.30377\ttrain-rmse:1.31495\ttest-RMSLE:0.415987\ttrain-RMSLE:0.421971\n",
            "[37]\ttest-rmse:1.30366\ttrain-rmse:1.31483\ttest-RMSLE:0.415826\ttrain-RMSLE:0.421809\n",
            "[38]\ttest-rmse:1.30356\ttrain-rmse:1.31473\ttest-RMSLE:0.415682\ttrain-RMSLE:0.421664\n",
            "[39]\ttest-rmse:1.30347\ttrain-rmse:1.31464\ttest-RMSLE:0.415552\ttrain-RMSLE:0.421533\n",
            "[40]\ttest-rmse:1.30339\ttrain-rmse:1.31456\ttest-RMSLE:0.415434\ttrain-RMSLE:0.421415\n",
            "[41]\ttest-rmse:1.30332\ttrain-rmse:1.31448\ttest-RMSLE:0.415329\ttrain-RMSLE:0.421309\n",
            "[42]\ttest-rmse:1.30325\ttrain-rmse:1.31441\ttest-RMSLE:0.415234\ttrain-RMSLE:0.421214\n",
            "[43]\ttest-rmse:1.3032\ttrain-rmse:1.31435\ttest-RMSLE:0.415149\ttrain-RMSLE:0.421128\n",
            "[44]\ttest-rmse:1.30314\ttrain-rmse:1.3143\ttest-RMSLE:0.415072\ttrain-RMSLE:0.421051\n",
            "[45]\ttest-rmse:1.30309\ttrain-rmse:1.31425\ttest-RMSLE:0.415003\ttrain-RMSLE:0.420982\n",
            "[46]\ttest-rmse:1.30305\ttrain-rmse:1.31421\ttest-RMSLE:0.414941\ttrain-RMSLE:0.42092\n",
            "[47]\ttest-rmse:1.30301\ttrain-rmse:1.31417\ttest-RMSLE:0.414886\ttrain-RMSLE:0.420864\n",
            "[48]\ttest-rmse:1.30298\ttrain-rmse:1.31413\ttest-RMSLE:0.414835\ttrain-RMSLE:0.420813\n",
            "[49]\ttest-rmse:1.30295\ttrain-rmse:1.3141\ttest-RMSLE:0.41479\ttrain-RMSLE:0.420768\n",
            "[50]\ttest-rmse:1.30292\ttrain-rmse:1.31407\ttest-RMSLE:0.41475\ttrain-RMSLE:0.420727\n",
            "[51]\ttest-rmse:1.30289\ttrain-rmse:1.31405\ttest-RMSLE:0.414713\ttrain-RMSLE:0.42069\n",
            "[52]\ttest-rmse:1.30287\ttrain-rmse:1.31402\ttest-RMSLE:0.41468\ttrain-RMSLE:0.420657\n",
            "[53]\ttest-rmse:1.30285\ttrain-rmse:1.314\ttest-RMSLE:0.41465\ttrain-RMSLE:0.420627\n",
            "[54]\ttest-rmse:1.30283\ttrain-rmse:1.31398\ttest-RMSLE:0.414624\ttrain-RMSLE:0.420601\n",
            "[55]\ttest-rmse:1.30282\ttrain-rmse:1.31397\ttest-RMSLE:0.4146\ttrain-RMSLE:0.420577\n",
            "[56]\ttest-rmse:1.3028\ttrain-rmse:1.31395\ttest-RMSLE:0.414578\ttrain-RMSLE:0.420555\n",
            "[57]\ttest-rmse:1.30279\ttrain-rmse:1.31394\ttest-RMSLE:0.414559\ttrain-RMSLE:0.420535\n",
            "[58]\ttest-rmse:1.30278\ttrain-rmse:1.31393\ttest-RMSLE:0.414541\ttrain-RMSLE:0.420518\n",
            "[59]\ttest-rmse:1.30277\ttrain-rmse:1.31392\ttest-RMSLE:0.414526\ttrain-RMSLE:0.420502\n",
            "[60]\ttest-rmse:1.30276\ttrain-rmse:1.31391\ttest-RMSLE:0.414512\ttrain-RMSLE:0.420488\n",
            "[61]\ttest-rmse:1.30275\ttrain-rmse:1.3139\ttest-RMSLE:0.414499\ttrain-RMSLE:0.420475\n",
            "[62]\ttest-rmse:1.30274\ttrain-rmse:1.31389\ttest-RMSLE:0.414488\ttrain-RMSLE:0.420464\n",
            "[63]\ttest-rmse:1.30273\ttrain-rmse:1.31388\ttest-RMSLE:0.414477\ttrain-RMSLE:0.420453\n",
            "[64]\ttest-rmse:1.30273\ttrain-rmse:1.31387\ttest-RMSLE:0.414468\ttrain-RMSLE:0.420444\n",
            "[65]\ttest-rmse:1.30272\ttrain-rmse:1.31387\ttest-RMSLE:0.41446\ttrain-RMSLE:0.420436\n",
            "[66]\ttest-rmse:1.30272\ttrain-rmse:1.31387\ttest-RMSLE:0.414452\ttrain-RMSLE:0.420428\n",
            "[67]\ttest-rmse:1.30271\ttrain-rmse:1.31386\ttest-RMSLE:0.414445\ttrain-RMSLE:0.420421\n",
            "[68]\ttest-rmse:1.30271\ttrain-rmse:1.31386\ttest-RMSLE:0.414439\ttrain-RMSLE:0.420415\n",
            "[69]\ttest-rmse:1.3027\ttrain-rmse:1.31385\ttest-RMSLE:0.414434\ttrain-RMSLE:0.42041\n",
            "[70]\ttest-rmse:1.3027\ttrain-rmse:1.31385\ttest-RMSLE:0.414429\ttrain-RMSLE:0.420405\n",
            "[71]\ttest-rmse:1.3027\ttrain-rmse:1.31384\ttest-RMSLE:0.414425\ttrain-RMSLE:0.4204\n",
            "[72]\ttest-rmse:1.30269\ttrain-rmse:1.31384\ttest-RMSLE:0.414421\ttrain-RMSLE:0.420397\n",
            "[73]\ttest-rmse:1.30269\ttrain-rmse:1.31384\ttest-RMSLE:0.414417\ttrain-RMSLE:0.420393\n",
            "[74]\ttest-rmse:1.30269\ttrain-rmse:1.31384\ttest-RMSLE:0.414414\ttrain-RMSLE:0.42039\n",
            "[75]\ttest-rmse:1.30269\ttrain-rmse:1.31384\ttest-RMSLE:0.414411\ttrain-RMSLE:0.420387\n",
            "[76]\ttest-rmse:1.30269\ttrain-rmse:1.31383\ttest-RMSLE:0.414408\ttrain-RMSLE:0.420384\n",
            "[77]\ttest-rmse:1.30268\ttrain-rmse:1.31383\ttest-RMSLE:0.414406\ttrain-RMSLE:0.420382\n",
            "[78]\ttest-rmse:1.30268\ttrain-rmse:1.31383\ttest-RMSLE:0.414404\ttrain-RMSLE:0.42038\n",
            "[79]\ttest-rmse:1.30268\ttrain-rmse:1.31383\ttest-RMSLE:0.414402\ttrain-RMSLE:0.420378\n",
            "[80]\ttest-rmse:1.30268\ttrain-rmse:1.31383\ttest-RMSLE:0.4144\ttrain-RMSLE:0.420376\n",
            "[81]\ttest-rmse:1.30268\ttrain-rmse:1.31383\ttest-RMSLE:0.414399\ttrain-RMSLE:0.420375\n",
            "[82]\ttest-rmse:1.30268\ttrain-rmse:1.31383\ttest-RMSLE:0.414397\ttrain-RMSLE:0.420373\n",
            "[83]\ttest-rmse:1.30268\ttrain-rmse:1.31383\ttest-RMSLE:0.414396\ttrain-RMSLE:0.420372\n",
            "[84]\ttest-rmse:1.30268\ttrain-rmse:1.31383\ttest-RMSLE:0.414395\ttrain-RMSLE:0.420371\n",
            "[85]\ttest-rmse:1.30268\ttrain-rmse:1.31382\ttest-RMSLE:0.414394\ttrain-RMSLE:0.42037\n",
            "[86]\ttest-rmse:1.30268\ttrain-rmse:1.31382\ttest-RMSLE:0.414393\ttrain-RMSLE:0.420369\n",
            "[87]\ttest-rmse:1.30268\ttrain-rmse:1.31382\ttest-RMSLE:0.414392\ttrain-RMSLE:0.420368\n",
            "[88]\ttest-rmse:1.30268\ttrain-rmse:1.31382\ttest-RMSLE:0.414392\ttrain-RMSLE:0.420367\n",
            "[89]\ttest-rmse:1.30267\ttrain-rmse:1.31382\ttest-RMSLE:0.414391\ttrain-RMSLE:0.420367\n",
            "[90]\ttest-rmse:1.30267\ttrain-rmse:1.31382\ttest-RMSLE:0.41439\ttrain-RMSLE:0.420366\n",
            "[91]\ttest-rmse:1.30267\ttrain-rmse:1.31382\ttest-RMSLE:0.41439\ttrain-RMSLE:0.420365\n",
            "[92]\ttest-rmse:1.30267\ttrain-rmse:1.31382\ttest-RMSLE:0.414389\ttrain-RMSLE:0.420365\n",
            "[93]\ttest-rmse:1.30267\ttrain-rmse:1.31382\ttest-RMSLE:0.414389\ttrain-RMSLE:0.420365\n",
            "[94]\ttest-rmse:1.30267\ttrain-rmse:1.31382\ttest-RMSLE:0.414388\ttrain-RMSLE:0.420364\n",
            "[95]\ttest-rmse:1.30267\ttrain-rmse:1.31382\ttest-RMSLE:0.414388\ttrain-RMSLE:0.420364\n",
            "[96]\ttest-rmse:1.30267\ttrain-rmse:1.31382\ttest-RMSLE:0.414388\ttrain-RMSLE:0.420363\n",
            "[97]\ttest-rmse:1.30267\ttrain-rmse:1.31382\ttest-RMSLE:0.414387\ttrain-RMSLE:0.420363\n",
            "[98]\ttest-rmse:1.30267\ttrain-rmse:1.31382\ttest-RMSLE:0.414387\ttrain-RMSLE:0.420363\n",
            "[99]\ttest-rmse:1.30267\ttrain-rmse:1.31382\ttest-RMSLE:0.414387\ttrain-RMSLE:0.420363\n",
            "[100]\ttest-rmse:1.30267\ttrain-rmse:1.31382\ttest-RMSLE:0.414387\ttrain-RMSLE:0.420362\n",
            "[101]\ttest-rmse:1.30267\ttrain-rmse:1.31382\ttest-RMSLE:0.414387\ttrain-RMSLE:0.420362\n",
            "[102]\ttest-rmse:1.30267\ttrain-rmse:1.31382\ttest-RMSLE:0.414386\ttrain-RMSLE:0.420362\n",
            "[103]\ttest-rmse:1.30267\ttrain-rmse:1.31382\ttest-RMSLE:0.414386\ttrain-RMSLE:0.420362\n",
            "[104]\ttest-rmse:1.30267\ttrain-rmse:1.31382\ttest-RMSLE:0.414386\ttrain-RMSLE:0.420362\n",
            "[105]\ttest-rmse:1.30267\ttrain-rmse:1.31382\ttest-RMSLE:0.414386\ttrain-RMSLE:0.420362\n",
            "Stopping. Best iteration:\n",
            "[100]\ttest-rmse:1.30267\ttrain-rmse:1.31382\ttest-RMSLE:0.414387\ttrain-RMSLE:0.420362\n",
            "\n"
          ],
          "name": "stdout"
        },
        {
          "output_type": "display_data",
          "data": {
            "image/png": "[encoded data removed]",
            "text/plain": [
              "<Figure size 432x288 with 1 Axes>"
            ]
          },
          "metadata": {
            "tags": []
          }
        },
        {
          "output_type": "stream",
          "text": [
            "RMSLE Train set: 0.420362\n"
          ],
          "name": "stdout"
        }
      ]
    },
    {
      "cell_type": "markdown",
      "metadata": {
        "id": "DoFhyWI4Fr5t"
      },
      "source": [
        "# Final Results"
      ]
    },
    {
      "cell_type": "code",
      "metadata": {
        "id": "biOZdcZD2pLA",
        "colab": {
          "base_uri": "https://localhost:8080/"
        },
        "outputId": "49966b1e-81bd-433b-d2bb-f6979cc0b1db"
      },
      "source": [
        "eval(model_1, X_test, y_test,'linear regression')\r\n",
        "print('******')\r\n",
        "eval(model_2, X_test, y_test, 'Stochastic Gradient Descent')\r\n",
        "print('******')\r\n",
        "eval(model_2i, X_test, y_test, 'Lasso regression')\r\n",
        "print('******')\r\n",
        "eval(model_3i, X_test, y_test, 'Neural Network_default')\r\n",
        "print('******')\r\n",
        "eval(model_3ii, X_test, y_test, 'Neural Network_random')\r\n",
        "print('******')\r\n",
        "eval(model_3, X_test, y_test, 'Neural Network_gridsearch')\r\n",
        "print('******')\r\n",
        "eval(reg, X_test, y_test,'Gradient Boosting Regressor')\r\n",
        "print('******')\r\n",
        "print('Gradient Boost Linear Regression _ RMSLE Test set:', xgb_results['test']['RMSLE'][-1]) "
      ],
      "execution_count": 51,
      "outputs": [
        {
          "output_type": "stream",
          "text": [
            "RMSLE of linear regression : 0.2202\n",
            "R2 value of linear regression : 0.4577\n",
            "Err value of linear regression : 0.2202\n",
            "******\n",
            "RMSLE of Stochastic Gradient Descent : 0.2692\n",
            "R2 value of Stochastic Gradient Descent : 0.3969\n",
            "Err value of Stochastic Gradient Descent : 0.2692\n",
            "******\n",
            "RMSLE of Lasso regression : 0.2190\n",
            "R2 value of Lasso regression : 0.4578\n",
            "Err value of Lasso regression : 0.2190\n",
            "******\n",
            "RMSLE of Neural Network_default : 0.3193\n",
            "R2 value of Neural Network_default : 0.3482\n",
            "Err value of Neural Network_default : 0.3193\n",
            "******\n",
            "RMSLE of Neural Network_random : 0.2217\n",
            "R2 value of Neural Network_random : 0.4428\n",
            "Err value of Neural Network_random : 0.2217\n",
            "******\n",
            "RMSLE of Neural Network_gridsearch : 0.2145\n",
            "R2 value of Neural Network_gridsearch : 0.4601\n",
            "Err value of Neural Network_gridsearch : 0.2145\n",
            "******\n",
            "RMSLE of Gradient Boosting Regressor : 0.1986\n",
            "R2 value of Gradient Boosting Regressor : 0.4842\n",
            "Err value of Gradient Boosting Regressor : 0.1986\n",
            "******\n",
            "Gradient Boost Linear Regression _ RMSLE Test set: 0.414386\n"
          ],
          "name": "stdout"
        }
      ]
    },
    {
      "cell_type": "code",
      "metadata": {
        "id": "nEm4Q-V32sCU",
        "colab": {
          "base_uri": "https://localhost:8080/"
        },
        "outputId": "cde447a7-3d0e-4de0-8758-cb4276234e3b"
      },
      "source": [
        "pred_y = reg.predict(X_test)\r\n",
        "\r\n",
        "submission = pd.DataFrame()\r\n",
        "submission['MemberID'] = dataY2_df['MemberID']\r\n",
        "\r\n",
        "pred_y = pred_y.clip(min=0)\r\n",
        "pred_y = pred_y.clip(max=15)\r\n",
        "# pred_y = pred_y.astype(int)\r\n",
        "\r\n",
        "submission['DIH'] = pred_y\r\n",
        "submission.groupby(['DIH']).size()"
      ],
      "execution_count": 52,
      "outputs": [
        {
          "output_type": "execute_result",
          "data": {
            "text/plain": [
              "DIH\n",
              "0.000000       23\n",
              "0.000857      385\n",
              "0.004872      788\n",
              "0.005935        1\n",
              "0.006028    56398\n",
              "            ...  \n",
              "8.011169        1\n",
              "8.229543        1\n",
              "8.326225        1\n",
              "8.380534        1\n",
              "9.124800        1\n",
              "Length: 5977, dtype: int64"
            ]
          },
          "metadata": {
            "tags": []
          },
          "execution_count": 52
        }
      ]
    },
    {
      "cell_type": "code",
      "metadata": {
        "colab": {
          "base_uri": "https://localhost:8080/",
          "height": 399
        },
        "id": "niH1gNwsEZ7W",
        "outputId": "cc5b5f35-0630-40db-bd58-18e0f888d259"
      },
      "source": [
        "submission[submission['DIH']>=2]"
      ],
      "execution_count": 53,
      "outputs": [
        {
          "output_type": "execute_result",
          "data": {
            "text/html": [
              "<div>\n",
              "<style scoped>\n",
              "    .dataframe tbody tr th:only-of-type {\n",
              "        vertical-align: middle;\n",
              "    }\n",
              "\n",
              "    .dataframe tbody tr th {\n",
              "        vertical-align: top;\n",
              "    }\n",
              "\n",
              "    .dataframe thead th {\n",
              "        text-align: right;\n",
              "    }\n",
              "</style>\n",
              "<table border=\"1\" class=\"dataframe\">\n",
              "  <thead>\n",
              "    <tr style=\"text-align: right;\">\n",
              "      <th></th>\n",
              "      <th>MemberID</th>\n",
              "      <th>DIH</th>\n",
              "    </tr>\n",
              "  </thead>\n",
              "  <tbody>\n",
              "    <tr>\n",
              "      <th>16</th>\n",
              "      <td>20072</td>\n",
              "      <td>2.963246</td>\n",
              "    </tr>\n",
              "    <tr>\n",
              "      <th>22</th>\n",
              "      <td>28243</td>\n",
              "      <td>2.604812</td>\n",
              "    </tr>\n",
              "    <tr>\n",
              "      <th>24</th>\n",
              "      <td>32491</td>\n",
              "      <td>4.520432</td>\n",
              "    </tr>\n",
              "    <tr>\n",
              "      <th>27</th>\n",
              "      <td>42395</td>\n",
              "      <td>2.576855</td>\n",
              "    </tr>\n",
              "    <tr>\n",
              "      <th>34</th>\n",
              "      <td>55920</td>\n",
              "      <td>3.435456</td>\n",
              "    </tr>\n",
              "    <tr>\n",
              "      <th>...</th>\n",
              "      <td>...</td>\n",
              "      <td>...</td>\n",
              "    </tr>\n",
              "    <tr>\n",
              "      <th>66977</th>\n",
              "      <td>99926212</td>\n",
              "      <td>3.109424</td>\n",
              "    </tr>\n",
              "    <tr>\n",
              "      <th>66991</th>\n",
              "      <td>99941797</td>\n",
              "      <td>3.092237</td>\n",
              "    </tr>\n",
              "    <tr>\n",
              "      <th>67011</th>\n",
              "      <td>99966197</td>\n",
              "      <td>2.006043</td>\n",
              "    </tr>\n",
              "    <tr>\n",
              "      <th>67017</th>\n",
              "      <td>99973127</td>\n",
              "      <td>3.053945</td>\n",
              "    </tr>\n",
              "    <tr>\n",
              "      <th>67019</th>\n",
              "      <td>99977491</td>\n",
              "      <td>3.764148</td>\n",
              "    </tr>\n",
              "  </tbody>\n",
              "</table>\n",
              "<p>8360 rows × 2 columns</p>\n",
              "</div>"
            ],
            "text/plain": [
              "       MemberID       DIH\n",
              "16        20072  2.963246\n",
              "22        28243  2.604812\n",
              "24        32491  4.520432\n",
              "27        42395  2.576855\n",
              "34        55920  3.435456\n",
              "...         ...       ...\n",
              "66977  99926212  3.109424\n",
              "66991  99941797  3.092237\n",
              "67011  99966197  2.006043\n",
              "67017  99973127  3.053945\n",
              "67019  99977491  3.764148\n",
              "\n",
              "[8360 rows x 2 columns]"
            ]
          },
          "metadata": {
            "tags": []
          },
          "execution_count": 53
        }
      ]
    },
    {
      "cell_type": "code",
      "metadata": {
        "colab": {
          "base_uri": "https://localhost:8080/",
          "height": 160
        },
        "id": "wiD02cHS2HEB",
        "outputId": "283288a9-e301-47cb-de73-5e1a4a328367"
      },
      "source": [
        "dataY2_df[dataY2_df['MemberID']==\t99977491]"
      ],
      "execution_count": 54,
      "outputs": [
        {
          "output_type": "execute_result",
          "data": {
            "text/html": [
              "<div>\n",
              "<style scoped>\n",
              "    .dataframe tbody tr th:only-of-type {\n",
              "        vertical-align: middle;\n",
              "    }\n",
              "\n",
              "    .dataframe tbody tr th {\n",
              "        vertical-align: top;\n",
              "    }\n",
              "\n",
              "    .dataframe thead th {\n",
              "        text-align: right;\n",
              "    }\n",
              "</style>\n",
              "<table border=\"1\" class=\"dataframe\">\n",
              "  <thead>\n",
              "    <tr style=\"text-align: right;\">\n",
              "      <th></th>\n",
              "      <th>MemberID</th>\n",
              "      <th>AgeAtFirstClaim</th>\n",
              "      <th>Male</th>\n",
              "      <th>Female</th>\n",
              "      <th>Unknown</th>\n",
              "      <th>no_Claims</th>\n",
              "      <th>no_Providers</th>\n",
              "      <th>no_Specialties</th>\n",
              "      <th>no_PCG</th>\n",
              "      <th>no_Procedure</th>\n",
              "      <th>sum_PayDelay</th>\n",
              "      <th>sum_LOS</th>\n",
              "      <th>Specialty_Anesthesiology</th>\n",
              "      <th>Specialty_Diagnostic Imaging</th>\n",
              "      <th>Specialty_Emergency</th>\n",
              "      <th>Specialty_General Practice</th>\n",
              "      <th>Specialty_Internal</th>\n",
              "      <th>Specialty_Laboratory</th>\n",
              "      <th>Specialty_Obstetrics and Gynecology</th>\n",
              "      <th>Specialty_Other</th>\n",
              "      <th>Specialty_Pathology</th>\n",
              "      <th>Specialty_Pediatrics</th>\n",
              "      <th>Specialty_Rehabilitation</th>\n",
              "      <th>Specialty_Surgery</th>\n",
              "      <th>Place_Ambulance</th>\n",
              "      <th>Place_Home</th>\n",
              "      <th>Place_Independent Lab</th>\n",
              "      <th>Place_Inpatient Hospital</th>\n",
              "      <th>Place_Office</th>\n",
              "      <th>Place_Other</th>\n",
              "      <th>Place_Outpatient Hospital</th>\n",
              "      <th>Place_Urgent Care</th>\n",
              "      <th>DSFS_0- 1 month</th>\n",
              "      <th>DSFS_1- 2 months</th>\n",
              "      <th>DSFS_10-11 months</th>\n",
              "      <th>DSFS_11-12 months</th>\n",
              "      <th>DSFS_2- 3 months</th>\n",
              "      <th>DSFS_3- 4 months</th>\n",
              "      <th>DSFS_4- 5 months</th>\n",
              "      <th>DSFS_5- 6 months</th>\n",
              "      <th>...</th>\n",
              "      <th>PCG_PERVALV</th>\n",
              "      <th>PCG_PNCRDZ</th>\n",
              "      <th>PCG_PNEUM</th>\n",
              "      <th>PCG_PRGNCY</th>\n",
              "      <th>PCG_RENAL1</th>\n",
              "      <th>PCG_RENAL2</th>\n",
              "      <th>PCG_RENAL3</th>\n",
              "      <th>PCG_RESPR4</th>\n",
              "      <th>PCG_ROAMI</th>\n",
              "      <th>PCG_SEIZURE</th>\n",
              "      <th>PCG_SEPSIS</th>\n",
              "      <th>PCG_SKNAUT</th>\n",
              "      <th>PCG_STROKE</th>\n",
              "      <th>PCG_TRAUMA</th>\n",
              "      <th>PCG_UTI</th>\n",
              "      <th>Charlson_0</th>\n",
              "      <th>Charlson_1-2</th>\n",
              "      <th>Charlson_3-4</th>\n",
              "      <th>Charlson_5+</th>\n",
              "      <th>Procedure_ANES</th>\n",
              "      <th>Procedure_EM</th>\n",
              "      <th>Procedure_MED</th>\n",
              "      <th>Procedure_PL</th>\n",
              "      <th>Procedure_RAD</th>\n",
              "      <th>Procedure_SAS</th>\n",
              "      <th>Procedure_SCS</th>\n",
              "      <th>Procedure_SDS</th>\n",
              "      <th>Procedure_SEOA</th>\n",
              "      <th>Procedure_SGS</th>\n",
              "      <th>Procedure_SIS</th>\n",
              "      <th>Procedure_SMCD</th>\n",
              "      <th>Procedure_SMS</th>\n",
              "      <th>Procedure_SNS</th>\n",
              "      <th>Procedure_SO</th>\n",
              "      <th>Procedure_SRS</th>\n",
              "      <th>Procedure_SUS</th>\n",
              "      <th>DrugSum</th>\n",
              "      <th>LabSum</th>\n",
              "      <th>TARGET</th>\n",
              "      <th>CLASS</th>\n",
              "    </tr>\n",
              "  </thead>\n",
              "  <tbody>\n",
              "    <tr>\n",
              "      <th>67019</th>\n",
              "      <td>99977491</td>\n",
              "      <td>65</td>\n",
              "      <td>0</td>\n",
              "      <td>1</td>\n",
              "      <td>0</td>\n",
              "      <td>6</td>\n",
              "      <td>2</td>\n",
              "      <td>1</td>\n",
              "      <td>3</td>\n",
              "      <td>2</td>\n",
              "      <td>235</td>\n",
              "      <td>0</td>\n",
              "      <td>0</td>\n",
              "      <td>0</td>\n",
              "      <td>0</td>\n",
              "      <td>0</td>\n",
              "      <td>6</td>\n",
              "      <td>0</td>\n",
              "      <td>0</td>\n",
              "      <td>0</td>\n",
              "      <td>0</td>\n",
              "      <td>0</td>\n",
              "      <td>0</td>\n",
              "      <td>0</td>\n",
              "      <td>0</td>\n",
              "      <td>0</td>\n",
              "      <td>0</td>\n",
              "      <td>0</td>\n",
              "      <td>6</td>\n",
              "      <td>0</td>\n",
              "      <td>0</td>\n",
              "      <td>0</td>\n",
              "      <td>5</td>\n",
              "      <td>0</td>\n",
              "      <td>0</td>\n",
              "      <td>0</td>\n",
              "      <td>1</td>\n",
              "      <td>0</td>\n",
              "      <td>0</td>\n",
              "      <td>0</td>\n",
              "      <td>...</td>\n",
              "      <td>0</td>\n",
              "      <td>0</td>\n",
              "      <td>0</td>\n",
              "      <td>0</td>\n",
              "      <td>0</td>\n",
              "      <td>0</td>\n",
              "      <td>0</td>\n",
              "      <td>0</td>\n",
              "      <td>0</td>\n",
              "      <td>0</td>\n",
              "      <td>0</td>\n",
              "      <td>1</td>\n",
              "      <td>1</td>\n",
              "      <td>0</td>\n",
              "      <td>0</td>\n",
              "      <td>3</td>\n",
              "      <td>3</td>\n",
              "      <td>0</td>\n",
              "      <td>0</td>\n",
              "      <td>0</td>\n",
              "      <td>4</td>\n",
              "      <td>0</td>\n",
              "      <td>0</td>\n",
              "      <td>0</td>\n",
              "      <td>0</td>\n",
              "      <td>0</td>\n",
              "      <td>0</td>\n",
              "      <td>0</td>\n",
              "      <td>0</td>\n",
              "      <td>2</td>\n",
              "      <td>0</td>\n",
              "      <td>0</td>\n",
              "      <td>0</td>\n",
              "      <td>0</td>\n",
              "      <td>0</td>\n",
              "      <td>0</td>\n",
              "      <td>24</td>\n",
              "      <td>0</td>\n",
              "      <td>3</td>\n",
              "      <td>1</td>\n",
              "    </tr>\n",
              "  </tbody>\n",
              "</table>\n",
              "<p>1 rows × 114 columns</p>\n",
              "</div>"
            ],
            "text/plain": [
              "       MemberID  AgeAtFirstClaim  Male  Female  ...  DrugSum  LabSum  TARGET  CLASS\n",
              "67019  99977491               65     0       1  ...       24       0       3      1\n",
              "\n",
              "[1 rows x 114 columns]"
            ]
          },
          "metadata": {
            "tags": []
          },
          "execution_count": 54
        }
      ]
    }
  ]
}
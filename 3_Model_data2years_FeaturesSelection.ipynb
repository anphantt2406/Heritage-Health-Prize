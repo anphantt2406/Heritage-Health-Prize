{
  "nbformat": 4,
  "nbformat_minor": 0,
  "metadata": {
    "colab": {
      "name": "3_Model_data2years_FeaturesSelection.ipynb",
      "provenance": [],
      "collapsed_sections": [
        "S-JF0vVffnbR",
        "5pnD4X7jfrRS"
      ],
      "authorship_tag": "ABX9TyNODZIwrsbZdeV+XYQCRiAi",
      "include_colab_link": true
    },
    "kernelspec": {
      "display_name": "Python 3",
      "name": "python3"
    }
  },
  "cells": [
    {
      "cell_type": "markdown",
      "metadata": {
        "id": "view-in-github",
        "colab_type": "text"
      },
      "source": [
        "<a href=\"https://colab.research.google.com/github/anphantt2406/Heritage-Health-Prize/blob/main/3_Model_data2years_FeaturesSelection.ipynb\" target=\"_parent\"><img src=\"https://colab.research.google.com/assets/colab-badge.svg\" alt=\"Open In Colab\"/></a>"
      ]
    },
    {
      "cell_type": "code",
      "metadata": {
        "colab": {
          "base_uri": "https://localhost:8080/"
        },
        "id": "JTp1IHuy_n9Y",
        "outputId": "36f402fc-45d8-4b4d-f43c-c80c2ce3e365"
      },
      "source": [
        "from google.colab import drive\r\n",
        "drive.mount('/content/drive')\r\n",
        "%cd /content/drive/My Drive/HHP_release3/new_data"
      ],
      "execution_count": 1,
      "outputs": [
        {
          "output_type": "stream",
          "text": [
            "Drive already mounted at /content/drive; to attempt to forcibly remount, call drive.mount(\"/content/drive\", force_remount=True).\n",
            "/content/drive/My Drive/HHP_release3/new_data\n"
          ],
          "name": "stdout"
        }
      ]
    },
    {
      "cell_type": "markdown",
      "metadata": {
        "id": "S-JF0vVffnbR"
      },
      "source": [
        "#Import Library"
      ]
    },
    {
      "cell_type": "code",
      "metadata": {
        "id": "MBhQiO2v3hQM"
      },
      "source": [
        "import glob\n",
        "import math\n",
        "import pandas as pd\n",
        "import numpy as np\n",
        "import xgboost\n",
        "from sklearn.linear_model import LinearRegression, LogisticRegression, Lasso, Ridge, SGDRegressor\n",
        "from sklearn.metrics import mean_squared_error, r2_score, classification_report, roc_auc_score, plot_roc_curve\n",
        "import matplotlib.pyplot as plt\n",
        "import matplotlib.patches as mpatches\n",
        "from sklearn.model_selection import train_test_split, GridSearchCV\n",
        "from keras.layers import Dense, Activation\n",
        "from keras.models import Sequential\n",
        "from sklearn.neural_network import MLPRegressor\n",
        "from sklearn import datasets, ensemble\n",
        "from sklearn.datasets import make_regression\n",
        "\n",
        "import seaborn as sns # Library for plotting\n",
        "color = sns.color_palette()\n",
        "sns.set_style('darkgrid')\n",
        "from sklearn.svm import SVR\n",
        "from sklearn.metrics import confusion_matrix"
      ],
      "execution_count": 2,
      "outputs": []
    },
    {
      "cell_type": "markdown",
      "metadata": {
        "id": "5pnD4X7jfrRS"
      },
      "source": [
        "#Define some needed function\r\n",
        "\r\n",
        "Predictions are evaluated using root mean squared logarithmic error, referred to henceforth as RMSLE.\r\n",
        "\r\n",
        "$$\\varepsilon = \\sqrt{\\frac{1}{n}\\sum_{i=1}^{n}\\left(log(p_i+1) - log(a_i+1)^2 \\right )}$$\r\n",
        "\r\n",
        "Where:\r\n",
        "\r\n",
        "\r\n",
        "\r\n",
        "*   $i$ is a patient's unique MemberID\r\n",
        "*   $n$ is the total number of patients\r\n",
        "*   $p_i$ is the prediction made for patient $i$\r\n",
        "*   $a_i$ is the actual number of days spent in the hospital by patient $i$\r\n",
        "\r\n",
        "\r\n",
        "\r\n"
      ]
    },
    {
      "cell_type": "code",
      "metadata": {
        "id": "L75u6E2x3uHu"
      },
      "source": [
        "def RMSLE_cal(pred, actu, name=None):\n",
        "    RMSLE = round(np.sqrt(((np.log(pred + 1) - np.log(actu + 1)) ** 2).sum() / actu.shape[0]), 6).item()\n",
        "    print('RMSLE', name, ':', RMSLE)"
      ],
      "execution_count": 3,
      "outputs": []
    },
    {
      "cell_type": "code",
      "metadata": {
        "id": "PnabKSiS3xex"
      },
      "source": [
        "def rmsle(pred, dtrain):\n",
        "    \"\"\"Used for stacked in Xgboost\n",
        "    \"\"\"\n",
        "    actu = dtrain.get_label()\n",
        "    RMSLE = round(np.sqrt(((np.log(pred + 1) - np.log(actu + 1)) ** 2).sum() / actu.shape[0]), 6).item()\n",
        "    return 'RMSLE', RMSLE"
      ],
      "execution_count": 4,
      "outputs": []
    },
    {
      "cell_type": "code",
      "metadata": {
        "id": "EmhapNDRQnoC"
      },
      "source": [
        "def eval(model, X_test, y_test, name = None):\n",
        "    pred_y = model.predict(X_test) # your predicted y values\n",
        "    # The root mean square logarithmic error\n",
        "    pred_y = pred_y.clip(min=0)\n",
        "    pred_y = pred_y.clip(max=15)\n",
        "    pred_y = pred_y.round(0).astype(int)\n",
        "    msle = np.mean( (np.log(pred_y + 1) - np.log(y_test + 1)) ** 2)\n",
        "    rmsle = math.sqrt(msle)\n",
        "    from sklearn.metrics import r2_score\n",
        "    r2 = r2_score(y_test,pred_y)\n",
        "    from sklearn.metrics import mean_squared_log_error\n",
        "    err = math.sqrt(mean_squared_log_error(y_test,pred_y))\n",
        "    print(\"RMSLE of\", name, \": %.4f\" %rmsle)\n",
        "    print(\"R2 value of\", name, \": %.4f\" %r2)\n",
        "    print(\"Err value of\", name, \": %.4f\" %err)"
      ],
      "execution_count": 5,
      "outputs": []
    },
    {
      "cell_type": "code",
      "metadata": {
        "id": "doF_jqmfbcwG"
      },
      "source": [
        "def plotResult(results, cv=None):\n",
        "    fig, ax = plt.subplots()\n",
        "    if cv:\n",
        "        ax.plot(range(results.shape[0]), results['train-RMSLE-mean'])\n",
        "        ax.plot(range(results.shape[0]), results['test-RMSLE-mean'])\n",
        "    else:\n",
        "        ax.plot(range(len(results['train']['RMSLE'])), results['train']['RMSLE'])\n",
        "        ax.plot(range(len(results['test']['RMSLE'])), results['test']['RMSLE'])\n",
        "        \n",
        "    ax.set(xlabel='Boost round', ylabel='RMSLE', title='Train/Test RMSLE')\n",
        "    ax.grid()\n",
        "\n",
        "    train_patch = mpatches.Patch(color='blue', label='Train')\n",
        "    test_patch = mpatches.Patch(color='orange', label='Test')\n",
        "\n",
        "    plt.legend(handles=[train_patch, test_patch])\n",
        "    plt.show()"
      ],
      "execution_count": 6,
      "outputs": []
    },
    {
      "cell_type": "markdown",
      "metadata": {
        "id": "riX7ZDSQf1e2"
      },
      "source": [
        "#Prepare data for training and testing\r\n",
        "\r\n",
        "In this notebook, we use Claims data in Year 1 for training and validation, Claims data in Year 2 for testing."
      ]
    },
    {
      "cell_type": "code",
      "metadata": {
        "id": "pLaCH9vD5rFl"
      },
      "source": [
        "data = pd.read_csv('data2years.csv')"
      ],
      "execution_count": 7,
      "outputs": []
    },
    {
      "cell_type": "code",
      "metadata": {
        "id": "heQgIzEGcAwC"
      },
      "source": [
        "data = data[['MemberID',\r\n",
        " 'AgeAtFirstClaim',\r\n",
        " 'Unknown',\r\n",
        " 'no_Claims',\r\n",
        " 'no_Providers',\r\n",
        " 'no_Specialties',\r\n",
        " 'no_PCG',\r\n",
        " 'no_Procedure',\r\n",
        " 'sum_PayDelay',\r\n",
        " 'Specialty_Diagnostic Imaging',\r\n",
        " 'Specialty_Emergency',\r\n",
        " 'Specialty_Internal',\r\n",
        " 'Specialty_Laboratory',\r\n",
        " 'Place_Inpatient Hospital',\r\n",
        " 'Place_Office',\r\n",
        " 'Place_Urgent Care',\r\n",
        " 'DSFS_10-11 months',\r\n",
        " 'DSFS_6- 7 months',\r\n",
        " 'DSFS_7- 8 months',\r\n",
        " 'DSFS_8- 9 months',\r\n",
        " 'Charlson_1-2',\r\n",
        " 'Procedure_EM',\r\n",
        " 'Procedure_MED',\r\n",
        " 'Procedure_RAD',\r\n",
        " 'DrugSum',\r\n",
        " 'LabSum',\r\n",
        " 'TARGET']]"
      ],
      "execution_count": 8,
      "outputs": []
    },
    {
      "cell_type": "code",
      "metadata": {
        "id": "Eefb1A935rF3"
      },
      "source": [
        "y = data['TARGET']\r\n",
        "X = data.drop(['TARGET'], axis = 1)\r\n",
        "\r\n",
        "X_train, X_test, y_train, y_test = train_test_split(X, y, test_size = 0.25)"
      ],
      "execution_count": 9,
      "outputs": []
    },
    {
      "cell_type": "code",
      "metadata": {
        "id": "K9Z4wQU85rF4"
      },
      "source": [
        "from sklearn.preprocessing import StandardScaler\r\n",
        "scaler = StandardScaler()\r\n",
        "# Fit only to the training data\r\n",
        "scaler.fit(X_train)\r\n",
        "X_train = scaler.transform(X_train)\r\n",
        "X_test = scaler.transform(X_test)"
      ],
      "execution_count": 10,
      "outputs": []
    },
    {
      "cell_type": "markdown",
      "metadata": {
        "id": "5_Dy67txiTSk"
      },
      "source": [
        "# Regression"
      ]
    },
    {
      "cell_type": "markdown",
      "metadata": {
        "id": "_fN4E2PSfi7P"
      },
      "source": [
        "## MODEL 1: Linear Regression"
      ]
    },
    {
      "cell_type": "code",
      "metadata": {
        "colab": {
          "base_uri": "https://localhost:8080/",
          "height": 621
        },
        "id": "Fyj-evy7Hx4U",
        "outputId": "36868763-e953-414c-958d-4a349082f1b8"
      },
      "source": [
        "# Create linear regression object\r\n",
        "model_1 = LinearRegression()\r\n",
        "# Train the model using the training sets\r\n",
        "model_1.fit(X_train, y_train)\r\n",
        "# Predict on Test set\r\n",
        "y_pred_1 = model_1.predict(X_test)\r\n",
        "\r\n",
        "plt.figure(figsize = (15,10))\r\n",
        "plt.scatter(y_pred_1, y_test, alpha=.2, s = 60, color='r') #alpha helps to show overlapping data\r\n",
        "plt.xlabel('DIH prediction')\r\n",
        "plt.ylabel('Actual DIH')\r\n",
        "plt.title('Linear Regression Model')\r\n",
        "plt.show()"
      ],
      "execution_count": 11,
      "outputs": [
        {
          "output_type": "display_data",
          "data": {
            "image/png": "[encoded data removed]",
            "text/plain": [
              "<Figure size 1080x720 with 1 Axes>"
            ]
          },
          "metadata": {
            "tags": []
          }
        }
      ]
    },
    {
      "cell_type": "markdown",
      "metadata": {
        "id": "KdHMn2Wo3heF"
      },
      "source": [
        "## MODEL 2: Stochastic Gradient Descent"
      ]
    },
    {
      "cell_type": "code",
      "metadata": {
        "colab": {
          "base_uri": "https://localhost:8080/"
        },
        "id": "VviJ28km1SLZ",
        "outputId": "f2bcf922-74b9-4e9c-9db9-3fe165601bce"
      },
      "source": [
        "from sklearn.linear_model import SGDRegressor\r\n",
        "\r\n",
        "model_2 = SGDRegressor(max_iter=3000, tol=1e-1)\r\n",
        "model_2.fit(X_train, y_train)\r\n",
        "eval(model_2, X_train, y_train, 'Stochastic Gradient Descent')"
      ],
      "execution_count": 12,
      "outputs": [
        {
          "output_type": "stream",
          "text": [
            "RMSLE of Stochastic Gradient Descent : 0.5231\n",
            "R2 value of Stochastic Gradient Descent : 0.0244\n",
            "Err value of Stochastic Gradient Descent : 0.5231\n"
          ],
          "name": "stdout"
        }
      ]
    },
    {
      "cell_type": "code",
      "metadata": {
        "colab": {
          "base_uri": "https://localhost:8080/"
        },
        "id": "LzG6l6Y1Es2r",
        "outputId": "143b802a-7178-43ae-b82f-341615b05097"
      },
      "source": [
        "model_2i = Lasso(alpha=0.001, copy_X=True, fit_intercept=True, max_iter=5000,\r\n",
        "     normalize=False, positive=False, precompute=False, random_state=None,\r\n",
        "     selection='cyclic', tol=0.0001, warm_start=False)\r\n",
        "model_2i.fit(X_train, y_train)\r\n",
        "eval(model_2i, X_train, y_train, 'Lasso regression')"
      ],
      "execution_count": 13,
      "outputs": [
        {
          "output_type": "stream",
          "text": [
            "RMSLE of Lasso regression : 0.5138\n",
            "R2 value of Lasso regression : 0.0300\n",
            "Err value of Lasso regression : 0.5138\n"
          ],
          "name": "stdout"
        }
      ]
    },
    {
      "cell_type": "markdown",
      "metadata": {
        "id": "74HgPgHvfaKT"
      },
      "source": [
        "##MODEL 3: Neural Network"
      ]
    },
    {
      "cell_type": "code",
      "metadata": {
        "id": "RVCA7wgHlj9Y"
      },
      "source": [
        "#(i) Neural Network with default hyperparameters\r\n",
        "model_3i = MLPRegressor(random_state=1, max_iter=500).fit(X_train, y_train)"
      ],
      "execution_count": 14,
      "outputs": []
    },
    {
      "cell_type": "code",
      "metadata": {
        "id": "e1WcOea9Qr4G",
        "colab": {
          "base_uri": "https://localhost:8080/"
        },
        "outputId": "52d915ef-33ce-49e7-b91f-1b34c712730a"
      },
      "source": [
        "#(ii) random hyperparameter\n",
        "model_3ii = MLPRegressor(activation='relu', alpha=0.0001, batch_size='auto', beta_1=0.9,\n",
        "        beta_2=0.999, early_stopping=False, epsilon=1e-08,\n",
        "        hidden_layer_sizes=7, learning_rate='adaptive',\n",
        "        learning_rate_init=0.001, max_iter=3000, momentum=0.9,\n",
        "        nesterovs_momentum=True, power_t=0.5, random_state=None,\n",
        "        shuffle=True, solver='adam', tol=0.0001, validation_fraction=0.1,\n",
        "        verbose=1, warm_start=False)\n",
        "\n",
        "model_3ii.fit(X_train, y_train)"
      ],
      "execution_count": 15,
      "outputs": [
        {
          "output_type": "stream",
          "text": [
            "Iteration 1, loss = 1.31647611\n",
            "Iteration 2, loss = 1.15145724\n",
            "Iteration 3, loss = 1.13403527\n",
            "Iteration 4, loss = 1.12457287\n",
            "Iteration 5, loss = 1.11894440\n",
            "Iteration 6, loss = 1.11580796\n",
            "Iteration 7, loss = 1.11319407\n",
            "Iteration 8, loss = 1.11179371\n",
            "Iteration 9, loss = 1.11016566\n",
            "Iteration 10, loss = 1.10936475\n",
            "Iteration 11, loss = 1.10851637\n",
            "Iteration 12, loss = 1.10767344\n",
            "Iteration 13, loss = 1.10735170\n",
            "Iteration 14, loss = 1.10689446\n",
            "Iteration 15, loss = 1.10638133\n",
            "Iteration 16, loss = 1.10568401\n",
            "Iteration 17, loss = 1.10529072\n",
            "Iteration 18, loss = 1.10503475\n",
            "Iteration 19, loss = 1.10478706\n",
            "Iteration 20, loss = 1.10468729\n",
            "Iteration 21, loss = 1.10405251\n",
            "Iteration 22, loss = 1.10392363\n",
            "Iteration 23, loss = 1.10363357\n",
            "Iteration 24, loss = 1.10346408\n",
            "Iteration 25, loss = 1.10348881\n",
            "Iteration 26, loss = 1.10315998\n",
            "Iteration 27, loss = 1.10265986\n",
            "Iteration 28, loss = 1.10239050\n",
            "Iteration 29, loss = 1.10182799\n",
            "Iteration 30, loss = 1.10185897\n",
            "Iteration 31, loss = 1.10181482\n",
            "Iteration 32, loss = 1.10150429\n",
            "Iteration 33, loss = 1.10138658\n",
            "Iteration 34, loss = 1.10087582\n",
            "Iteration 35, loss = 1.10076462\n",
            "Iteration 36, loss = 1.10053385\n",
            "Iteration 37, loss = 1.10108935\n",
            "Iteration 38, loss = 1.10012551\n",
            "Iteration 39, loss = 1.10011044\n",
            "Iteration 40, loss = 1.09981565\n",
            "Iteration 41, loss = 1.09943297\n",
            "Iteration 42, loss = 1.09920090\n",
            "Iteration 43, loss = 1.09890440\n",
            "Iteration 44, loss = 1.09874328\n",
            "Iteration 45, loss = 1.09877381\n",
            "Iteration 46, loss = 1.09872259\n",
            "Iteration 47, loss = 1.09795011\n",
            "Iteration 48, loss = 1.09841541\n",
            "Iteration 49, loss = 1.09805264\n",
            "Iteration 50, loss = 1.09786638\n",
            "Iteration 51, loss = 1.09801909\n",
            "Iteration 52, loss = 1.09756608\n",
            "Iteration 53, loss = 1.09761991\n",
            "Iteration 54, loss = 1.09750353\n",
            "Iteration 55, loss = 1.09713743\n",
            "Iteration 56, loss = 1.09664231\n",
            "Iteration 57, loss = 1.09731164\n",
            "Iteration 58, loss = 1.09677509\n",
            "Iteration 59, loss = 1.09700238\n",
            "Iteration 60, loss = 1.09636718\n",
            "Iteration 61, loss = 1.09653483\n",
            "Iteration 62, loss = 1.09621382\n",
            "Iteration 63, loss = 1.09628164\n",
            "Iteration 64, loss = 1.09652869\n",
            "Iteration 65, loss = 1.09563364\n",
            "Iteration 66, loss = 1.09601662\n",
            "Iteration 67, loss = 1.09626132\n",
            "Iteration 68, loss = 1.09550701\n",
            "Iteration 69, loss = 1.09605043\n",
            "Iteration 70, loss = 1.09568266\n",
            "Iteration 71, loss = 1.09541699\n",
            "Iteration 72, loss = 1.09532817\n",
            "Iteration 73, loss = 1.09559701\n",
            "Iteration 74, loss = 1.09558842\n",
            "Iteration 75, loss = 1.09548392\n",
            "Iteration 76, loss = 1.09552691\n",
            "Iteration 77, loss = 1.09508409\n",
            "Iteration 78, loss = 1.09478685\n",
            "Iteration 79, loss = 1.09450230\n",
            "Iteration 80, loss = 1.09442470\n",
            "Iteration 81, loss = 1.09404875\n",
            "Iteration 82, loss = 1.09456036\n",
            "Iteration 83, loss = 1.09427176\n",
            "Iteration 84, loss = 1.09429889\n",
            "Iteration 85, loss = 1.09418827\n",
            "Iteration 86, loss = 1.09423704\n",
            "Iteration 87, loss = 1.09419407\n",
            "Iteration 88, loss = 1.09332833\n",
            "Iteration 89, loss = 1.09430285\n",
            "Iteration 90, loss = 1.09338379\n",
            "Iteration 91, loss = 1.09384405\n",
            "Iteration 92, loss = 1.09322672\n",
            "Iteration 93, loss = 1.09337062\n",
            "Iteration 94, loss = 1.09342566\n",
            "Iteration 95, loss = 1.09311643\n",
            "Iteration 96, loss = 1.09325464\n",
            "Iteration 97, loss = 1.09333123\n",
            "Iteration 98, loss = 1.09314421\n",
            "Iteration 99, loss = 1.09314272\n",
            "Iteration 100, loss = 1.09322006\n",
            "Iteration 101, loss = 1.09297218\n",
            "Iteration 102, loss = 1.09295805\n",
            "Iteration 103, loss = 1.09242696\n",
            "Iteration 104, loss = 1.09280180\n",
            "Iteration 105, loss = 1.09287120\n",
            "Iteration 106, loss = 1.09235320\n",
            "Iteration 107, loss = 1.09274572\n",
            "Iteration 108, loss = 1.09235134\n",
            "Iteration 109, loss = 1.09235031\n",
            "Iteration 110, loss = 1.09205536\n",
            "Iteration 111, loss = 1.09222846\n",
            "Iteration 112, loss = 1.09234812\n",
            "Iteration 113, loss = 1.09195553\n",
            "Iteration 114, loss = 1.09223473\n",
            "Iteration 115, loss = 1.09180738\n",
            "Iteration 116, loss = 1.09213914\n",
            "Iteration 117, loss = 1.09201052\n",
            "Iteration 118, loss = 1.09172480\n",
            "Iteration 119, loss = 1.09154568\n",
            "Iteration 120, loss = 1.09169821\n",
            "Iteration 121, loss = 1.09182565\n",
            "Iteration 122, loss = 1.09127381\n",
            "Iteration 123, loss = 1.09161480\n",
            "Iteration 124, loss = 1.09154165\n",
            "Iteration 125, loss = 1.09154515\n",
            "Iteration 126, loss = 1.09172621\n",
            "Iteration 127, loss = 1.09105079\n",
            "Iteration 128, loss = 1.09095028\n",
            "Iteration 129, loss = 1.09085612\n",
            "Iteration 130, loss = 1.09099613\n",
            "Iteration 131, loss = 1.09171062\n",
            "Iteration 132, loss = 1.09089761\n",
            "Iteration 133, loss = 1.09102106\n",
            "Iteration 134, loss = 1.09124680\n",
            "Iteration 135, loss = 1.09084118\n",
            "Iteration 136, loss = 1.09142237\n",
            "Iteration 137, loss = 1.09083376\n",
            "Iteration 138, loss = 1.09089807\n",
            "Iteration 139, loss = 1.09087092\n",
            "Training loss did not improve more than tol=0.000100 for 10 consecutive epochs. Stopping.\n"
          ],
          "name": "stdout"
        },
        {
          "output_type": "execute_result",
          "data": {
            "text/plain": [
              "MLPRegressor(activation='relu', alpha=0.0001, batch_size='auto', beta_1=0.9,\n",
              "             beta_2=0.999, early_stopping=False, epsilon=1e-08,\n",
              "             hidden_layer_sizes=7, learning_rate='adaptive',\n",
              "             learning_rate_init=0.001, max_fun=15000, max_iter=3000,\n",
              "             momentum=0.9, n_iter_no_change=10, nesterovs_momentum=True,\n",
              "             power_t=0.5, random_state=None, shuffle=True, solver='adam',\n",
              "             tol=0.0001, validation_fraction=0.1, verbose=1, warm_start=False)"
            ]
          },
          "metadata": {
            "tags": []
          },
          "execution_count": 15
        }
      ]
    },
    {
      "cell_type": "markdown",
      "metadata": {
        "id": "BRabSrujJ44t"
      },
      "source": [
        "**Hyperparameter Optimization using Grid Search**"
      ]
    },
    {
      "cell_type": "code",
      "metadata": {
        "id": "uBfOkQNpeO2n"
      },
      "source": [
        "#parameter_grid = {'hidden_layer_sizes': [i for i in range(1,10)],\r\n",
        "#                  'activation': ['tanh', 'relu'],\r\n",
        "#                  'solver': ['sgd','adam'],\r\n",
        "#                  'learning_rate': ['constant'],\r\n",
        "#                  'learning_rate_init': [0.001],\r\n",
        "#                  'alpha': [0.0001],\r\n",
        "#                  'max_iter': [1000],}\r\n",
        "\r\n",
        "#rgr = GridSearchCV(MLPRegressor(), parameter_grid,\r\n",
        "#                   cv = 5, verbose=True, pre_dispatch='2*n_jobs')\r\n",
        "#rgr.fit(X_train, y_train)\r\n",
        "\r\n",
        "#train_mse = mean_squared_error(y_train, rgr.predict(X_train))"
      ],
      "execution_count": 16,
      "outputs": []
    },
    {
      "cell_type": "code",
      "metadata": {
        "id": "1oEt8fBDUNS6"
      },
      "source": [
        "#test_mse = mean_squared_error(y_test, rgr.predict(X_test))\r\n",
        "\r\n",
        "#print(rgr.best_params_)\r\n",
        "#print(rgr.best_score_)\r\n",
        "#print(\"Train MSE:\", np.round(train_mse,2))\r\n",
        "#print(\"Test MSE:\", np.round(test_mse,2))"
      ],
      "execution_count": 17,
      "outputs": []
    },
    {
      "cell_type": "code",
      "metadata": {
        "colab": {
          "base_uri": "https://localhost:8080/"
        },
        "id": "-rFUO9A92R8T",
        "outputId": "9cdde4ef-3529-49d8-9ac0-c31b22215966"
      },
      "source": [
        "from sklearn.neural_network import MLPRegressor\n",
        "\n",
        "model_3 = MLPRegressor(activation='relu', alpha=0.0001, batch_size='auto', beta_1=0.9,\n",
        "        beta_2=0.999, early_stopping=False, epsilon=1e-08,\n",
        "        hidden_layer_sizes=2, learning_rate='constant',\n",
        "        learning_rate_init=0.001, max_iter=1000, momentum=0.9,\n",
        "        nesterovs_momentum=True, power_t=0.5, random_state=None,\n",
        "        shuffle=True, solver='sgd', tol=0.0001, validation_fraction=0.1,\n",
        "        verbose=1, warm_start=False)\n",
        "\n",
        "model_3.fit(X_train, y_train)"
      ],
      "execution_count": 18,
      "outputs": [
        {
          "output_type": "stream",
          "text": [
            "Iteration 1, loss = 1.23804757\n",
            "Iteration 2, loss = 1.18058195\n",
            "Iteration 3, loss = 1.16537304\n",
            "Iteration 4, loss = 1.15197697\n",
            "Iteration 5, loss = 1.14465684\n",
            "Iteration 6, loss = 1.13966641\n",
            "Iteration 7, loss = 1.13613135\n",
            "Iteration 8, loss = 1.13315100\n",
            "Iteration 9, loss = 1.13108087\n",
            "Iteration 10, loss = 1.12879594\n",
            "Iteration 11, loss = 1.12694158\n",
            "Iteration 12, loss = 1.12536735\n",
            "Iteration 13, loss = 1.12371609\n",
            "Iteration 14, loss = 1.12250031\n",
            "Iteration 15, loss = 1.12118346\n",
            "Iteration 16, loss = 1.12004734\n",
            "Iteration 17, loss = 1.11892593\n",
            "Iteration 18, loss = 1.11773170\n",
            "Iteration 19, loss = 1.11716626\n",
            "Iteration 20, loss = 1.11629176\n",
            "Iteration 21, loss = 1.11553298\n",
            "Iteration 22, loss = 1.11470554\n",
            "Iteration 23, loss = 1.11435522\n",
            "Iteration 24, loss = 1.11379316\n",
            "Iteration 25, loss = 1.11333749\n",
            "Iteration 26, loss = 1.11294138\n",
            "Iteration 27, loss = 1.11266862\n",
            "Iteration 28, loss = 1.11190575\n",
            "Iteration 29, loss = 1.11159847\n",
            "Iteration 30, loss = 1.11144181\n",
            "Iteration 31, loss = 1.11113376\n",
            "Iteration 32, loss = 1.11082205\n",
            "Iteration 33, loss = 1.11083668\n",
            "Iteration 34, loss = 1.11026944\n",
            "Iteration 35, loss = 1.11006700\n",
            "Iteration 36, loss = 1.10980189\n",
            "Iteration 37, loss = 1.10959132\n",
            "Iteration 38, loss = 1.10932293\n",
            "Iteration 39, loss = 1.10923523\n",
            "Iteration 40, loss = 1.10907083\n",
            "Iteration 41, loss = 1.10892375\n",
            "Iteration 42, loss = 1.10868011\n",
            "Iteration 43, loss = 1.10868521\n",
            "Iteration 44, loss = 1.10845636\n",
            "Iteration 45, loss = 1.10827152\n",
            "Iteration 46, loss = 1.10804685\n",
            "Iteration 47, loss = 1.10792529\n",
            "Iteration 48, loss = 1.10816845\n",
            "Iteration 49, loss = 1.10789750\n",
            "Iteration 50, loss = 1.10771553\n",
            "Iteration 51, loss = 1.10753133\n",
            "Iteration 52, loss = 1.10760522\n",
            "Iteration 53, loss = 1.10753042\n",
            "Iteration 54, loss = 1.10711031\n",
            "Iteration 55, loss = 1.10706612\n",
            "Iteration 56, loss = 1.10679930\n",
            "Iteration 57, loss = 1.10720666\n",
            "Iteration 58, loss = 1.10691342\n",
            "Iteration 59, loss = 1.10686465\n",
            "Iteration 60, loss = 1.10640023\n",
            "Iteration 61, loss = 1.10655789\n",
            "Iteration 62, loss = 1.10654505\n",
            "Iteration 63, loss = 1.10644459\n",
            "Iteration 64, loss = 1.10649153\n",
            "Iteration 65, loss = 1.10647324\n",
            "Iteration 66, loss = 1.10636601\n",
            "Iteration 67, loss = 1.10631881\n",
            "Iteration 68, loss = 1.10636515\n",
            "Iteration 69, loss = 1.10623143\n",
            "Iteration 70, loss = 1.10626208\n",
            "Iteration 71, loss = 1.10623251\n",
            "Training loss did not improve more than tol=0.000100 for 10 consecutive epochs. Stopping.\n"
          ],
          "name": "stdout"
        },
        {
          "output_type": "execute_result",
          "data": {
            "text/plain": [
              "MLPRegressor(activation='relu', alpha=0.0001, batch_size='auto', beta_1=0.9,\n",
              "             beta_2=0.999, early_stopping=False, epsilon=1e-08,\n",
              "             hidden_layer_sizes=2, learning_rate='constant',\n",
              "             learning_rate_init=0.001, max_fun=15000, max_iter=1000,\n",
              "             momentum=0.9, n_iter_no_change=10, nesterovs_momentum=True,\n",
              "             power_t=0.5, random_state=None, shuffle=True, solver='sgd',\n",
              "             tol=0.0001, validation_fraction=0.1, verbose=1, warm_start=False)"
            ]
          },
          "metadata": {
            "tags": []
          },
          "execution_count": 18
        }
      ]
    },
    {
      "cell_type": "markdown",
      "metadata": {
        "id": "eVUxzLr-bcw5"
      },
      "source": [
        "## MODEL 4: XGBoost -  Gradient Boost Linear Regression Function"
      ]
    },
    {
      "cell_type": "code",
      "metadata": {
        "colab": {
          "base_uri": "https://localhost:8080/"
        },
        "id": "hBJ42ntWeZxa",
        "outputId": "04302c5e-1127-4bf4-f59a-4cca2e03bd9d"
      },
      "source": [
        "reg = ensemble.GradientBoostingRegressor(n_estimators = 500,\r\n",
        "          max_depth = 4,\r\n",
        "          min_samples_split= 5,\r\n",
        "          learning_rate = 0.01,\r\n",
        "          loss = 'ls')\r\n",
        "reg.fit(X_train, y_train)"
      ],
      "execution_count": 19,
      "outputs": [
        {
          "output_type": "execute_result",
          "data": {
            "text/plain": [
              "GradientBoostingRegressor(alpha=0.9, ccp_alpha=0.0, criterion='friedman_mse',\n",
              "                          init=None, learning_rate=0.01, loss='ls', max_depth=4,\n",
              "                          max_features=None, max_leaf_nodes=None,\n",
              "                          min_impurity_decrease=0.0, min_impurity_split=None,\n",
              "                          min_samples_leaf=1, min_samples_split=5,\n",
              "                          min_weight_fraction_leaf=0.0, n_estimators=500,\n",
              "                          n_iter_no_change=None, presort='deprecated',\n",
              "                          random_state=None, subsample=1.0, tol=0.0001,\n",
              "                          validation_fraction=0.1, verbose=0, warm_start=False)"
            ]
          },
          "metadata": {
            "tags": []
          },
          "execution_count": 19
        }
      ]
    },
    {
      "cell_type": "code",
      "metadata": {
        "id": "RqkQIJJ6bcw8"
      },
      "source": [
        "# Set XGBoost DataMatrix\n",
        "dmatrix_train = xgboost.DMatrix(data=X_train,label=y_train)\n",
        "dmatrix_test = xgboost.DMatrix(data=X_test,label=y_test)"
      ],
      "execution_count": 20,
      "outputs": []
    },
    {
      "cell_type": "code",
      "metadata": {
        "id": "bvrLEOK4bcxA",
        "scrolled": true,
        "colab": {
          "base_uri": "https://localhost:8080/",
          "height": 1000
        },
        "outputId": "4a3c7cbb-60b8-42df-db18-4e14442aa6bf"
      },
      "source": [
        "# XGBoost\n",
        "params = {'objective': 'reg:linear', 'gamma': 0,\n",
        "          'subsample': 0.3, 'colsample_by*': 0.5, 'learning_rate': 0.1, 'max_depth': 15, 'lambda': 10,\n",
        "          'booster': 'gblinear'}\n",
        "xgb_results = {}\n",
        "xgb_model = xgboost.train(dtrain=dmatrix_train, params=params, evals_result=xgb_results,\n",
        "                          feval=rmsle, evals=[(dmatrix_test,'test'), (dmatrix_train,'train')], \n",
        "                          num_boost_round=500, early_stopping_rounds=5)\n",
        "\n",
        "plotResult(xgb_results, cv=False)\n",
        "print('RMSLE Train set:', xgb_results['train']['RMSLE'][-1])"
      ],
      "execution_count": 21,
      "outputs": [
        {
          "output_type": "stream",
          "text": [
            "[02:19:02] WARNING: /workspace/src/objective/regression_obj.cu:152: reg:linear is now deprecated in favor of reg:squarederror.\n",
            "[0]\ttest-rmse:1.50343\ttrain-rmse:1.53367\ttest-RMSLE:0.518161\ttrain-RMSLE:0.520269\n",
            "Multiple eval metrics have been passed: 'train-RMSLE' will be used for early stopping.\n",
            "\n",
            "Will train until train-RMSLE hasn't improved in 5 rounds.\n",
            "[1]\ttest-rmse:1.49847\ttrain-rmse:1.52862\ttest-RMSLE:0.513821\ttrain-RMSLE:0.515791\n",
            "[2]\ttest-rmse:1.4948\ttrain-rmse:1.52488\ttest-RMSLE:0.510532\ttrain-RMSLE:0.512387\n",
            "[3]\ttest-rmse:1.49206\ttrain-rmse:1.52207\ttest-RMSLE:0.507981\ttrain-RMSLE:0.509739\n",
            "[4]\ttest-rmse:1.48998\ttrain-rmse:1.51993\ttest-RMSLE:0.505957\ttrain-RMSLE:0.507637\n",
            "[5]\ttest-rmse:1.48839\ttrain-rmse:1.51829\ttest-RMSLE:0.504318\ttrain-RMSLE:0.505934\n",
            "[6]\ttest-rmse:1.48716\ttrain-rmse:1.51702\ttest-RMSLE:0.502967\ttrain-RMSLE:0.504531\n",
            "[7]\ttest-rmse:1.4862\ttrain-rmse:1.51602\ttest-RMSLE:0.501836\ttrain-RMSLE:0.503358\n",
            "[8]\ttest-rmse:1.48544\ttrain-rmse:1.51524\ttest-RMSLE:0.500876\ttrain-RMSLE:0.502363\n",
            "[9]\ttest-rmse:1.48484\ttrain-rmse:1.51462\ttest-RMSLE:0.500053\ttrain-RMSLE:0.501511\n",
            "[10]\ttest-rmse:1.48436\ttrain-rmse:1.51412\ttest-RMSLE:0.499339\ttrain-RMSLE:0.500775\n",
            "[11]\ttest-rmse:1.48397\ttrain-rmse:1.51372\ttest-RMSLE:0.498717\ttrain-RMSLE:0.500134\n",
            "[12]\ttest-rmse:1.48366\ttrain-rmse:1.51339\ttest-RMSLE:0.49817\ttrain-RMSLE:0.499572\n",
            "[13]\ttest-rmse:1.48341\ttrain-rmse:1.51313\ttest-RMSLE:0.497688\ttrain-RMSLE:0.499078\n",
            "[14]\ttest-rmse:1.4832\ttrain-rmse:1.51291\ttest-RMSLE:0.497262\ttrain-RMSLE:0.498641\n",
            "[15]\ttest-rmse:1.48303\ttrain-rmse:1.51273\ttest-RMSLE:0.496883\ttrain-RMSLE:0.498254\n",
            "[16]\ttest-rmse:1.48289\ttrain-rmse:1.51259\ttest-RMSLE:0.496546\ttrain-RMSLE:0.497911\n",
            "[17]\ttest-rmse:1.48277\ttrain-rmse:1.51247\ttest-RMSLE:0.496245\ttrain-RMSLE:0.497604\n",
            "[18]\ttest-rmse:1.48267\ttrain-rmse:1.51237\ttest-RMSLE:0.495977\ttrain-RMSLE:0.497332\n",
            "[19]\ttest-rmse:1.4826\ttrain-rmse:1.51229\ttest-RMSLE:0.495737\ttrain-RMSLE:0.497088\n",
            "[20]\ttest-rmse:1.48253\ttrain-rmse:1.51222\ttest-RMSLE:0.495522\ttrain-RMSLE:0.49687\n",
            "[21]\ttest-rmse:1.48247\ttrain-rmse:1.51216\ttest-RMSLE:0.49533\ttrain-RMSLE:0.496675\n",
            "[22]\ttest-rmse:1.48242\ttrain-rmse:1.51211\ttest-RMSLE:0.495158\ttrain-RMSLE:0.4965\n",
            "[23]\ttest-rmse:1.48238\ttrain-rmse:1.51207\ttest-RMSLE:0.495003\ttrain-RMSLE:0.496344\n",
            "[24]\ttest-rmse:1.48235\ttrain-rmse:1.51203\ttest-RMSLE:0.494864\ttrain-RMSLE:0.496204\n",
            "[25]\ttest-rmse:1.48232\ttrain-rmse:1.512\ttest-RMSLE:0.49474\ttrain-RMSLE:0.496078\n",
            "[26]\ttest-rmse:1.48229\ttrain-rmse:1.51198\ttest-RMSLE:0.494628\ttrain-RMSLE:0.495965\n",
            "[27]\ttest-rmse:1.48227\ttrain-rmse:1.51196\ttest-RMSLE:0.494528\ttrain-RMSLE:0.495864\n",
            "[28]\ttest-rmse:1.48226\ttrain-rmse:1.51194\ttest-RMSLE:0.494437\ttrain-RMSLE:0.495773\n",
            "[29]\ttest-rmse:1.48224\ttrain-rmse:1.51192\ttest-RMSLE:0.494356\ttrain-RMSLE:0.495691\n",
            "[30]\ttest-rmse:1.48222\ttrain-rmse:1.51191\ttest-RMSLE:0.494283\ttrain-RMSLE:0.495618\n",
            "[31]\ttest-rmse:1.48221\ttrain-rmse:1.5119\ttest-RMSLE:0.494218\ttrain-RMSLE:0.495552\n",
            "[32]\ttest-rmse:1.4822\ttrain-rmse:1.51189\ttest-RMSLE:0.494159\ttrain-RMSLE:0.495492\n",
            "[33]\ttest-rmse:1.48219\ttrain-rmse:1.51188\ttest-RMSLE:0.494106\ttrain-RMSLE:0.495439\n",
            "[34]\ttest-rmse:1.48219\ttrain-rmse:1.51187\ttest-RMSLE:0.494059\ttrain-RMSLE:0.495391\n",
            "[35]\ttest-rmse:1.48218\ttrain-rmse:1.51186\ttest-RMSLE:0.494016\ttrain-RMSLE:0.495348\n",
            "[36]\ttest-rmse:1.48217\ttrain-rmse:1.51186\ttest-RMSLE:0.493977\ttrain-RMSLE:0.495309\n",
            "[37]\ttest-rmse:1.48217\ttrain-rmse:1.51185\ttest-RMSLE:0.493943\ttrain-RMSLE:0.495275\n",
            "[38]\ttest-rmse:1.48216\ttrain-rmse:1.51185\ttest-RMSLE:0.493911\ttrain-RMSLE:0.495243\n",
            "[39]\ttest-rmse:1.48216\ttrain-rmse:1.51184\ttest-RMSLE:0.493883\ttrain-RMSLE:0.495215\n",
            "[40]\ttest-rmse:1.48216\ttrain-rmse:1.51184\ttest-RMSLE:0.493858\ttrain-RMSLE:0.49519\n",
            "[41]\ttest-rmse:1.48215\ttrain-rmse:1.51184\ttest-RMSLE:0.493836\ttrain-RMSLE:0.495167\n",
            "[42]\ttest-rmse:1.48215\ttrain-rmse:1.51183\ttest-RMSLE:0.493815\ttrain-RMSLE:0.495146\n",
            "[43]\ttest-rmse:1.48215\ttrain-rmse:1.51183\ttest-RMSLE:0.493797\ttrain-RMSLE:0.495128\n",
            "[44]\ttest-rmse:1.48215\ttrain-rmse:1.51183\ttest-RMSLE:0.49378\ttrain-RMSLE:0.495111\n",
            "[45]\ttest-rmse:1.48214\ttrain-rmse:1.51182\ttest-RMSLE:0.493765\ttrain-RMSLE:0.495096\n",
            "[46]\ttest-rmse:1.48214\ttrain-rmse:1.51182\ttest-RMSLE:0.493752\ttrain-RMSLE:0.495083\n",
            "[47]\ttest-rmse:1.48214\ttrain-rmse:1.51182\ttest-RMSLE:0.49374\ttrain-RMSLE:0.495071\n",
            "[48]\ttest-rmse:1.48214\ttrain-rmse:1.51182\ttest-RMSLE:0.493729\ttrain-RMSLE:0.49506\n",
            "[49]\ttest-rmse:1.48214\ttrain-rmse:1.51182\ttest-RMSLE:0.493719\ttrain-RMSLE:0.49505\n",
            "[50]\ttest-rmse:1.48214\ttrain-rmse:1.51182\ttest-RMSLE:0.493711\ttrain-RMSLE:0.495041\n",
            "[51]\ttest-rmse:1.48214\ttrain-rmse:1.51182\ttest-RMSLE:0.493703\ttrain-RMSLE:0.495033\n",
            "[52]\ttest-rmse:1.48213\ttrain-rmse:1.51182\ttest-RMSLE:0.493696\ttrain-RMSLE:0.495026\n",
            "[53]\ttest-rmse:1.48213\ttrain-rmse:1.51181\ttest-RMSLE:0.493689\ttrain-RMSLE:0.49502\n",
            "[54]\ttest-rmse:1.48213\ttrain-rmse:1.51181\ttest-RMSLE:0.493683\ttrain-RMSLE:0.495014\n",
            "[55]\ttest-rmse:1.48213\ttrain-rmse:1.51181\ttest-RMSLE:0.493678\ttrain-RMSLE:0.495009\n",
            "[56]\ttest-rmse:1.48213\ttrain-rmse:1.51181\ttest-RMSLE:0.493674\ttrain-RMSLE:0.495004\n",
            "[57]\ttest-rmse:1.48213\ttrain-rmse:1.51181\ttest-RMSLE:0.493669\ttrain-RMSLE:0.495\n",
            "[58]\ttest-rmse:1.48213\ttrain-rmse:1.51181\ttest-RMSLE:0.493666\ttrain-RMSLE:0.494996\n",
            "[59]\ttest-rmse:1.48213\ttrain-rmse:1.51181\ttest-RMSLE:0.493662\ttrain-RMSLE:0.494993\n",
            "[60]\ttest-rmse:1.48213\ttrain-rmse:1.51181\ttest-RMSLE:0.493659\ttrain-RMSLE:0.49499\n",
            "[61]\ttest-rmse:1.48213\ttrain-rmse:1.51181\ttest-RMSLE:0.493656\ttrain-RMSLE:0.494987\n",
            "[62]\ttest-rmse:1.48213\ttrain-rmse:1.51181\ttest-RMSLE:0.493654\ttrain-RMSLE:0.494984\n",
            "[63]\ttest-rmse:1.48213\ttrain-rmse:1.51181\ttest-RMSLE:0.493652\ttrain-RMSLE:0.494982\n",
            "[64]\ttest-rmse:1.48213\ttrain-rmse:1.51181\ttest-RMSLE:0.49365\ttrain-RMSLE:0.49498\n",
            "[65]\ttest-rmse:1.48213\ttrain-rmse:1.51181\ttest-RMSLE:0.493648\ttrain-RMSLE:0.494978\n",
            "[66]\ttest-rmse:1.48213\ttrain-rmse:1.51181\ttest-RMSLE:0.493646\ttrain-RMSLE:0.494977\n",
            "[67]\ttest-rmse:1.48213\ttrain-rmse:1.51181\ttest-RMSLE:0.493645\ttrain-RMSLE:0.494975\n",
            "[68]\ttest-rmse:1.48213\ttrain-rmse:1.51181\ttest-RMSLE:0.493643\ttrain-RMSLE:0.494974\n",
            "[69]\ttest-rmse:1.48213\ttrain-rmse:1.51181\ttest-RMSLE:0.493642\ttrain-RMSLE:0.494973\n",
            "[70]\ttest-rmse:1.48213\ttrain-rmse:1.51181\ttest-RMSLE:0.493641\ttrain-RMSLE:0.494972\n",
            "[71]\ttest-rmse:1.48213\ttrain-rmse:1.51181\ttest-RMSLE:0.49364\ttrain-RMSLE:0.494971\n",
            "[72]\ttest-rmse:1.48213\ttrain-rmse:1.51181\ttest-RMSLE:0.493639\ttrain-RMSLE:0.49497\n",
            "[73]\ttest-rmse:1.48213\ttrain-rmse:1.51181\ttest-RMSLE:0.493639\ttrain-RMSLE:0.494969\n",
            "[74]\ttest-rmse:1.48213\ttrain-rmse:1.51181\ttest-RMSLE:0.493638\ttrain-RMSLE:0.494968\n",
            "[75]\ttest-rmse:1.48213\ttrain-rmse:1.51181\ttest-RMSLE:0.493637\ttrain-RMSLE:0.494968\n",
            "[76]\ttest-rmse:1.48213\ttrain-rmse:1.51181\ttest-RMSLE:0.493637\ttrain-RMSLE:0.494967\n",
            "[77]\ttest-rmse:1.48213\ttrain-rmse:1.51181\ttest-RMSLE:0.493636\ttrain-RMSLE:0.494967\n",
            "[78]\ttest-rmse:1.48213\ttrain-rmse:1.51181\ttest-RMSLE:0.493636\ttrain-RMSLE:0.494966\n",
            "[79]\ttest-rmse:1.48213\ttrain-rmse:1.51181\ttest-RMSLE:0.493635\ttrain-RMSLE:0.494966\n",
            "[80]\ttest-rmse:1.48213\ttrain-rmse:1.51181\ttest-RMSLE:0.493635\ttrain-RMSLE:0.494965\n",
            "[81]\ttest-rmse:1.48213\ttrain-rmse:1.51181\ttest-RMSLE:0.493635\ttrain-RMSLE:0.494965\n",
            "[82]\ttest-rmse:1.48213\ttrain-rmse:1.51181\ttest-RMSLE:0.493634\ttrain-RMSLE:0.494965\n",
            "[83]\ttest-rmse:1.48213\ttrain-rmse:1.51181\ttest-RMSLE:0.493634\ttrain-RMSLE:0.494964\n",
            "[84]\ttest-rmse:1.48213\ttrain-rmse:1.51181\ttest-RMSLE:0.493634\ttrain-RMSLE:0.494964\n",
            "[85]\ttest-rmse:1.48213\ttrain-rmse:1.51181\ttest-RMSLE:0.493634\ttrain-RMSLE:0.494964\n",
            "[86]\ttest-rmse:1.48213\ttrain-rmse:1.51181\ttest-RMSLE:0.493633\ttrain-RMSLE:0.494964\n",
            "[87]\ttest-rmse:1.48213\ttrain-rmse:1.51181\ttest-RMSLE:0.493633\ttrain-RMSLE:0.494964\n",
            "[88]\ttest-rmse:1.48213\ttrain-rmse:1.51181\ttest-RMSLE:0.493633\ttrain-RMSLE:0.494963\n",
            "[89]\ttest-rmse:1.48213\ttrain-rmse:1.51181\ttest-RMSLE:0.493633\ttrain-RMSLE:0.494963\n",
            "[90]\ttest-rmse:1.48213\ttrain-rmse:1.51181\ttest-RMSLE:0.493633\ttrain-RMSLE:0.494963\n",
            "[91]\ttest-rmse:1.48213\ttrain-rmse:1.51181\ttest-RMSLE:0.493633\ttrain-RMSLE:0.494963\n",
            "[92]\ttest-rmse:1.48213\ttrain-rmse:1.51181\ttest-RMSLE:0.493632\ttrain-RMSLE:0.494963\n",
            "[93]\ttest-rmse:1.48213\ttrain-rmse:1.51181\ttest-RMSLE:0.493632\ttrain-RMSLE:0.494963\n",
            "Stopping. Best iteration:\n",
            "[88]\ttest-rmse:1.48213\ttrain-rmse:1.51181\ttest-RMSLE:0.493633\ttrain-RMSLE:0.494963\n",
            "\n"
          ],
          "name": "stdout"
        },
        {
          "output_type": "display_data",
          "data": {
            "image/png": "[encoded data removed]",
            "text/plain": [
              "<Figure size 432x288 with 1 Axes>"
            ]
          },
          "metadata": {
            "tags": []
          }
        },
        {
          "output_type": "stream",
          "text": [
            "RMSLE Train set: 0.494963\n"
          ],
          "name": "stdout"
        }
      ]
    },
    {
      "cell_type": "markdown",
      "metadata": {
        "id": "DoFhyWI4Fr5t"
      },
      "source": [
        "# Final Results"
      ]
    },
    {
      "cell_type": "code",
      "metadata": {
        "id": "biOZdcZD2pLA",
        "colab": {
          "base_uri": "https://localhost:8080/"
        },
        "outputId": "ae17d4de-20fa-43d4-bd40-8709e17e16ba"
      },
      "source": [
        "eval(model_1, X_test, y_test,'linear regression')\r\n",
        "print('******')\r\n",
        "eval(model_2, X_test, y_test, 'Stochastic Gradient Descent')\r\n",
        "print('******')\r\n",
        "eval(model_2i, X_test, y_test, 'Lasso regression')\r\n",
        "print('******')\r\n",
        "eval(model_3i, X_test, y_test, 'Neural Network_default')\r\n",
        "print('******')\r\n",
        "eval(model_3ii, X_test, y_test, 'Neural Network_random')\r\n",
        "print('******')\r\n",
        "eval(model_3, X_test, y_test, 'Neural Network_gridsearch')\r\n",
        "print('******')\r\n",
        "eval(reg, X_test, y_test,'Gradient Boosting Regressor')\r\n",
        "print('******')\r\n",
        "print('Gradient Boost Linear Regression _ RMSLE Test set:', xgb_results['test']['RMSLE'][-1]) "
      ],
      "execution_count": 22,
      "outputs": [
        {
          "output_type": "stream",
          "text": [
            "RMSLE of linear regression : 0.5156\n",
            "R2 value of linear regression : 0.0245\n",
            "Err value of linear regression : 0.5156\n",
            "******\n",
            "RMSLE of Stochastic Gradient Descent : 0.5243\n",
            "R2 value of Stochastic Gradient Descent : 0.0189\n",
            "Err value of Stochastic Gradient Descent : 0.5243\n",
            "******\n",
            "RMSLE of Lasso regression : 0.5154\n",
            "R2 value of Lasso regression : 0.0256\n",
            "Err value of Lasso regression : 0.5154\n",
            "******\n",
            "RMSLE of Neural Network_default : 0.5649\n",
            "R2 value of Neural Network_default : -0.0418\n",
            "Err value of Neural Network_default : 0.5649\n",
            "******\n",
            "RMSLE of Neural Network_random : 0.5108\n",
            "R2 value of Neural Network_random : 0.0275\n",
            "Err value of Neural Network_random : 0.5108\n",
            "******\n",
            "RMSLE of Neural Network_gridsearch : 0.5099\n",
            "R2 value of Neural Network_gridsearch : 0.0279\n",
            "Err value of Neural Network_gridsearch : 0.5099\n",
            "******\n",
            "RMSLE of Gradient Boosting Regressor : 0.5091\n",
            "R2 value of Gradient Boosting Regressor : 0.0361\n",
            "Err value of Gradient Boosting Regressor : 0.5091\n",
            "******\n",
            "Gradient Boost Linear Regression _ RMSLE Test set: 0.493632\n"
          ],
          "name": "stdout"
        }
      ]
    }
  ]
}
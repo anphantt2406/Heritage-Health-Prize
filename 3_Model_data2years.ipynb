{
  "nbformat": 4,
  "nbformat_minor": 0,
  "metadata": {
    "colab": {
      "name": "3_Model_data2years.ipynb",
      "provenance": [],
      "collapsed_sections": [
        "S-JF0vVffnbR",
        "5pnD4X7jfrRS",
        "riX7ZDSQf1e2"
      ],
      "authorship_tag": "ABX9TyPKCwqfkYJaddBGFvCAz3Xk",
      "include_colab_link": true
    },
    "kernelspec": {
      "display_name": "Python 3",
      "name": "python3"
    }
  },
  "cells": [
    {
      "cell_type": "markdown",
      "metadata": {
        "id": "view-in-github",
        "colab_type": "text"
      },
      "source": [
        "<a href=\"https://colab.research.google.com/github/anphantt2406/Heritage-Health-Prize/blob/main/3_Model_data2years.ipynb\" target=\"_parent\"><img src=\"https://colab.research.google.com/assets/colab-badge.svg\" alt=\"Open In Colab\"/></a>"
      ]
    },
    {
      "cell_type": "code",
      "metadata": {
        "colab": {
          "base_uri": "https://localhost:8080/"
        },
        "id": "JTp1IHuy_n9Y",
        "outputId": "9bdc7714-d60e-4fbc-ab9e-3eeb25364762"
      },
      "source": [
        "from google.colab import drive\r\n",
        "drive.mount('/content/drive')\r\n",
        "%cd /content/drive/My Drive/HHP_release3/new_data"
      ],
      "execution_count": 1,
      "outputs": [
        {
          "output_type": "stream",
          "text": [
            "Drive already mounted at /content/drive; to attempt to forcibly remount, call drive.mount(\"/content/drive\", force_remount=True).\n",
            "/content/drive/My Drive/HHP_release3/new_data\n"
          ],
          "name": "stdout"
        }
      ]
    },
    {
      "cell_type": "markdown",
      "metadata": {
        "id": "S-JF0vVffnbR"
      },
      "source": [
        "#Import Library"
      ]
    },
    {
      "cell_type": "code",
      "metadata": {
        "id": "MBhQiO2v3hQM"
      },
      "source": [
        "import glob\n",
        "import math\n",
        "import pandas as pd\n",
        "import numpy as np\n",
        "import xgboost\n",
        "from sklearn.linear_model import LinearRegression, LogisticRegression, Lasso, Ridge, SGDRegressor\n",
        "from sklearn.metrics import mean_squared_error, r2_score, classification_report, roc_auc_score, plot_roc_curve\n",
        "import matplotlib.pyplot as plt\n",
        "import matplotlib.patches as mpatches\n",
        "from sklearn.model_selection import train_test_split, GridSearchCV\n",
        "from keras.layers import Dense, Activation\n",
        "from keras.models import Sequential\n",
        "from sklearn.neural_network import MLPRegressor\n",
        "from sklearn import datasets, ensemble\n",
        "from sklearn.datasets import make_regression\n",
        "\n",
        "import seaborn as sns # Library for plotting\n",
        "color = sns.color_palette()\n",
        "sns.set_style('darkgrid')\n",
        "from sklearn.svm import SVR\n",
        "from sklearn.metrics import confusion_matrix"
      ],
      "execution_count": 2,
      "outputs": []
    },
    {
      "cell_type": "markdown",
      "metadata": {
        "id": "5pnD4X7jfrRS"
      },
      "source": [
        "#Define some needed function\r\n",
        "\r\n",
        "Predictions are evaluated using root mean squared logarithmic error, referred to henceforth as RMSLE.\r\n",
        "\r\n",
        "$$\\varepsilon = \\sqrt{\\frac{1}{n}\\sum_{i=1}^{n}\\left(log(p_i+1) - log(a_i+1)^2 \\right )}$$\r\n",
        "\r\n",
        "Where:\r\n",
        "\r\n",
        "\r\n",
        "\r\n",
        "*   $i$ is a patient's unique MemberID\r\n",
        "*   $n$ is the total number of patients\r\n",
        "*   $p_i$ is the prediction made for patient $i$\r\n",
        "*   $a_i$ is the actual number of days spent in the hospital by patient $i$\r\n",
        "\r\n",
        "\r\n",
        "\r\n"
      ]
    },
    {
      "cell_type": "code",
      "metadata": {
        "id": "L75u6E2x3uHu"
      },
      "source": [
        "def RMSLE_cal(pred, actu, name=None):\n",
        "    RMSLE = round(np.sqrt(((np.log(pred + 1) - np.log(actu + 1)) ** 2).sum() / actu.shape[0]), 6).item()\n",
        "    print('RMSLE', name, ':', RMSLE)"
      ],
      "execution_count": 3,
      "outputs": []
    },
    {
      "cell_type": "code",
      "metadata": {
        "id": "PnabKSiS3xex"
      },
      "source": [
        "def rmsle(pred, dtrain):\n",
        "    \"\"\"Used for stacked in Xgboost\n",
        "    \"\"\"\n",
        "    actu = dtrain.get_label()\n",
        "    RMSLE = round(np.sqrt(((np.log(pred + 1) - np.log(actu + 1)) ** 2).sum() / actu.shape[0]), 6).item()\n",
        "    return 'RMSLE', RMSLE"
      ],
      "execution_count": 4,
      "outputs": []
    },
    {
      "cell_type": "code",
      "metadata": {
        "id": "EmhapNDRQnoC"
      },
      "source": [
        "def eval(model, X_test, y_test, name = None):\n",
        "    pred_y = model.predict(X_test) # your predicted y values\n",
        "    # The root mean square logarithmic error\n",
        "    pred_y = pred_y.clip(min=0)\n",
        "    pred_y = pred_y.clip(max=15)\n",
        "    pred_y = pred_y.round(0).astype(int)\n",
        "    msle = np.mean( (np.log(pred_y + 1) - np.log(y_test + 1)) ** 2)\n",
        "    rmsle = math.sqrt(msle)\n",
        "    from sklearn.metrics import r2_score\n",
        "    r2 = r2_score(y_test,pred_y)\n",
        "    from sklearn.metrics import mean_squared_log_error\n",
        "    err = math.sqrt(mean_squared_log_error(y_test,pred_y))\n",
        "    print(\"RMSLE of\", name, \": %.4f\" %rmsle)\n",
        "    print(\"R2 value of\", name, \": %.4f\" %r2)\n",
        "    print(\"Err value of\", name, \": %.4f\" %err)"
      ],
      "execution_count": 5,
      "outputs": []
    },
    {
      "cell_type": "code",
      "metadata": {
        "id": "doF_jqmfbcwG"
      },
      "source": [
        "def plotResult(results, cv=None):\n",
        "    fig, ax = plt.subplots()\n",
        "    if cv:\n",
        "        ax.plot(range(results.shape[0]), results['train-RMSLE-mean'])\n",
        "        ax.plot(range(results.shape[0]), results['test-RMSLE-mean'])\n",
        "    else:\n",
        "        ax.plot(range(len(results['train']['RMSLE'])), results['train']['RMSLE'])\n",
        "        ax.plot(range(len(results['test']['RMSLE'])), results['test']['RMSLE'])\n",
        "        \n",
        "    ax.set(xlabel='Boost round', ylabel='RMSLE', title='Train/Test RMSLE')\n",
        "    ax.grid()\n",
        "\n",
        "    train_patch = mpatches.Patch(color='blue', label='Train')\n",
        "    test_patch = mpatches.Patch(color='orange', label='Test')\n",
        "\n",
        "    plt.legend(handles=[train_patch, test_patch])\n",
        "    plt.show()"
      ],
      "execution_count": 6,
      "outputs": []
    },
    {
      "cell_type": "markdown",
      "metadata": {
        "id": "riX7ZDSQf1e2"
      },
      "source": [
        "#Prepare data for training and testing\r\n",
        "\r\n",
        "In this notebook, we use Claims data in Year 1 for training and validation, Claims data in Year 2 for testing."
      ]
    },
    {
      "cell_type": "code",
      "metadata": {
        "id": "pLaCH9vD5rFl"
      },
      "source": [
        "data = pd.read_csv('data2years.csv')"
      ],
      "execution_count": 7,
      "outputs": []
    },
    {
      "cell_type": "code",
      "metadata": {
        "id": "Eefb1A935rF3"
      },
      "source": [
        "y = data['TARGET']\r\n",
        "X = data.drop(['TARGET'], axis = 1)\r\n",
        "\r\n",
        "X_train, X_test, y_train, y_test = train_test_split(X, y, test_size = 0.25)"
      ],
      "execution_count": 8,
      "outputs": []
    },
    {
      "cell_type": "code",
      "metadata": {
        "id": "K9Z4wQU85rF4"
      },
      "source": [
        "from sklearn.preprocessing import StandardScaler\r\n",
        "scaler = StandardScaler()\r\n",
        "# Fit only to the training data\r\n",
        "scaler.fit(X_train)\r\n",
        "X_train = scaler.transform(X_train)\r\n",
        "X_test = scaler.transform(X_test)"
      ],
      "execution_count": 9,
      "outputs": []
    },
    {
      "cell_type": "markdown",
      "metadata": {
        "id": "5_Dy67txiTSk"
      },
      "source": [
        "# Regression"
      ]
    },
    {
      "cell_type": "markdown",
      "metadata": {
        "id": "_fN4E2PSfi7P"
      },
      "source": [
        "## MODEL 1: Linear Regression"
      ]
    },
    {
      "cell_type": "code",
      "metadata": {
        "colab": {
          "base_uri": "https://localhost:8080/",
          "height": 621
        },
        "id": "Fyj-evy7Hx4U",
        "outputId": "fe56a6ee-8f83-4520-f46e-08e779389a30"
      },
      "source": [
        "# Create linear regression object\r\n",
        "model_1 = LinearRegression()\r\n",
        "# Train the model using the training sets\r\n",
        "model_1.fit(X_train, y_train)\r\n",
        "# Predict on Test set\r\n",
        "y_pred_1 = model_1.predict(X_test)\r\n",
        "\r\n",
        "plt.figure(figsize = (15,10))\r\n",
        "plt.scatter(y_pred_1, y_test, alpha=.2, s = 60, color='r') #alpha helps to show overlapping data\r\n",
        "plt.xlabel('DIH prediction')\r\n",
        "plt.ylabel('Actual DIH')\r\n",
        "plt.title('Linear Regression Model')\r\n",
        "plt.show()"
      ],
      "execution_count": 10,
      "outputs": [
        {
          "output_type": "display_data",
          "data": {
            "image/png": "[encoded data removed]",
            "text/plain": [
              "<Figure size 1080x720 with 1 Axes>"
            ]
          },
          "metadata": {
            "tags": []
          }
        }
      ]
    },
    {
      "cell_type": "markdown",
      "metadata": {
        "id": "KdHMn2Wo3heF"
      },
      "source": [
        "## MODEL 2: Stochastic Gradient Descent"
      ]
    },
    {
      "cell_type": "code",
      "metadata": {
        "colab": {
          "base_uri": "https://localhost:8080/"
        },
        "id": "VviJ28km1SLZ",
        "outputId": "15004d56-52d6-4f48-d199-a26e4dd42ac6"
      },
      "source": [
        "from sklearn.linear_model import SGDRegressor\r\n",
        "\r\n",
        "model_2 = SGDRegressor(max_iter=3000, tol=1e-1)\r\n",
        "model_2.fit(X_train, y_train)\r\n",
        "eval(model_2, X_train, y_train, 'Stochastic Gradient Descent')"
      ],
      "execution_count": 11,
      "outputs": [
        {
          "output_type": "stream",
          "text": [
            "RMSLE of Stochastic Gradient Descent : 0.5390\n",
            "R2 value of Stochastic Gradient Descent : -0.0113\n",
            "Err value of Stochastic Gradient Descent : 0.5390\n"
          ],
          "name": "stdout"
        }
      ]
    },
    {
      "cell_type": "code",
      "metadata": {
        "colab": {
          "base_uri": "https://localhost:8080/"
        },
        "id": "LzG6l6Y1Es2r",
        "outputId": "1495b377-9f2f-46d2-baae-c867741089fd"
      },
      "source": [
        "model_2i = Lasso(alpha=0.001, copy_X=True, fit_intercept=True, max_iter=5000,\r\n",
        "     normalize=False, positive=False, precompute=False, random_state=None,\r\n",
        "     selection='cyclic', tol=0.0001, warm_start=False)\r\n",
        "model_2i.fit(X_train, y_train)\r\n",
        "eval(model_2i, X_train, y_train, 'Lasso regression')"
      ],
      "execution_count": 12,
      "outputs": [
        {
          "output_type": "stream",
          "text": [
            "RMSLE of Lasso regression : 0.5048\n",
            "R2 value of Lasso regression : 0.0521\n",
            "Err value of Lasso regression : 0.5048\n"
          ],
          "name": "stdout"
        }
      ]
    },
    {
      "cell_type": "markdown",
      "metadata": {
        "id": "74HgPgHvfaKT"
      },
      "source": [
        "##MODEL 3: Neural Network"
      ]
    },
    {
      "cell_type": "code",
      "metadata": {
        "id": "RVCA7wgHlj9Y"
      },
      "source": [
        "#(i) Neural Network with default hyperparameters\r\n",
        "model_3i = MLPRegressor(random_state=1, max_iter=500).fit(X_train, y_train)"
      ],
      "execution_count": 13,
      "outputs": []
    },
    {
      "cell_type": "code",
      "metadata": {
        "id": "e1WcOea9Qr4G",
        "colab": {
          "base_uri": "https://localhost:8080/"
        },
        "outputId": "db37b155-0fb4-4ad5-93ea-d1ad9b83e213"
      },
      "source": [
        "#(ii) random hyperparameter\n",
        "model_3ii = MLPRegressor(activation='relu', alpha=0.0001, batch_size='auto', beta_1=0.9,\n",
        "        beta_2=0.999, early_stopping=False, epsilon=1e-08,\n",
        "        hidden_layer_sizes=7, learning_rate='adaptive',\n",
        "        learning_rate_init=0.001, max_iter=3000, momentum=0.9,\n",
        "        nesterovs_momentum=True, power_t=0.5, random_state=None,\n",
        "        shuffle=True, solver='adam', tol=0.0001, validation_fraction=0.1,\n",
        "        verbose=1, warm_start=False)\n",
        "\n",
        "model_3ii.fit(X_train, y_train)"
      ],
      "execution_count": 14,
      "outputs": [
        {
          "output_type": "stream",
          "text": [
            "Iteration 1, loss = 1.85812964\n",
            "Iteration 2, loss = 1.29144961\n",
            "Iteration 3, loss = 1.19097797\n",
            "Iteration 4, loss = 1.13678045\n",
            "Iteration 5, loss = 1.10589189\n",
            "Iteration 6, loss = 1.08896568\n",
            "Iteration 7, loss = 1.07944076\n",
            "Iteration 8, loss = 1.07315911\n",
            "Iteration 9, loss = 1.06926664\n",
            "Iteration 10, loss = 1.06580110\n",
            "Iteration 11, loss = 1.06282690\n",
            "Iteration 12, loss = 1.06018268\n",
            "Iteration 13, loss = 1.05796464\n",
            "Iteration 14, loss = 1.05595568\n",
            "Iteration 15, loss = 1.05302419\n",
            "Iteration 16, loss = 1.05242276\n",
            "Iteration 17, loss = 1.05117813\n",
            "Iteration 18, loss = 1.04901885\n",
            "Iteration 19, loss = 1.04783802\n",
            "Iteration 20, loss = 1.04678272\n",
            "Iteration 21, loss = 1.04537326\n",
            "Iteration 22, loss = 1.04425413\n",
            "Iteration 23, loss = 1.04326368\n",
            "Iteration 24, loss = 1.04298639\n",
            "Iteration 25, loss = 1.04104131\n",
            "Iteration 26, loss = 1.03916869\n",
            "Iteration 27, loss = 1.03897134\n",
            "Iteration 28, loss = 1.03886918\n",
            "Iteration 29, loss = 1.03710776\n",
            "Iteration 30, loss = 1.03655161\n",
            "Iteration 31, loss = 1.03591601\n",
            "Iteration 32, loss = 1.03552588\n",
            "Iteration 33, loss = 1.03502692\n",
            "Iteration 34, loss = 1.03392029\n",
            "Iteration 35, loss = 1.03293802\n",
            "Iteration 36, loss = 1.03304794\n",
            "Iteration 37, loss = 1.03253038\n",
            "Iteration 38, loss = 1.03125147\n",
            "Iteration 39, loss = 1.03110263\n",
            "Iteration 40, loss = 1.03042267\n",
            "Iteration 41, loss = 1.02940462\n",
            "Iteration 42, loss = 1.03012114\n",
            "Iteration 43, loss = 1.02886298\n",
            "Iteration 44, loss = 1.02837288\n",
            "Iteration 45, loss = 1.02791230\n",
            "Iteration 46, loss = 1.02784537\n",
            "Iteration 47, loss = 1.02753657\n",
            "Iteration 48, loss = 1.02671053\n",
            "Iteration 49, loss = 1.02645473\n",
            "Iteration 50, loss = 1.02551965\n",
            "Iteration 51, loss = 1.02566550\n",
            "Iteration 52, loss = 1.02531423\n",
            "Iteration 53, loss = 1.02479826\n",
            "Iteration 54, loss = 1.02396982\n",
            "Iteration 55, loss = 1.02385610\n",
            "Iteration 56, loss = 1.02505794\n",
            "Iteration 57, loss = 1.02423736\n",
            "Iteration 58, loss = 1.02355927\n",
            "Iteration 59, loss = 1.02399388\n",
            "Iteration 60, loss = 1.02315875\n",
            "Iteration 61, loss = 1.02327855\n",
            "Iteration 62, loss = 1.02267807\n",
            "Iteration 63, loss = 1.02313228\n",
            "Iteration 64, loss = 1.02255448\n",
            "Iteration 65, loss = 1.02191071\n",
            "Iteration 66, loss = 1.02210964\n",
            "Iteration 67, loss = 1.02209458\n",
            "Iteration 68, loss = 1.02224490\n",
            "Iteration 69, loss = 1.02132025\n",
            "Iteration 70, loss = 1.02194250\n",
            "Iteration 71, loss = 1.02117919\n",
            "Iteration 72, loss = 1.02019443\n",
            "Iteration 73, loss = 1.02122207\n",
            "Iteration 74, loss = 1.02022494\n",
            "Iteration 75, loss = 1.02005022\n",
            "Iteration 76, loss = 1.02038559\n",
            "Iteration 77, loss = 1.02050332\n",
            "Iteration 78, loss = 1.02019365\n",
            "Iteration 79, loss = 1.01995726\n",
            "Iteration 80, loss = 1.02022031\n",
            "Iteration 81, loss = 1.02014490\n",
            "Iteration 82, loss = 1.01986454\n",
            "Iteration 83, loss = 1.01929156\n",
            "Iteration 84, loss = 1.01975552\n",
            "Iteration 85, loss = 1.01927346\n",
            "Iteration 86, loss = 1.01925627\n",
            "Iteration 87, loss = 1.01965878\n",
            "Iteration 88, loss = 1.01932005\n",
            "Iteration 89, loss = 1.01919225\n",
            "Iteration 90, loss = 1.01883179\n",
            "Iteration 91, loss = 1.01858999\n",
            "Iteration 92, loss = 1.01810364\n",
            "Iteration 93, loss = 1.01858380\n",
            "Iteration 94, loss = 1.01826155\n",
            "Iteration 95, loss = 1.01800233\n",
            "Iteration 96, loss = 1.01776749\n",
            "Iteration 97, loss = 1.01746688\n",
            "Iteration 98, loss = 1.01728716\n",
            "Iteration 99, loss = 1.01705759\n",
            "Iteration 100, loss = 1.01724944\n",
            "Iteration 101, loss = 1.01737839\n",
            "Iteration 102, loss = 1.01700036\n",
            "Iteration 103, loss = 1.01745753\n",
            "Iteration 104, loss = 1.01667484\n",
            "Iteration 105, loss = 1.01670862\n",
            "Iteration 106, loss = 1.01644383\n",
            "Iteration 107, loss = 1.01655106\n",
            "Iteration 108, loss = 1.01682609\n",
            "Iteration 109, loss = 1.01709957\n",
            "Iteration 110, loss = 1.01685447\n",
            "Iteration 111, loss = 1.01662945\n",
            "Iteration 112, loss = 1.01626629\n",
            "Iteration 113, loss = 1.01615807\n",
            "Iteration 114, loss = 1.01566341\n",
            "Iteration 115, loss = 1.01565945\n",
            "Iteration 116, loss = 1.01627243\n",
            "Iteration 117, loss = 1.01554350\n",
            "Iteration 118, loss = 1.01603263\n",
            "Iteration 119, loss = 1.01513868\n",
            "Iteration 120, loss = 1.01583201\n",
            "Iteration 121, loss = 1.01525368\n",
            "Iteration 122, loss = 1.01568050\n",
            "Iteration 123, loss = 1.01531126\n",
            "Iteration 124, loss = 1.01551757\n",
            "Iteration 125, loss = 1.01516309\n",
            "Iteration 126, loss = 1.01494136\n",
            "Iteration 127, loss = 1.01537528\n",
            "Iteration 128, loss = 1.01464948\n",
            "Iteration 129, loss = 1.01468762\n",
            "Iteration 130, loss = 1.01431965\n",
            "Iteration 131, loss = 1.01472182\n",
            "Iteration 132, loss = 1.01417515\n",
            "Iteration 133, loss = 1.01424677\n",
            "Iteration 134, loss = 1.01443332\n",
            "Iteration 135, loss = 1.01412416\n",
            "Iteration 136, loss = 1.01434059\n",
            "Iteration 137, loss = 1.01437510\n",
            "Iteration 138, loss = 1.01348833\n",
            "Iteration 139, loss = 1.01381143\n",
            "Iteration 140, loss = 1.01374884\n",
            "Iteration 141, loss = 1.01374357\n",
            "Iteration 142, loss = 1.01301808\n",
            "Iteration 143, loss = 1.01350789\n",
            "Iteration 144, loss = 1.01304372\n",
            "Iteration 145, loss = 1.01313729\n",
            "Iteration 146, loss = 1.01324100\n",
            "Iteration 147, loss = 1.01377351\n",
            "Iteration 148, loss = 1.01316029\n",
            "Iteration 149, loss = 1.01293996\n",
            "Iteration 150, loss = 1.01335663\n",
            "Iteration 151, loss = 1.01247128\n",
            "Iteration 152, loss = 1.01257304\n",
            "Iteration 153, loss = 1.01272984\n",
            "Iteration 154, loss = 1.01251594\n",
            "Iteration 155, loss = 1.01230411\n",
            "Iteration 156, loss = 1.01214348\n",
            "Iteration 157, loss = 1.01240782\n",
            "Iteration 158, loss = 1.01242470\n",
            "Iteration 159, loss = 1.01252961\n",
            "Iteration 160, loss = 1.01175351\n",
            "Iteration 161, loss = 1.01163043\n",
            "Iteration 162, loss = 1.01233147\n",
            "Iteration 163, loss = 1.01196921\n",
            "Iteration 164, loss = 1.01147888\n",
            "Iteration 165, loss = 1.01217884\n",
            "Iteration 166, loss = 1.01207319\n",
            "Iteration 167, loss = 1.01207713\n",
            "Iteration 168, loss = 1.01178392\n",
            "Iteration 169, loss = 1.01183252\n",
            "Iteration 170, loss = 1.01153631\n",
            "Iteration 171, loss = 1.01178502\n",
            "Iteration 172, loss = 1.01233188\n",
            "Iteration 173, loss = 1.01140541\n",
            "Iteration 174, loss = 1.01137957\n",
            "Iteration 175, loss = 1.01186082\n",
            "Training loss did not improve more than tol=0.000100 for 10 consecutive epochs. Stopping.\n"
          ],
          "name": "stdout"
        },
        {
          "output_type": "execute_result",
          "data": {
            "text/plain": [
              "MLPRegressor(activation='relu', alpha=0.0001, batch_size='auto', beta_1=0.9,\n",
              "             beta_2=0.999, early_stopping=False, epsilon=1e-08,\n",
              "             hidden_layer_sizes=7, learning_rate='adaptive',\n",
              "             learning_rate_init=0.001, max_fun=15000, max_iter=3000,\n",
              "             momentum=0.9, n_iter_no_change=10, nesterovs_momentum=True,\n",
              "             power_t=0.5, random_state=None, shuffle=True, solver='adam',\n",
              "             tol=0.0001, validation_fraction=0.1, verbose=1, warm_start=False)"
            ]
          },
          "metadata": {
            "tags": []
          },
          "execution_count": 14
        }
      ]
    },
    {
      "cell_type": "markdown",
      "metadata": {
        "id": "BRabSrujJ44t"
      },
      "source": [
        "**Hyperparameter Optimization using Grid Search**"
      ]
    },
    {
      "cell_type": "code",
      "metadata": {
        "id": "uBfOkQNpeO2n"
      },
      "source": [
        "#parameter_grid = {'hidden_layer_sizes': [i for i in range(1,10)],\r\n",
        "#                  'activation': ['tanh', 'relu'],\r\n",
        "#                  'solver': ['sgd','adam'],\r\n",
        "#                  'learning_rate': ['constant'],\r\n",
        "#                  'learning_rate_init': [0.001],\r\n",
        "#                  'alpha': [0.0001],\r\n",
        "#                  'max_iter': [1000],}\r\n",
        "\r\n",
        "#rgr = GridSearchCV(MLPRegressor(), parameter_grid,\r\n",
        "#                   cv = 5, verbose=True, pre_dispatch='2*n_jobs')\r\n",
        "#rgr.fit(X_train, y_train)\r\n",
        "\r\n",
        "#train_mse = mean_squared_error(y_train, rgr.predict(X_train))"
      ],
      "execution_count": 15,
      "outputs": []
    },
    {
      "cell_type": "code",
      "metadata": {
        "id": "1oEt8fBDUNS6"
      },
      "source": [
        "#test_mse = mean_squared_error(y_test, rgr.predict(X_test))\r\n",
        "\r\n",
        "#print(rgr.best_params_)\r\n",
        "#print(rgr.best_score_)\r\n",
        "#print(\"Train MSE:\", np.round(train_mse,2))\r\n",
        "#print(\"Test MSE:\", np.round(test_mse,2))"
      ],
      "execution_count": 16,
      "outputs": []
    },
    {
      "cell_type": "code",
      "metadata": {
        "colab": {
          "base_uri": "https://localhost:8080/"
        },
        "id": "-rFUO9A92R8T",
        "outputId": "3bd330ed-4f98-4683-c4e3-de0d45f0966e"
      },
      "source": [
        "from sklearn.neural_network import MLPRegressor\n",
        "\n",
        "model_3 = MLPRegressor(activation='relu', alpha=0.0001, batch_size='auto', beta_1=0.9,\n",
        "        beta_2=0.999, early_stopping=False, epsilon=1e-08,\n",
        "        hidden_layer_sizes=2, learning_rate='constant',\n",
        "        learning_rate_init=0.001, max_iter=1000, momentum=0.9,\n",
        "        nesterovs_momentum=True, power_t=0.5, random_state=None,\n",
        "        shuffle=True, solver='sgd', tol=0.0001, validation_fraction=0.1,\n",
        "        verbose=1, warm_start=False)\n",
        "\n",
        "model_3.fit(X_train, y_train)"
      ],
      "execution_count": 17,
      "outputs": [
        {
          "output_type": "stream",
          "text": [
            "Iteration 1, loss = 1.24076987\n",
            "Iteration 2, loss = 1.13553883\n",
            "Iteration 3, loss = 1.12398074\n",
            "Iteration 4, loss = 1.11229200\n",
            "Iteration 5, loss = 1.09957426\n",
            "Iteration 6, loss = 1.09099747\n",
            "Iteration 7, loss = 1.08514776\n",
            "Iteration 8, loss = 1.08147313\n",
            "Iteration 9, loss = 1.07868977\n",
            "Iteration 10, loss = 1.07644075\n",
            "Iteration 11, loss = 1.07481919\n",
            "Iteration 12, loss = 1.07324695\n",
            "Iteration 13, loss = 1.07216948\n",
            "Iteration 14, loss = 1.07170531\n",
            "Iteration 15, loss = 1.07074336\n",
            "Iteration 16, loss = 1.07016431\n",
            "Iteration 17, loss = 1.06926860\n",
            "Iteration 18, loss = 1.06858791\n",
            "Iteration 19, loss = 1.06847335\n",
            "Iteration 20, loss = 1.06797159\n",
            "Iteration 21, loss = 1.06751621\n",
            "Iteration 22, loss = 1.06709690\n",
            "Iteration 23, loss = 1.06646924\n",
            "Iteration 24, loss = 1.06638548\n",
            "Iteration 25, loss = 1.06627307\n",
            "Iteration 26, loss = 1.06576867\n",
            "Iteration 27, loss = 1.06591367\n",
            "Iteration 28, loss = 1.06529822\n",
            "Iteration 29, loss = 1.06516611\n",
            "Iteration 30, loss = 1.06475260\n",
            "Iteration 31, loss = 1.06476843\n",
            "Iteration 32, loss = 1.06449936\n",
            "Iteration 33, loss = 1.06467506\n",
            "Iteration 34, loss = 1.06425057\n",
            "Iteration 35, loss = 1.06400101\n",
            "Iteration 36, loss = 1.06384074\n",
            "Iteration 37, loss = 1.06391216\n",
            "Iteration 38, loss = 1.06378924\n",
            "Iteration 39, loss = 1.06346444\n",
            "Iteration 40, loss = 1.06370272\n",
            "Iteration 41, loss = 1.06312592\n",
            "Iteration 42, loss = 1.06348277\n",
            "Iteration 43, loss = 1.06316419\n",
            "Iteration 44, loss = 1.06342068\n",
            "Iteration 45, loss = 1.06288810\n",
            "Iteration 46, loss = 1.06236383\n",
            "Iteration 47, loss = 1.06252879\n",
            "Iteration 48, loss = 1.06211025\n",
            "Iteration 49, loss = 1.06195253\n",
            "Iteration 50, loss = 1.06185431\n",
            "Iteration 51, loss = 1.06203458\n",
            "Iteration 52, loss = 1.06175491\n",
            "Iteration 53, loss = 1.06169952\n",
            "Iteration 54, loss = 1.06167052\n",
            "Iteration 55, loss = 1.06101039\n",
            "Iteration 56, loss = 1.06148109\n",
            "Iteration 57, loss = 1.06115627\n",
            "Iteration 58, loss = 1.06120216\n",
            "Iteration 59, loss = 1.06106147\n",
            "Iteration 60, loss = 1.06081169\n",
            "Iteration 61, loss = 1.06069102\n",
            "Iteration 62, loss = 1.06094413\n",
            "Iteration 63, loss = 1.06046912\n",
            "Iteration 64, loss = 1.06031389\n",
            "Iteration 65, loss = 1.06042092\n",
            "Iteration 66, loss = 1.06002832\n",
            "Iteration 67, loss = 1.06012912\n",
            "Iteration 68, loss = 1.05994865\n",
            "Iteration 69, loss = 1.05940647\n",
            "Iteration 70, loss = 1.05977547\n",
            "Iteration 71, loss = 1.05939815\n",
            "Iteration 72, loss = 1.05946602\n",
            "Iteration 73, loss = 1.05935179\n",
            "Iteration 74, loss = 1.05954395\n",
            "Iteration 75, loss = 1.05945528\n",
            "Iteration 76, loss = 1.05934270\n",
            "Iteration 77, loss = 1.05895081\n",
            "Iteration 78, loss = 1.05932079\n",
            "Iteration 79, loss = 1.05863029\n",
            "Iteration 80, loss = 1.05880563\n",
            "Iteration 81, loss = 1.05895825\n",
            "Iteration 82, loss = 1.05874591\n",
            "Iteration 83, loss = 1.05865537\n",
            "Iteration 84, loss = 1.05872303\n",
            "Iteration 85, loss = 1.05838660\n",
            "Iteration 86, loss = 1.05870880\n",
            "Iteration 87, loss = 1.05827948\n",
            "Iteration 88, loss = 1.05862683\n",
            "Iteration 89, loss = 1.05836521\n",
            "Iteration 90, loss = 1.05800093\n",
            "Iteration 91, loss = 1.05810463\n",
            "Iteration 92, loss = 1.05750883\n",
            "Iteration 93, loss = 1.05779570\n",
            "Iteration 94, loss = 1.05776367\n",
            "Iteration 95, loss = 1.05752459\n",
            "Iteration 96, loss = 1.05773168\n",
            "Iteration 97, loss = 1.05766388\n",
            "Iteration 98, loss = 1.05741755\n",
            "Iteration 99, loss = 1.05746093\n",
            "Iteration 100, loss = 1.05779759\n",
            "Iteration 101, loss = 1.05701807\n",
            "Iteration 102, loss = 1.05741201\n",
            "Iteration 103, loss = 1.05714195\n",
            "Iteration 104, loss = 1.05733605\n",
            "Iteration 105, loss = 1.05700853\n",
            "Iteration 106, loss = 1.05701021\n",
            "Iteration 107, loss = 1.05715358\n",
            "Iteration 108, loss = 1.05667298\n",
            "Iteration 109, loss = 1.05691777\n",
            "Iteration 110, loss = 1.05685624\n",
            "Iteration 111, loss = 1.05639757\n",
            "Iteration 112, loss = 1.05661726\n",
            "Iteration 113, loss = 1.05656614\n",
            "Iteration 114, loss = 1.05636919\n",
            "Iteration 115, loss = 1.05638633\n",
            "Iteration 116, loss = 1.05627203\n",
            "Iteration 117, loss = 1.05652589\n",
            "Iteration 118, loss = 1.05608631\n",
            "Iteration 119, loss = 1.05645004\n",
            "Iteration 120, loss = 1.05620339\n",
            "Iteration 121, loss = 1.05646228\n",
            "Iteration 122, loss = 1.05570661\n",
            "Iteration 123, loss = 1.05640176\n",
            "Iteration 124, loss = 1.05604572\n",
            "Iteration 125, loss = 1.05520696\n",
            "Iteration 126, loss = 1.05592120\n",
            "Iteration 127, loss = 1.05574857\n",
            "Iteration 128, loss = 1.05576115\n",
            "Iteration 129, loss = 1.05578158\n",
            "Iteration 130, loss = 1.05564826\n",
            "Iteration 131, loss = 1.05567137\n",
            "Iteration 132, loss = 1.05566310\n",
            "Iteration 133, loss = 1.05561109\n",
            "Iteration 134, loss = 1.05531804\n",
            "Iteration 135, loss = 1.05589367\n",
            "Iteration 136, loss = 1.05539361\n",
            "Training loss did not improve more than tol=0.000100 for 10 consecutive epochs. Stopping.\n"
          ],
          "name": "stdout"
        },
        {
          "output_type": "execute_result",
          "data": {
            "text/plain": [
              "MLPRegressor(activation='relu', alpha=0.0001, batch_size='auto', beta_1=0.9,\n",
              "             beta_2=0.999, early_stopping=False, epsilon=1e-08,\n",
              "             hidden_layer_sizes=2, learning_rate='constant',\n",
              "             learning_rate_init=0.001, max_fun=15000, max_iter=1000,\n",
              "             momentum=0.9, n_iter_no_change=10, nesterovs_momentum=True,\n",
              "             power_t=0.5, random_state=None, shuffle=True, solver='sgd',\n",
              "             tol=0.0001, validation_fraction=0.1, verbose=1, warm_start=False)"
            ]
          },
          "metadata": {
            "tags": []
          },
          "execution_count": 17
        }
      ]
    },
    {
      "cell_type": "markdown",
      "metadata": {
        "id": "eVUxzLr-bcw5"
      },
      "source": [
        "## MODEL 4: XGBoost -  Gradient Boost Linear Regression Function"
      ]
    },
    {
      "cell_type": "code",
      "metadata": {
        "colab": {
          "base_uri": "https://localhost:8080/"
        },
        "id": "hBJ42ntWeZxa",
        "outputId": "7ac58a53-7af4-4c99-85be-bb081af6a1d6"
      },
      "source": [
        "reg = ensemble.GradientBoostingRegressor(n_estimators = 500,\r\n",
        "          max_depth = 4,\r\n",
        "          min_samples_split= 5,\r\n",
        "          learning_rate = 0.01,\r\n",
        "          loss = 'ls')\r\n",
        "reg.fit(X_train, y_train)"
      ],
      "execution_count": 18,
      "outputs": [
        {
          "output_type": "execute_result",
          "data": {
            "text/plain": [
              "GradientBoostingRegressor(alpha=0.9, ccp_alpha=0.0, criterion='friedman_mse',\n",
              "                          init=None, learning_rate=0.01, loss='ls', max_depth=4,\n",
              "                          max_features=None, max_leaf_nodes=None,\n",
              "                          min_impurity_decrease=0.0, min_impurity_split=None,\n",
              "                          min_samples_leaf=1, min_samples_split=5,\n",
              "                          min_weight_fraction_leaf=0.0, n_estimators=500,\n",
              "                          n_iter_no_change=None, presort='deprecated',\n",
              "                          random_state=None, subsample=1.0, tol=0.0001,\n",
              "                          validation_fraction=0.1, verbose=0, warm_start=False)"
            ]
          },
          "metadata": {
            "tags": []
          },
          "execution_count": 18
        }
      ]
    },
    {
      "cell_type": "code",
      "metadata": {
        "id": "RqkQIJJ6bcw8"
      },
      "source": [
        "# Set XGBoost DataMatrix\n",
        "dmatrix_train = xgboost.DMatrix(data=X_train,label=y_train)\n",
        "dmatrix_test = xgboost.DMatrix(data=X_test,label=y_test)"
      ],
      "execution_count": 19,
      "outputs": []
    },
    {
      "cell_type": "code",
      "metadata": {
        "id": "bvrLEOK4bcxA",
        "scrolled": true,
        "colab": {
          "base_uri": "https://localhost:8080/",
          "height": 1000
        },
        "outputId": "7e2837ec-045c-4766-a2f2-300639bfe600"
      },
      "source": [
        "# XGBoost\n",
        "params = {'objective': 'reg:linear', 'gamma': 0,\n",
        "          'subsample': 0.3, 'colsample_by*': 0.5, 'learning_rate': 0.1, 'max_depth': 15, 'lambda': 10,\n",
        "          'booster': 'gblinear'}\n",
        "xgb_results = {}\n",
        "xgb_model = xgboost.train(dtrain=dmatrix_train, params=params, evals_result=xgb_results,\n",
        "                          feval=rmsle, evals=[(dmatrix_test,'test'), (dmatrix_train,'train')], \n",
        "                          num_boost_round=500, early_stopping_rounds=5)\n",
        "\n",
        "plotResult(xgb_results, cv=False)\n",
        "print('RMSLE Train set:', xgb_results['train']['RMSLE'][-1])"
      ],
      "execution_count": 20,
      "outputs": [
        {
          "output_type": "stream",
          "text": [
            "[02:21:26] WARNING: /workspace/src/objective/regression_obj.cu:152: reg:linear is now deprecated in favor of reg:squarederror.\n",
            "[0]\ttest-rmse:1.54127\ttrain-rmse:1.51639\ttest-RMSLE:0.518913\ttrain-RMSLE:0.517293\n",
            "Multiple eval metrics have been passed: 'train-RMSLE' will be used for early stopping.\n",
            "\n",
            "Will train until train-RMSLE hasn't improved in 5 rounds.\n",
            "[1]\ttest-rmse:1.53444\ttrain-rmse:1.50971\ttest-RMSLE:0.513978\ttrain-RMSLE:0.512113\n",
            "[2]\ttest-rmse:1.5299\ttrain-rmse:1.50526\ttest-RMSLE:0.510663\ttrain-RMSLE:0.5086\n",
            "[3]\ttest-rmse:1.52679\ttrain-rmse:1.5022\ttest-RMSLE:0.508296\ttrain-RMSLE:0.506074\n",
            "[4]\ttest-rmse:1.52461\ttrain-rmse:1.50004\ttest-RMSLE:0.506506\ttrain-RMSLE:0.504157\n",
            "[5]\ttest-rmse:1.52304\ttrain-rmse:1.49846\ttest-RMSLE:0.505083\ttrain-RMSLE:0.502633\n",
            "[6]\ttest-rmse:1.52188\ttrain-rmse:1.49728\ttest-RMSLE:0.503909\ttrain-RMSLE:0.501376\n",
            "[7]\ttest-rmse:1.52101\ttrain-rmse:1.49638\ttest-RMSLE:0.502911\ttrain-RMSLE:0.500311\n",
            "[8]\ttest-rmse:1.52033\ttrain-rmse:1.49567\ttest-RMSLE:0.502046\ttrain-RMSLE:0.499391\n",
            "[9]\ttest-rmse:1.51981\ttrain-rmse:1.49511\ttest-RMSLE:0.501287\ttrain-RMSLE:0.498586\n",
            "[10]\ttest-rmse:1.5194\ttrain-rmse:1.49466\ttest-RMSLE:0.500614\ttrain-RMSLE:0.497876\n",
            "[11]\ttest-rmse:1.51907\ttrain-rmse:1.4943\ttest-RMSLE:0.500016\ttrain-RMSLE:0.497245\n",
            "[12]\ttest-rmse:1.5188\ttrain-rmse:1.49399\ttest-RMSLE:0.499481\ttrain-RMSLE:0.496682\n",
            "[13]\ttest-rmse:1.51859\ttrain-rmse:1.49374\ttest-RMSLE:0.499002\ttrain-RMSLE:0.49618\n",
            "[14]\ttest-rmse:1.51841\ttrain-rmse:1.49353\ttest-RMSLE:0.498572\ttrain-RMSLE:0.49573\n",
            "[15]\ttest-rmse:1.51826\ttrain-rmse:1.49335\ttest-RMSLE:0.498187\ttrain-RMSLE:0.495327\n",
            "[16]\ttest-rmse:1.51813\ttrain-rmse:1.4932\ttest-RMSLE:0.497841\ttrain-RMSLE:0.494966\n",
            "[17]\ttest-rmse:1.51803\ttrain-rmse:1.49306\ttest-RMSLE:0.497531\ttrain-RMSLE:0.494643\n",
            "[18]\ttest-rmse:1.51794\ttrain-rmse:1.49295\ttest-RMSLE:0.497252\ttrain-RMSLE:0.494352\n",
            "[19]\ttest-rmse:1.51786\ttrain-rmse:1.49286\ttest-RMSLE:0.497002\ttrain-RMSLE:0.494092\n",
            "[20]\ttest-rmse:1.5178\ttrain-rmse:1.49277\ttest-RMSLE:0.496777\ttrain-RMSLE:0.493858\n",
            "[21]\ttest-rmse:1.51774\ttrain-rmse:1.4927\ttest-RMSLE:0.496574\ttrain-RMSLE:0.493648\n",
            "[22]\ttest-rmse:1.51769\ttrain-rmse:1.49263\ttest-RMSLE:0.496393\ttrain-RMSLE:0.493459\n",
            "[23]\ttest-rmse:1.51765\ttrain-rmse:1.49257\ttest-RMSLE:0.49623\ttrain-RMSLE:0.49329\n",
            "[24]\ttest-rmse:1.51761\ttrain-rmse:1.49252\ttest-RMSLE:0.496083\ttrain-RMSLE:0.493138\n",
            "[25]\ttest-rmse:1.51758\ttrain-rmse:1.49248\ttest-RMSLE:0.495952\ttrain-RMSLE:0.493001\n",
            "[26]\ttest-rmse:1.51755\ttrain-rmse:1.49244\ttest-RMSLE:0.495833\ttrain-RMSLE:0.492879\n",
            "[27]\ttest-rmse:1.51752\ttrain-rmse:1.49241\ttest-RMSLE:0.495727\ttrain-RMSLE:0.492768\n",
            "[28]\ttest-rmse:1.5175\ttrain-rmse:1.49238\ttest-RMSLE:0.495631\ttrain-RMSLE:0.492669\n",
            "[29]\ttest-rmse:1.51748\ttrain-rmse:1.49235\ttest-RMSLE:0.495545\ttrain-RMSLE:0.49258\n",
            "[30]\ttest-rmse:1.51746\ttrain-rmse:1.49233\ttest-RMSLE:0.495468\ttrain-RMSLE:0.492501\n",
            "[31]\ttest-rmse:1.51745\ttrain-rmse:1.4923\ttest-RMSLE:0.495399\ttrain-RMSLE:0.492429\n",
            "[32]\ttest-rmse:1.51743\ttrain-rmse:1.49229\ttest-RMSLE:0.495337\ttrain-RMSLE:0.492364\n",
            "[33]\ttest-rmse:1.51742\ttrain-rmse:1.49227\ttest-RMSLE:0.49528\ttrain-RMSLE:0.492306\n",
            "[34]\ttest-rmse:1.51741\ttrain-rmse:1.49225\ttest-RMSLE:0.49523\ttrain-RMSLE:0.492254\n",
            "[35]\ttest-rmse:1.5174\ttrain-rmse:1.49224\ttest-RMSLE:0.495185\ttrain-RMSLE:0.492207\n",
            "[36]\ttest-rmse:1.51739\ttrain-rmse:1.49223\ttest-RMSLE:0.495144\ttrain-RMSLE:0.492165\n",
            "[37]\ttest-rmse:1.51738\ttrain-rmse:1.49222\ttest-RMSLE:0.495107\ttrain-RMSLE:0.492127\n",
            "[38]\ttest-rmse:1.51738\ttrain-rmse:1.49221\ttest-RMSLE:0.495075\ttrain-RMSLE:0.492093\n",
            "[39]\ttest-rmse:1.51737\ttrain-rmse:1.4922\ttest-RMSLE:0.495045\ttrain-RMSLE:0.492063\n",
            "[40]\ttest-rmse:1.51737\ttrain-rmse:1.49219\ttest-RMSLE:0.495018\ttrain-RMSLE:0.492035\n",
            "[41]\ttest-rmse:1.51736\ttrain-rmse:1.49219\ttest-RMSLE:0.494994\ttrain-RMSLE:0.492011\n",
            "[42]\ttest-rmse:1.51736\ttrain-rmse:1.49218\ttest-RMSLE:0.494973\ttrain-RMSLE:0.491988\n",
            "[43]\ttest-rmse:1.51735\ttrain-rmse:1.49217\ttest-RMSLE:0.494953\ttrain-RMSLE:0.491968\n",
            "[44]\ttest-rmse:1.51735\ttrain-rmse:1.49217\ttest-RMSLE:0.494936\ttrain-RMSLE:0.49195\n",
            "[45]\ttest-rmse:1.51735\ttrain-rmse:1.49216\ttest-RMSLE:0.49492\ttrain-RMSLE:0.491934\n",
            "[46]\ttest-rmse:1.51734\ttrain-rmse:1.49216\ttest-RMSLE:0.494906\ttrain-RMSLE:0.49192\n",
            "[47]\ttest-rmse:1.51734\ttrain-rmse:1.49216\ttest-RMSLE:0.494894\ttrain-RMSLE:0.491907\n",
            "[48]\ttest-rmse:1.51734\ttrain-rmse:1.49216\ttest-RMSLE:0.494882\ttrain-RMSLE:0.491895\n",
            "[49]\ttest-rmse:1.51734\ttrain-rmse:1.49215\ttest-RMSLE:0.494872\ttrain-RMSLE:0.491884\n",
            "[50]\ttest-rmse:1.51734\ttrain-rmse:1.49215\ttest-RMSLE:0.494863\ttrain-RMSLE:0.491875\n",
            "[51]\ttest-rmse:1.51734\ttrain-rmse:1.49215\ttest-RMSLE:0.494855\ttrain-RMSLE:0.491866\n",
            "[52]\ttest-rmse:1.51733\ttrain-rmse:1.49215\ttest-RMSLE:0.494847\ttrain-RMSLE:0.491859\n",
            "[53]\ttest-rmse:1.51733\ttrain-rmse:1.49214\ttest-RMSLE:0.49484\ttrain-RMSLE:0.491852\n",
            "[54]\ttest-rmse:1.51733\ttrain-rmse:1.49214\ttest-RMSLE:0.494834\ttrain-RMSLE:0.491846\n",
            "[55]\ttest-rmse:1.51733\ttrain-rmse:1.49214\ttest-RMSLE:0.494829\ttrain-RMSLE:0.49184\n",
            "[56]\ttest-rmse:1.51733\ttrain-rmse:1.49214\ttest-RMSLE:0.494824\ttrain-RMSLE:0.491835\n",
            "[57]\ttest-rmse:1.51733\ttrain-rmse:1.49214\ttest-RMSLE:0.49482\ttrain-RMSLE:0.49183\n",
            "[58]\ttest-rmse:1.51733\ttrain-rmse:1.49214\ttest-RMSLE:0.494816\ttrain-RMSLE:0.491826\n",
            "[59]\ttest-rmse:1.51733\ttrain-rmse:1.49214\ttest-RMSLE:0.494812\ttrain-RMSLE:0.491823\n",
            "[60]\ttest-rmse:1.51733\ttrain-rmse:1.49213\ttest-RMSLE:0.494809\ttrain-RMSLE:0.491819\n",
            "[61]\ttest-rmse:1.51733\ttrain-rmse:1.49213\ttest-RMSLE:0.494806\ttrain-RMSLE:0.491816\n",
            "[62]\ttest-rmse:1.51732\ttrain-rmse:1.49213\ttest-RMSLE:0.494804\ttrain-RMSLE:0.491814\n",
            "[63]\ttest-rmse:1.51732\ttrain-rmse:1.49213\ttest-RMSLE:0.494801\ttrain-RMSLE:0.491811\n",
            "[64]\ttest-rmse:1.51732\ttrain-rmse:1.49213\ttest-RMSLE:0.494799\ttrain-RMSLE:0.491809\n",
            "[65]\ttest-rmse:1.51732\ttrain-rmse:1.49213\ttest-RMSLE:0.494797\ttrain-RMSLE:0.491807\n",
            "[66]\ttest-rmse:1.51732\ttrain-rmse:1.49213\ttest-RMSLE:0.494796\ttrain-RMSLE:0.491806\n",
            "[67]\ttest-rmse:1.51732\ttrain-rmse:1.49213\ttest-RMSLE:0.494794\ttrain-RMSLE:0.491804\n",
            "[68]\ttest-rmse:1.51732\ttrain-rmse:1.49213\ttest-RMSLE:0.494793\ttrain-RMSLE:0.491803\n",
            "[69]\ttest-rmse:1.51732\ttrain-rmse:1.49213\ttest-RMSLE:0.494791\ttrain-RMSLE:0.491801\n",
            "[70]\ttest-rmse:1.51732\ttrain-rmse:1.49213\ttest-RMSLE:0.49479\ttrain-RMSLE:0.4918\n",
            "[71]\ttest-rmse:1.51732\ttrain-rmse:1.49213\ttest-RMSLE:0.494789\ttrain-RMSLE:0.491799\n",
            "[72]\ttest-rmse:1.51732\ttrain-rmse:1.49213\ttest-RMSLE:0.494788\ttrain-RMSLE:0.491798\n",
            "[73]\ttest-rmse:1.51732\ttrain-rmse:1.49213\ttest-RMSLE:0.494788\ttrain-RMSLE:0.491797\n",
            "[74]\ttest-rmse:1.51732\ttrain-rmse:1.49213\ttest-RMSLE:0.494787\ttrain-RMSLE:0.491797\n",
            "[75]\ttest-rmse:1.51732\ttrain-rmse:1.49213\ttest-RMSLE:0.494786\ttrain-RMSLE:0.491796\n",
            "[76]\ttest-rmse:1.51732\ttrain-rmse:1.49213\ttest-RMSLE:0.494786\ttrain-RMSLE:0.491795\n",
            "[77]\ttest-rmse:1.51732\ttrain-rmse:1.49213\ttest-RMSLE:0.494785\ttrain-RMSLE:0.491795\n",
            "[78]\ttest-rmse:1.51732\ttrain-rmse:1.49213\ttest-RMSLE:0.494785\ttrain-RMSLE:0.491794\n",
            "[79]\ttest-rmse:1.51732\ttrain-rmse:1.49213\ttest-RMSLE:0.494784\ttrain-RMSLE:0.491794\n",
            "[80]\ttest-rmse:1.51732\ttrain-rmse:1.49213\ttest-RMSLE:0.494784\ttrain-RMSLE:0.491794\n",
            "[81]\ttest-rmse:1.51732\ttrain-rmse:1.49213\ttest-RMSLE:0.494784\ttrain-RMSLE:0.491793\n",
            "[82]\ttest-rmse:1.51732\ttrain-rmse:1.49213\ttest-RMSLE:0.494783\ttrain-RMSLE:0.491793\n",
            "[83]\ttest-rmse:1.51732\ttrain-rmse:1.49213\ttest-RMSLE:0.494783\ttrain-RMSLE:0.491793\n",
            "[84]\ttest-rmse:1.51732\ttrain-rmse:1.49213\ttest-RMSLE:0.494783\ttrain-RMSLE:0.491792\n",
            "[85]\ttest-rmse:1.51732\ttrain-rmse:1.49213\ttest-RMSLE:0.494783\ttrain-RMSLE:0.491792\n",
            "[86]\ttest-rmse:1.51732\ttrain-rmse:1.49213\ttest-RMSLE:0.494782\ttrain-RMSLE:0.491792\n",
            "[87]\ttest-rmse:1.51732\ttrain-rmse:1.49213\ttest-RMSLE:0.494782\ttrain-RMSLE:0.491792\n",
            "[88]\ttest-rmse:1.51732\ttrain-rmse:1.49213\ttest-RMSLE:0.494782\ttrain-RMSLE:0.491792\n",
            "[89]\ttest-rmse:1.51732\ttrain-rmse:1.49213\ttest-RMSLE:0.494782\ttrain-RMSLE:0.491791\n",
            "[90]\ttest-rmse:1.51732\ttrain-rmse:1.49213\ttest-RMSLE:0.494782\ttrain-RMSLE:0.491791\n",
            "[91]\ttest-rmse:1.51732\ttrain-rmse:1.49213\ttest-RMSLE:0.494782\ttrain-RMSLE:0.491791\n",
            "[92]\ttest-rmse:1.51732\ttrain-rmse:1.49213\ttest-RMSLE:0.494781\ttrain-RMSLE:0.491791\n",
            "[93]\ttest-rmse:1.51732\ttrain-rmse:1.49213\ttest-RMSLE:0.494781\ttrain-RMSLE:0.491791\n",
            "[94]\ttest-rmse:1.51732\ttrain-rmse:1.49213\ttest-RMSLE:0.494781\ttrain-RMSLE:0.491791\n",
            "Stopping. Best iteration:\n",
            "[89]\ttest-rmse:1.51732\ttrain-rmse:1.49213\ttest-RMSLE:0.494782\ttrain-RMSLE:0.491791\n",
            "\n"
          ],
          "name": "stdout"
        },
        {
          "output_type": "display_data",
          "data": {
            "image/png": "[encoded data removed]",
            "text/plain": [
              "<Figure size 432x288 with 1 Axes>"
            ]
          },
          "metadata": {
            "tags": []
          }
        },
        {
          "output_type": "stream",
          "text": [
            "RMSLE Train set: 0.491791\n"
          ],
          "name": "stdout"
        }
      ]
    },
    {
      "cell_type": "markdown",
      "metadata": {
        "id": "DoFhyWI4Fr5t"
      },
      "source": [
        "# Final Results"
      ]
    },
    {
      "cell_type": "code",
      "metadata": {
        "id": "biOZdcZD2pLA",
        "colab": {
          "base_uri": "https://localhost:8080/"
        },
        "outputId": "7e03d95b-5ee5-42e9-eb25-78253fb6e32b"
      },
      "source": [
        "eval(model_1, X_test, y_test,'linear regression')\r\n",
        "print('******')\r\n",
        "eval(model_2, X_test, y_test, 'Stochastic Gradient Descent')\r\n",
        "print('******')\r\n",
        "eval(model_2i, X_test, y_test, 'Lasso regression')\r\n",
        "print('******')\r\n",
        "eval(model_3i, X_test, y_test, 'Neural Network_default')\r\n",
        "print('******')\r\n",
        "eval(model_3ii, X_test, y_test, 'Neural Network_random')\r\n",
        "print('******')\r\n",
        "eval(model_3, X_test, y_test, 'Neural Network_gridsearch')\r\n",
        "print('******')\r\n",
        "eval(reg, X_test, y_test,'Gradient Boosting Regressor')\r\n",
        "print('******')\r\n",
        "print('Gradient Boost Linear Regression _ RMSLE Test set:', xgb_results['test']['RMSLE'][-1]) "
      ],
      "execution_count": 21,
      "outputs": [
        {
          "output_type": "stream",
          "text": [
            "RMSLE of linear regression : 0.5163\n",
            "R2 value of linear regression : 0.0303\n",
            "Err value of linear regression : 0.5163\n",
            "******\n",
            "RMSLE of Stochastic Gradient Descent : 0.5472\n",
            "R2 value of Stochastic Gradient Descent : -0.0262\n",
            "Err value of Stochastic Gradient Descent : 0.5472\n",
            "******\n",
            "RMSLE of Lasso regression : 0.5161\n",
            "R2 value of Lasso regression : 0.0302\n",
            "Err value of Lasso regression : 0.5161\n",
            "******\n",
            "RMSLE of Neural Network_default : 0.6090\n",
            "R2 value of Neural Network_default : -0.2025\n",
            "Err value of Neural Network_default : 0.6090\n",
            "******\n",
            "RMSLE of Neural Network_random : 0.5372\n",
            "R2 value of Neural Network_random : 0.0097\n",
            "Err value of Neural Network_random : 0.5372\n",
            "******\n",
            "RMSLE of Neural Network_gridsearch : 0.5182\n",
            "R2 value of Neural Network_gridsearch : 0.0321\n",
            "Err value of Neural Network_gridsearch : 0.5182\n",
            "******\n",
            "RMSLE of Gradient Boosting Regressor : 0.5103\n",
            "R2 value of Gradient Boosting Regressor : 0.0365\n",
            "Err value of Gradient Boosting Regressor : 0.5103\n",
            "******\n",
            "Gradient Boost Linear Regression _ RMSLE Test set: 0.494781\n"
          ],
          "name": "stdout"
        }
      ]
    }
  ]
}
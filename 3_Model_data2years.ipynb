{
  "nbformat": 4,
  "nbformat_minor": 0,
  "metadata": {
    "colab": {
      "name": "3-Model_data2years.ipynb",
      "provenance": [],
      "collapsed_sections": [
        "S-JF0vVffnbR",
        "5pnD4X7jfrRS",
        "riX7ZDSQf1e2",
        "KdHMn2Wo3heF"
      ],
      "authorship_tag": "ABX9TyMojFfubaguw2rY7PQPV2A5",
      "include_colab_link": true
    },
    "kernelspec": {
      "display_name": "Python 3",
      "name": "python3"
    }
  },
  "cells": [
    {
      "cell_type": "markdown",
      "metadata": {
        "id": "view-in-github",
        "colab_type": "text"
      },
      "source": [
        "<a href=\"https://colab.research.google.com/github/anphantt2406/Heritage-Health-Prize/blob/main/3_Model_data2years.ipynb\" target=\"_parent\"><img src=\"https://colab.research.google.com/assets/colab-badge.svg\" alt=\"Open In Colab\"/></a>"
      ]
    },
    {
      "cell_type": "code",
      "metadata": {
        "colab": {
          "base_uri": "https://localhost:8080/"
        },
        "id": "JTp1IHuy_n9Y",
        "outputId": "cb0f43ef-d37e-4572-d404-65b57b913b6f"
      },
      "source": [
        "from google.colab import drive\r\n",
        "drive.mount('/content/drive')\r\n",
        "%cd /content/drive/My Drive/HHP_release3/new_data"
      ],
      "execution_count": 1,
      "outputs": [
        {
          "output_type": "stream",
          "text": [
            "Mounted at /content/drive\n",
            "/content/drive/My Drive/HHP_release3/new_data\n"
          ],
          "name": "stdout"
        }
      ]
    },
    {
      "cell_type": "markdown",
      "metadata": {
        "id": "S-JF0vVffnbR"
      },
      "source": [
        "#Import Library"
      ]
    },
    {
      "cell_type": "code",
      "metadata": {
        "id": "MBhQiO2v3hQM"
      },
      "source": [
        "import glob\n",
        "import math\n",
        "import pandas as pd\n",
        "import numpy as np\n",
        "import xgboost\n",
        "from sklearn.linear_model import LinearRegression, LogisticRegression, Lasso, Ridge, SGDRegressor\n",
        "from sklearn.metrics import mean_squared_error, r2_score, classification_report, roc_auc_score, plot_roc_curve\n",
        "import matplotlib.pyplot as plt\n",
        "import matplotlib.patches as mpatches\n",
        "from sklearn.model_selection import train_test_split, GridSearchCV\n",
        "from keras.layers import Dense, Activation\n",
        "from keras.models import Sequential\n",
        "from sklearn.neural_network import MLPRegressor\n",
        "from sklearn import datasets, ensemble\n",
        "from sklearn.datasets import make_regression\n",
        "\n",
        "import seaborn as sns # Library for plotting\n",
        "color = sns.color_palette()\n",
        "sns.set_style('darkgrid')\n",
        "from sklearn.svm import SVC\n",
        "from sklearn.metrics import confusion_matrix"
      ],
      "execution_count": 2,
      "outputs": []
    },
    {
      "cell_type": "markdown",
      "metadata": {
        "id": "5pnD4X7jfrRS"
      },
      "source": [
        "#Define some needed function\r\n",
        "\r\n",
        "Predictions are evaluated using root mean squared logarithmic error, referred to henceforth as RMSLE.\r\n",
        "\r\n",
        "$$\\varepsilon = \\sqrt{\\frac{1}{n}\\sum_{i=1}^{n}\\left(log(p_i+1) - log(a_i+1)^2 \\right )}$$\r\n",
        "\r\n",
        "Where:\r\n",
        "\r\n",
        "\r\n",
        "\r\n",
        "*   $i$ is a patient's unique MemberID\r\n",
        "*   $n$ is the total number of patients\r\n",
        "*   $p_i$ is the prediction made for patient $i$\r\n",
        "*   $a_i$ is the actual number of days spent in the hospital by patient $i$\r\n",
        "\r\n",
        "\r\n",
        "\r\n"
      ]
    },
    {
      "cell_type": "code",
      "metadata": {
        "id": "L75u6E2x3uHu"
      },
      "source": [
        "def RMSLE_cal(pred, actu, name=None):\n",
        "    RMSLE = round(np.sqrt(((np.log(pred + 1) - np.log(actu + 1)) ** 2).sum() / actu.shape[0]), 6).item()\n",
        "    print('RMSLE', name, ':', RMSLE)"
      ],
      "execution_count": 3,
      "outputs": []
    },
    {
      "cell_type": "code",
      "metadata": {
        "id": "PnabKSiS3xex"
      },
      "source": [
        "def rmsle(pred, dtrain):\n",
        "    \"\"\"Used for stacked in Xgboost\n",
        "    \"\"\"\n",
        "    actu = dtrain.get_label()\n",
        "    RMSLE = round(np.sqrt(((np.log(pred + 1) - np.log(actu + 1)) ** 2).sum() / actu.shape[0]), 6).item()\n",
        "    return 'RMSLE', RMSLE"
      ],
      "execution_count": 4,
      "outputs": []
    },
    {
      "cell_type": "code",
      "metadata": {
        "id": "EmhapNDRQnoC"
      },
      "source": [
        "def eval(model, X_test, y_test, name = None):\n",
        "    pred_y = model.predict(X_test) # your predicted y values\n",
        "    # The root mean square logarithmic error\n",
        "    pred_y = pred_y.clip(min=0)\n",
        "    pred_y = pred_y.clip(max=15)\n",
        "    pred_y = pred_y.round(0).astype(int)\n",
        "    msle = np.mean( (np.log(pred_y + 1) - np.log(y_test + 1)) ** 2)\n",
        "    rmsle = math.sqrt(msle)\n",
        "    from sklearn.metrics import r2_score\n",
        "    r2 = r2_score(y_test,pred_y)\n",
        "    from sklearn.metrics import mean_squared_log_error\n",
        "    err = math.sqrt(mean_squared_log_error(y_test,pred_y))\n",
        "    print(\"RMSLE of\", name, \": %.4f\" %rmsle)\n",
        "    print(\"R2 value of\", name, \": %.4f\" %r2)\n",
        "    print(\"Err value of\", name, \": %.4f\" %err)"
      ],
      "execution_count": 5,
      "outputs": []
    },
    {
      "cell_type": "code",
      "metadata": {
        "id": "doF_jqmfbcwG"
      },
      "source": [
        "def plotResult(results, cv=None):\n",
        "    fig, ax = plt.subplots()\n",
        "    if cv:\n",
        "        ax.plot(range(results.shape[0]), results['train-RMSLE-mean'])\n",
        "        ax.plot(range(results.shape[0]), results['test-RMSLE-mean'])\n",
        "    else:\n",
        "        ax.plot(range(len(results['train']['RMSLE'])), results['train']['RMSLE'])\n",
        "        ax.plot(range(len(results['test']['RMSLE'])), results['test']['RMSLE'])\n",
        "        \n",
        "    ax.set(xlabel='Boost round', ylabel='RMSLE', title='Train/Test RMSLE')\n",
        "    ax.grid()\n",
        "\n",
        "    train_patch = mpatches.Patch(color='blue', label='Train')\n",
        "    test_patch = mpatches.Patch(color='orange', label='Test')\n",
        "\n",
        "    plt.legend(handles=[train_patch, test_patch])\n",
        "    plt.show()"
      ],
      "execution_count": 6,
      "outputs": []
    },
    {
      "cell_type": "markdown",
      "metadata": {
        "id": "riX7ZDSQf1e2"
      },
      "source": [
        "#Prepare data for training and testing\r\n",
        "\r\n",
        "In this notebook, we use Claims data in Year 1 for training and validation, Claims data in Year 2 for testing."
      ]
    },
    {
      "cell_type": "code",
      "metadata": {
        "id": "pLaCH9vD5rFl"
      },
      "source": [
        "data = pd.read_csv('data2years.csv')"
      ],
      "execution_count": 7,
      "outputs": []
    },
    {
      "cell_type": "code",
      "metadata": {
        "id": "Eefb1A935rF3"
      },
      "source": [
        "y = data['TARGET']\r\n",
        "X = data.drop(['TARGET'], axis = 1)\r\n",
        "\r\n",
        "X_train, X_test, y_train, y_test = train_test_split(X, y, test_size = 0.25)"
      ],
      "execution_count": 8,
      "outputs": []
    },
    {
      "cell_type": "code",
      "metadata": {
        "id": "K9Z4wQU85rF4"
      },
      "source": [
        "from sklearn.preprocessing import StandardScaler\r\n",
        "scaler = StandardScaler()\r\n",
        "# Fit only to the training data\r\n",
        "scaler.fit(X_train)\r\n",
        "X_train = scaler.transform(X_train)\r\n",
        "X_test = scaler.transform(X_test)"
      ],
      "execution_count": 9,
      "outputs": []
    },
    {
      "cell_type": "markdown",
      "metadata": {
        "id": "5_Dy67txiTSk"
      },
      "source": [
        "# Regression"
      ]
    },
    {
      "cell_type": "markdown",
      "metadata": {
        "id": "_fN4E2PSfi7P"
      },
      "source": [
        "## MODEL 1: Linear Regression"
      ]
    },
    {
      "cell_type": "code",
      "metadata": {
        "colab": {
          "base_uri": "https://localhost:8080/",
          "height": 621
        },
        "id": "Fyj-evy7Hx4U",
        "outputId": "7aa088a8-d481-417c-cfb8-b22200a6d121"
      },
      "source": [
        "# Create linear regression object\r\n",
        "model_1 = LinearRegression()\r\n",
        "# Train the model using the training sets\r\n",
        "model_1.fit(X_train, y_train)\r\n",
        "# Predict on Test set\r\n",
        "y_pred_1 = model_1.predict(X_test)\r\n",
        "\r\n",
        "plt.figure(figsize = (15,10))\r\n",
        "plt.scatter(y_pred_1, y_test, alpha=.2, s = 60, color='r') #alpha helps to show overlapping data\r\n",
        "plt.xlabel('DIH prediction')\r\n",
        "plt.ylabel('Actual DIH')\r\n",
        "plt.title('Linear Regression Model')\r\n",
        "plt.show()"
      ],
      "execution_count": 10,
      "outputs": [
        {
          "output_type": "display_data",
          "data": {
            "image/png": "[encoded data removed]",
            "text/plain": [
              "<Figure size 1080x720 with 1 Axes>"
            ]
          },
          "metadata": {
            "tags": []
          }
        }
      ]
    },
    {
      "cell_type": "markdown",
      "metadata": {
        "id": "KdHMn2Wo3heF"
      },
      "source": [
        "## MODEL 2: Stochastic Gradient Descent"
      ]
    },
    {
      "cell_type": "code",
      "metadata": {
        "colab": {
          "base_uri": "https://localhost:8080/"
        },
        "id": "VviJ28km1SLZ",
        "outputId": "8addea5f-0c04-429c-d13a-be93418fe38b"
      },
      "source": [
        "from sklearn.linear_model import SGDRegressor\r\n",
        "\r\n",
        "model_2 = SGDRegressor(max_iter=3000, tol=1e-1)\r\n",
        "model_2.fit(X_train, y_train)\r\n",
        "eval(model_2, X_train, y_train, 'Stochastic Gradient Descent')"
      ],
      "execution_count": 11,
      "outputs": [
        {
          "output_type": "stream",
          "text": [
            "RMSLE of Stochastic Gradient Descent : 0.5240\n",
            "R2 value of Stochastic Gradient Descent : -0.0150\n",
            "Err value of Stochastic Gradient Descent : 0.5240\n"
          ],
          "name": "stdout"
        }
      ]
    },
    {
      "cell_type": "code",
      "metadata": {
        "colab": {
          "base_uri": "https://localhost:8080/"
        },
        "id": "LzG6l6Y1Es2r",
        "outputId": "ba9c421c-361b-4e31-d6f2-fa54ab6bf8b7"
      },
      "source": [
        "model_2i = Lasso(alpha=0.001, copy_X=True, fit_intercept=True, max_iter=5000,\r\n",
        "     normalize=False, positive=False, precompute=False, random_state=None,\r\n",
        "     selection='cyclic', tol=0.0001, warm_start=False)\r\n",
        "model_2i.fit(X_train, y_train)\r\n",
        "eval(model_2i, X_train, y_train, 'Lasso regression')"
      ],
      "execution_count": 12,
      "outputs": [
        {
          "output_type": "stream",
          "text": [
            "RMSLE of Lasso regression : 0.5096\n",
            "R2 value of Lasso regression : 0.0327\n",
            "Err value of Lasso regression : 0.5096\n"
          ],
          "name": "stdout"
        }
      ]
    },
    {
      "cell_type": "markdown",
      "metadata": {
        "id": "74HgPgHvfaKT"
      },
      "source": [
        "##MODEL 3: Neural Network"
      ]
    },
    {
      "cell_type": "code",
      "metadata": {
        "id": "RVCA7wgHlj9Y"
      },
      "source": [
        "#(i) Neural Network with default hyperparameters\r\n",
        "model_3i = MLPRegressor(random_state=1, max_iter=500).fit(X_train, y_train)"
      ],
      "execution_count": 13,
      "outputs": []
    },
    {
      "cell_type": "code",
      "metadata": {
        "id": "e1WcOea9Qr4G",
        "colab": {
          "base_uri": "https://localhost:8080/"
        },
        "outputId": "4f0fa0b5-82d1-47ea-bb16-03ea641836fe"
      },
      "source": [
        "#(ii) random hyperparameter\n",
        "model_3ii = MLPRegressor(activation='relu', alpha=0.0001, batch_size='auto', beta_1=0.9,\n",
        "        beta_2=0.999, early_stopping=False, epsilon=1e-08,\n",
        "        hidden_layer_sizes=7, learning_rate='adaptive',\n",
        "        learning_rate_init=0.001, max_iter=3000, momentum=0.9,\n",
        "        nesterovs_momentum=True, power_t=0.5, random_state=None,\n",
        "        shuffle=True, solver='adam', tol=0.0001, validation_fraction=0.1,\n",
        "        verbose=1, warm_start=False)\n",
        "\n",
        "model_3ii.fit(X_train, y_train)"
      ],
      "execution_count": 14,
      "outputs": [
        {
          "output_type": "stream",
          "text": [
            "Iteration 1, loss = 2.01183581\n",
            "Iteration 2, loss = 1.28886533\n",
            "Iteration 3, loss = 1.18971380\n",
            "Iteration 4, loss = 1.14444186\n",
            "Iteration 5, loss = 1.11848345\n",
            "Iteration 6, loss = 1.10449351\n",
            "Iteration 7, loss = 1.09595647\n",
            "Iteration 8, loss = 1.08982138\n",
            "Iteration 9, loss = 1.08627868\n",
            "Iteration 10, loss = 1.08296629\n",
            "Iteration 11, loss = 1.08134019\n",
            "Iteration 12, loss = 1.07830850\n",
            "Iteration 13, loss = 1.07730870\n",
            "Iteration 14, loss = 1.07503915\n",
            "Iteration 15, loss = 1.07377447\n",
            "Iteration 16, loss = 1.07349387\n",
            "Iteration 17, loss = 1.07220679\n",
            "Iteration 18, loss = 1.07177735\n",
            "Iteration 19, loss = 1.07010366\n",
            "Iteration 20, loss = 1.06897508\n",
            "Iteration 21, loss = 1.06887601\n",
            "Iteration 22, loss = 1.06811509\n",
            "Iteration 23, loss = 1.06741536\n",
            "Iteration 24, loss = 1.06730170\n",
            "Iteration 25, loss = 1.06622834\n",
            "Iteration 26, loss = 1.06561391\n",
            "Iteration 27, loss = 1.06510475\n",
            "Iteration 28, loss = 1.06374685\n",
            "Iteration 29, loss = 1.06316882\n",
            "Iteration 30, loss = 1.06249026\n",
            "Iteration 31, loss = 1.06210015\n",
            "Iteration 32, loss = 1.06212953\n",
            "Iteration 33, loss = 1.06097113\n",
            "Iteration 34, loss = 1.05983311\n",
            "Iteration 35, loss = 1.06024698\n",
            "Iteration 36, loss = 1.05928790\n",
            "Iteration 37, loss = 1.05943556\n",
            "Iteration 38, loss = 1.05823458\n",
            "Iteration 39, loss = 1.05784812\n",
            "Iteration 40, loss = 1.05820059\n",
            "Iteration 41, loss = 1.05656449\n",
            "Iteration 42, loss = 1.05637980\n",
            "Iteration 43, loss = 1.05666068\n",
            "Iteration 44, loss = 1.05543335\n",
            "Iteration 45, loss = 1.05620077\n",
            "Iteration 46, loss = 1.05426219\n",
            "Iteration 47, loss = 1.05441892\n",
            "Iteration 48, loss = 1.05498755\n",
            "Iteration 49, loss = 1.05300949\n",
            "Iteration 50, loss = 1.05404130\n",
            "Iteration 51, loss = 1.05307112\n",
            "Iteration 52, loss = 1.05191666\n",
            "Iteration 53, loss = 1.05279858\n",
            "Iteration 54, loss = 1.05125968\n",
            "Iteration 55, loss = 1.05213224\n",
            "Iteration 56, loss = 1.05221431\n",
            "Iteration 57, loss = 1.05107313\n",
            "Iteration 58, loss = 1.05090981\n",
            "Iteration 59, loss = 1.05100542\n",
            "Iteration 60, loss = 1.05050497\n",
            "Iteration 61, loss = 1.05025616\n",
            "Iteration 62, loss = 1.05050557\n",
            "Iteration 63, loss = 1.04931608\n",
            "Iteration 64, loss = 1.04948166\n",
            "Iteration 65, loss = 1.04932747\n",
            "Iteration 66, loss = 1.04951200\n",
            "Iteration 67, loss = 1.04896075\n",
            "Iteration 68, loss = 1.04926540\n",
            "Iteration 69, loss = 1.04824224\n",
            "Iteration 70, loss = 1.04825263\n",
            "Iteration 71, loss = 1.04792010\n",
            "Iteration 72, loss = 1.04839526\n",
            "Iteration 73, loss = 1.04755614\n",
            "Iteration 74, loss = 1.04748656\n",
            "Iteration 75, loss = 1.04695139\n",
            "Iteration 76, loss = 1.04682755\n",
            "Iteration 77, loss = 1.04705663\n",
            "Iteration 78, loss = 1.04630890\n",
            "Iteration 79, loss = 1.04629855\n",
            "Iteration 80, loss = 1.04633553\n",
            "Iteration 81, loss = 1.04535660\n",
            "Iteration 82, loss = 1.04603003\n",
            "Iteration 83, loss = 1.04578914\n",
            "Iteration 84, loss = 1.04565090\n",
            "Iteration 85, loss = 1.04467573\n",
            "Iteration 86, loss = 1.04523556\n",
            "Iteration 87, loss = 1.04459747\n",
            "Iteration 88, loss = 1.04438096\n",
            "Iteration 89, loss = 1.04445876\n",
            "Iteration 90, loss = 1.04440436\n",
            "Iteration 91, loss = 1.04454953\n",
            "Iteration 92, loss = 1.04436177\n",
            "Iteration 93, loss = 1.04415672\n",
            "Iteration 94, loss = 1.04339627\n",
            "Iteration 95, loss = 1.04429297\n",
            "Iteration 96, loss = 1.04357588\n",
            "Iteration 97, loss = 1.04333558\n",
            "Iteration 98, loss = 1.04363358\n",
            "Iteration 99, loss = 1.04312269\n",
            "Iteration 100, loss = 1.04348297\n",
            "Iteration 101, loss = 1.04216752\n",
            "Iteration 102, loss = 1.04294181\n",
            "Iteration 103, loss = 1.04229309\n",
            "Iteration 104, loss = 1.04264549\n",
            "Iteration 105, loss = 1.04257239\n",
            "Iteration 106, loss = 1.04235367\n",
            "Iteration 107, loss = 1.04195651\n",
            "Iteration 108, loss = 1.04127532\n",
            "Iteration 109, loss = 1.04175330\n",
            "Iteration 110, loss = 1.04110601\n",
            "Iteration 111, loss = 1.04131987\n",
            "Iteration 112, loss = 1.04152019\n",
            "Iteration 113, loss = 1.04094208\n",
            "Iteration 114, loss = 1.04168650\n",
            "Iteration 115, loss = 1.04078227\n",
            "Iteration 116, loss = 1.04086580\n",
            "Iteration 117, loss = 1.04033978\n",
            "Iteration 118, loss = 1.04133267\n",
            "Iteration 119, loss = 1.04089000\n",
            "Iteration 120, loss = 1.03993227\n",
            "Iteration 121, loss = 1.04035194\n",
            "Iteration 122, loss = 1.03980607\n",
            "Iteration 123, loss = 1.04002955\n",
            "Iteration 124, loss = 1.03941490\n",
            "Iteration 125, loss = 1.04057389\n",
            "Iteration 126, loss = 1.03917884\n",
            "Iteration 127, loss = 1.03978868\n",
            "Iteration 128, loss = 1.03898054\n",
            "Iteration 129, loss = 1.04045335\n",
            "Iteration 130, loss = 1.03975440\n",
            "Iteration 131, loss = 1.03932373\n",
            "Iteration 132, loss = 1.03917748\n",
            "Iteration 133, loss = 1.03852982\n",
            "Iteration 134, loss = 1.03788343\n",
            "Iteration 135, loss = 1.03878768\n",
            "Iteration 136, loss = 1.03781592\n",
            "Iteration 137, loss = 1.03920893\n",
            "Iteration 138, loss = 1.03893239\n",
            "Iteration 139, loss = 1.03872408\n",
            "Iteration 140, loss = 1.03825912\n",
            "Iteration 141, loss = 1.03740591\n",
            "Iteration 142, loss = 1.03779268\n",
            "Iteration 143, loss = 1.03783786\n",
            "Iteration 144, loss = 1.03808066\n",
            "Iteration 145, loss = 1.03762754\n",
            "Iteration 146, loss = 1.03809890\n",
            "Iteration 147, loss = 1.03808394\n",
            "Iteration 148, loss = 1.03809824\n",
            "Iteration 149, loss = 1.03753822\n",
            "Iteration 150, loss = 1.03741094\n",
            "Iteration 151, loss = 1.03859018\n",
            "Iteration 152, loss = 1.03776285\n",
            "Training loss did not improve more than tol=0.000100 for 10 consecutive epochs. Stopping.\n"
          ],
          "name": "stdout"
        },
        {
          "output_type": "execute_result",
          "data": {
            "text/plain": [
              "MLPRegressor(activation='relu', alpha=0.0001, batch_size='auto', beta_1=0.9,\n",
              "             beta_2=0.999, early_stopping=False, epsilon=1e-08,\n",
              "             hidden_layer_sizes=7, learning_rate='adaptive',\n",
              "             learning_rate_init=0.001, max_fun=15000, max_iter=3000,\n",
              "             momentum=0.9, n_iter_no_change=10, nesterovs_momentum=True,\n",
              "             power_t=0.5, random_state=None, shuffle=True, solver='adam',\n",
              "             tol=0.0001, validation_fraction=0.1, verbose=1, warm_start=False)"
            ]
          },
          "metadata": {
            "tags": []
          },
          "execution_count": 14
        }
      ]
    },
    {
      "cell_type": "markdown",
      "metadata": {
        "id": "BRabSrujJ44t"
      },
      "source": [
        "**Hyperparameter Optimization using Grid Search**"
      ]
    },
    {
      "cell_type": "code",
      "metadata": {
        "id": "uBfOkQNpeO2n"
      },
      "source": [
        "#parameter_grid = {'hidden_layer_sizes': [i for i in range(1,10)],\r\n",
        "#                  'activation': ['tanh', 'relu'],\r\n",
        "#                  'solver': ['sgd','adam'],\r\n",
        "#                  'learning_rate': ['constant'],\r\n",
        "#                  'learning_rate_init': [0.001],\r\n",
        "#                  'alpha': [0.0001],\r\n",
        "#                  'max_iter': [1000],}\r\n",
        "\r\n",
        "#rgr = GridSearchCV(MLPRegressor(), parameter_grid,\r\n",
        "#                   cv = 5, verbose=True, pre_dispatch='2*n_jobs')\r\n",
        "#rgr.fit(X_train, y_train)\r\n",
        "\r\n",
        "#train_mse = mean_squared_error(y_train, rgr.predict(X_train))"
      ],
      "execution_count": null,
      "outputs": []
    },
    {
      "cell_type": "code",
      "metadata": {
        "colab": {
          "base_uri": "https://localhost:8080/"
        },
        "id": "1oEt8fBDUNS6",
        "outputId": "87265500-fe13-449d-a191-03d39981f165"
      },
      "source": [
        "#test_mse = mean_squared_error(y_test, rgr.predict(X_test))\r\n",
        "\r\n",
        "#print(rgr.best_params_)\r\n",
        "#print(rgr.best_score_)\r\n",
        "#print(\"Train MSE:\", np.round(train_mse,2))\r\n",
        "#print(\"Test MSE:\", np.round(test_mse,2))"
      ],
      "execution_count": 16,
      "outputs": [
        {
          "output_type": "stream",
          "text": [
            "{'activation': 'relu', 'alpha': 0.0001, 'hidden_layer_sizes': 2, 'learning_rate': 'constant', 'learning_rate_init': 0.001, 'max_iter': 1000, 'solver': 'sgd'}\n",
            "0.05993563351359321\n",
            "Train MSE: 2.15\n",
            "Test MSE: 2.24\n"
          ],
          "name": "stdout"
        }
      ]
    },
    {
      "cell_type": "code",
      "metadata": {
        "colab": {
          "base_uri": "https://localhost:8080/"
        },
        "id": "-rFUO9A92R8T",
        "outputId": "b5953bea-f978-46cb-e9e3-78195877b8b9"
      },
      "source": [
        "from sklearn.neural_network import MLPRegressor\n",
        "\n",
        "model_3 = MLPRegressor(activation='relu', alpha=0.0001, batch_size='auto', beta_1=0.9,\n",
        "        beta_2=0.999, early_stopping=False, epsilon=1e-08,\n",
        "        hidden_layer_sizes=2, learning_rate='constant',\n",
        "        learning_rate_init=0.001, max_iter=1000, momentum=0.9,\n",
        "        nesterovs_momentum=True, power_t=0.5, random_state=None,\n",
        "        shuffle=True, solver='sgd', tol=0.0001, validation_fraction=0.1,\n",
        "        verbose=1, warm_start=False)\n",
        "\n",
        "model_3.fit(X_train, y_train)"
      ],
      "execution_count": 17,
      "outputs": [
        {
          "output_type": "stream",
          "text": [
            "Iteration 1, loss = 1.23071058\n",
            "Iteration 2, loss = 1.15020959\n",
            "Iteration 3, loss = 1.12980220\n",
            "Iteration 4, loss = 1.11687713\n",
            "Iteration 5, loss = 1.10858897\n",
            "Iteration 6, loss = 1.10370007\n",
            "Iteration 7, loss = 1.10016037\n",
            "Iteration 8, loss = 1.09680153\n",
            "Iteration 9, loss = 1.09425357\n",
            "Iteration 10, loss = 1.09223314\n",
            "Iteration 11, loss = 1.09077233\n",
            "Iteration 12, loss = 1.08975507\n",
            "Iteration 13, loss = 1.08867636\n",
            "Iteration 14, loss = 1.08807592\n",
            "Iteration 15, loss = 1.08709364\n",
            "Iteration 16, loss = 1.08636056\n",
            "Iteration 17, loss = 1.08582640\n",
            "Iteration 18, loss = 1.08542807\n",
            "Iteration 19, loss = 1.08506307\n",
            "Iteration 20, loss = 1.08456471\n",
            "Iteration 21, loss = 1.08428460\n",
            "Iteration 22, loss = 1.08391076\n",
            "Iteration 23, loss = 1.08343076\n",
            "Iteration 24, loss = 1.08339691\n",
            "Iteration 25, loss = 1.08305499\n",
            "Iteration 26, loss = 1.08297027\n",
            "Iteration 27, loss = 1.08260782\n",
            "Iteration 28, loss = 1.08253084\n",
            "Iteration 29, loss = 1.08233679\n",
            "Iteration 30, loss = 1.08201055\n",
            "Iteration 31, loss = 1.08180710\n",
            "Iteration 32, loss = 1.08143982\n",
            "Iteration 33, loss = 1.08093089\n",
            "Iteration 34, loss = 1.08121409\n",
            "Iteration 35, loss = 1.08110650\n",
            "Iteration 36, loss = 1.08057799\n",
            "Iteration 37, loss = 1.08091319\n",
            "Iteration 38, loss = 1.08062723\n",
            "Iteration 39, loss = 1.08068238\n",
            "Iteration 40, loss = 1.08034660\n",
            "Iteration 41, loss = 1.08022601\n",
            "Iteration 42, loss = 1.08009249\n",
            "Iteration 43, loss = 1.08001387\n",
            "Iteration 44, loss = 1.07977797\n",
            "Iteration 45, loss = 1.07973335\n",
            "Iteration 46, loss = 1.07947393\n",
            "Iteration 47, loss = 1.07974669\n",
            "Iteration 48, loss = 1.07941380\n",
            "Iteration 49, loss = 1.07936072\n",
            "Iteration 50, loss = 1.07911962\n",
            "Iteration 51, loss = 1.07904387\n",
            "Iteration 52, loss = 1.07865260\n",
            "Iteration 53, loss = 1.07887846\n",
            "Iteration 54, loss = 1.07843563\n",
            "Iteration 55, loss = 1.07850127\n",
            "Iteration 56, loss = 1.07834730\n",
            "Iteration 57, loss = 1.07860056\n",
            "Iteration 58, loss = 1.07813498\n",
            "Iteration 59, loss = 1.07778436\n",
            "Iteration 60, loss = 1.07790237\n",
            "Iteration 61, loss = 1.07759249\n",
            "Iteration 62, loss = 1.07767971\n",
            "Iteration 63, loss = 1.07711418\n",
            "Iteration 64, loss = 1.07710566\n",
            "Iteration 65, loss = 1.07704476\n",
            "Iteration 66, loss = 1.07694496\n",
            "Iteration 67, loss = 1.07662493\n",
            "Iteration 68, loss = 1.07660427\n",
            "Iteration 69, loss = 1.07653487\n",
            "Iteration 70, loss = 1.07615706\n",
            "Iteration 71, loss = 1.07625610\n",
            "Iteration 72, loss = 1.07615615\n",
            "Iteration 73, loss = 1.07584005\n",
            "Iteration 74, loss = 1.07599664\n",
            "Iteration 75, loss = 1.07538003\n",
            "Iteration 76, loss = 1.07600918\n",
            "Iteration 77, loss = 1.07550571\n",
            "Iteration 78, loss = 1.07541935\n",
            "Iteration 79, loss = 1.07552668\n",
            "Iteration 80, loss = 1.07535905\n",
            "Iteration 81, loss = 1.07520173\n",
            "Iteration 82, loss = 1.07500445\n",
            "Iteration 83, loss = 1.07509532\n",
            "Iteration 84, loss = 1.07488260\n",
            "Iteration 85, loss = 1.07475358\n",
            "Iteration 86, loss = 1.07450101\n",
            "Iteration 87, loss = 1.07457735\n",
            "Iteration 88, loss = 1.07438751\n",
            "Iteration 89, loss = 1.07422200\n",
            "Iteration 90, loss = 1.07433218\n",
            "Iteration 91, loss = 1.07422172\n",
            "Iteration 92, loss = 1.07438141\n",
            "Iteration 93, loss = 1.07403316\n",
            "Iteration 94, loss = 1.07409772\n",
            "Iteration 95, loss = 1.07389234\n",
            "Iteration 96, loss = 1.07354043\n",
            "Iteration 97, loss = 1.07397702\n",
            "Iteration 98, loss = 1.07392438\n",
            "Iteration 99, loss = 1.07324661\n",
            "Iteration 100, loss = 1.07392544\n",
            "Iteration 101, loss = 1.07361398\n",
            "Iteration 102, loss = 1.07368215\n",
            "Iteration 103, loss = 1.07363935\n",
            "Iteration 104, loss = 1.07318658\n",
            "Iteration 105, loss = 1.07320801\n",
            "Iteration 106, loss = 1.07344298\n",
            "Iteration 107, loss = 1.07311232\n",
            "Iteration 108, loss = 1.07314940\n",
            "Iteration 109, loss = 1.07286036\n",
            "Iteration 110, loss = 1.07295840\n",
            "Iteration 111, loss = 1.07283702\n",
            "Iteration 112, loss = 1.07289231\n",
            "Iteration 113, loss = 1.07303030\n",
            "Iteration 114, loss = 1.07302209\n",
            "Iteration 115, loss = 1.07305550\n",
            "Iteration 116, loss = 1.07257550\n",
            "Iteration 117, loss = 1.07253205\n",
            "Iteration 118, loss = 1.07275994\n",
            "Iteration 119, loss = 1.07279450\n",
            "Iteration 120, loss = 1.07267331\n",
            "Iteration 121, loss = 1.07248879\n",
            "Iteration 122, loss = 1.07270584\n",
            "Iteration 123, loss = 1.07272183\n",
            "Iteration 124, loss = 1.07251933\n",
            "Iteration 125, loss = 1.07258502\n",
            "Iteration 126, loss = 1.07240844\n",
            "Iteration 127, loss = 1.07256695\n",
            "Training loss did not improve more than tol=0.000100 for 10 consecutive epochs. Stopping.\n",
            "RMSLE of Neural Network_gridsearch : 0.5183\n",
            "R2 value of Neural Network_gridsearch : 0.0234\n",
            "Err value of Neural Network_gridsearch : 0.5183\n"
          ],
          "name": "stdout"
        }
      ]
    },
    {
      "cell_type": "markdown",
      "metadata": {
        "id": "eVUxzLr-bcw5"
      },
      "source": [
        "## MODEL 4: XGBoost -  Gradient Boost Linear Regression Function"
      ]
    },
    {
      "cell_type": "code",
      "metadata": {
        "colab": {
          "base_uri": "https://localhost:8080/"
        },
        "id": "hBJ42ntWeZxa",
        "outputId": "dcf3a7a6-d200-4cf5-bc6d-c762313930cf"
      },
      "source": [
        "reg = ensemble.GradientBoostingRegressor(n_estimators = 500,\r\n",
        "          max_depth = 4,\r\n",
        "          min_samples_split= 5,\r\n",
        "          learning_rate = 0.01,\r\n",
        "          loss = 'ls')\r\n",
        "reg.fit(X_train, y_train)"
      ],
      "execution_count": 18,
      "outputs": [
        {
          "output_type": "execute_result",
          "data": {
            "text/plain": [
              "GradientBoostingRegressor(alpha=0.9, ccp_alpha=0.0, criterion='friedman_mse',\n",
              "                          init=None, learning_rate=0.01, loss='ls', max_depth=4,\n",
              "                          max_features=None, max_leaf_nodes=None,\n",
              "                          min_impurity_decrease=0.0, min_impurity_split=None,\n",
              "                          min_samples_leaf=1, min_samples_split=5,\n",
              "                          min_weight_fraction_leaf=0.0, n_estimators=500,\n",
              "                          n_iter_no_change=None, presort='deprecated',\n",
              "                          random_state=None, subsample=1.0, tol=0.0001,\n",
              "                          validation_fraction=0.1, verbose=0, warm_start=False)"
            ]
          },
          "metadata": {
            "tags": []
          },
          "execution_count": 18
        }
      ]
    },
    {
      "cell_type": "code",
      "metadata": {
        "id": "RqkQIJJ6bcw8"
      },
      "source": [
        "# Set XGBoost DataMatrix\n",
        "dmatrix_train = xgboost.DMatrix(data=X_train,label=y_train)\n",
        "dmatrix_test = xgboost.DMatrix(data=X_test,label=y_test)"
      ],
      "execution_count": 19,
      "outputs": []
    },
    {
      "cell_type": "code",
      "metadata": {
        "id": "bvrLEOK4bcxA",
        "scrolled": true,
        "colab": {
          "base_uri": "https://localhost:8080/",
          "height": 1000
        },
        "outputId": "bd4b9ccb-8d59-4047-cf5e-6a64e2605cc1"
      },
      "source": [
        "# XGBoost\n",
        "params = {'objective': 'reg:linear', 'gamma': 0,\n",
        "          'subsample': 0.3, 'colsample_by*': 0.5, 'learning_rate': 0.1, 'max_depth': 15, 'lambda': 10,\n",
        "          'booster': 'gblinear'}\n",
        "xgb_results = {}\n",
        "xgb_model = xgboost.train(dtrain=dmatrix_train, params=params, evals_result=xgb_results,\n",
        "                          feval=rmsle, evals=[(dmatrix_test,'test'), (dmatrix_train,'train')], \n",
        "                          num_boost_round=500, early_stopping_rounds=5)\n",
        "\n",
        "plotResult(xgb_results, cv=False)\n",
        "print('RMSLE Train set:', xgb_results['train']['RMSLE'][-1])"
      ],
      "execution_count": 20,
      "outputs": [
        {
          "output_type": "stream",
          "text": [
            "[11:01:31] WARNING: /workspace/src/objective/regression_obj.cu:152: reg:linear is now deprecated in favor of reg:squarederror.\n",
            "[0]\ttest-rmse:1.5338\ttrain-rmse:1.51988\ttest-RMSLE:0.518878\ttrain-RMSLE:0.517814\n",
            "Multiple eval metrics have been passed: 'train-RMSLE' will be used for early stopping.\n",
            "\n",
            "Will train until train-RMSLE hasn't improved in 5 rounds.\n",
            "[1]\ttest-rmse:1.5278\ttrain-rmse:1.51343\ttest-RMSLE:0.513975\ttrain-RMSLE:0.512835\n",
            "[2]\ttest-rmse:1.52379\ttrain-rmse:1.50909\ttest-RMSLE:0.510625\ttrain-RMSLE:0.50943\n",
            "[3]\ttest-rmse:1.52105\ttrain-rmse:1.50609\ttest-RMSLE:0.508212\ttrain-RMSLE:0.506975\n",
            "[4]\ttest-rmse:1.51911\ttrain-rmse:1.50395\ttest-RMSLE:0.506386\ttrain-RMSLE:0.505115\n",
            "[5]\ttest-rmse:1.51772\ttrain-rmse:1.50239\ttest-RMSLE:0.504942\ttrain-RMSLE:0.503643\n",
            "[6]\ttest-rmse:1.51669\ttrain-rmse:1.50124\ttest-RMSLE:0.50376\ttrain-RMSLE:0.502436\n",
            "[7]\ttest-rmse:1.51591\ttrain-rmse:1.50035\ttest-RMSLE:0.502764\ttrain-RMSLE:0.501418\n",
            "[8]\ttest-rmse:1.5153\ttrain-rmse:1.49967\ttest-RMSLE:0.501909\ttrain-RMSLE:0.500543\n",
            "[9]\ttest-rmse:1.51483\ttrain-rmse:1.49914\ttest-RMSLE:0.501164\ttrain-RMSLE:0.49978\n",
            "[10]\ttest-rmse:1.51446\ttrain-rmse:1.49871\ttest-RMSLE:0.500509\ttrain-RMSLE:0.499108\n",
            "[11]\ttest-rmse:1.51416\ttrain-rmse:1.49836\ttest-RMSLE:0.499928\ttrain-RMSLE:0.498512\n",
            "[12]\ttest-rmse:1.51392\ttrain-rmse:1.49808\ttest-RMSLE:0.499412\ttrain-RMSLE:0.497983\n",
            "[13]\ttest-rmse:1.51372\ttrain-rmse:1.49785\ttest-RMSLE:0.498951\ttrain-RMSLE:0.49751\n",
            "[14]\ttest-rmse:1.51355\ttrain-rmse:1.49765\ttest-RMSLE:0.498539\ttrain-RMSLE:0.497087\n",
            "[15]\ttest-rmse:1.51341\ttrain-rmse:1.49749\ttest-RMSLE:0.498171\ttrain-RMSLE:0.496708\n",
            "[16]\ttest-rmse:1.5133\ttrain-rmse:1.49736\ttest-RMSLE:0.49784\ttrain-RMSLE:0.496369\n",
            "[17]\ttest-rmse:1.5132\ttrain-rmse:1.49725\ttest-RMSLE:0.497544\ttrain-RMSLE:0.496064\n",
            "[18]\ttest-rmse:1.51312\ttrain-rmse:1.49715\ttest-RMSLE:0.497278\ttrain-RMSLE:0.495791\n",
            "[19]\ttest-rmse:1.51305\ttrain-rmse:1.49706\ttest-RMSLE:0.497039\ttrain-RMSLE:0.495546\n",
            "[20]\ttest-rmse:1.51299\ttrain-rmse:1.49699\ttest-RMSLE:0.496825\ttrain-RMSLE:0.495326\n",
            "[21]\ttest-rmse:1.51293\ttrain-rmse:1.49693\ttest-RMSLE:0.496633\ttrain-RMSLE:0.495129\n",
            "[22]\ttest-rmse:1.51289\ttrain-rmse:1.49687\ttest-RMSLE:0.49646\ttrain-RMSLE:0.494951\n",
            "[23]\ttest-rmse:1.51285\ttrain-rmse:1.49682\ttest-RMSLE:0.496305\ttrain-RMSLE:0.494792\n",
            "[24]\ttest-rmse:1.51282\ttrain-rmse:1.49678\ttest-RMSLE:0.496166\ttrain-RMSLE:0.494649\n",
            "[25]\ttest-rmse:1.51279\ttrain-rmse:1.49674\ttest-RMSLE:0.496041\ttrain-RMSLE:0.49452\n",
            "[26]\ttest-rmse:1.51276\ttrain-rmse:1.49671\ttest-RMSLE:0.495929\ttrain-RMSLE:0.494405\n",
            "[27]\ttest-rmse:1.51274\ttrain-rmse:1.49668\ttest-RMSLE:0.495828\ttrain-RMSLE:0.494301\n",
            "[28]\ttest-rmse:1.51272\ttrain-rmse:1.49666\ttest-RMSLE:0.495737\ttrain-RMSLE:0.494208\n",
            "[29]\ttest-rmse:1.5127\ttrain-rmse:1.49664\ttest-RMSLE:0.495656\ttrain-RMSLE:0.494124\n",
            "[30]\ttest-rmse:1.51268\ttrain-rmse:1.49662\ttest-RMSLE:0.495582\ttrain-RMSLE:0.494048\n",
            "[31]\ttest-rmse:1.51267\ttrain-rmse:1.4966\ttest-RMSLE:0.495517\ttrain-RMSLE:0.493981\n",
            "[32]\ttest-rmse:1.51266\ttrain-rmse:1.49659\ttest-RMSLE:0.495457\ttrain-RMSLE:0.49392\n",
            "[33]\ttest-rmse:1.51265\ttrain-rmse:1.49657\ttest-RMSLE:0.495404\ttrain-RMSLE:0.493865\n",
            "[34]\ttest-rmse:1.51264\ttrain-rmse:1.49656\ttest-RMSLE:0.495356\ttrain-RMSLE:0.493816\n",
            "[35]\ttest-rmse:1.51263\ttrain-rmse:1.49655\ttest-RMSLE:0.495314\ttrain-RMSLE:0.493772\n",
            "[36]\ttest-rmse:1.51262\ttrain-rmse:1.49654\ttest-RMSLE:0.495275\ttrain-RMSLE:0.493732\n",
            "[37]\ttest-rmse:1.51261\ttrain-rmse:1.49653\ttest-RMSLE:0.49524\ttrain-RMSLE:0.493697\n",
            "[38]\ttest-rmse:1.51261\ttrain-rmse:1.49653\ttest-RMSLE:0.495209\ttrain-RMSLE:0.493664\n",
            "[39]\ttest-rmse:1.5126\ttrain-rmse:1.49652\ttest-RMSLE:0.495181\ttrain-RMSLE:0.493636\n",
            "[40]\ttest-rmse:1.5126\ttrain-rmse:1.49652\ttest-RMSLE:0.495156\ttrain-RMSLE:0.49361\n",
            "[41]\ttest-rmse:1.51259\ttrain-rmse:1.49651\ttest-RMSLE:0.495133\ttrain-RMSLE:0.493586\n",
            "[42]\ttest-rmse:1.51259\ttrain-rmse:1.4965\ttest-RMSLE:0.495113\ttrain-RMSLE:0.493565\n",
            "[43]\ttest-rmse:1.51259\ttrain-rmse:1.4965\ttest-RMSLE:0.495094\ttrain-RMSLE:0.493546\n",
            "[44]\ttest-rmse:1.51258\ttrain-rmse:1.4965\ttest-RMSLE:0.495078\ttrain-RMSLE:0.49353\n",
            "[45]\ttest-rmse:1.51258\ttrain-rmse:1.49649\ttest-RMSLE:0.495063\ttrain-RMSLE:0.493514\n",
            "[46]\ttest-rmse:1.51258\ttrain-rmse:1.49649\ttest-RMSLE:0.49505\ttrain-RMSLE:0.493501\n",
            "[47]\ttest-rmse:1.51257\ttrain-rmse:1.49649\ttest-RMSLE:0.495038\ttrain-RMSLE:0.493488\n",
            "[48]\ttest-rmse:1.51257\ttrain-rmse:1.49649\ttest-RMSLE:0.495027\ttrain-RMSLE:0.493477\n",
            "[49]\ttest-rmse:1.51257\ttrain-rmse:1.49648\ttest-RMSLE:0.495017\ttrain-RMSLE:0.493467\n",
            "[50]\ttest-rmse:1.51257\ttrain-rmse:1.49648\ttest-RMSLE:0.495008\ttrain-RMSLE:0.493458\n",
            "[51]\ttest-rmse:1.51257\ttrain-rmse:1.49648\ttest-RMSLE:0.495001\ttrain-RMSLE:0.49345\n",
            "[52]\ttest-rmse:1.51257\ttrain-rmse:1.49648\ttest-RMSLE:0.494994\ttrain-RMSLE:0.493443\n",
            "[53]\ttest-rmse:1.51256\ttrain-rmse:1.49648\ttest-RMSLE:0.494987\ttrain-RMSLE:0.493436\n",
            "[54]\ttest-rmse:1.51256\ttrain-rmse:1.49648\ttest-RMSLE:0.494982\ttrain-RMSLE:0.49343\n",
            "[55]\ttest-rmse:1.51256\ttrain-rmse:1.49647\ttest-RMSLE:0.494976\ttrain-RMSLE:0.493425\n",
            "[56]\ttest-rmse:1.51256\ttrain-rmse:1.49647\ttest-RMSLE:0.494972\ttrain-RMSLE:0.49342\n",
            "[57]\ttest-rmse:1.51256\ttrain-rmse:1.49647\ttest-RMSLE:0.494968\ttrain-RMSLE:0.493416\n",
            "[58]\ttest-rmse:1.51256\ttrain-rmse:1.49647\ttest-RMSLE:0.494964\ttrain-RMSLE:0.493412\n",
            "[59]\ttest-rmse:1.51256\ttrain-rmse:1.49647\ttest-RMSLE:0.49496\ttrain-RMSLE:0.493409\n",
            "[60]\ttest-rmse:1.51256\ttrain-rmse:1.49647\ttest-RMSLE:0.494957\ttrain-RMSLE:0.493406\n",
            "[61]\ttest-rmse:1.51256\ttrain-rmse:1.49647\ttest-RMSLE:0.494955\ttrain-RMSLE:0.493403\n",
            "[62]\ttest-rmse:1.51256\ttrain-rmse:1.49647\ttest-RMSLE:0.494952\ttrain-RMSLE:0.4934\n",
            "[63]\ttest-rmse:1.51256\ttrain-rmse:1.49647\ttest-RMSLE:0.49495\ttrain-RMSLE:0.493398\n",
            "[64]\ttest-rmse:1.51256\ttrain-rmse:1.49647\ttest-RMSLE:0.494948\ttrain-RMSLE:0.493396\n",
            "[65]\ttest-rmse:1.51256\ttrain-rmse:1.49647\ttest-RMSLE:0.494946\ttrain-RMSLE:0.493394\n",
            "[66]\ttest-rmse:1.51256\ttrain-rmse:1.49647\ttest-RMSLE:0.494945\ttrain-RMSLE:0.493393\n",
            "[67]\ttest-rmse:1.51256\ttrain-rmse:1.49647\ttest-RMSLE:0.494943\ttrain-RMSLE:0.493391\n",
            "[68]\ttest-rmse:1.51256\ttrain-rmse:1.49647\ttest-RMSLE:0.494942\ttrain-RMSLE:0.49339\n",
            "[69]\ttest-rmse:1.51256\ttrain-rmse:1.49647\ttest-RMSLE:0.494941\ttrain-RMSLE:0.493389\n",
            "[70]\ttest-rmse:1.51256\ttrain-rmse:1.49647\ttest-RMSLE:0.49494\ttrain-RMSLE:0.493388\n",
            "[71]\ttest-rmse:1.51256\ttrain-rmse:1.49647\ttest-RMSLE:0.494939\ttrain-RMSLE:0.493387\n",
            "[72]\ttest-rmse:1.51256\ttrain-rmse:1.49647\ttest-RMSLE:0.494938\ttrain-RMSLE:0.493386\n",
            "[73]\ttest-rmse:1.51256\ttrain-rmse:1.49647\ttest-RMSLE:0.494937\ttrain-RMSLE:0.493385\n",
            "[74]\ttest-rmse:1.51256\ttrain-rmse:1.49647\ttest-RMSLE:0.494937\ttrain-RMSLE:0.493384\n",
            "[75]\ttest-rmse:1.51256\ttrain-rmse:1.49647\ttest-RMSLE:0.494936\ttrain-RMSLE:0.493384\n",
            "[76]\ttest-rmse:1.51256\ttrain-rmse:1.49647\ttest-RMSLE:0.494935\ttrain-RMSLE:0.493383\n",
            "[77]\ttest-rmse:1.51256\ttrain-rmse:1.49647\ttest-RMSLE:0.494935\ttrain-RMSLE:0.493383\n",
            "[78]\ttest-rmse:1.51256\ttrain-rmse:1.49647\ttest-RMSLE:0.494934\ttrain-RMSLE:0.493382\n",
            "[79]\ttest-rmse:1.51256\ttrain-rmse:1.49647\ttest-RMSLE:0.494934\ttrain-RMSLE:0.493382\n",
            "[80]\ttest-rmse:1.51256\ttrain-rmse:1.49647\ttest-RMSLE:0.494934\ttrain-RMSLE:0.493381\n",
            "[81]\ttest-rmse:1.51256\ttrain-rmse:1.49647\ttest-RMSLE:0.494933\ttrain-RMSLE:0.493381\n",
            "[82]\ttest-rmse:1.51256\ttrain-rmse:1.49647\ttest-RMSLE:0.494933\ttrain-RMSLE:0.493381\n",
            "[83]\ttest-rmse:1.51256\ttrain-rmse:1.49647\ttest-RMSLE:0.494933\ttrain-RMSLE:0.49338\n",
            "[84]\ttest-rmse:1.51256\ttrain-rmse:1.49647\ttest-RMSLE:0.494933\ttrain-RMSLE:0.49338\n",
            "[85]\ttest-rmse:1.51256\ttrain-rmse:1.49647\ttest-RMSLE:0.494932\ttrain-RMSLE:0.49338\n",
            "[86]\ttest-rmse:1.51256\ttrain-rmse:1.49647\ttest-RMSLE:0.494932\ttrain-RMSLE:0.49338\n",
            "[87]\ttest-rmse:1.51256\ttrain-rmse:1.49647\ttest-RMSLE:0.494932\ttrain-RMSLE:0.49338\n",
            "[88]\ttest-rmse:1.51256\ttrain-rmse:1.49647\ttest-RMSLE:0.494932\ttrain-RMSLE:0.493379\n",
            "[89]\ttest-rmse:1.51256\ttrain-rmse:1.49647\ttest-RMSLE:0.494932\ttrain-RMSLE:0.493379\n",
            "[90]\ttest-rmse:1.51256\ttrain-rmse:1.49647\ttest-RMSLE:0.494932\ttrain-RMSLE:0.493379\n",
            "[91]\ttest-rmse:1.51256\ttrain-rmse:1.49647\ttest-RMSLE:0.494931\ttrain-RMSLE:0.493379\n",
            "[92]\ttest-rmse:1.51256\ttrain-rmse:1.49647\ttest-RMSLE:0.494931\ttrain-RMSLE:0.493379\n",
            "[93]\ttest-rmse:1.51256\ttrain-rmse:1.49647\ttest-RMSLE:0.494931\ttrain-RMSLE:0.493379\n",
            "Stopping. Best iteration:\n",
            "[88]\ttest-rmse:1.51256\ttrain-rmse:1.49647\ttest-RMSLE:0.494932\ttrain-RMSLE:0.493379\n",
            "\n"
          ],
          "name": "stdout"
        },
        {
          "output_type": "display_data",
          "data": {
            "image/png": "[encoded data removed]",
            "text/plain": [
              "<Figure size 432x288 with 1 Axes>"
            ]
          },
          "metadata": {
            "tags": []
          }
        },
        {
          "output_type": "stream",
          "text": [
            "RMSLE Train set: 0.493379\n"
          ],
          "name": "stdout"
        }
      ]
    },
    {
      "cell_type": "markdown",
      "metadata": {
        "id": "DoFhyWI4Fr5t"
      },
      "source": [
        "# Final Results"
      ]
    },
    {
      "cell_type": "code",
      "metadata": {
        "id": "biOZdcZD2pLA",
        "colab": {
          "base_uri": "https://localhost:8080/"
        },
        "outputId": "6839e5d3-3e67-42f0-ceb0-9a64a4538716"
      },
      "source": [
        "eval(model_1, X_test, y_test,'linear regression')\r\n",
        "print('******')\r\n",
        "eval(model_2, X_test, y_test, 'Stochastic Gradient Descent')\r\n",
        "print('******')\r\n",
        "eval(model_2i, X_test, y_test, 'Lasso regression')\r\n",
        "print('******')\r\n",
        "eval(model_3i, X_test, y_test, 'Neural Network_default')\r\n",
        "print('******')\r\n",
        "eval(model_3ii, X_test, y_test, 'Neural Network_random')\r\n",
        "print('******')\r\n",
        "eval(model_3, X_test, y_test, 'Neural Network_gridsearch')\r\n",
        "print('******')\r\n",
        "eval(reg, X_test, y_test,'Gradient Boosting Regressor')\r\n",
        "print('******')\r\n",
        "print('Gradient Boost Linear Regression _ RMSLE Test set:', xgb_results['test']['RMSLE'][-1]) "
      ],
      "execution_count": 23,
      "outputs": [
        {
          "output_type": "stream",
          "text": [
            "RMSLE of linear regression : 0.5147\n",
            "R2 value of linear regression : 0.0202\n",
            "Err value of linear regression : 0.5147\n",
            "******\n",
            "RMSLE of Stochastic Gradient Descent : 0.5325\n",
            "R2 value of Stochastic Gradient Descent : -0.0311\n",
            "Err value of Stochastic Gradient Descent : 0.5325\n",
            "******\n",
            "RMSLE of Lasso regression : 0.5141\n",
            "R2 value of Lasso regression : 0.0203\n",
            "Err value of Lasso regression : 0.5141\n",
            "******\n",
            "RMSLE of Neural Network_default : 0.6068\n",
            "R2 value of Neural Network_default : -0.1823\n",
            "Err value of Neural Network_default : 0.6068\n",
            "******\n",
            "RMSLE of Neural Network_random : 0.5251\n",
            "R2 value of Neural Network_random : 0.0041\n",
            "Err value of Neural Network_random : 0.5251\n",
            "******\n",
            "RMSLE of Neural Network_gridsearch : 0.5183\n",
            "R2 value of Neural Network_gridsearch : 0.0234\n",
            "Err value of Neural Network_gridsearch : 0.5183\n",
            "******\n",
            "RMSLE of Gradient Boosting Regressor : 0.5060\n",
            "R2 value of Gradient Boosting Regressor : 0.0282\n",
            "Err value of Gradient Boosting Regressor : 0.5060\n",
            "******\n",
            "Gradient Boost Linear Regression _ RMSLE Test set: 0.494931\n"
          ],
          "name": "stdout"
        }
      ]
    }
  ]
}
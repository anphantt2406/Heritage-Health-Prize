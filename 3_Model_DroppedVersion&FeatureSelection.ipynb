{
  "nbformat": 4,
  "nbformat_minor": 0,
  "metadata": {
    "colab": {
      "name": "3_Model_DroppedVersion&FeatureSelection.ipynb",
      "provenance": [],
      "collapsed_sections": [
        "S-JF0vVffnbR",
        "5pnD4X7jfrRS",
        "KdHMn2Wo3heF"
      ],
      "authorship_tag": "ABX9TyPr9tTPGLD+bpdP6ZKiiH55",
      "include_colab_link": true
    },
    "kernelspec": {
      "display_name": "Python 3",
      "name": "python3"
    }
  },
  "cells": [
    {
      "cell_type": "markdown",
      "metadata": {
        "id": "view-in-github",
        "colab_type": "text"
      },
      "source": [
        "<a href=\"https://colab.research.google.com/github/anphantt2406/Heritage-Health-Prize/blob/main/3_Model_DroppedVersion%26FeatureSelection.ipynb\" target=\"_parent\"><img src=\"https://colab.research.google.com/assets/colab-badge.svg\" alt=\"Open In Colab\"/></a>"
      ]
    },
    {
      "cell_type": "code",
      "metadata": {
        "colab": {
          "base_uri": "https://localhost:8080/"
        },
        "id": "JTp1IHuy_n9Y",
        "outputId": "de2630a7-e9e2-41f5-c526-2e82229196ff"
      },
      "source": [
        "from google.colab import drive\r\n",
        "drive.mount('/content/drive')\r\n",
        "%cd /content/drive/My Drive/HHP_release3/data_processed"
      ],
      "execution_count": 35,
      "outputs": [
        {
          "output_type": "stream",
          "text": [
            "Drive already mounted at /content/drive; to attempt to forcibly remount, call drive.mount(\"/content/drive\", force_remount=True).\n",
            "/content/drive/My Drive/HHP_release3/data_processed\n"
          ],
          "name": "stdout"
        }
      ]
    },
    {
      "cell_type": "markdown",
      "metadata": {
        "id": "S-JF0vVffnbR"
      },
      "source": [
        "#Import Library"
      ]
    },
    {
      "cell_type": "code",
      "metadata": {
        "id": "MBhQiO2v3hQM"
      },
      "source": [
        "import glob\n",
        "import math\n",
        "import pandas as pd\n",
        "import numpy as np\n",
        "import xgboost\n",
        "from sklearn.linear_model import LinearRegression, LogisticRegression, Lasso, Ridge, SGDRegressor\n",
        "from sklearn.metrics import mean_squared_error, r2_score, classification_report, roc_auc_score, plot_roc_curve\n",
        "import matplotlib.pyplot as plt\n",
        "import matplotlib.patches as mpatches\n",
        "from sklearn.model_selection import train_test_split, GridSearchCV\n",
        "from keras.layers import Dense, Activation\n",
        "from keras.models import Sequential\n",
        "from sklearn.neural_network import MLPRegressor\n",
        "from sklearn import datasets, ensemble\n",
        "from sklearn.datasets import make_regression\n",
        "\n",
        "import seaborn as sns # Library for plotting\n",
        "color = sns.color_palette()\n",
        "sns.set_style('darkgrid')\n",
        "from sklearn.svm import SVC\n",
        "from sklearn.metrics import confusion_matrix"
      ],
      "execution_count": 36,
      "outputs": []
    },
    {
      "cell_type": "markdown",
      "metadata": {
        "id": "5pnD4X7jfrRS"
      },
      "source": [
        "#Define some needed function\r\n",
        "\r\n",
        "Predictions are evaluated using root mean squared logarithmic error, referred to henceforth as RMSLE.\r\n",
        "\r\n",
        "$$\\varepsilon = \\sqrt{\\frac{1}{n}\\sum_{i=1}^{n}\\left(log(p_i+1) - log(a_i+1)^2 \\right )}$$\r\n",
        "\r\n",
        "Where:\r\n",
        "\r\n",
        "\r\n",
        "\r\n",
        "*   $i$ is a patient's unique MemberID\r\n",
        "*   $n$ is the total number of patients\r\n",
        "*   $p_i$ is the prediction made for patient $i$\r\n",
        "*   $a_i$ is the actual number of days spent in the hospital by patient $i$\r\n",
        "\r\n",
        "\r\n",
        "\r\n"
      ]
    },
    {
      "cell_type": "code",
      "metadata": {
        "id": "L75u6E2x3uHu"
      },
      "source": [
        "def RMSLE_cal(pred, actu, name=None):\n",
        "    RMSLE = round(np.sqrt(((np.log(pred + 1) - np.log(actu + 1)) ** 2).sum() / actu.shape[0]), 6).item()\n",
        "    print('RMSLE', name, ':', RMSLE)"
      ],
      "execution_count": 37,
      "outputs": []
    },
    {
      "cell_type": "code",
      "metadata": {
        "id": "PnabKSiS3xex"
      },
      "source": [
        "def rmsle(pred, dtrain):\n",
        "    \"\"\"Used for stacked in Xgboost\n",
        "    \"\"\"\n",
        "    actu = dtrain.get_label()\n",
        "    RMSLE = round(np.sqrt(((np.log(pred + 1) - np.log(actu + 1)) ** 2).sum() / actu.shape[0]), 6).item()\n",
        "    return 'RMSLE', RMSLE"
      ],
      "execution_count": 38,
      "outputs": []
    },
    {
      "cell_type": "code",
      "metadata": {
        "id": "EmhapNDRQnoC"
      },
      "source": [
        "def eval(model, X_test, y_test, name = None):\n",
        "    pred_y = model.predict(X_test) # your predicted y values\n",
        "    # The root mean square logarithmic error\n",
        "    pred_y = pred_y.clip(min=0)\n",
        "    pred_y = pred_y.clip(max=15)\n",
        "    pred_y = pred_y.round(0).astype(int)\n",
        "    msle = np.mean( (np.log(pred_y + 1) - np.log(y_test + 1)) ** 2)\n",
        "    rmsle = math.sqrt(msle)\n",
        "    from sklearn.metrics import r2_score\n",
        "    r2 = r2_score(y_test,pred_y)\n",
        "    from sklearn.metrics import mean_squared_log_error\n",
        "    err = math.sqrt(mean_squared_log_error(y_test,pred_y))\n",
        "    print(\"RMSLE of\", name, \": %.4f\" %rmsle)\n",
        "    print(\"R2 value of\", name, \": %.4f\" %r2)\n",
        "    print(\"Err value of\", name, \": %.4f\" %err)"
      ],
      "execution_count": 39,
      "outputs": []
    },
    {
      "cell_type": "code",
      "metadata": {
        "id": "doF_jqmfbcwG"
      },
      "source": [
        "def plotResult(results, cv=None):\n",
        "    fig, ax = plt.subplots()\n",
        "    if cv:\n",
        "        ax.plot(range(results.shape[0]), results['train-RMSLE-mean'])\n",
        "        ax.plot(range(results.shape[0]), results['test-RMSLE-mean'])\n",
        "    else:\n",
        "        ax.plot(range(len(results['train']['RMSLE'])), results['train']['RMSLE'])\n",
        "        ax.plot(range(len(results['test']['RMSLE'])), results['test']['RMSLE'])\n",
        "        \n",
        "    ax.set(xlabel='Boost round', ylabel='RMSLE', title='Train/Test RMSLE')\n",
        "    ax.grid()\n",
        "\n",
        "    train_patch = mpatches.Patch(color='blue', label='Train')\n",
        "    test_patch = mpatches.Patch(color='orange', label='Test')\n",
        "\n",
        "    plt.legend(handles=[train_patch, test_patch])\n",
        "    plt.show()"
      ],
      "execution_count": 40,
      "outputs": []
    },
    {
      "cell_type": "markdown",
      "metadata": {
        "id": "riX7ZDSQf1e2"
      },
      "source": [
        "#Prepare data for training and testing\r\n",
        "\r\n",
        "In this notebook, we use Claims data in Year 1 for training and validation, Claims data in Year 2 for testing."
      ]
    },
    {
      "cell_type": "code",
      "metadata": {
        "id": "sS7HAUkF0VNF"
      },
      "source": [
        "dataY1_df = pd.read_csv('fulldataY1.csv')\n",
        "dataY2_df = pd.read_csv('fulldataY2.csv')"
      ],
      "execution_count": 41,
      "outputs": []
    },
    {
      "cell_type": "code",
      "metadata": {
        "id": "JveafRn5S-1S"
      },
      "source": [
        "dataY1_df = dataY1_df[['MemberID',\r\n",
        " 'AgeAtFirstClaim',\r\n",
        " 'Unknown',\r\n",
        " 'no_Claims',\r\n",
        " 'no_Providers',\r\n",
        " 'no_Specialties',\r\n",
        " 'no_PCG',\r\n",
        " 'no_Procedure',\r\n",
        " 'sum_PayDelay',\r\n",
        " 'Specialty_Diagnostic Imaging',\r\n",
        " 'Specialty_Emergency',\r\n",
        " 'Specialty_Internal',\r\n",
        " 'Specialty_Laboratory',\r\n",
        " 'Place_Inpatient Hospital',\r\n",
        " 'Place_Office',\r\n",
        " 'Place_Urgent Care',\r\n",
        " 'DSFS_10-11 months',\r\n",
        " 'DSFS_6- 7 months',\r\n",
        " 'DSFS_7- 8 months',\r\n",
        " 'DSFS_8- 9 months',\r\n",
        " 'Charlson_1-2',\r\n",
        " 'Procedure_EM',\r\n",
        " 'Procedure_MED',\r\n",
        " 'Procedure_RAD',\r\n",
        " 'DrugSum',\r\n",
        " 'LabSum',\r\n",
        " 'TARGET']]\r\n",
        "\r\n",
        "dataY2_df = dataY2_df[['MemberID',\r\n",
        " 'AgeAtFirstClaim',\r\n",
        " 'Unknown',\r\n",
        " 'no_Claims',\r\n",
        " 'no_Providers',\r\n",
        " 'no_Specialties',\r\n",
        " 'no_PCG',\r\n",
        " 'no_Procedure',\r\n",
        " 'sum_PayDelay',\r\n",
        " 'Specialty_Diagnostic Imaging',\r\n",
        " 'Specialty_Emergency',\r\n",
        " 'Specialty_Internal',\r\n",
        " 'Specialty_Laboratory',\r\n",
        " 'Place_Inpatient Hospital',\r\n",
        " 'Place_Office',\r\n",
        " 'Place_Urgent Care',\r\n",
        " 'DSFS_10-11 months',\r\n",
        " 'DSFS_6- 7 months',\r\n",
        " 'DSFS_7- 8 months',\r\n",
        " 'DSFS_8- 9 months',\r\n",
        " 'Charlson_1-2',\r\n",
        " 'Procedure_EM',\r\n",
        " 'Procedure_MED',\r\n",
        " 'Procedure_RAD',\r\n",
        " 'DrugSum',\r\n",
        " 'LabSum',\r\n",
        " 'TARGET']]"
      ],
      "execution_count": 42,
      "outputs": []
    },
    {
      "cell_type": "code",
      "metadata": {
        "id": "AtOlgBjJIRWo"
      },
      "source": [
        "dataY1 = dataY1_df.drop(\"MemberID\", axis = 1)\r\n",
        "y = dataY1['TARGET']\r\n",
        "X = dataY1.drop(['TARGET'], axis = 1)\r\n",
        "X_train, X_valid, y_train, y_valid = train_test_split(X, y, test_size=0.25)"
      ],
      "execution_count": 43,
      "outputs": []
    },
    {
      "cell_type": "code",
      "metadata": {
        "id": "-OSmKvsoIRWq"
      },
      "source": [
        "from sklearn.preprocessing import StandardScaler\r\n",
        "scaler = StandardScaler()\r\n",
        "# Fit only to the training data\r\n",
        "scaler.fit(X_train)\r\n",
        "X_train = scaler.transform(X_train)\r\n",
        "X_valid = scaler.transform(X_valid)"
      ],
      "execution_count": 44,
      "outputs": []
    },
    {
      "cell_type": "code",
      "metadata": {
        "id": "jM-orfrbFwWx"
      },
      "source": [
        "dataY2 = dataY2_df.drop(\"MemberID\", axis = 1)\r\n",
        "y_test = dataY2['TARGET']\r\n",
        "X_test = dataY2.drop(['TARGET'], axis = 1)\r\n",
        "X_test = scaler.transform(X_test)"
      ],
      "execution_count": 45,
      "outputs": []
    },
    {
      "cell_type": "markdown",
      "metadata": {
        "id": "5_Dy67txiTSk"
      },
      "source": [
        "# Regression"
      ]
    },
    {
      "cell_type": "markdown",
      "metadata": {
        "id": "_fN4E2PSfi7P"
      },
      "source": [
        "## MODEL 1: Linear Regression"
      ]
    },
    {
      "cell_type": "code",
      "metadata": {
        "colab": {
          "base_uri": "https://localhost:8080/",
          "height": 675
        },
        "id": "Fyj-evy7Hx4U",
        "outputId": "c3bde045-1268-43b5-8e2d-7cc1c1e7a597"
      },
      "source": [
        "# Create linear regression object\r\n",
        "model_1 = LinearRegression()\r\n",
        "# Train the model using the training sets\r\n",
        "model_1.fit(X_train, y_train)\r\n",
        "# Predict on Test set\r\n",
        "y_pred_1 = model_1.predict(X_valid)\r\n",
        "\r\n",
        "# Evaluation on Validation set\r\n",
        "eval(model_1, X_valid, y_valid,'linear regression')\r\n",
        "\r\n",
        "plt.figure(figsize = (15,10))\r\n",
        "plt.scatter(y_pred_1, y_valid, alpha=.2, s = 60, color='r') #alpha helps to show overlapping data\r\n",
        "plt.xlabel('DIH prediction')\r\n",
        "plt.ylabel('Actual DIH')\r\n",
        "plt.title('Linear Regression Model')\r\n",
        "plt.show()"
      ],
      "execution_count": 46,
      "outputs": [
        {
          "output_type": "stream",
          "text": [
            "RMSLE of linear regression : 0.4900\n",
            "R2 value of linear regression : -0.0023\n",
            "Err value of linear regression : 0.4900\n"
          ],
          "name": "stdout"
        },
        {
          "output_type": "display_data",
          "data": {
            "image/png": "[encoded data removed]",
            "text/plain": [
              "<Figure size 1080x720 with 1 Axes>"
            ]
          },
          "metadata": {
            "tags": []
          }
        }
      ]
    },
    {
      "cell_type": "markdown",
      "metadata": {
        "id": "KdHMn2Wo3heF"
      },
      "source": [
        "## MODEL 2: Stochastic Gradient Descent"
      ]
    },
    {
      "cell_type": "code",
      "metadata": {
        "colab": {
          "base_uri": "https://localhost:8080/"
        },
        "id": "VviJ28km1SLZ",
        "outputId": "51b014b2-5b39-425a-e5f9-60fceef203d7"
      },
      "source": [
        "from sklearn.linear_model import SGDRegressor\r\n",
        "\r\n",
        "model_2 = SGDRegressor(max_iter=3000, tol=1e-1)\r\n",
        "model_2.fit(X_train, y_train)\r\n",
        "y_pred_2 = model_2.predict(X_valid)\r\n",
        "eval(model_2, X_valid, y_valid, 'Stochastic Gradient Descent')"
      ],
      "execution_count": 47,
      "outputs": [
        {
          "output_type": "stream",
          "text": [
            "RMSLE of Stochastic Gradient Descent : 0.5064\n",
            "R2 value of Stochastic Gradient Descent : -0.0108\n",
            "Err value of Stochastic Gradient Descent : 0.5064\n"
          ],
          "name": "stdout"
        }
      ]
    },
    {
      "cell_type": "code",
      "metadata": {
        "colab": {
          "base_uri": "https://localhost:8080/"
        },
        "id": "LzG6l6Y1Es2r",
        "outputId": "af216af6-f00d-4461-96e1-946c1f371ce1"
      },
      "source": [
        "model_2i = Lasso(alpha=0.001, copy_X=True, fit_intercept=True, max_iter=5000,\r\n",
        "     normalize=False, positive=False, precompute=False, random_state=None,\r\n",
        "     selection='cyclic', tol=0.0001, warm_start=False)\r\n",
        "model_2i.fit(X_train, y_train)\r\n",
        "eval(model_2i, X_valid, y_valid, 'Lasso regression')"
      ],
      "execution_count": 48,
      "outputs": [
        {
          "output_type": "stream",
          "text": [
            "RMSLE of Lasso regression : 0.4900\n",
            "R2 value of Lasso regression : -0.0025\n",
            "Err value of Lasso regression : 0.4900\n"
          ],
          "name": "stdout"
        }
      ]
    },
    {
      "cell_type": "markdown",
      "metadata": {
        "id": "74HgPgHvfaKT"
      },
      "source": [
        "##MODEL 3: Neural Network"
      ]
    },
    {
      "cell_type": "code",
      "metadata": {
        "colab": {
          "base_uri": "https://localhost:8080/"
        },
        "id": "RVCA7wgHlj9Y",
        "outputId": "9992c4de-f207-4669-cf96-27a6dd47e4db"
      },
      "source": [
        "#(i) Neural Network with default hyperparameters\r\n",
        "model_3i = MLPRegressor(random_state=1, max_iter=500).fit(X_train, y_train)\r\n",
        "y_pred_3 = model_3i.predict(X_valid)\r\n",
        "eval(model_3i, X_valid, y_valid, 'Neural Network_default')"
      ],
      "execution_count": 49,
      "outputs": [
        {
          "output_type": "stream",
          "text": [
            "RMSLE of Neural Network_default : 0.5513\n",
            "R2 value of Neural Network_default : -0.0893\n",
            "Err value of Neural Network_default : 0.5513\n"
          ],
          "name": "stdout"
        }
      ]
    },
    {
      "cell_type": "code",
      "metadata": {
        "colab": {
          "base_uri": "https://localhost:8080/"
        },
        "id": "e1WcOea9Qr4G",
        "outputId": "155d1220-c29b-4793-d52b-01d3a454cebb"
      },
      "source": [
        "#(ii) random hyperparameter\n",
        "model_3ii = MLPRegressor(activation='relu', alpha=0.0001, batch_size='auto', beta_1=0.9,\n",
        "        beta_2=0.999, early_stopping=False, epsilon=1e-08,\n",
        "        hidden_layer_sizes=7, learning_rate='adaptive',\n",
        "        learning_rate_init=0.001, max_iter=3000, momentum=0.9,\n",
        "        nesterovs_momentum=True, power_t=0.5, random_state=None,\n",
        "        shuffle=True, solver='adam', tol=0.0001, validation_fraction=0.1,\n",
        "        verbose=1, warm_start=False)\n",
        "\n",
        "model_3ii.fit(X_train, y_train)\n",
        "eval(model_3ii, X_valid, y_valid , 'Neural Network_random')"
      ],
      "execution_count": 50,
      "outputs": [
        {
          "output_type": "stream",
          "text": [
            "Iteration 1, loss = 1.27677812\n",
            "Iteration 2, loss = 1.00699718\n",
            "Iteration 3, loss = 0.97129104\n",
            "Iteration 4, loss = 0.95868800\n",
            "Iteration 5, loss = 0.95192361\n",
            "Iteration 6, loss = 0.94697946\n",
            "Iteration 7, loss = 0.94354479\n",
            "Iteration 8, loss = 0.94171060\n",
            "Iteration 9, loss = 0.93991496\n",
            "Iteration 10, loss = 0.93869156\n",
            "Iteration 11, loss = 0.93791335\n",
            "Iteration 12, loss = 0.93730038\n",
            "Iteration 13, loss = 0.93615698\n",
            "Iteration 14, loss = 0.93549745\n",
            "Iteration 15, loss = 0.93486669\n",
            "Iteration 16, loss = 0.93463453\n",
            "Iteration 17, loss = 0.93390822\n",
            "Iteration 18, loss = 0.93404302\n",
            "Iteration 19, loss = 0.93328365\n",
            "Iteration 20, loss = 0.93323585\n",
            "Iteration 21, loss = 0.93283339\n",
            "Iteration 22, loss = 0.93263636\n",
            "Iteration 23, loss = 0.93251287\n",
            "Iteration 24, loss = 0.93216952\n",
            "Iteration 25, loss = 0.93195391\n",
            "Iteration 26, loss = 0.93173273\n",
            "Iteration 27, loss = 0.93177514\n",
            "Iteration 28, loss = 0.93183786\n",
            "Iteration 29, loss = 0.93156554\n",
            "Iteration 30, loss = 0.93143377\n",
            "Iteration 31, loss = 0.93126061\n",
            "Iteration 32, loss = 0.93079137\n",
            "Iteration 33, loss = 0.93102155\n",
            "Iteration 34, loss = 0.93078484\n",
            "Iteration 35, loss = 0.93079110\n",
            "Iteration 36, loss = 0.93059652\n",
            "Iteration 37, loss = 0.93043964\n",
            "Iteration 38, loss = 0.93041565\n",
            "Iteration 39, loss = 0.93042787\n",
            "Iteration 40, loss = 0.93034859\n",
            "Iteration 41, loss = 0.93024419\n",
            "Iteration 42, loss = 0.93005797\n",
            "Iteration 43, loss = 0.92999388\n",
            "Iteration 44, loss = 0.93007355\n",
            "Iteration 45, loss = 0.92966703\n",
            "Iteration 46, loss = 0.92985611\n",
            "Iteration 47, loss = 0.92953111\n",
            "Iteration 48, loss = 0.92954146\n",
            "Iteration 49, loss = 0.92934658\n",
            "Iteration 50, loss = 0.92918717\n",
            "Iteration 51, loss = 0.92918313\n",
            "Iteration 52, loss = 0.92945368\n",
            "Iteration 53, loss = 0.92907584\n",
            "Iteration 54, loss = 0.92896766\n",
            "Iteration 55, loss = 0.92932341\n",
            "Iteration 56, loss = 0.92875502\n",
            "Iteration 57, loss = 0.92896714\n",
            "Iteration 58, loss = 0.92899493\n",
            "Iteration 59, loss = 0.92889541\n",
            "Iteration 60, loss = 0.92890796\n",
            "Iteration 61, loss = 0.92867718\n",
            "Iteration 62, loss = 0.92901259\n",
            "Iteration 63, loss = 0.92876590\n",
            "Iteration 64, loss = 0.92874373\n",
            "Iteration 65, loss = 0.92888034\n",
            "Iteration 66, loss = 0.92852595\n",
            "Iteration 67, loss = 0.92859313\n",
            "Iteration 68, loss = 0.92853962\n",
            "Iteration 69, loss = 0.92860251\n",
            "Iteration 70, loss = 0.92848895\n",
            "Iteration 71, loss = 0.92861095\n",
            "Iteration 72, loss = 0.92811596\n",
            "Iteration 73, loss = 0.92819348\n",
            "Iteration 74, loss = 0.92821545\n",
            "Iteration 75, loss = 0.92836659\n",
            "Iteration 76, loss = 0.92811921\n",
            "Iteration 77, loss = 0.92812374\n",
            "Iteration 78, loss = 0.92805141\n",
            "Iteration 79, loss = 0.92824768\n",
            "Iteration 80, loss = 0.92825131\n",
            "Iteration 81, loss = 0.92811359\n",
            "Iteration 82, loss = 0.92825400\n",
            "Iteration 83, loss = 0.92803730\n",
            "Training loss did not improve more than tol=0.000100 for 10 consecutive epochs. Stopping.\n",
            "RMSLE of Neural Network_random : 0.4895\n",
            "R2 value of Neural Network_random : -0.0117\n",
            "Err value of Neural Network_random : 0.4895\n"
          ],
          "name": "stdout"
        }
      ]
    },
    {
      "cell_type": "markdown",
      "metadata": {
        "id": "BRabSrujJ44t"
      },
      "source": [
        "**Hyperparameter Optimization using Grid Search**"
      ]
    },
    {
      "cell_type": "code",
      "metadata": {
        "id": "uBfOkQNpeO2n"
      },
      "source": [
        "#parameter_grid = {'hidden_layer_sizes': [i for i in range(1,10)],\r\n",
        "#                  'activation': ['tanh', 'relu'],\r\n",
        "#                  'solver': ['sgd','adam'],\r\n",
        "#                  'learning_rate': ['constant'],\r\n",
        "#                  'learning_rate_init': [0.001],\r\n",
        "#                  'alpha': [0.0001],\r\n",
        "#                  'max_iter': [1000],}\r\n",
        "\r\n",
        "#rgr = GridSearchCV(MLPRegressor(), parameter_grid,\r\n",
        "#                   cv = 5, verbose=True, pre_dispatch='2*n_jobs')\r\n",
        "#rgr.fit(X_train, y_train)\r\n",
        "\r\n",
        "#train_mse = mean_squared_error(y_train, rgr.predict(X_train))\r\n",
        "#test_mse = mean_squared_error(y_valid, rgr.predict(X_valid))\r\n",
        "\r\n",
        "#print(rgr.best_params_)\r\n",
        "#print(rgr.best_score_)\r\n",
        "#print(\"Train MSE:\", np.round(train_mse,2))\r\n",
        "#print(\"Test MSE:\", np.round(test_mse,2))"
      ],
      "execution_count": 51,
      "outputs": []
    },
    {
      "cell_type": "code",
      "metadata": {
        "colab": {
          "base_uri": "https://localhost:8080/"
        },
        "id": "-rFUO9A92R8T",
        "outputId": "45c65a1a-d58b-431d-f45c-9dc8471ded43"
      },
      "source": [
        "from sklearn.neural_network import MLPRegressor\n",
        "\n",
        "model_3 = MLPRegressor(activation='relu', alpha=0.0001, batch_size='auto', beta_1=0.9,\n",
        "        beta_2=0.999, early_stopping=False, epsilon=1e-08,\n",
        "        hidden_layer_sizes=2, learning_rate='constant',\n",
        "        learning_rate_init=0.001, max_iter=1000, momentum=0.9,\n",
        "        nesterovs_momentum=True, power_t=0.5, random_state=None,\n",
        "        shuffle=True, solver='adam', tol=0.0001, validation_fraction=0.1,\n",
        "        verbose=1, warm_start=False)\n",
        "\n",
        "model_3.fit(X_train, y_train)\n",
        "eval(model_3, X_valid, y_valid, 'Neural Network_gridsearch')"
      ],
      "execution_count": 52,
      "outputs": [
        {
          "output_type": "stream",
          "text": [
            "Iteration 1, loss = 1.17882503\n",
            "Iteration 2, loss = 1.05773547\n",
            "Iteration 3, loss = 1.00507500\n",
            "Iteration 4, loss = 0.97311768\n",
            "Iteration 5, loss = 0.95464237\n",
            "Iteration 6, loss = 0.94496361\n",
            "Iteration 7, loss = 0.93981291\n",
            "Iteration 8, loss = 0.93727601\n",
            "Iteration 9, loss = 0.93577717\n",
            "Iteration 10, loss = 0.93477867\n",
            "Iteration 11, loss = 0.93441634\n",
            "Iteration 12, loss = 0.93405068\n",
            "Iteration 13, loss = 0.93344868\n",
            "Iteration 14, loss = 0.93370917\n",
            "Iteration 15, loss = 0.93335861\n",
            "Iteration 16, loss = 0.93305376\n",
            "Iteration 17, loss = 0.93307698\n",
            "Iteration 18, loss = 0.93327033\n",
            "Iteration 19, loss = 0.93322862\n",
            "Iteration 20, loss = 0.93288232\n",
            "Iteration 21, loss = 0.93282279\n",
            "Iteration 22, loss = 0.93285066\n",
            "Iteration 23, loss = 0.93266354\n",
            "Iteration 24, loss = 0.93265853\n",
            "Iteration 25, loss = 0.93264571\n",
            "Iteration 26, loss = 0.93239562\n",
            "Iteration 27, loss = 0.93239627\n",
            "Iteration 28, loss = 0.93239806\n",
            "Iteration 29, loss = 0.93288167\n",
            "Iteration 30, loss = 0.93250365\n",
            "Iteration 31, loss = 0.93250719\n",
            "Iteration 32, loss = 0.93233855\n",
            "Iteration 33, loss = 0.93240405\n",
            "Iteration 34, loss = 0.93239785\n",
            "Iteration 35, loss = 0.93224868\n",
            "Iteration 36, loss = 0.93245575\n",
            "Iteration 37, loss = 0.93232852\n",
            "Training loss did not improve more than tol=0.000100 for 10 consecutive epochs. Stopping.\n",
            "RMSLE of Neural Network_gridsearch : 0.4840\n",
            "R2 value of Neural Network_gridsearch : -0.0036\n",
            "Err value of Neural Network_gridsearch : 0.4840\n"
          ],
          "name": "stdout"
        }
      ]
    },
    {
      "cell_type": "markdown",
      "metadata": {
        "id": "eVUxzLr-bcw5"
      },
      "source": [
        "## MODEL 4: XGBoost -  Gradient Boost Linear Regression Function"
      ]
    },
    {
      "cell_type": "code",
      "metadata": {
        "colab": {
          "base_uri": "https://localhost:8080/"
        },
        "id": "hBJ42ntWeZxa",
        "outputId": "e238acea-0904-44ad-e8fc-5e9768bd4f6c"
      },
      "source": [
        "reg = ensemble.GradientBoostingRegressor(n_estimators = 500,\r\n",
        "          max_depth = 4,\r\n",
        "          min_samples_split= 5,\r\n",
        "          learning_rate = 0.01,\r\n",
        "          loss = 'ls')\r\n",
        "reg.fit(X_train, y_train)\r\n",
        "eval(reg, X_valid, y_valid,'Gradient Boosting Regressor')"
      ],
      "execution_count": 53,
      "outputs": [
        {
          "output_type": "stream",
          "text": [
            "RMSLE of Gradient Boosting Regressor : 0.4843\n",
            "R2 value of Gradient Boosting Regressor : -0.0079\n",
            "Err value of Gradient Boosting Regressor : 0.4843\n"
          ],
          "name": "stdout"
        }
      ]
    },
    {
      "cell_type": "code",
      "metadata": {
        "id": "RqkQIJJ6bcw8"
      },
      "source": [
        "# Set XGBoost DataMatrix\n",
        "dmatrix_train = xgboost.DMatrix(data=X_train,label=y_train)\n",
        "dmatrix_test = xgboost.DMatrix(data=X_test,label=y_test)"
      ],
      "execution_count": 54,
      "outputs": []
    },
    {
      "cell_type": "code",
      "metadata": {
        "id": "bvrLEOK4bcxA",
        "scrolled": true,
        "colab": {
          "base_uri": "https://localhost:8080/",
          "height": 1000
        },
        "outputId": "b57cc7d3-fd78-459c-dcc2-434d3f6bb68e"
      },
      "source": [
        "# XGBoost\n",
        "params = {'objective': 'reg:linear', 'gamma': 0,\n",
        "          'subsample': 0.3, 'colsample_by*': 0.5, 'learning_rate': 0.1, 'max_depth': 15, 'lambda': 10,\n",
        "          'booster': 'gblinear'}\n",
        "xgb_results = {}\n",
        "xgb_model = xgboost.train(dtrain=dmatrix_train, params=params, evals_result=xgb_results,\n",
        "                          feval=rmsle, evals=[(dmatrix_test,'test'), (dmatrix_train,'train')], \n",
        "                          num_boost_round=500, early_stopping_rounds=5)\n",
        "\n",
        "plotResult(xgb_results, cv=False)\n",
        "print('RMSLE Train set:', xgb_results['train']['RMSLE'][-1])"
      ],
      "execution_count": 55,
      "outputs": [
        {
          "output_type": "stream",
          "text": [
            "[03:53:50] WARNING: /workspace/src/objective/regression_obj.cu:152: reg:linear is now deprecated in favor of reg:squarederror.\n",
            "[0]\ttest-rmse:1.37492\ttrain-rmse:1.39814\ttest-RMSLE:0.499934\ttrain-RMSLE:0.504745\n",
            "Multiple eval metrics have been passed: 'train-RMSLE' will be used for early stopping.\n",
            "\n",
            "Will train until train-RMSLE hasn't improved in 5 rounds.\n",
            "[1]\ttest-rmse:1.37194\ttrain-rmse:1.39561\ttest-RMSLE:0.495077\ttrain-RMSLE:0.500487\n",
            "[2]\ttest-rmse:1.36962\ttrain-rmse:1.39364\ttest-RMSLE:0.490967\ttrain-RMSLE:0.496874\n",
            "[3]\ttest-rmse:1.36777\ttrain-rmse:1.39208\ttest-RMSLE:0.487466\ttrain-RMSLE:0.493785\n",
            "[4]\ttest-rmse:1.3663\ttrain-rmse:1.39085\ttest-RMSLE:0.484466\ttrain-RMSLE:0.491126\n",
            "[5]\ttest-rmse:1.36513\ttrain-rmse:1.38986\ttest-RMSLE:0.48188\ttrain-RMSLE:0.488822\n",
            "[6]\ttest-rmse:1.36418\ttrain-rmse:1.38906\ttest-RMSLE:0.479641\ttrain-RMSLE:0.486817\n",
            "[7]\ttest-rmse:1.36341\ttrain-rmse:1.38841\ttest-RMSLE:0.477693\ttrain-RMSLE:0.485063\n",
            "[8]\ttest-rmse:1.36278\ttrain-rmse:1.38789\ttest-RMSLE:0.475993\ttrain-RMSLE:0.483524\n",
            "[9]\ttest-rmse:1.36227\ttrain-rmse:1.38746\ttest-RMSLE:0.474504\ttrain-RMSLE:0.482168\n",
            "[10]\ttest-rmse:1.36185\ttrain-rmse:1.3871\ttest-RMSLE:0.473195\ttrain-RMSLE:0.480971\n",
            "[11]\ttest-rmse:1.3615\ttrain-rmse:1.38681\ttest-RMSLE:0.472043\ttrain-RMSLE:0.479912\n",
            "[12]\ttest-rmse:1.36122\ttrain-rmse:1.38656\ttest-RMSLE:0.471026\ttrain-RMSLE:0.478972\n",
            "[13]\ttest-rmse:1.36098\ttrain-rmse:1.38636\ttest-RMSLE:0.470126\ttrain-RMSLE:0.478138\n",
            "[14]\ttest-rmse:1.36078\ttrain-rmse:1.38619\ttest-RMSLE:0.469329\ttrain-RMSLE:0.477395\n",
            "[15]\ttest-rmse:1.36062\ttrain-rmse:1.38605\ttest-RMSLE:0.468621\ttrain-RMSLE:0.476733\n",
            "[16]\ttest-rmse:1.36048\ttrain-rmse:1.38593\ttest-RMSLE:0.467992\ttrain-RMSLE:0.476142\n",
            "[17]\ttest-rmse:1.36037\ttrain-rmse:1.38583\ttest-RMSLE:0.467433\ttrain-RMSLE:0.475615\n",
            "[18]\ttest-rmse:1.36027\ttrain-rmse:1.38574\ttest-RMSLE:0.466934\ttrain-RMSLE:0.475144\n",
            "[19]\ttest-rmse:1.36018\ttrain-rmse:1.38567\ttest-RMSLE:0.46649\ttrain-RMSLE:0.474723\n",
            "[20]\ttest-rmse:1.36011\ttrain-rmse:1.3856\ttest-RMSLE:0.466093\ttrain-RMSLE:0.474346\n",
            "[21]\ttest-rmse:1.36006\ttrain-rmse:1.38555\ttest-RMSLE:0.465738\ttrain-RMSLE:0.474009\n",
            "[22]\ttest-rmse:1.36\ttrain-rmse:1.38551\ttest-RMSLE:0.465421\ttrain-RMSLE:0.473706\n",
            "[23]\ttest-rmse:1.35996\ttrain-rmse:1.38547\ttest-RMSLE:0.465138\ttrain-RMSLE:0.473435\n",
            "[24]\ttest-rmse:1.35992\ttrain-rmse:1.38543\ttest-RMSLE:0.464884\ttrain-RMSLE:0.473192\n",
            "[25]\ttest-rmse:1.35989\ttrain-rmse:1.3854\ttest-RMSLE:0.464657\ttrain-RMSLE:0.472974\n",
            "[26]\ttest-rmse:1.35986\ttrain-rmse:1.38538\ttest-RMSLE:0.464453\ttrain-RMSLE:0.472778\n",
            "[27]\ttest-rmse:1.35984\ttrain-rmse:1.38536\ttest-RMSLE:0.464271\ttrain-RMSLE:0.472603\n",
            "[28]\ttest-rmse:1.35982\ttrain-rmse:1.38534\ttest-RMSLE:0.464107\ttrain-RMSLE:0.472445\n",
            "[29]\ttest-rmse:1.3598\ttrain-rmse:1.38532\ttest-RMSLE:0.46396\ttrain-RMSLE:0.472303\n",
            "[30]\ttest-rmse:1.35979\ttrain-rmse:1.38531\ttest-RMSLE:0.463829\ttrain-RMSLE:0.472176\n",
            "[31]\ttest-rmse:1.35977\ttrain-rmse:1.38529\ttest-RMSLE:0.463711\ttrain-RMSLE:0.472062\n",
            "[32]\ttest-rmse:1.35976\ttrain-rmse:1.38528\ttest-RMSLE:0.463604\ttrain-RMSLE:0.471959\n",
            "[33]\ttest-rmse:1.35975\ttrain-rmse:1.38527\ttest-RMSLE:0.463509\ttrain-RMSLE:0.471867\n",
            "[34]\ttest-rmse:1.35974\ttrain-rmse:1.38526\ttest-RMSLE:0.463424\ttrain-RMSLE:0.471784\n",
            "[35]\ttest-rmse:1.35973\ttrain-rmse:1.38526\ttest-RMSLE:0.463347\ttrain-RMSLE:0.471709\n",
            "[36]\ttest-rmse:1.35973\ttrain-rmse:1.38525\ttest-RMSLE:0.463278\ttrain-RMSLE:0.471642\n",
            "[37]\ttest-rmse:1.35972\ttrain-rmse:1.38525\ttest-RMSLE:0.463216\ttrain-RMSLE:0.471582\n",
            "[38]\ttest-rmse:1.35972\ttrain-rmse:1.38524\ttest-RMSLE:0.46316\ttrain-RMSLE:0.471528\n",
            "[39]\ttest-rmse:1.35971\ttrain-rmse:1.38524\ttest-RMSLE:0.46311\ttrain-RMSLE:0.471479\n",
            "[40]\ttest-rmse:1.35971\ttrain-rmse:1.38523\ttest-RMSLE:0.463065\ttrain-RMSLE:0.471435\n",
            "[41]\ttest-rmse:1.3597\ttrain-rmse:1.38523\ttest-RMSLE:0.463024\ttrain-RMSLE:0.471395\n",
            "[42]\ttest-rmse:1.3597\ttrain-rmse:1.38523\ttest-RMSLE:0.462988\ttrain-RMSLE:0.47136\n",
            "[43]\ttest-rmse:1.3597\ttrain-rmse:1.38522\ttest-RMSLE:0.462955\ttrain-RMSLE:0.471328\n",
            "[44]\ttest-rmse:1.35969\ttrain-rmse:1.38522\ttest-RMSLE:0.462925\ttrain-RMSLE:0.471299\n",
            "[45]\ttest-rmse:1.35969\ttrain-rmse:1.38522\ttest-RMSLE:0.462899\ttrain-RMSLE:0.471274\n",
            "[46]\ttest-rmse:1.35969\ttrain-rmse:1.38522\ttest-RMSLE:0.462875\ttrain-RMSLE:0.47125\n",
            "[47]\ttest-rmse:1.35969\ttrain-rmse:1.38521\ttest-RMSLE:0.462853\ttrain-RMSLE:0.471229\n",
            "[48]\ttest-rmse:1.35969\ttrain-rmse:1.38521\ttest-RMSLE:0.462834\ttrain-RMSLE:0.471211\n",
            "[49]\ttest-rmse:1.35968\ttrain-rmse:1.38521\ttest-RMSLE:0.462817\ttrain-RMSLE:0.471194\n",
            "[50]\ttest-rmse:1.35968\ttrain-rmse:1.38521\ttest-RMSLE:0.462801\ttrain-RMSLE:0.471178\n",
            "[51]\ttest-rmse:1.35968\ttrain-rmse:1.38521\ttest-RMSLE:0.462787\ttrain-RMSLE:0.471165\n",
            "[52]\ttest-rmse:1.35968\ttrain-rmse:1.38521\ttest-RMSLE:0.462774\ttrain-RMSLE:0.471152\n",
            "[53]\ttest-rmse:1.35968\ttrain-rmse:1.38521\ttest-RMSLE:0.462763\ttrain-RMSLE:0.471141\n",
            "[54]\ttest-rmse:1.35968\ttrain-rmse:1.38521\ttest-RMSLE:0.462753\ttrain-RMSLE:0.471131\n",
            "[55]\ttest-rmse:1.35968\ttrain-rmse:1.3852\ttest-RMSLE:0.462744\ttrain-RMSLE:0.471122\n",
            "[56]\ttest-rmse:1.35968\ttrain-rmse:1.3852\ttest-RMSLE:0.462735\ttrain-RMSLE:0.471114\n",
            "[57]\ttest-rmse:1.35968\ttrain-rmse:1.3852\ttest-RMSLE:0.462728\ttrain-RMSLE:0.471107\n",
            "[58]\ttest-rmse:1.35967\ttrain-rmse:1.3852\ttest-RMSLE:0.462721\ttrain-RMSLE:0.4711\n",
            "[59]\ttest-rmse:1.35967\ttrain-rmse:1.3852\ttest-RMSLE:0.462715\ttrain-RMSLE:0.471094\n",
            "[60]\ttest-rmse:1.35967\ttrain-rmse:1.3852\ttest-RMSLE:0.46271\ttrain-RMSLE:0.471089\n",
            "[61]\ttest-rmse:1.35967\ttrain-rmse:1.3852\ttest-RMSLE:0.462705\ttrain-RMSLE:0.471084\n",
            "[62]\ttest-rmse:1.35967\ttrain-rmse:1.3852\ttest-RMSLE:0.4627\ttrain-RMSLE:0.47108\n",
            "[63]\ttest-rmse:1.35967\ttrain-rmse:1.3852\ttest-RMSLE:0.462696\ttrain-RMSLE:0.471076\n",
            "[64]\ttest-rmse:1.35967\ttrain-rmse:1.3852\ttest-RMSLE:0.462693\ttrain-RMSLE:0.471073\n",
            "[65]\ttest-rmse:1.35967\ttrain-rmse:1.3852\ttest-RMSLE:0.46269\ttrain-RMSLE:0.47107\n",
            "[66]\ttest-rmse:1.35967\ttrain-rmse:1.3852\ttest-RMSLE:0.462687\ttrain-RMSLE:0.471067\n",
            "[67]\ttest-rmse:1.35967\ttrain-rmse:1.3852\ttest-RMSLE:0.462684\ttrain-RMSLE:0.471064\n",
            "[68]\ttest-rmse:1.35967\ttrain-rmse:1.3852\ttest-RMSLE:0.462682\ttrain-RMSLE:0.471062\n",
            "[69]\ttest-rmse:1.35967\ttrain-rmse:1.3852\ttest-RMSLE:0.46268\ttrain-RMSLE:0.47106\n",
            "[70]\ttest-rmse:1.35967\ttrain-rmse:1.3852\ttest-RMSLE:0.462678\ttrain-RMSLE:0.471058\n",
            "[71]\ttest-rmse:1.35967\ttrain-rmse:1.3852\ttest-RMSLE:0.462676\ttrain-RMSLE:0.471056\n",
            "[72]\ttest-rmse:1.35967\ttrain-rmse:1.3852\ttest-RMSLE:0.462675\ttrain-RMSLE:0.471055\n",
            "[73]\ttest-rmse:1.35967\ttrain-rmse:1.3852\ttest-RMSLE:0.462673\ttrain-RMSLE:0.471053\n",
            "[74]\ttest-rmse:1.35967\ttrain-rmse:1.3852\ttest-RMSLE:0.462672\ttrain-RMSLE:0.471052\n",
            "[75]\ttest-rmse:1.35967\ttrain-rmse:1.3852\ttest-RMSLE:0.462671\ttrain-RMSLE:0.471051\n",
            "[76]\ttest-rmse:1.35967\ttrain-rmse:1.3852\ttest-RMSLE:0.46267\ttrain-RMSLE:0.47105\n",
            "[77]\ttest-rmse:1.35967\ttrain-rmse:1.3852\ttest-RMSLE:0.462669\ttrain-RMSLE:0.471049\n",
            "[78]\ttest-rmse:1.35967\ttrain-rmse:1.3852\ttest-RMSLE:0.462668\ttrain-RMSLE:0.471048\n",
            "[79]\ttest-rmse:1.35967\ttrain-rmse:1.38519\ttest-RMSLE:0.462667\ttrain-RMSLE:0.471048\n",
            "[80]\ttest-rmse:1.35967\ttrain-rmse:1.38519\ttest-RMSLE:0.462667\ttrain-RMSLE:0.471047\n",
            "[81]\ttest-rmse:1.35967\ttrain-rmse:1.38519\ttest-RMSLE:0.462666\ttrain-RMSLE:0.471047\n",
            "[82]\ttest-rmse:1.35967\ttrain-rmse:1.3852\ttest-RMSLE:0.462666\ttrain-RMSLE:0.471046\n",
            "[83]\ttest-rmse:1.35967\ttrain-rmse:1.38519\ttest-RMSLE:0.462665\ttrain-RMSLE:0.471046\n",
            "[84]\ttest-rmse:1.35967\ttrain-rmse:1.3852\ttest-RMSLE:0.462665\ttrain-RMSLE:0.471045\n",
            "[85]\ttest-rmse:1.35967\ttrain-rmse:1.3852\ttest-RMSLE:0.462664\ttrain-RMSLE:0.471045\n",
            "[86]\ttest-rmse:1.35967\ttrain-rmse:1.3852\ttest-RMSLE:0.462664\ttrain-RMSLE:0.471044\n",
            "[87]\ttest-rmse:1.35967\ttrain-rmse:1.3852\ttest-RMSLE:0.462664\ttrain-RMSLE:0.471044\n",
            "[88]\ttest-rmse:1.35967\ttrain-rmse:1.3852\ttest-RMSLE:0.462663\ttrain-RMSLE:0.471044\n",
            "[89]\ttest-rmse:1.35967\ttrain-rmse:1.3852\ttest-RMSLE:0.462663\ttrain-RMSLE:0.471044\n",
            "[90]\ttest-rmse:1.35967\ttrain-rmse:1.3852\ttest-RMSLE:0.462663\ttrain-RMSLE:0.471043\n",
            "[91]\ttest-rmse:1.35967\ttrain-rmse:1.3852\ttest-RMSLE:0.462663\ttrain-RMSLE:0.471043\n",
            "[92]\ttest-rmse:1.35967\ttrain-rmse:1.3852\ttest-RMSLE:0.462663\ttrain-RMSLE:0.471043\n",
            "[93]\ttest-rmse:1.35967\ttrain-rmse:1.3852\ttest-RMSLE:0.462662\ttrain-RMSLE:0.471043\n",
            "[94]\ttest-rmse:1.35967\ttrain-rmse:1.3852\ttest-RMSLE:0.462662\ttrain-RMSLE:0.471043\n",
            "[95]\ttest-rmse:1.35967\ttrain-rmse:1.3852\ttest-RMSLE:0.462662\ttrain-RMSLE:0.471042\n",
            "[96]\ttest-rmse:1.35967\ttrain-rmse:1.3852\ttest-RMSLE:0.462662\ttrain-RMSLE:0.471042\n",
            "[97]\ttest-rmse:1.35967\ttrain-rmse:1.3852\ttest-RMSLE:0.462662\ttrain-RMSLE:0.471042\n",
            "[98]\ttest-rmse:1.35967\ttrain-rmse:1.3852\ttest-RMSLE:0.462662\ttrain-RMSLE:0.471042\n",
            "[99]\ttest-rmse:1.35967\ttrain-rmse:1.3852\ttest-RMSLE:0.462662\ttrain-RMSLE:0.471042\n",
            "[100]\ttest-rmse:1.35967\ttrain-rmse:1.3852\ttest-RMSLE:0.462662\ttrain-RMSLE:0.471042\n",
            "Stopping. Best iteration:\n",
            "[95]\ttest-rmse:1.35967\ttrain-rmse:1.3852\ttest-RMSLE:0.462662\ttrain-RMSLE:0.471042\n",
            "\n"
          ],
          "name": "stdout"
        },
        {
          "output_type": "display_data",
          "data": {
            "image/png": "[encoded data removed]",
            "text/plain": [
              "<Figure size 432x288 with 1 Axes>"
            ]
          },
          "metadata": {
            "tags": []
          }
        },
        {
          "output_type": "stream",
          "text": [
            "RMSLE Train set: 0.471042\n"
          ],
          "name": "stdout"
        }
      ]
    },
    {
      "cell_type": "markdown",
      "metadata": {
        "id": "DoFhyWI4Fr5t"
      },
      "source": [
        "# Final Results"
      ]
    },
    {
      "cell_type": "code",
      "metadata": {
        "id": "biOZdcZD2pLA",
        "colab": {
          "base_uri": "https://localhost:8080/"
        },
        "outputId": "0e8da55f-2865-4f47-d3af-9a70943863b5"
      },
      "source": [
        "eval(model_1, X_test, y_test,'linear regression')\r\n",
        "print('******')\r\n",
        "eval(model_2, X_test, y_test, 'Stochastic Gradient Descent')\r\n",
        "print('******')\r\n",
        "eval(model_2i, X_test, y_test, 'Lasso regression')\r\n",
        "print('******')\r\n",
        "eval(model_3i, X_test, y_test, 'Neural Network_default')\r\n",
        "print('******')\r\n",
        "eval(model_3ii, X_test, y_test, 'Neural Network_random')\r\n",
        "print('******')\r\n",
        "eval(model_3, X_test, y_test, 'Neural Network_gridsearch')\r\n",
        "print('******')\r\n",
        "eval(reg, X_test, y_test,'Gradient Boosting Regressor')\r\n",
        "print('******')\r\n",
        "print('Gradient Boost Linear Regression _ RMSLE Test set:', xgb_results['test']['RMSLE'][-1]) "
      ],
      "execution_count": 56,
      "outputs": [
        {
          "output_type": "stream",
          "text": [
            "RMSLE of linear regression : 0.4841\n",
            "R2 value of linear regression : 0.0032\n",
            "Err value of linear regression : 0.4841\n",
            "******\n",
            "RMSLE of Stochastic Gradient Descent : 0.4984\n",
            "R2 value of Stochastic Gradient Descent : -0.0038\n",
            "Err value of Stochastic Gradient Descent : 0.4984\n",
            "******\n",
            "RMSLE of Lasso regression : 0.4836\n",
            "R2 value of Lasso regression : 0.0022\n",
            "Err value of Lasso regression : 0.4836\n",
            "******\n",
            "RMSLE of Neural Network_default : 0.5393\n",
            "R2 value of Neural Network_default : -0.0802\n",
            "Err value of Neural Network_default : 0.5393\n",
            "******\n",
            "RMSLE of Neural Network_random : 0.4796\n",
            "R2 value of Neural Network_random : 0.0034\n",
            "Err value of Neural Network_random : 0.4796\n",
            "******\n",
            "RMSLE of Neural Network_gridsearch : 0.4781\n",
            "R2 value of Neural Network_gridsearch : 0.0003\n",
            "Err value of Neural Network_gridsearch : 0.4781\n",
            "******\n",
            "RMSLE of Gradient Boosting Regressor : 0.4756\n",
            "R2 value of Gradient Boosting Regressor : 0.0024\n",
            "Err value of Gradient Boosting Regressor : 0.4756\n",
            "******\n",
            "Gradient Boost Linear Regression _ RMSLE Test set: 0.462662\n"
          ],
          "name": "stdout"
        }
      ]
    },
    {
      "cell_type": "code",
      "metadata": {
        "id": "nEm4Q-V32sCU",
        "colab": {
          "base_uri": "https://localhost:8080/"
        },
        "outputId": "4857164f-1b76-489f-b67f-0a2a1998c50d"
      },
      "source": [
        "pred_y = xgb_model.predict(dmatrix_test)\r\n",
        "\r\n",
        "submission = pd.DataFrame()\r\n",
        "submission['MemberID'] = dataY2_df['MemberID']\r\n",
        "\r\n",
        "pred_y = pred_y.clip(min=0)\r\n",
        "pred_y = pred_y.clip(max=15)\r\n",
        "# pred_y = pred_y.astype(int)\r\n",
        "\r\n",
        "submission['DIH'] = pred_y\r\n",
        "submission.groupby(['DIH']).size()"
      ],
      "execution_count": 57,
      "outputs": [
        {
          "output_type": "execute_result",
          "data": {
            "text/plain": [
              "DIH\n",
              "0.255387    1\n",
              "0.257203    1\n",
              "0.260449    1\n",
              "0.260539    1\n",
              "0.260838    1\n",
              "           ..\n",
              "0.819696    1\n",
              "0.823048    1\n",
              "0.832304    1\n",
              "0.846934    1\n",
              "0.874312    1\n",
              "Length: 64277, dtype: int64"
            ]
          },
          "metadata": {
            "tags": []
          },
          "execution_count": 57
        }
      ]
    },
    {
      "cell_type": "code",
      "metadata": {
        "colab": {
          "base_uri": "https://localhost:8080/",
          "height": 47
        },
        "id": "niH1gNwsEZ7W",
        "outputId": "1f41667f-38d5-4e5f-ea02-8732a7224b56"
      },
      "source": [
        "submission[submission['DIH']>=1]"
      ],
      "execution_count": 58,
      "outputs": [
        {
          "output_type": "execute_result",
          "data": {
            "text/html": [
              "<div>\n",
              "<style scoped>\n",
              "    .dataframe tbody tr th:only-of-type {\n",
              "        vertical-align: middle;\n",
              "    }\n",
              "\n",
              "    .dataframe tbody tr th {\n",
              "        vertical-align: top;\n",
              "    }\n",
              "\n",
              "    .dataframe thead th {\n",
              "        text-align: right;\n",
              "    }\n",
              "</style>\n",
              "<table border=\"1\" class=\"dataframe\">\n",
              "  <thead>\n",
              "    <tr style=\"text-align: right;\">\n",
              "      <th></th>\n",
              "      <th>MemberID</th>\n",
              "      <th>DIH</th>\n",
              "    </tr>\n",
              "  </thead>\n",
              "  <tbody>\n",
              "  </tbody>\n",
              "</table>\n",
              "</div>"
            ],
            "text/plain": [
              "Empty DataFrame\n",
              "Columns: [MemberID, DIH]\n",
              "Index: []"
            ]
          },
          "metadata": {
            "tags": []
          },
          "execution_count": 58
        }
      ]
    }
  ]
}
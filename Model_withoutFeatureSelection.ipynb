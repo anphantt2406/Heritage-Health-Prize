{
  "nbformat": 4,
  "nbformat_minor": 0,
  "metadata": {
    "colab": {
      "name": "[ML2020][HHP][G4.PTThuyAn]-Model_withoutFeatureSelection.ipynb",
      "provenance": [],
      "collapsed_sections": [
        "S-JF0vVffnbR",
        "5pnD4X7jfrRS",
        "riX7ZDSQf1e2",
        "_fN4E2PSfi7P",
        "KdHMn2Wo3heF",
        "74HgPgHvfaKT"
      ],
      "authorship_tag": "ABX9TyPYQgiQv7MkvZSV+TQApYQQ",
      "include_colab_link": true
    },
    "kernelspec": {
      "display_name": "Python 3",
      "name": "python3"
    }
  },
  "cells": [
    {
      "cell_type": "markdown",
      "metadata": {
        "id": "view-in-github",
        "colab_type": "text"
      },
      "source": [
        "<a href=\"https://colab.research.google.com/github/anphantt2406/Heritage-Health-Prize/blob/main/Model_withoutFeatureSelection.ipynb\" target=\"_parent\"><img src=\"https://colab.research.google.com/assets/colab-badge.svg\" alt=\"Open In Colab\"/></a>"
      ]
    },
    {
      "cell_type": "code",
      "metadata": {
        "colab": {
          "base_uri": "https://localhost:8080/"
        },
        "id": "JTp1IHuy_n9Y",
        "outputId": "94bb78d1-3e04-4114-9c0d-9a8a32d35894"
      },
      "source": [
        "from google.colab import drive\r\n",
        "drive.mount('/content/drive')\r\n",
        "%cd /content/drive/My Drive/HHP_release3/new_data"
      ],
      "execution_count": 16,
      "outputs": [
        {
          "output_type": "stream",
          "text": [
            "Drive already mounted at /content/drive; to attempt to forcibly remount, call drive.mount(\"/content/drive\", force_remount=True).\n",
            "/content/drive/My Drive/HHP_release3/new_data\n"
          ],
          "name": "stdout"
        }
      ]
    },
    {
      "cell_type": "markdown",
      "metadata": {
        "id": "S-JF0vVffnbR"
      },
      "source": [
        "#Import Library"
      ]
    },
    {
      "cell_type": "code",
      "metadata": {
        "id": "MBhQiO2v3hQM"
      },
      "source": [
        "import glob\n",
        "import math\n",
        "import pandas as pd\n",
        "import numpy as np\n",
        "import xgboost\n",
        "from sklearn.linear_model import LinearRegression, LogisticRegression, Lasso, Ridge, SGDRegressor\n",
        "from sklearn.metrics import mean_squared_error, r2_score, classification_report, roc_auc_score, plot_roc_curve\n",
        "import matplotlib.pyplot as plt\n",
        "import matplotlib.patches as mpatches\n",
        "from sklearn.model_selection import train_test_split, GridSearchCV\n",
        "from keras.layers import Dense, Activation\n",
        "from keras.models import Sequential\n",
        "from sklearn.neural_network import MLPRegressor\n",
        "from sklearn import datasets, ensemble\n",
        "from sklearn.datasets import make_regression\n",
        "\n",
        "import seaborn as sns # Library for plotting\n",
        "color = sns.color_palette()\n",
        "sns.set_style('darkgrid')\n",
        "from sklearn.svm import SVC\n",
        "from sklearn.metrics import confusion_matrix"
      ],
      "execution_count": 41,
      "outputs": []
    },
    {
      "cell_type": "markdown",
      "metadata": {
        "id": "5pnD4X7jfrRS"
      },
      "source": [
        "#Define some needed function\r\n",
        "\r\n",
        "Predictions are evaluated using root mean squared logarithmic error, referred to henceforth as RMSLE.\r\n",
        "\r\n",
        "$$\\varepsilon = \\sqrt{\\frac{1}{n}\\sum_{i=1}^{n}\\left(log(p_i+1) - log(a_i+1)^2 \\right )}$$\r\n",
        "\r\n",
        "Where:\r\n",
        "\r\n",
        "\r\n",
        "\r\n",
        "*   $i$ is a patient's unique MemberID\r\n",
        "*   $n$ is the total number of patients\r\n",
        "*   $p_i$ is the prediction made for patient $i$\r\n",
        "*   $a_i$ is the actual number of days spent in the hospital by patient $i$\r\n",
        "\r\n",
        "\r\n",
        "\r\n"
      ]
    },
    {
      "cell_type": "code",
      "metadata": {
        "id": "L75u6E2x3uHu"
      },
      "source": [
        "def RMSLE_cal(pred, actu, name=None):\n",
        "    RMSLE = round(np.sqrt(((np.log(pred + 1) - np.log(actu + 1)) ** 2).sum() / actu.shape[0]), 6).item()\n",
        "    print('RMSLE', name, ':', RMSLE)"
      ],
      "execution_count": 18,
      "outputs": []
    },
    {
      "cell_type": "code",
      "metadata": {
        "id": "PnabKSiS3xex"
      },
      "source": [
        "def rmsle(pred, dtrain):\n",
        "    \"\"\"Used for stacked in Xgboost\n",
        "    \"\"\"\n",
        "    actu = dtrain.get_label()\n",
        "    RMSLE = round(np.sqrt(((np.log(pred + 1) - np.log(actu + 1)) ** 2).sum() / actu.shape[0]), 6).item()\n",
        "    return 'RMSLE', RMSLE"
      ],
      "execution_count": 19,
      "outputs": []
    },
    {
      "cell_type": "code",
      "metadata": {
        "id": "EmhapNDRQnoC"
      },
      "source": [
        "def eval(model, X_test, y_test, name = None):\n",
        "    pred_y = model.predict(X_test) # your predicted y values\n",
        "    # The root mean square logarithmic error\n",
        "    pred_y = pred_y.clip(min=0)\n",
        "    pred_y = pred_y.clip(max=15)\n",
        "    pred_y = pred_y.round(0).astype(int)\n",
        "    msle = np.mean( (np.log(pred_y + 1) - np.log(y_test + 1)) ** 2)\n",
        "    rmsle = math.sqrt(msle)\n",
        "    from sklearn.metrics import r2_score\n",
        "    r2 = r2_score(y_test,pred_y)\n",
        "    from sklearn.metrics import mean_squared_log_error\n",
        "    err = math.sqrt(mean_squared_log_error(y_test,pred_y))\n",
        "    print(\"RMSLE of\", name, \": %.4f\" %rmsle)\n",
        "    print(\"R2 value of\", name, \": %.4f\" %r2)\n",
        "    print(\"Err value of\", name, \": %.4f\" %err)"
      ],
      "execution_count": 20,
      "outputs": []
    },
    {
      "cell_type": "code",
      "metadata": {
        "id": "doF_jqmfbcwG"
      },
      "source": [
        "def plotResult(results, cv=None):\n",
        "    fig, ax = plt.subplots()\n",
        "    if cv:\n",
        "        ax.plot(range(results.shape[0]), results['train-RMSLE-mean'])\n",
        "        ax.plot(range(results.shape[0]), results['test-RMSLE-mean'])\n",
        "    else:\n",
        "        ax.plot(range(len(results['train']['RMSLE'])), results['train']['RMSLE'])\n",
        "        ax.plot(range(len(results['test']['RMSLE'])), results['test']['RMSLE'])\n",
        "        \n",
        "    ax.set(xlabel='Boost round', ylabel='RMSLE', title='Train/Test RMSLE')\n",
        "    ax.grid()\n",
        "\n",
        "    train_patch = mpatches.Patch(color='blue', label='Train')\n",
        "    test_patch = mpatches.Patch(color='orange', label='Test')\n",
        "\n",
        "    plt.legend(handles=[train_patch, test_patch])\n",
        "    plt.show()"
      ],
      "execution_count": 21,
      "outputs": []
    },
    {
      "cell_type": "markdown",
      "metadata": {
        "id": "riX7ZDSQf1e2"
      },
      "source": [
        "#Prepare data for training and testing\r\n",
        "\r\n",
        "In this notebook, we use Claims data in Year 1 for training and validation, Claims data in Year 2 for testing."
      ]
    },
    {
      "cell_type": "code",
      "metadata": {
        "id": "sS7HAUkF0VNF"
      },
      "source": [
        "dataY1_df = pd.read_csv('fulldataY1.csv')\n",
        "dataY2_df = pd.read_csv('fulldataY2.csv')"
      ],
      "execution_count": 22,
      "outputs": []
    },
    {
      "cell_type": "code",
      "metadata": {
        "id": "AtOlgBjJIRWo"
      },
      "source": [
        "dataY1 = dataY1_df.drop(\"MemberID\", axis = 1)\r\n",
        "y = dataY1['TARGET']\r\n",
        "X = dataY1.drop(['CLASS','TARGET'], axis = 1)\r\n",
        "X_train, X_valid, y_train, y_valid = train_test_split(X, y, test_size=0.25)"
      ],
      "execution_count": 23,
      "outputs": []
    },
    {
      "cell_type": "code",
      "metadata": {
        "id": "-OSmKvsoIRWq"
      },
      "source": [
        "from sklearn.preprocessing import StandardScaler\r\n",
        "scaler = StandardScaler()\r\n",
        "# Fit only to the training data\r\n",
        "scaler.fit(X_train)\r\n",
        "X_train = scaler.transform(X_train)\r\n",
        "X_valid = scaler.transform(X_valid)"
      ],
      "execution_count": 24,
      "outputs": []
    },
    {
      "cell_type": "code",
      "metadata": {
        "id": "jM-orfrbFwWx"
      },
      "source": [
        "dataY2 = dataY2_df.drop(\"MemberID\", axis = 1)\r\n",
        "y_test = dataY2['TARGET']\r\n",
        "X_test = dataY2.drop(['CLASS','TARGET'], axis = 1)\r\n",
        "X_test = scaler.transform(X_test)"
      ],
      "execution_count": 34,
      "outputs": []
    },
    {
      "cell_type": "markdown",
      "metadata": {
        "id": "5_Dy67txiTSk"
      },
      "source": [
        "# Regression"
      ]
    },
    {
      "cell_type": "markdown",
      "metadata": {
        "id": "_fN4E2PSfi7P"
      },
      "source": [
        "## MODEL 1: Linear Regression"
      ]
    },
    {
      "cell_type": "code",
      "metadata": {
        "colab": {
          "base_uri": "https://localhost:8080/",
          "height": 671
        },
        "id": "Fyj-evy7Hx4U",
        "outputId": "df274cbb-d0b4-436a-a269-b74ca36528fd"
      },
      "source": [
        "# Create linear regression object\r\n",
        "model_1 = LinearRegression()\r\n",
        "# Train the model using the training sets\r\n",
        "model_1.fit(X_train, y_train)\r\n",
        "# Predict on Test set\r\n",
        "y_pred_1 = model_1.predict(X_valid)\r\n",
        "\r\n",
        "# Evaluation on Validation set\r\n",
        "eval(model_1, X_valid, y_valid,'linear regression')\r\n",
        "\r\n",
        "plt.figure(figsize = (15,10))\r\n",
        "plt.scatter(y_pred_1, y_valid, alpha=.2, s = 60, color='r') #alpha helps to show overlapping data\r\n",
        "plt.xlabel('DIH prediction')\r\n",
        "plt.ylabel('Actual DIH')\r\n",
        "plt.title('Linear Regression Model')\r\n",
        "plt.show()"
      ],
      "execution_count": 25,
      "outputs": [
        {
          "output_type": "stream",
          "text": [
            "RMSLE of linear regression : 0.5291\n",
            "R2 value of linear regression : 0.0439\n",
            "Err value of linear regression : 0.5291\n"
          ],
          "name": "stdout"
        },
        {
          "output_type": "display_data",
          "data": {
            "image/png": "[encoded data removed]",
            "text/plain": [
              "<Figure size 1080x720 with 1 Axes>"
            ]
          },
          "metadata": {
            "tags": []
          }
        }
      ]
    },
    {
      "cell_type": "markdown",
      "metadata": {
        "id": "KdHMn2Wo3heF"
      },
      "source": [
        "## MODEL 2: Stochastic Gradient Descent"
      ]
    },
    {
      "cell_type": "code",
      "metadata": {
        "colab": {
          "base_uri": "https://localhost:8080/"
        },
        "id": "VviJ28km1SLZ",
        "outputId": "3f45d149-c4fc-495f-d2ec-fb095a66e666"
      },
      "source": [
        "from sklearn.linear_model import SGDRegressor\r\n",
        "\r\n",
        "model_2 = SGDRegressor(max_iter=3000, tol=1e-1)\r\n",
        "model_2.fit(X_train, y_train)\r\n",
        "y_pred_2 = model_2.predict(X_valid)\r\n",
        "eval(model_2, X_valid, y_valid, 'Stochastic Gradient Descent')"
      ],
      "execution_count": 26,
      "outputs": [
        {
          "output_type": "stream",
          "text": [
            "RMSLE of Stochastic Gradient Descent : 0.5767\n",
            "R2 value of Stochastic Gradient Descent : -0.0329\n",
            "Err value of Stochastic Gradient Descent : 0.5767\n"
          ],
          "name": "stdout"
        }
      ]
    },
    {
      "cell_type": "code",
      "metadata": {
        "colab": {
          "base_uri": "https://localhost:8080/"
        },
        "id": "LzG6l6Y1Es2r",
        "outputId": "fdbbccd9-a635-4842-9f1a-b2959fe0f19c"
      },
      "source": [
        "model_2i = Lasso(alpha=0.001, copy_X=True, fit_intercept=True, max_iter=5000,\r\n",
        "     normalize=False, positive=False, precompute=False, random_state=None,\r\n",
        "     selection='cyclic', tol=0.0001, warm_start=False)\r\n",
        "model_2i.fit(X_train, y_train)\r\n",
        "eval(model_2i, X_valid, y_valid, 'Lasso regression')"
      ],
      "execution_count": 27,
      "outputs": [
        {
          "output_type": "stream",
          "text": [
            "RMSLE of Lasso regression : 0.5279\n",
            "R2 value of Lasso regression : 0.0437\n",
            "Err value of Lasso regression : 0.5279\n"
          ],
          "name": "stdout"
        }
      ]
    },
    {
      "cell_type": "markdown",
      "metadata": {
        "id": "74HgPgHvfaKT"
      },
      "source": [
        "##MODEL 3: Neural Network"
      ]
    },
    {
      "cell_type": "code",
      "metadata": {
        "colab": {
          "base_uri": "https://localhost:8080/"
        },
        "id": "RVCA7wgHlj9Y",
        "outputId": "2d4512f4-a1d7-41d8-b14f-61bbe87ea7f2"
      },
      "source": [
        "#(i) Neural Network with default hyperparameters\r\n",
        "model_3i = MLPRegressor(random_state=1, max_iter=500).fit(X_train, y_train)\r\n",
        "y_pred_3 = model_3i.predict(X_valid)\r\n",
        "eval(model_3i, X_valid, y_valid, 'Neural Network_default')"
      ],
      "execution_count": 28,
      "outputs": [
        {
          "output_type": "stream",
          "text": [
            "RMSLE of Neural Network_default : 0.5923\n",
            "R2 value of Neural Network_default : -0.0864\n",
            "Err value of Neural Network_default : 0.5923\n"
          ],
          "name": "stdout"
        }
      ]
    },
    {
      "cell_type": "code",
      "metadata": {
        "colab": {
          "base_uri": "https://localhost:8080/"
        },
        "id": "e1WcOea9Qr4G",
        "outputId": "229f09ba-c668-482a-fee0-829ab590473d"
      },
      "source": [
        "#(ii) random hyperparameter\n",
        "model_3ii = MLPRegressor(activation='relu', alpha=0.0001, batch_size='auto', beta_1=0.9,\n",
        "        beta_2=0.999, early_stopping=False, epsilon=1e-08,\n",
        "        hidden_layer_sizes=7, learning_rate='adaptive',\n",
        "        learning_rate_init=0.001, max_iter=3000, momentum=0.9,\n",
        "        nesterovs_momentum=True, power_t=0.5, random_state=None,\n",
        "        shuffle=True, solver='adam', tol=0.0001, validation_fraction=0.1,\n",
        "        verbose=1, warm_start=False)\n",
        "\n",
        "model_3ii.fit(X_train, y_train)\n",
        "eval(model_3ii, X_valid, y_valid , 'Neural Network_random')"
      ],
      "execution_count": 29,
      "outputs": [
        {
          "output_type": "stream",
          "text": [
            "Iteration 1, loss = 1.52774567\n",
            "Iteration 2, loss = 1.29817743\n",
            "Iteration 3, loss = 1.24759825\n",
            "Iteration 4, loss = 1.22602533\n",
            "Iteration 5, loss = 1.21178140\n",
            "Iteration 6, loss = 1.20369818\n",
            "Iteration 7, loss = 1.19756664\n",
            "Iteration 8, loss = 1.19332755\n",
            "Iteration 9, loss = 1.18921882\n",
            "Iteration 10, loss = 1.18662374\n",
            "Iteration 11, loss = 1.18440074\n",
            "Iteration 12, loss = 1.18278245\n",
            "Iteration 13, loss = 1.18071325\n",
            "Iteration 14, loss = 1.17942381\n",
            "Iteration 15, loss = 1.17815165\n",
            "Iteration 16, loss = 1.17621498\n",
            "Iteration 17, loss = 1.17583055\n",
            "Iteration 18, loss = 1.17388944\n",
            "Iteration 19, loss = 1.17324160\n",
            "Iteration 20, loss = 1.17182150\n",
            "Iteration 21, loss = 1.17097943\n",
            "Iteration 22, loss = 1.17082738\n",
            "Iteration 23, loss = 1.16822468\n",
            "Iteration 24, loss = 1.16953784\n",
            "Iteration 25, loss = 1.16833382\n",
            "Iteration 26, loss = 1.16690534\n",
            "Iteration 27, loss = 1.16622797\n",
            "Iteration 28, loss = 1.16489519\n",
            "Iteration 29, loss = 1.16341978\n",
            "Iteration 30, loss = 1.16401666\n",
            "Iteration 31, loss = 1.16372023\n",
            "Iteration 32, loss = 1.16268899\n",
            "Iteration 33, loss = 1.16218579\n",
            "Iteration 34, loss = 1.16212419\n",
            "Iteration 35, loss = 1.16170190\n",
            "Iteration 36, loss = 1.16088890\n",
            "Iteration 37, loss = 1.16051277\n",
            "Iteration 38, loss = 1.16004216\n",
            "Iteration 39, loss = 1.15957809\n",
            "Iteration 40, loss = 1.15838885\n",
            "Iteration 41, loss = 1.15862855\n",
            "Iteration 42, loss = 1.15926998\n",
            "Iteration 43, loss = 1.15764057\n",
            "Iteration 44, loss = 1.15673191\n",
            "Iteration 45, loss = 1.15717458\n",
            "Iteration 46, loss = 1.15647496\n",
            "Iteration 47, loss = 1.15617038\n",
            "Iteration 48, loss = 1.15553602\n",
            "Iteration 49, loss = 1.15686515\n",
            "Iteration 50, loss = 1.15547411\n",
            "Iteration 51, loss = 1.15444110\n",
            "Iteration 52, loss = 1.15414478\n",
            "Iteration 53, loss = 1.15495658\n",
            "Iteration 54, loss = 1.15401379\n",
            "Iteration 55, loss = 1.15365550\n",
            "Iteration 56, loss = 1.15309060\n",
            "Iteration 57, loss = 1.15323355\n",
            "Iteration 58, loss = 1.15283525\n",
            "Iteration 59, loss = 1.15286977\n",
            "Iteration 60, loss = 1.15249321\n",
            "Iteration 61, loss = 1.15215975\n",
            "Iteration 62, loss = 1.15155746\n",
            "Iteration 63, loss = 1.15100337\n",
            "Iteration 64, loss = 1.15115847\n",
            "Iteration 65, loss = 1.15090349\n",
            "Iteration 66, loss = 1.15123919\n",
            "Iteration 67, loss = 1.15001745\n",
            "Iteration 68, loss = 1.15036807\n",
            "Iteration 69, loss = 1.15015127\n",
            "Iteration 70, loss = 1.14963448\n",
            "Iteration 71, loss = 1.14958659\n",
            "Iteration 72, loss = 1.14968023\n",
            "Iteration 73, loss = 1.14988282\n",
            "Iteration 74, loss = 1.14884425\n",
            "Iteration 75, loss = 1.14962856\n",
            "Iteration 76, loss = 1.14848391\n",
            "Iteration 77, loss = 1.14903421\n",
            "Iteration 78, loss = 1.14872864\n",
            "Iteration 79, loss = 1.14887820\n",
            "Iteration 80, loss = 1.14828793\n",
            "Iteration 81, loss = 1.14852737\n",
            "Iteration 82, loss = 1.14802296\n",
            "Iteration 83, loss = 1.14783640\n",
            "Iteration 84, loss = 1.14746110\n",
            "Iteration 85, loss = 1.14798181\n",
            "Iteration 86, loss = 1.14800182\n",
            "Iteration 87, loss = 1.14755296\n",
            "Iteration 88, loss = 1.14756390\n",
            "Iteration 89, loss = 1.14735408\n",
            "Iteration 90, loss = 1.14669874\n",
            "Iteration 91, loss = 1.14655419\n",
            "Iteration 92, loss = 1.14770238\n",
            "Iteration 93, loss = 1.14724692\n",
            "Iteration 94, loss = 1.14657161\n",
            "Iteration 95, loss = 1.14641488\n",
            "Iteration 96, loss = 1.14624950\n",
            "Iteration 97, loss = 1.14604833\n",
            "Iteration 98, loss = 1.14675906\n",
            "Iteration 99, loss = 1.14607365\n",
            "Iteration 100, loss = 1.14539345\n",
            "Iteration 101, loss = 1.14493808\n",
            "Iteration 102, loss = 1.14453806\n",
            "Iteration 103, loss = 1.14421528\n",
            "Iteration 104, loss = 1.14502627\n",
            "Iteration 105, loss = 1.14496678\n",
            "Iteration 106, loss = 1.14458468\n",
            "Iteration 107, loss = 1.14488548\n",
            "Iteration 108, loss = 1.14444306\n",
            "Iteration 109, loss = 1.14425067\n",
            "Iteration 110, loss = 1.14439793\n",
            "Iteration 111, loss = 1.14402506\n",
            "Iteration 112, loss = 1.14423482\n",
            "Iteration 113, loss = 1.14333248\n",
            "Iteration 114, loss = 1.14361159\n",
            "Iteration 115, loss = 1.14393991\n",
            "Iteration 116, loss = 1.14339382\n",
            "Iteration 117, loss = 1.14351697\n",
            "Iteration 118, loss = 1.14272033\n",
            "Iteration 119, loss = 1.14330398\n",
            "Iteration 120, loss = 1.14307404\n",
            "Iteration 121, loss = 1.14223903\n",
            "Iteration 122, loss = 1.14310216\n",
            "Iteration 123, loss = 1.14371066\n",
            "Iteration 124, loss = 1.14259558\n",
            "Iteration 125, loss = 1.14231244\n",
            "Iteration 126, loss = 1.14286832\n",
            "Iteration 127, loss = 1.14274704\n",
            "Iteration 128, loss = 1.14219755\n",
            "Iteration 129, loss = 1.14246603\n",
            "Iteration 130, loss = 1.14179592\n",
            "Iteration 131, loss = 1.14232879\n",
            "Iteration 132, loss = 1.14180099\n",
            "Iteration 133, loss = 1.14221482\n",
            "Iteration 134, loss = 1.14096953\n",
            "Iteration 135, loss = 1.14174674\n",
            "Iteration 136, loss = 1.14108980\n",
            "Iteration 137, loss = 1.14125570\n",
            "Iteration 138, loss = 1.14157510\n",
            "Iteration 139, loss = 1.14165057\n",
            "Iteration 140, loss = 1.14139675\n",
            "Iteration 141, loss = 1.14056527\n",
            "Iteration 142, loss = 1.14036538\n",
            "Iteration 143, loss = 1.14081733\n",
            "Iteration 144, loss = 1.14072570\n",
            "Iteration 145, loss = 1.14012580\n",
            "Iteration 146, loss = 1.14141894\n",
            "Iteration 147, loss = 1.14050816\n",
            "Iteration 148, loss = 1.13999050\n",
            "Iteration 149, loss = 1.14043780\n",
            "Iteration 150, loss = 1.14017870\n",
            "Iteration 151, loss = 1.13944089\n",
            "Iteration 152, loss = 1.14002374\n",
            "Iteration 153, loss = 1.14036154\n",
            "Iteration 154, loss = 1.13981349\n",
            "Iteration 155, loss = 1.13988030\n",
            "Iteration 156, loss = 1.13927774\n",
            "Iteration 157, loss = 1.13960967\n",
            "Iteration 158, loss = 1.13898643\n",
            "Iteration 159, loss = 1.13976120\n",
            "Iteration 160, loss = 1.13934471\n",
            "Iteration 161, loss = 1.13900435\n",
            "Iteration 162, loss = 1.13943470\n",
            "Iteration 163, loss = 1.13874483\n",
            "Iteration 164, loss = 1.13934699\n",
            "Iteration 165, loss = 1.13850930\n",
            "Iteration 166, loss = 1.13832077\n",
            "Iteration 167, loss = 1.13884207\n",
            "Iteration 168, loss = 1.13904182\n",
            "Iteration 169, loss = 1.13844514\n",
            "Iteration 170, loss = 1.13784337\n",
            "Iteration 171, loss = 1.13819865\n",
            "Iteration 172, loss = 1.13901397\n",
            "Iteration 173, loss = 1.13784997\n",
            "Iteration 174, loss = 1.13837399\n",
            "Iteration 175, loss = 1.13803455\n",
            "Iteration 176, loss = 1.13762159\n",
            "Iteration 177, loss = 1.13760454\n",
            "Iteration 178, loss = 1.13750128\n",
            "Iteration 179, loss = 1.13769688\n",
            "Iteration 180, loss = 1.13763498\n",
            "Iteration 181, loss = 1.13763151\n",
            "Iteration 182, loss = 1.13767136\n",
            "Iteration 183, loss = 1.13717600\n",
            "Iteration 184, loss = 1.13694875\n",
            "Iteration 185, loss = 1.13761773\n",
            "Iteration 186, loss = 1.13773435\n",
            "Iteration 187, loss = 1.13760131\n",
            "Iteration 188, loss = 1.13662980\n",
            "Iteration 189, loss = 1.13679166\n",
            "Iteration 190, loss = 1.13720700\n",
            "Iteration 191, loss = 1.13608379\n",
            "Iteration 192, loss = 1.13676805\n",
            "Iteration 193, loss = 1.13703457\n",
            "Iteration 194, loss = 1.13683455\n",
            "Iteration 195, loss = 1.13598742\n",
            "Iteration 196, loss = 1.13673983\n",
            "Iteration 197, loss = 1.13696953\n",
            "Iteration 198, loss = 1.13631890\n",
            "Iteration 199, loss = 1.13655959\n",
            "Iteration 200, loss = 1.13624961\n",
            "Iteration 201, loss = 1.13604968\n",
            "Iteration 202, loss = 1.13638401\n",
            "Training loss did not improve more than tol=0.000100 for 10 consecutive epochs. Stopping.\n",
            "RMSLE of Neural Network_random : 0.5374\n",
            "R2 value of Neural Network_random : 0.0262\n",
            "Err value of Neural Network_random : 0.5374\n"
          ],
          "name": "stdout"
        }
      ]
    },
    {
      "cell_type": "markdown",
      "metadata": {
        "id": "BRabSrujJ44t"
      },
      "source": [
        "**Hyperparameter Optimization using Grid Search**"
      ]
    },
    {
      "cell_type": "code",
      "metadata": {
        "colab": {
          "base_uri": "https://localhost:8080/"
        },
        "id": "uBfOkQNpeO2n",
        "outputId": "7f18efe3-e5c1-4431-c8ee-bae893997f65"
      },
      "source": [
        "#parameter_grid = {'hidden_layer_sizes': [i for i in range(1,10)],\r\n",
        "#                  'activation': ['tanh', 'relu'],\r\n",
        "#                  'solver': ['sgd','adam'],\r\n",
        "#                  'learning_rate': ['constant'],\r\n",
        "#                  'learning_rate_init': [0.001],\r\n",
        "#                  'alpha': [0.0001],\r\n",
        "#                  'max_iter': [1000],}\r\n",
        "\r\n",
        "#rgr = GridSearchCV(MLPRegressor(), parameter_grid,\r\n",
        "#                   cv = 5, verbose=True, pre_dispatch='2*n_jobs')\r\n",
        "#rgr.fit(X_train, y_train)\r\n",
        "\r\n",
        "#train_mse = mean_squared_error(y_train, rgr.predict(X_train))\r\n",
        "#test_mse = mean_squared_error(y_valid, rgr.predict(X_valid))\r\n",
        "\r\n",
        "#print(rgr.best_params_)\r\n",
        "#print(rgr.best_score_)\r\n",
        "#print(\"Train MSE:\", np.round(train_mse,2))\r\n",
        "#print(\"Test MSE:\", np.round(test_mse,2))"
      ],
      "execution_count": 30,
      "outputs": [
        {
          "output_type": "stream",
          "text": [
            "Fitting 5 folds for each of 36 candidates, totalling 180 fits\n"
          ],
          "name": "stdout"
        },
        {
          "output_type": "stream",
          "text": [
            "[Parallel(n_jobs=1)]: Using backend SequentialBackend with 1 concurrent workers.\n",
            "[Parallel(n_jobs=1)]: Done 180 out of 180 | elapsed: 64.3min finished\n"
          ],
          "name": "stderr"
        },
        {
          "output_type": "stream",
          "text": [
            "{'activation': 'relu', 'alpha': 0.0001, 'hidden_layer_sizes': 2, 'learning_rate': 'constant', 'learning_rate_init': 0.001, 'max_iter': 1000, 'solver': 'adam'}\n",
            "0.0645311627495467\n",
            "Train MSE: 2.37\n",
            "Test MSE: 2.42\n"
          ],
          "name": "stdout"
        }
      ]
    },
    {
      "cell_type": "code",
      "metadata": {
        "colab": {
          "base_uri": "https://localhost:8080/"
        },
        "id": "-rFUO9A92R8T",
        "outputId": "0e8cfd6e-f6c8-4e60-9c47-e0ea8fe67ccd"
      },
      "source": [
        "from sklearn.neural_network import MLPRegressor\n",
        "\n",
        "model_3 = MLPRegressor(activation='relu', alpha=0.0001, batch_size='auto', beta_1=0.9,\n",
        "        beta_2=0.999, early_stopping=False, epsilon=1e-08,\n",
        "        hidden_layer_sizes=2, learning_rate='constant',\n",
        "        learning_rate_init=0.001, max_iter=1000, momentum=0.9,\n",
        "        nesterovs_momentum=True, power_t=0.5, random_state=None,\n",
        "        shuffle=True, solver='adam', tol=0.0001, validation_fraction=0.1,\n",
        "        verbose=1, warm_start=False)\n",
        "\n",
        "model_3.fit(X_train, y_train)\n",
        "eval(model_3, X_valid, y_valid, 'Neural Network_gridsearch')"
      ],
      "execution_count": 31,
      "outputs": [
        {
          "output_type": "stream",
          "text": [
            "Iteration 1, loss = 1.35019578\n",
            "Iteration 2, loss = 1.24765622\n",
            "Iteration 3, loss = 1.22846491\n",
            "Iteration 4, loss = 1.21947959\n",
            "Iteration 5, loss = 1.21385697\n",
            "Iteration 6, loss = 1.20994316\n",
            "Iteration 7, loss = 1.20707249\n",
            "Iteration 8, loss = 1.20488671\n",
            "Iteration 9, loss = 1.20389661\n",
            "Iteration 10, loss = 1.20206677\n",
            "Iteration 11, loss = 1.20143075\n",
            "Iteration 12, loss = 1.20068639\n",
            "Iteration 13, loss = 1.20003479\n",
            "Iteration 14, loss = 1.19869798\n",
            "Iteration 15, loss = 1.19882739\n",
            "Iteration 16, loss = 1.19815503\n",
            "Iteration 17, loss = 1.19738717\n",
            "Iteration 18, loss = 1.19746084\n",
            "Iteration 19, loss = 1.19658575\n",
            "Iteration 20, loss = 1.19668868\n",
            "Iteration 21, loss = 1.19622790\n",
            "Iteration 22, loss = 1.19571597\n",
            "Iteration 23, loss = 1.19528091\n",
            "Iteration 24, loss = 1.19473481\n",
            "Iteration 25, loss = 1.19454752\n",
            "Iteration 26, loss = 1.19399994\n",
            "Iteration 27, loss = 1.19401304\n",
            "Iteration 28, loss = 1.19354226\n",
            "Iteration 29, loss = 1.19342736\n",
            "Iteration 30, loss = 1.19299958\n",
            "Iteration 31, loss = 1.19293756\n",
            "Iteration 32, loss = 1.19272032\n",
            "Iteration 33, loss = 1.19249139\n",
            "Iteration 34, loss = 1.19236940\n",
            "Iteration 35, loss = 1.19201860\n",
            "Iteration 36, loss = 1.19165588\n",
            "Iteration 37, loss = 1.19188265\n",
            "Iteration 38, loss = 1.19188499\n",
            "Iteration 39, loss = 1.19125157\n",
            "Iteration 40, loss = 1.19149531\n",
            "Iteration 41, loss = 1.19088213\n",
            "Iteration 42, loss = 1.19073257\n",
            "Iteration 43, loss = 1.19082300\n",
            "Iteration 44, loss = 1.19040677\n",
            "Iteration 45, loss = 1.18989325\n",
            "Iteration 46, loss = 1.19037141\n",
            "Iteration 47, loss = 1.19009307\n",
            "Iteration 48, loss = 1.18991731\n",
            "Iteration 49, loss = 1.18978679\n",
            "Iteration 50, loss = 1.18970110\n",
            "Iteration 51, loss = 1.18924602\n",
            "Iteration 52, loss = 1.18925024\n",
            "Iteration 53, loss = 1.18938164\n",
            "Iteration 54, loss = 1.18902888\n",
            "Iteration 55, loss = 1.18911206\n",
            "Iteration 56, loss = 1.18844359\n",
            "Iteration 57, loss = 1.18870907\n",
            "Iteration 58, loss = 1.18827453\n",
            "Iteration 59, loss = 1.18832740\n",
            "Iteration 60, loss = 1.18830320\n",
            "Iteration 61, loss = 1.18804928\n",
            "Iteration 62, loss = 1.18856417\n",
            "Iteration 63, loss = 1.18828299\n",
            "Iteration 64, loss = 1.18819122\n",
            "Iteration 65, loss = 1.18834400\n",
            "Iteration 66, loss = 1.18800447\n",
            "Iteration 67, loss = 1.18786664\n",
            "Iteration 68, loss = 1.18785445\n",
            "Iteration 69, loss = 1.18783641\n",
            "Iteration 70, loss = 1.18773515\n",
            "Iteration 71, loss = 1.18783669\n",
            "Iteration 72, loss = 1.18767408\n",
            "Iteration 73, loss = 1.18788701\n",
            "Iteration 74, loss = 1.18753247\n",
            "Iteration 75, loss = 1.18739808\n",
            "Iteration 76, loss = 1.18695679\n",
            "Iteration 77, loss = 1.18753826\n",
            "Iteration 78, loss = 1.18743474\n",
            "Iteration 79, loss = 1.18725952\n",
            "Iteration 80, loss = 1.18748854\n",
            "Iteration 81, loss = 1.18734867\n",
            "Iteration 82, loss = 1.18701532\n",
            "Iteration 83, loss = 1.18729547\n",
            "Iteration 84, loss = 1.18732209\n",
            "Iteration 85, loss = 1.18719709\n",
            "Iteration 86, loss = 1.18716462\n",
            "Iteration 87, loss = 1.18653664\n",
            "Iteration 88, loss = 1.18706849\n",
            "Iteration 89, loss = 1.18669837\n",
            "Iteration 90, loss = 1.18666614\n",
            "Iteration 91, loss = 1.18649153\n",
            "Iteration 92, loss = 1.18693774\n",
            "Iteration 93, loss = 1.18658667\n",
            "Iteration 94, loss = 1.18652867\n",
            "Iteration 95, loss = 1.18680370\n",
            "Iteration 96, loss = 1.18663072\n",
            "Iteration 97, loss = 1.18666839\n",
            "Iteration 98, loss = 1.18654273\n",
            "Training loss did not improve more than tol=0.000100 for 10 consecutive epochs. Stopping.\n",
            "RMSLE of Neural Network_gridsearch : 0.5395\n",
            "R2 value of Neural Network_gridsearch : 0.0450\n",
            "Err value of Neural Network_gridsearch : 0.5395\n"
          ],
          "name": "stdout"
        }
      ]
    },
    {
      "cell_type": "markdown",
      "metadata": {
        "id": "eVUxzLr-bcw5"
      },
      "source": [
        "## MODEL 4: XGBoost -  Gradient Boost Linear Regression Function"
      ]
    },
    {
      "cell_type": "code",
      "metadata": {
        "id": "RqkQIJJ6bcw8"
      },
      "source": [
        "# Set XGBoost DataMatrix\n",
        "dmatrix_train = xgboost.DMatrix(data=X_train,label=y_train)\n",
        "dmatrix_test = xgboost.DMatrix(data=X_test,label=y_test)"
      ],
      "execution_count": 37,
      "outputs": []
    },
    {
      "cell_type": "code",
      "metadata": {
        "id": "bvrLEOK4bcxA",
        "scrolled": true,
        "colab": {
          "base_uri": "https://localhost:8080/",
          "height": 1000
        },
        "outputId": "7864b655-bf88-4694-cf29-cceb35b97ae8"
      },
      "source": [
        "# XGBoost\n",
        "params = {'objective': 'reg:linear', 'gamma': 0,\n",
        "          'subsample': 0.3, 'colsample_by*': 0.5, 'learning_rate': 0.1, 'max_depth': 15, 'lambda': 10,\n",
        "          'booster': 'gblinear'}\n",
        "xgb_results = {}\n",
        "xgb_model = xgboost.train(dtrain=dmatrix_train, params=params, evals_result=xgb_results,\n",
        "                          feval=rmsle, evals=[(dmatrix_test,'test'), (dmatrix_train,'train')], \n",
        "                          num_boost_round=500, early_stopping_rounds=5)\n",
        "\n",
        "plotResult(xgb_results, cv=False)\n",
        "print('RMSLE Train set:', xgb_results['train']['RMSLE'][-1])"
      ],
      "execution_count": 38,
      "outputs": [
        {
          "output_type": "stream",
          "text": [
            "[02:12:12] WARNING: /workspace/src/objective/regression_obj.cu:152: reg:linear is now deprecated in favor of reg:squarederror.\n",
            "[0]\ttest-rmse:1.52253\ttrain-rmse:1.60336\ttest-RMSLE:0.519597\ttrain-RMSLE:0.528008\n",
            "Multiple eval metrics have been passed: 'train-RMSLE' will be used for early stopping.\n",
            "\n",
            "Will train until train-RMSLE hasn't improved in 5 rounds.\n",
            "[1]\ttest-rmse:1.51554\ttrain-rmse:1.59715\ttest-RMSLE:0.515956\ttrain-RMSLE:0.523608\n",
            "[2]\ttest-rmse:1.51078\ttrain-rmse:1.59284\ttest-RMSLE:0.513683\ttrain-RMSLE:0.520635\n",
            "[3]\ttest-rmse:1.50745\ttrain-rmse:1.58978\ttest-RMSLE:0.512178\ttrain-RMSLE:0.518537\n",
            "[4]\ttest-rmse:1.50507\ttrain-rmse:1.58756\ttest-RMSLE:0.511114\ttrain-RMSLE:0.516991\n",
            "[5]\ttest-rmse:1.50333\ttrain-rmse:1.58592\ttest-RMSLE:0.510311\ttrain-RMSLE:0.515805\n",
            "[6]\ttest-rmse:1.50202\ttrain-rmse:1.58468\ttest-RMSLE:0.509668\ttrain-RMSLE:0.514861\n",
            "[7]\ttest-rmse:1.50103\ttrain-rmse:1.58372\ttest-RMSLE:0.509128\ttrain-RMSLE:0.514087\n",
            "[8]\ttest-rmse:1.50024\ttrain-rmse:1.58298\ttest-RMSLE:0.508658\ttrain-RMSLE:0.513437\n",
            "[9]\ttest-rmse:1.49962\ttrain-rmse:1.58238\ttest-RMSLE:0.50824\ttrain-RMSLE:0.512881\n",
            "[10]\ttest-rmse:1.49912\ttrain-rmse:1.58191\ttest-RMSLE:0.507864\ttrain-RMSLE:0.512399\n",
            "[11]\ttest-rmse:1.49871\ttrain-rmse:1.58152\ttest-RMSLE:0.507523\ttrain-RMSLE:0.511977\n",
            "[12]\ttest-rmse:1.49837\ttrain-rmse:1.58121\ttest-RMSLE:0.507211\ttrain-RMSLE:0.511605\n",
            "[13]\ttest-rmse:1.49809\ttrain-rmse:1.58095\ttest-RMSLE:0.506928\ttrain-RMSLE:0.511275\n",
            "[14]\ttest-rmse:1.49786\ttrain-rmse:1.58073\ttest-RMSLE:0.506669\ttrain-RMSLE:0.510982\n",
            "[15]\ttest-rmse:1.49766\ttrain-rmse:1.58055\ttest-RMSLE:0.506434\ttrain-RMSLE:0.510721\n",
            "[16]\ttest-rmse:1.49749\ttrain-rmse:1.58039\ttest-RMSLE:0.506219\ttrain-RMSLE:0.510487\n",
            "[17]\ttest-rmse:1.49734\ttrain-rmse:1.58026\ttest-RMSLE:0.506025\ttrain-RMSLE:0.510278\n",
            "[18]\ttest-rmse:1.49722\ttrain-rmse:1.58015\ttest-RMSLE:0.505848\ttrain-RMSLE:0.510091\n",
            "[19]\ttest-rmse:1.49711\ttrain-rmse:1.58005\ttest-RMSLE:0.505688\ttrain-RMSLE:0.509923\n",
            "[20]\ttest-rmse:1.49701\ttrain-rmse:1.57997\ttest-RMSLE:0.505543\ttrain-RMSLE:0.509773\n",
            "[21]\ttest-rmse:1.49693\ttrain-rmse:1.5799\ttest-RMSLE:0.505412\ttrain-RMSLE:0.509638\n",
            "[22]\ttest-rmse:1.49686\ttrain-rmse:1.57983\ttest-RMSLE:0.505294\ttrain-RMSLE:0.509518\n",
            "[23]\ttest-rmse:1.4968\ttrain-rmse:1.57978\ttest-RMSLE:0.505187\ttrain-RMSLE:0.509409\n",
            "[24]\ttest-rmse:1.49674\ttrain-rmse:1.57973\ttest-RMSLE:0.505091\ttrain-RMSLE:0.509312\n",
            "[25]\ttest-rmse:1.49669\ttrain-rmse:1.57969\ttest-RMSLE:0.505004\ttrain-RMSLE:0.509224\n",
            "[26]\ttest-rmse:1.49665\ttrain-rmse:1.57965\ttest-RMSLE:0.504926\ttrain-RMSLE:0.509146\n",
            "[27]\ttest-rmse:1.49661\ttrain-rmse:1.57962\ttest-RMSLE:0.504855\ttrain-RMSLE:0.509075\n",
            "[28]\ttest-rmse:1.49658\ttrain-rmse:1.57959\ttest-RMSLE:0.504792\ttrain-RMSLE:0.509012\n",
            "[29]\ttest-rmse:1.49655\ttrain-rmse:1.57957\ttest-RMSLE:0.504734\ttrain-RMSLE:0.508955\n",
            "[30]\ttest-rmse:1.49652\ttrain-rmse:1.57954\ttest-RMSLE:0.504683\ttrain-RMSLE:0.508904\n",
            "[31]\ttest-rmse:1.4965\ttrain-rmse:1.57952\ttest-RMSLE:0.504637\ttrain-RMSLE:0.508858\n",
            "[32]\ttest-rmse:1.49648\ttrain-rmse:1.57951\ttest-RMSLE:0.504595\ttrain-RMSLE:0.508817\n",
            "[33]\ttest-rmse:1.49646\ttrain-rmse:1.57949\ttest-RMSLE:0.504557\ttrain-RMSLE:0.50878\n",
            "[34]\ttest-rmse:1.49644\ttrain-rmse:1.57948\ttest-RMSLE:0.504523\ttrain-RMSLE:0.508746\n",
            "[35]\ttest-rmse:1.49643\ttrain-rmse:1.57947\ttest-RMSLE:0.504493\ttrain-RMSLE:0.508717\n",
            "[36]\ttest-rmse:1.49642\ttrain-rmse:1.57945\ttest-RMSLE:0.504466\ttrain-RMSLE:0.50869\n",
            "[37]\ttest-rmse:1.4964\ttrain-rmse:1.57944\ttest-RMSLE:0.504441\ttrain-RMSLE:0.508665\n",
            "[38]\ttest-rmse:1.49639\ttrain-rmse:1.57943\ttest-RMSLE:0.504419\ttrain-RMSLE:0.508644\n",
            "[39]\ttest-rmse:1.49638\ttrain-rmse:1.57943\ttest-RMSLE:0.504399\ttrain-RMSLE:0.508624\n",
            "[40]\ttest-rmse:1.49638\ttrain-rmse:1.57942\ttest-RMSLE:0.504381\ttrain-RMSLE:0.508607\n",
            "[41]\ttest-rmse:1.49637\ttrain-rmse:1.57941\ttest-RMSLE:0.504365\ttrain-RMSLE:0.508591\n",
            "[42]\ttest-rmse:1.49636\ttrain-rmse:1.57941\ttest-RMSLE:0.504351\ttrain-RMSLE:0.508577\n",
            "[43]\ttest-rmse:1.49635\ttrain-rmse:1.5794\ttest-RMSLE:0.504338\ttrain-RMSLE:0.508564\n",
            "[44]\ttest-rmse:1.49635\ttrain-rmse:1.5794\ttest-RMSLE:0.504326\ttrain-RMSLE:0.508552\n",
            "[45]\ttest-rmse:1.49635\ttrain-rmse:1.57939\ttest-RMSLE:0.504316\ttrain-RMSLE:0.508542\n",
            "[46]\ttest-rmse:1.49634\ttrain-rmse:1.57939\ttest-RMSLE:0.504306\ttrain-RMSLE:0.508533\n",
            "[47]\ttest-rmse:1.49634\ttrain-rmse:1.57939\ttest-RMSLE:0.504298\ttrain-RMSLE:0.508525\n",
            "[48]\ttest-rmse:1.49633\ttrain-rmse:1.57938\ttest-RMSLE:0.50429\ttrain-RMSLE:0.508517\n",
            "[49]\ttest-rmse:1.49633\ttrain-rmse:1.57938\ttest-RMSLE:0.504283\ttrain-RMSLE:0.50851\n",
            "[50]\ttest-rmse:1.49633\ttrain-rmse:1.57938\ttest-RMSLE:0.504277\ttrain-RMSLE:0.508504\n",
            "[51]\ttest-rmse:1.49632\ttrain-rmse:1.57938\ttest-RMSLE:0.504271\ttrain-RMSLE:0.508499\n",
            "[52]\ttest-rmse:1.49632\ttrain-rmse:1.57938\ttest-RMSLE:0.504266\ttrain-RMSLE:0.508494\n",
            "[53]\ttest-rmse:1.49632\ttrain-rmse:1.57937\ttest-RMSLE:0.504262\ttrain-RMSLE:0.50849\n",
            "[54]\ttest-rmse:1.49632\ttrain-rmse:1.57937\ttest-RMSLE:0.504258\ttrain-RMSLE:0.508486\n",
            "[55]\ttest-rmse:1.49632\ttrain-rmse:1.57937\ttest-RMSLE:0.504254\ttrain-RMSLE:0.508482\n",
            "[56]\ttest-rmse:1.49632\ttrain-rmse:1.57937\ttest-RMSLE:0.504251\ttrain-RMSLE:0.508479\n",
            "[57]\ttest-rmse:1.49631\ttrain-rmse:1.57937\ttest-RMSLE:0.504248\ttrain-RMSLE:0.508476\n",
            "[58]\ttest-rmse:1.49631\ttrain-rmse:1.57937\ttest-RMSLE:0.504245\ttrain-RMSLE:0.508473\n",
            "[59]\ttest-rmse:1.49631\ttrain-rmse:1.57937\ttest-RMSLE:0.504243\ttrain-RMSLE:0.508471\n",
            "[60]\ttest-rmse:1.49631\ttrain-rmse:1.57937\ttest-RMSLE:0.504241\ttrain-RMSLE:0.508469\n",
            "[61]\ttest-rmse:1.49631\ttrain-rmse:1.57936\ttest-RMSLE:0.504239\ttrain-RMSLE:0.508467\n",
            "[62]\ttest-rmse:1.49631\ttrain-rmse:1.57936\ttest-RMSLE:0.504237\ttrain-RMSLE:0.508465\n",
            "[63]\ttest-rmse:1.49631\ttrain-rmse:1.57936\ttest-RMSLE:0.504236\ttrain-RMSLE:0.508464\n",
            "[64]\ttest-rmse:1.49631\ttrain-rmse:1.57936\ttest-RMSLE:0.504234\ttrain-RMSLE:0.508462\n",
            "[65]\ttest-rmse:1.49631\ttrain-rmse:1.57936\ttest-RMSLE:0.504233\ttrain-RMSLE:0.508461\n",
            "[66]\ttest-rmse:1.49631\ttrain-rmse:1.57936\ttest-RMSLE:0.504232\ttrain-RMSLE:0.50846\n",
            "[67]\ttest-rmse:1.49631\ttrain-rmse:1.57936\ttest-RMSLE:0.504231\ttrain-RMSLE:0.508459\n",
            "[68]\ttest-rmse:1.49631\ttrain-rmse:1.57936\ttest-RMSLE:0.50423\ttrain-RMSLE:0.508458\n",
            "[69]\ttest-rmse:1.4963\ttrain-rmse:1.57936\ttest-RMSLE:0.504229\ttrain-RMSLE:0.508457\n",
            "[70]\ttest-rmse:1.4963\ttrain-rmse:1.57936\ttest-RMSLE:0.504228\ttrain-RMSLE:0.508457\n",
            "[71]\ttest-rmse:1.4963\ttrain-rmse:1.57936\ttest-RMSLE:0.504228\ttrain-RMSLE:0.508456\n",
            "[72]\ttest-rmse:1.4963\ttrain-rmse:1.57936\ttest-RMSLE:0.504227\ttrain-RMSLE:0.508455\n",
            "[73]\ttest-rmse:1.4963\ttrain-rmse:1.57936\ttest-RMSLE:0.504227\ttrain-RMSLE:0.508455\n",
            "[74]\ttest-rmse:1.4963\ttrain-rmse:1.57936\ttest-RMSLE:0.504226\ttrain-RMSLE:0.508454\n",
            "[75]\ttest-rmse:1.4963\ttrain-rmse:1.57936\ttest-RMSLE:0.504226\ttrain-RMSLE:0.508454\n",
            "[76]\ttest-rmse:1.4963\ttrain-rmse:1.57936\ttest-RMSLE:0.504225\ttrain-RMSLE:0.508454\n",
            "[77]\ttest-rmse:1.4963\ttrain-rmse:1.57936\ttest-RMSLE:0.504225\ttrain-RMSLE:0.508453\n",
            "[78]\ttest-rmse:1.4963\ttrain-rmse:1.57936\ttest-RMSLE:0.504225\ttrain-RMSLE:0.508453\n",
            "[79]\ttest-rmse:1.4963\ttrain-rmse:1.57936\ttest-RMSLE:0.504224\ttrain-RMSLE:0.508453\n",
            "[80]\ttest-rmse:1.4963\ttrain-rmse:1.57936\ttest-RMSLE:0.504224\ttrain-RMSLE:0.508452\n",
            "[81]\ttest-rmse:1.4963\ttrain-rmse:1.57936\ttest-RMSLE:0.504224\ttrain-RMSLE:0.508452\n",
            "[82]\ttest-rmse:1.4963\ttrain-rmse:1.57936\ttest-RMSLE:0.504224\ttrain-RMSLE:0.508452\n",
            "[83]\ttest-rmse:1.4963\ttrain-rmse:1.57936\ttest-RMSLE:0.504223\ttrain-RMSLE:0.508452\n",
            "[84]\ttest-rmse:1.4963\ttrain-rmse:1.57936\ttest-RMSLE:0.504223\ttrain-RMSLE:0.508452\n",
            "[85]\ttest-rmse:1.4963\ttrain-rmse:1.57936\ttest-RMSLE:0.504223\ttrain-RMSLE:0.508452\n",
            "Stopping. Best iteration:\n",
            "[80]\ttest-rmse:1.4963\ttrain-rmse:1.57936\ttest-RMSLE:0.504224\ttrain-RMSLE:0.508452\n",
            "\n"
          ],
          "name": "stdout"
        },
        {
          "output_type": "display_data",
          "data": {
            "image/png": "[encoded data removed]",
            "text/plain": [
              "<Figure size 432x288 with 1 Axes>"
            ]
          },
          "metadata": {
            "tags": []
          }
        },
        {
          "output_type": "stream",
          "text": [
            "RMSLE Train set: 0.508452\n"
          ],
          "name": "stdout"
        }
      ]
    },
    {
      "cell_type": "markdown",
      "metadata": {
        "id": "DoFhyWI4Fr5t"
      },
      "source": [
        "# Final Results"
      ]
    },
    {
      "cell_type": "code",
      "metadata": {
        "colab": {
          "base_uri": "https://localhost:8080/"
        },
        "id": "hBJ42ntWeZxa",
        "outputId": "25182ee7-d6f6-427c-c9cd-2f9511b43b03"
      },
      "source": [
        "reg = ensemble.GradientBoostingRegressor(n_estimators = 500,\r\n",
        "          max_depth = 4,\r\n",
        "          min_samples_split= 5,\r\n",
        "          learning_rate = 0.01,\r\n",
        "          loss = 'ls')\r\n",
        "reg.fit(X_train, y_train)\r\n",
        "eval(reg, X_valid, y_valid,'GradientBoostingRegressor')"
      ],
      "execution_count": 43,
      "outputs": [
        {
          "output_type": "stream",
          "text": [
            "RMSLE of GradientBoostingRegressor : 0.5300\n",
            "R2 value of GradientBoostingRegressor : 0.0435\n",
            "Err value of GradientBoostingRegressor : 0.5300\n"
          ],
          "name": "stdout"
        }
      ]
    },
    {
      "cell_type": "code",
      "metadata": {
        "id": "biOZdcZD2pLA",
        "colab": {
          "base_uri": "https://localhost:8080/"
        },
        "outputId": "68a9badc-ddc8-407d-89ed-2ecd97c350a8"
      },
      "source": [
        "eval(model_1, X_test, y_test,'linear regression')\r\n",
        "print('******')\r\n",
        "eval(model_2, X_test, y_test, 'Stochastic Gradient Descent')\r\n",
        "print('******')\r\n",
        "eval(model_2i, X_test, y_test, 'Lasso regression')\r\n",
        "print('******')\r\n",
        "eval(model_3i, X_test, y_test, 'Neural Network_randomn')\r\n",
        "print('******')\r\n",
        "eval(model_3ii, X_test, y_test, 'Neural Network_random')\r\n",
        "print('******')\r\n",
        "eval(model_3, X_test, y_test, 'Neural Network_gridsearch')\r\n",
        "print('******')\r\n",
        "print('Gradient Boost Linear Regression _ RMSLE Test set:', xgb_results['test']['RMSLE'][-1]) \r\n",
        "print('******')\r\n",
        "eval(reg, X_test, y_test,'GradientBoostingRegressor')"
      ],
      "execution_count": 44,
      "outputs": [
        {
          "output_type": "stream",
          "text": [
            "RMSLE of linear regression : 0.5320\n",
            "R2 value of linear regression : 0.0312\n",
            "Err value of linear regression : 0.5320\n",
            "******\n",
            "RMSLE of Stochastic Gradient Descent : 0.5671\n",
            "R2 value of Stochastic Gradient Descent : -0.0439\n",
            "Err value of Stochastic Gradient Descent : 0.5671\n",
            "******\n",
            "RMSLE of Lasso regression : 0.5311\n",
            "R2 value of Lasso regression : 0.0322\n",
            "Err value of Lasso regression : 0.5311\n",
            "******\n",
            "RMSLE of Neural Network_randomn : 0.6070\n",
            "R2 value of Neural Network_randomn : -0.2133\n",
            "Err value of Neural Network_randomn : 0.6070\n",
            "******\n",
            "RMSLE of Neural Network_random : 0.5432\n",
            "R2 value of Neural Network_random : -0.0086\n",
            "Err value of Neural Network_random : 0.5432\n",
            "******\n",
            "RMSLE of Neural Network_gridsearch : 0.5446\n",
            "R2 value of Neural Network_gridsearch : 0.0259\n",
            "Err value of Neural Network_gridsearch : 0.5446\n",
            "******\n",
            "Gradient Boost Linear Regression _ RMSLE Test set: 0.504223\n",
            "******\n",
            "RMSLE of GradientBoostingRegressor : 0.5294\n",
            "R2 value of GradientBoostingRegressor : 0.0306\n",
            "Err value of GradientBoostingRegressor : 0.5294\n"
          ],
          "name": "stdout"
        }
      ]
    },
    {
      "cell_type": "code",
      "metadata": {
        "id": "nEm4Q-V32sCU",
        "colab": {
          "base_uri": "https://localhost:8080/"
        },
        "outputId": "68baa121-1658-47f5-dc65-e7acfd23cd86"
      },
      "source": [
        "pred_y = xgb_model.predict(dmatrix_test)\r\n",
        "\r\n",
        "submission = pd.DataFrame()\r\n",
        "submission['MemberID'] = dataY2_df['MemberID']\r\n",
        "\r\n",
        "pred_y = pred_y.clip(min=0)\r\n",
        "pred_y = pred_y.clip(max=15)\r\n",
        "# pred_y = pred_y.astype(int)\r\n",
        "\r\n",
        "submission['DIH'] = pred_y\r\n",
        "submission.groupby(['DIH']).size()"
      ],
      "execution_count": 45,
      "outputs": [
        {
          "output_type": "execute_result",
          "data": {
            "text/plain": [
              "DIH\n",
              "0.233970    1\n",
              "0.238437    1\n",
              "0.238465    1\n",
              "0.238485    1\n",
              "0.238581    1\n",
              "           ..\n",
              "1.733131    1\n",
              "1.753657    1\n",
              "1.755229    1\n",
              "1.769118    1\n",
              "1.786062    1\n",
              "Length: 70787, dtype: int64"
            ]
          },
          "metadata": {
            "tags": []
          },
          "execution_count": 45
        }
      ]
    },
    {
      "cell_type": "code",
      "metadata": {
        "colab": {
          "base_uri": "https://localhost:8080/",
          "height": 402
        },
        "id": "niH1gNwsEZ7W",
        "outputId": "8bce965e-0ecb-4bdf-d38b-3df9cd66712c"
      },
      "source": [
        "submission[submission['DIH']>=1]"
      ],
      "execution_count": 46,
      "outputs": [
        {
          "output_type": "execute_result",
          "data": {
            "text/html": [
              "<div>\n",
              "<style scoped>\n",
              "    .dataframe tbody tr th:only-of-type {\n",
              "        vertical-align: middle;\n",
              "    }\n",
              "\n",
              "    .dataframe tbody tr th {\n",
              "        vertical-align: top;\n",
              "    }\n",
              "\n",
              "    .dataframe thead th {\n",
              "        text-align: right;\n",
              "    }\n",
              "</style>\n",
              "<table border=\"1\" class=\"dataframe\">\n",
              "  <thead>\n",
              "    <tr style=\"text-align: right;\">\n",
              "      <th></th>\n",
              "      <th>MemberID</th>\n",
              "      <th>DIH</th>\n",
              "    </tr>\n",
              "  </thead>\n",
              "  <tbody>\n",
              "    <tr>\n",
              "      <th>16</th>\n",
              "      <td>20072</td>\n",
              "      <td>1.256995</td>\n",
              "    </tr>\n",
              "    <tr>\n",
              "      <th>24</th>\n",
              "      <td>32491</td>\n",
              "      <td>1.002549</td>\n",
              "    </tr>\n",
              "    <tr>\n",
              "      <th>25</th>\n",
              "      <td>33120</td>\n",
              "      <td>1.362876</td>\n",
              "    </tr>\n",
              "    <tr>\n",
              "      <th>29</th>\n",
              "      <td>42758</td>\n",
              "      <td>1.261419</td>\n",
              "    </tr>\n",
              "    <tr>\n",
              "      <th>30</th>\n",
              "      <td>47103</td>\n",
              "      <td>1.071007</td>\n",
              "    </tr>\n",
              "    <tr>\n",
              "      <th>...</th>\n",
              "      <td>...</td>\n",
              "      <td>...</td>\n",
              "    </tr>\n",
              "    <tr>\n",
              "      <th>71303</th>\n",
              "      <td>99827727</td>\n",
              "      <td>1.078878</td>\n",
              "    </tr>\n",
              "    <tr>\n",
              "      <th>71306</th>\n",
              "      <td>99829076</td>\n",
              "      <td>1.021540</td>\n",
              "    </tr>\n",
              "    <tr>\n",
              "      <th>71367</th>\n",
              "      <td>99896382</td>\n",
              "      <td>1.008147</td>\n",
              "    </tr>\n",
              "    <tr>\n",
              "      <th>71377</th>\n",
              "      <td>99916939</td>\n",
              "      <td>1.084600</td>\n",
              "    </tr>\n",
              "    <tr>\n",
              "      <th>71389</th>\n",
              "      <td>99932868</td>\n",
              "      <td>1.337477</td>\n",
              "    </tr>\n",
              "  </tbody>\n",
              "</table>\n",
              "<p>3354 rows × 2 columns</p>\n",
              "</div>"
            ],
            "text/plain": [
              "       MemberID       DIH\n",
              "16        20072  1.256995\n",
              "24        32491  1.002549\n",
              "25        33120  1.362876\n",
              "29        42758  1.261419\n",
              "30        47103  1.071007\n",
              "...         ...       ...\n",
              "71303  99827727  1.078878\n",
              "71306  99829076  1.021540\n",
              "71367  99896382  1.008147\n",
              "71377  99916939  1.084600\n",
              "71389  99932868  1.337477\n",
              "\n",
              "[3354 rows x 2 columns]"
            ]
          },
          "metadata": {
            "tags": []
          },
          "execution_count": 46
        }
      ]
    },
    {
      "cell_type": "code",
      "metadata": {
        "colab": {
          "base_uri": "https://localhost:8080/",
          "height": 159
        },
        "id": "a3cIDxLqEfft",
        "outputId": "d2194bb0-dc2d-4bd6-ddb2-0d5481909030"
      },
      "source": [
        "dataY2_df[dataY2_df['MemberID']==\t99932868]"
      ],
      "execution_count": 47,
      "outputs": [
        {
          "output_type": "execute_result",
          "data": {
            "text/html": [
              "<div>\n",
              "<style scoped>\n",
              "    .dataframe tbody tr th:only-of-type {\n",
              "        vertical-align: middle;\n",
              "    }\n",
              "\n",
              "    .dataframe tbody tr th {\n",
              "        vertical-align: top;\n",
              "    }\n",
              "\n",
              "    .dataframe thead th {\n",
              "        text-align: right;\n",
              "    }\n",
              "</style>\n",
              "<table border=\"1\" class=\"dataframe\">\n",
              "  <thead>\n",
              "    <tr style=\"text-align: right;\">\n",
              "      <th></th>\n",
              "      <th>MemberID</th>\n",
              "      <th>AgeAtFirstClaim</th>\n",
              "      <th>Male</th>\n",
              "      <th>Female</th>\n",
              "      <th>Unknown</th>\n",
              "      <th>no_Claims</th>\n",
              "      <th>no_Providers</th>\n",
              "      <th>no_Specialties</th>\n",
              "      <th>no_PCG</th>\n",
              "      <th>no_Procedure</th>\n",
              "      <th>sum_PayDelay</th>\n",
              "      <th>sum_LOS</th>\n",
              "      <th>Specialty_Anesthesiology</th>\n",
              "      <th>Specialty_Diagnostic Imaging</th>\n",
              "      <th>Specialty_Emergency</th>\n",
              "      <th>Specialty_General Practice</th>\n",
              "      <th>Specialty_Internal</th>\n",
              "      <th>Specialty_Laboratory</th>\n",
              "      <th>Specialty_Obstetrics and Gynecology</th>\n",
              "      <th>Specialty_Other</th>\n",
              "      <th>Specialty_Pathology</th>\n",
              "      <th>Specialty_Pediatrics</th>\n",
              "      <th>Specialty_Rehabilitation</th>\n",
              "      <th>Specialty_Surgery</th>\n",
              "      <th>Place_Ambulance</th>\n",
              "      <th>Place_Home</th>\n",
              "      <th>Place_Independent Lab</th>\n",
              "      <th>Place_Inpatient Hospital</th>\n",
              "      <th>Place_Office</th>\n",
              "      <th>Place_Other</th>\n",
              "      <th>Place_Outpatient Hospital</th>\n",
              "      <th>Place_Urgent Care</th>\n",
              "      <th>DSFS_0- 1 month</th>\n",
              "      <th>DSFS_1- 2 months</th>\n",
              "      <th>DSFS_10-11 months</th>\n",
              "      <th>DSFS_11-12 months</th>\n",
              "      <th>DSFS_2- 3 months</th>\n",
              "      <th>DSFS_3- 4 months</th>\n",
              "      <th>DSFS_4- 5 months</th>\n",
              "      <th>DSFS_5- 6 months</th>\n",
              "      <th>...</th>\n",
              "      <th>PCG_PERVALV</th>\n",
              "      <th>PCG_PNCRDZ</th>\n",
              "      <th>PCG_PNEUM</th>\n",
              "      <th>PCG_PRGNCY</th>\n",
              "      <th>PCG_RENAL1</th>\n",
              "      <th>PCG_RENAL2</th>\n",
              "      <th>PCG_RENAL3</th>\n",
              "      <th>PCG_RESPR4</th>\n",
              "      <th>PCG_ROAMI</th>\n",
              "      <th>PCG_SEIZURE</th>\n",
              "      <th>PCG_SEPSIS</th>\n",
              "      <th>PCG_SKNAUT</th>\n",
              "      <th>PCG_STROKE</th>\n",
              "      <th>PCG_TRAUMA</th>\n",
              "      <th>PCG_UTI</th>\n",
              "      <th>Charlson_0</th>\n",
              "      <th>Charlson_1-2</th>\n",
              "      <th>Charlson_3-4</th>\n",
              "      <th>Charlson_5+</th>\n",
              "      <th>Procedure_ANES</th>\n",
              "      <th>Procedure_EM</th>\n",
              "      <th>Procedure_MED</th>\n",
              "      <th>Procedure_PL</th>\n",
              "      <th>Procedure_RAD</th>\n",
              "      <th>Procedure_SAS</th>\n",
              "      <th>Procedure_SCS</th>\n",
              "      <th>Procedure_SDS</th>\n",
              "      <th>Procedure_SEOA</th>\n",
              "      <th>Procedure_SGS</th>\n",
              "      <th>Procedure_SIS</th>\n",
              "      <th>Procedure_SMCD</th>\n",
              "      <th>Procedure_SMS</th>\n",
              "      <th>Procedure_SNS</th>\n",
              "      <th>Procedure_SO</th>\n",
              "      <th>Procedure_SRS</th>\n",
              "      <th>Procedure_SUS</th>\n",
              "      <th>DrugSum</th>\n",
              "      <th>LabSum</th>\n",
              "      <th>TARGET</th>\n",
              "      <th>CLASS</th>\n",
              "    </tr>\n",
              "  </thead>\n",
              "  <tbody>\n",
              "    <tr>\n",
              "      <th>71389</th>\n",
              "      <td>99932868</td>\n",
              "      <td>45</td>\n",
              "      <td>0</td>\n",
              "      <td>0</td>\n",
              "      <td>1</td>\n",
              "      <td>42</td>\n",
              "      <td>13</td>\n",
              "      <td>6</td>\n",
              "      <td>9</td>\n",
              "      <td>7</td>\n",
              "      <td>1588</td>\n",
              "      <td>8</td>\n",
              "      <td>0</td>\n",
              "      <td>3</td>\n",
              "      <td>8</td>\n",
              "      <td>5</td>\n",
              "      <td>22</td>\n",
              "      <td>2</td>\n",
              "      <td>0</td>\n",
              "      <td>2</td>\n",
              "      <td>0</td>\n",
              "      <td>0</td>\n",
              "      <td>0</td>\n",
              "      <td>0</td>\n",
              "      <td>0</td>\n",
              "      <td>0</td>\n",
              "      <td>2</td>\n",
              "      <td>22</td>\n",
              "      <td>12</td>\n",
              "      <td>2</td>\n",
              "      <td>0</td>\n",
              "      <td>5</td>\n",
              "      <td>39</td>\n",
              "      <td>3</td>\n",
              "      <td>0</td>\n",
              "      <td>0</td>\n",
              "      <td>0</td>\n",
              "      <td>0</td>\n",
              "      <td>0</td>\n",
              "      <td>0</td>\n",
              "      <td>...</td>\n",
              "      <td>1</td>\n",
              "      <td>0</td>\n",
              "      <td>0</td>\n",
              "      <td>0</td>\n",
              "      <td>1</td>\n",
              "      <td>3</td>\n",
              "      <td>0</td>\n",
              "      <td>0</td>\n",
              "      <td>7</td>\n",
              "      <td>0</td>\n",
              "      <td>0</td>\n",
              "      <td>0</td>\n",
              "      <td>0</td>\n",
              "      <td>0</td>\n",
              "      <td>0</td>\n",
              "      <td>1</td>\n",
              "      <td>34</td>\n",
              "      <td>8</td>\n",
              "      <td>0</td>\n",
              "      <td>0</td>\n",
              "      <td>19</td>\n",
              "      <td>11</td>\n",
              "      <td>2</td>\n",
              "      <td>5</td>\n",
              "      <td>0</td>\n",
              "      <td>0</td>\n",
              "      <td>1</td>\n",
              "      <td>0</td>\n",
              "      <td>0</td>\n",
              "      <td>1</td>\n",
              "      <td>0</td>\n",
              "      <td>3</td>\n",
              "      <td>0</td>\n",
              "      <td>0</td>\n",
              "      <td>0</td>\n",
              "      <td>0</td>\n",
              "      <td>17</td>\n",
              "      <td>4</td>\n",
              "      <td>0</td>\n",
              "      <td>-1</td>\n",
              "    </tr>\n",
              "  </tbody>\n",
              "</table>\n",
              "<p>1 rows × 114 columns</p>\n",
              "</div>"
            ],
            "text/plain": [
              "       MemberID  AgeAtFirstClaim  Male  Female  ...  DrugSum  LabSum  TARGET  CLASS\n",
              "71389  99932868               45     0       0  ...       17       4       0     -1\n",
              "\n",
              "[1 rows x 114 columns]"
            ]
          },
          "metadata": {
            "tags": []
          },
          "execution_count": 47
        }
      ]
    }
  ]
}
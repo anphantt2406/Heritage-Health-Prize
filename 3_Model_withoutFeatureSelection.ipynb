{
  "nbformat": 4,
  "nbformat_minor": 0,
  "metadata": {
    "colab": {
      "name": "[ML2020][HHP][G4.PTThuyAn]-Model_withoutFeatureSelection.ipynb",
      "provenance": [],
      "collapsed_sections": [
        "S-JF0vVffnbR",
        "5pnD4X7jfrRS",
        "riX7ZDSQf1e2",
        "KdHMn2Wo3heF"
      ],
      "authorship_tag": "ABX9TyO1ZarRArImofKhFF8DnuLo",
      "include_colab_link": true
    },
    "kernelspec": {
      "display_name": "Python 3",
      "name": "python3"
    }
  },
  "cells": [
    {
      "cell_type": "markdown",
      "metadata": {
        "id": "view-in-github",
        "colab_type": "text"
      },
      "source": [
        "<a href=\"https://colab.research.google.com/github/anphantt2406/Heritage-Health-Prize/blob/main/3_Model_withoutFeatureSelection.ipynb\" target=\"_parent\"><img src=\"https://colab.research.google.com/assets/colab-badge.svg\" alt=\"Open In Colab\"/></a>"
      ]
    },
    {
      "cell_type": "code",
      "metadata": {
        "colab": {
          "base_uri": "https://localhost:8080/"
        },
        "id": "JTp1IHuy_n9Y",
        "outputId": "6e3b6a2c-3cc2-49ed-933c-0fabdd3ba97e"
      },
      "source": [
        "from google.colab import drive\r\n",
        "drive.mount('/content/drive')\r\n",
        "%cd /content/drive/My Drive/HHP_release3/new_data"
      ],
      "execution_count": 48,
      "outputs": [
        {
          "output_type": "stream",
          "text": [
            "Drive already mounted at /content/drive; to attempt to forcibly remount, call drive.mount(\"/content/drive\", force_remount=True).\n",
            "/content/drive/My Drive/HHP_release3/new_data\n"
          ],
          "name": "stdout"
        }
      ]
    },
    {
      "cell_type": "markdown",
      "metadata": {
        "id": "S-JF0vVffnbR"
      },
      "source": [
        "#Import Library"
      ]
    },
    {
      "cell_type": "code",
      "metadata": {
        "id": "MBhQiO2v3hQM"
      },
      "source": [
        "import glob\n",
        "import math\n",
        "import pandas as pd\n",
        "import numpy as np\n",
        "import xgboost\n",
        "from sklearn.linear_model import LinearRegression, LogisticRegression, Lasso, Ridge, SGDRegressor\n",
        "from sklearn.metrics import mean_squared_error, r2_score, classification_report, roc_auc_score, plot_roc_curve\n",
        "import matplotlib.pyplot as plt\n",
        "import matplotlib.patches as mpatches\n",
        "from sklearn.model_selection import train_test_split, GridSearchCV\n",
        "from keras.layers import Dense, Activation\n",
        "from keras.models import Sequential\n",
        "from sklearn.neural_network import MLPRegressor\n",
        "from sklearn import datasets, ensemble\n",
        "from sklearn.datasets import make_regression\n",
        "\n",
        "import seaborn as sns # Library for plotting\n",
        "color = sns.color_palette()\n",
        "sns.set_style('darkgrid')\n",
        "from sklearn.svm import SVC\n",
        "from sklearn.metrics import confusion_matrix"
      ],
      "execution_count": 49,
      "outputs": []
    },
    {
      "cell_type": "markdown",
      "metadata": {
        "id": "5pnD4X7jfrRS"
      },
      "source": [
        "#Define some needed function\r\n",
        "\r\n",
        "Predictions are evaluated using root mean squared logarithmic error, referred to henceforth as RMSLE.\r\n",
        "\r\n",
        "$$\\varepsilon = \\sqrt{\\frac{1}{n}\\sum_{i=1}^{n}\\left(log(p_i+1) - log(a_i+1)^2 \\right )}$$\r\n",
        "\r\n",
        "Where:\r\n",
        "\r\n",
        "\r\n",
        "\r\n",
        "*   $i$ is a patient's unique MemberID\r\n",
        "*   $n$ is the total number of patients\r\n",
        "*   $p_i$ is the prediction made for patient $i$\r\n",
        "*   $a_i$ is the actual number of days spent in the hospital by patient $i$\r\n",
        "\r\n",
        "\r\n",
        "\r\n"
      ]
    },
    {
      "cell_type": "code",
      "metadata": {
        "id": "L75u6E2x3uHu"
      },
      "source": [
        "def RMSLE_cal(pred, actu, name=None):\n",
        "    RMSLE = round(np.sqrt(((np.log(pred + 1) - np.log(actu + 1)) ** 2).sum() / actu.shape[0]), 6).item()\n",
        "    print('RMSLE', name, ':', RMSLE)"
      ],
      "execution_count": 50,
      "outputs": []
    },
    {
      "cell_type": "code",
      "metadata": {
        "id": "PnabKSiS3xex"
      },
      "source": [
        "def rmsle(pred, dtrain):\n",
        "    \"\"\"Used for stacked in Xgboost\n",
        "    \"\"\"\n",
        "    actu = dtrain.get_label()\n",
        "    RMSLE = round(np.sqrt(((np.log(pred + 1) - np.log(actu + 1)) ** 2).sum() / actu.shape[0]), 6).item()\n",
        "    return 'RMSLE', RMSLE"
      ],
      "execution_count": 51,
      "outputs": []
    },
    {
      "cell_type": "code",
      "metadata": {
        "id": "EmhapNDRQnoC"
      },
      "source": [
        "def eval(model, X_test, y_test, name = None):\n",
        "    pred_y = model.predict(X_test) # your predicted y values\n",
        "    # The root mean square logarithmic error\n",
        "    pred_y = pred_y.clip(min=0)\n",
        "    pred_y = pred_y.clip(max=15)\n",
        "    pred_y = pred_y.round(0).astype(int)\n",
        "    msle = np.mean( (np.log(pred_y + 1) - np.log(y_test + 1)) ** 2)\n",
        "    rmsle = math.sqrt(msle)\n",
        "    from sklearn.metrics import r2_score\n",
        "    r2 = r2_score(y_test,pred_y)\n",
        "    from sklearn.metrics import mean_squared_log_error\n",
        "    err = math.sqrt(mean_squared_log_error(y_test,pred_y))\n",
        "    print(\"RMSLE of\", name, \": %.4f\" %rmsle)\n",
        "    print(\"R2 value of\", name, \": %.4f\" %r2)\n",
        "    print(\"Err value of\", name, \": %.4f\" %err)"
      ],
      "execution_count": 52,
      "outputs": []
    },
    {
      "cell_type": "code",
      "metadata": {
        "id": "doF_jqmfbcwG"
      },
      "source": [
        "def plotResult(results, cv=None):\n",
        "    fig, ax = plt.subplots()\n",
        "    if cv:\n",
        "        ax.plot(range(results.shape[0]), results['train-RMSLE-mean'])\n",
        "        ax.plot(range(results.shape[0]), results['test-RMSLE-mean'])\n",
        "    else:\n",
        "        ax.plot(range(len(results['train']['RMSLE'])), results['train']['RMSLE'])\n",
        "        ax.plot(range(len(results['test']['RMSLE'])), results['test']['RMSLE'])\n",
        "        \n",
        "    ax.set(xlabel='Boost round', ylabel='RMSLE', title='Train/Test RMSLE')\n",
        "    ax.grid()\n",
        "\n",
        "    train_patch = mpatches.Patch(color='blue', label='Train')\n",
        "    test_patch = mpatches.Patch(color='orange', label='Test')\n",
        "\n",
        "    plt.legend(handles=[train_patch, test_patch])\n",
        "    plt.show()"
      ],
      "execution_count": 53,
      "outputs": []
    },
    {
      "cell_type": "markdown",
      "metadata": {
        "id": "riX7ZDSQf1e2"
      },
      "source": [
        "#Prepare data for training and testing\r\n",
        "\r\n",
        "In this notebook, we use Claims data in Year 1 for training and validation, Claims data in Year 2 for testing."
      ]
    },
    {
      "cell_type": "code",
      "metadata": {
        "id": "sS7HAUkF0VNF"
      },
      "source": [
        "dataY1_df = pd.read_csv('fulldataY1.csv')\n",
        "dataY2_df = pd.read_csv('fulldataY2.csv')"
      ],
      "execution_count": 54,
      "outputs": []
    },
    {
      "cell_type": "code",
      "metadata": {
        "id": "AtOlgBjJIRWo"
      },
      "source": [
        "dataY1 = dataY1_df.drop(\"MemberID\", axis = 1)\r\n",
        "y = dataY1['TARGET']\r\n",
        "X = dataY1.drop(['CLASS','TARGET'], axis = 1)\r\n",
        "X_train, X_valid, y_train, y_valid = train_test_split(X, y, test_size=0.25)"
      ],
      "execution_count": 55,
      "outputs": []
    },
    {
      "cell_type": "code",
      "metadata": {
        "id": "-OSmKvsoIRWq"
      },
      "source": [
        "from sklearn.preprocessing import StandardScaler\r\n",
        "scaler = StandardScaler()\r\n",
        "# Fit only to the training data\r\n",
        "scaler.fit(X_train)\r\n",
        "X_train = scaler.transform(X_train)\r\n",
        "X_valid = scaler.transform(X_valid)"
      ],
      "execution_count": 56,
      "outputs": []
    },
    {
      "cell_type": "code",
      "metadata": {
        "id": "jM-orfrbFwWx"
      },
      "source": [
        "dataY2 = dataY2_df.drop(\"MemberID\", axis = 1)\r\n",
        "y_test = dataY2['TARGET']\r\n",
        "X_test = dataY2.drop(['CLASS','TARGET'], axis = 1)\r\n",
        "X_test = scaler.transform(X_test)"
      ],
      "execution_count": 57,
      "outputs": []
    },
    {
      "cell_type": "markdown",
      "metadata": {
        "id": "5_Dy67txiTSk"
      },
      "source": [
        "# Regression"
      ]
    },
    {
      "cell_type": "markdown",
      "metadata": {
        "id": "_fN4E2PSfi7P"
      },
      "source": [
        "## MODEL 1: Linear Regression"
      ]
    },
    {
      "cell_type": "code",
      "metadata": {
        "colab": {
          "base_uri": "https://localhost:8080/",
          "height": 671
        },
        "id": "Fyj-evy7Hx4U",
        "outputId": "fa95b765-9117-43eb-8951-2b905f39ef20"
      },
      "source": [
        "# Create linear regression object\r\n",
        "model_1 = LinearRegression()\r\n",
        "# Train the model using the training sets\r\n",
        "model_1.fit(X_train, y_train)\r\n",
        "# Predict on Test set\r\n",
        "y_pred_1 = model_1.predict(X_valid)\r\n",
        "\r\n",
        "# Evaluation on Validation set\r\n",
        "eval(model_1, X_valid, y_valid,'linear regression')\r\n",
        "\r\n",
        "plt.figure(figsize = (15,10))\r\n",
        "plt.scatter(y_pred_1, y_valid, alpha=.2, s = 60, color='r') #alpha helps to show overlapping data\r\n",
        "plt.xlabel('DIH prediction')\r\n",
        "plt.ylabel('Actual DIH')\r\n",
        "plt.title('Linear Regression Model')\r\n",
        "plt.show()"
      ],
      "execution_count": 58,
      "outputs": [
        {
          "output_type": "stream",
          "text": [
            "RMSLE of linear regression : 0.5277\n",
            "R2 value of linear regression : 0.0427\n",
            "Err value of linear regression : 0.5277\n"
          ],
          "name": "stdout"
        },
        {
          "output_type": "display_data",
          "data": {
            "image/png": "[encoded data removed]",
            "text/plain": [
              "<Figure size 1080x720 with 1 Axes>"
            ]
          },
          "metadata": {
            "tags": []
          }
        }
      ]
    },
    {
      "cell_type": "markdown",
      "metadata": {
        "id": "KdHMn2Wo3heF"
      },
      "source": [
        "## MODEL 2: Stochastic Gradient Descent"
      ]
    },
    {
      "cell_type": "code",
      "metadata": {
        "colab": {
          "base_uri": "https://localhost:8080/"
        },
        "id": "VviJ28km1SLZ",
        "outputId": "bddb07a3-4898-4d97-9010-a18e91c75253"
      },
      "source": [
        "from sklearn.linear_model import SGDRegressor\r\n",
        "\r\n",
        "model_2 = SGDRegressor(max_iter=3000, tol=1e-1)\r\n",
        "model_2.fit(X_train, y_train)\r\n",
        "y_pred_2 = model_2.predict(X_valid)\r\n",
        "eval(model_2, X_valid, y_valid, 'Stochastic Gradient Descent')"
      ],
      "execution_count": 59,
      "outputs": [
        {
          "output_type": "stream",
          "text": [
            "RMSLE of Stochastic Gradient Descent : 0.5570\n",
            "R2 value of Stochastic Gradient Descent : -0.0053\n",
            "Err value of Stochastic Gradient Descent : 0.5570\n"
          ],
          "name": "stdout"
        }
      ]
    },
    {
      "cell_type": "code",
      "metadata": {
        "colab": {
          "base_uri": "https://localhost:8080/"
        },
        "id": "LzG6l6Y1Es2r",
        "outputId": "6fe119f0-90ae-48a8-cec1-08ec4f32079c"
      },
      "source": [
        "model_2i = Lasso(alpha=0.001, copy_X=True, fit_intercept=True, max_iter=5000,\r\n",
        "     normalize=False, positive=False, precompute=False, random_state=None,\r\n",
        "     selection='cyclic', tol=0.0001, warm_start=False)\r\n",
        "model_2i.fit(X_train, y_train)\r\n",
        "eval(model_2i, X_valid, y_valid, 'Lasso regression')"
      ],
      "execution_count": 60,
      "outputs": [
        {
          "output_type": "stream",
          "text": [
            "RMSLE of Lasso regression : 0.5276\n",
            "R2 value of Lasso regression : 0.0425\n",
            "Err value of Lasso regression : 0.5276\n"
          ],
          "name": "stdout"
        }
      ]
    },
    {
      "cell_type": "markdown",
      "metadata": {
        "id": "74HgPgHvfaKT"
      },
      "source": [
        "##MODEL 3: Neural Network"
      ]
    },
    {
      "cell_type": "code",
      "metadata": {
        "colab": {
          "base_uri": "https://localhost:8080/"
        },
        "id": "RVCA7wgHlj9Y",
        "outputId": "eb029023-5038-4a66-8f26-6eb6202bfb9c"
      },
      "source": [
        "#(i) Neural Network with default hyperparameters\r\n",
        "model_3i = MLPRegressor(random_state=1, max_iter=500).fit(X_train, y_train)\r\n",
        "y_pred_3 = model_3i.predict(X_valid)\r\n",
        "eval(model_3i, X_valid, y_valid, 'Neural Network_default')"
      ],
      "execution_count": 61,
      "outputs": [
        {
          "output_type": "stream",
          "text": [
            "RMSLE of Neural Network_default : 0.6022\n",
            "R2 value of Neural Network_default : -0.1070\n",
            "Err value of Neural Network_default : 0.6022\n"
          ],
          "name": "stdout"
        }
      ]
    },
    {
      "cell_type": "code",
      "metadata": {
        "colab": {
          "base_uri": "https://localhost:8080/"
        },
        "id": "e1WcOea9Qr4G",
        "outputId": "a0a3a63c-e567-4009-d3e3-39452a35557c"
      },
      "source": [
        "#(ii) random hyperparameter\n",
        "model_3ii = MLPRegressor(activation='relu', alpha=0.0001, batch_size='auto', beta_1=0.9,\n",
        "        beta_2=0.999, early_stopping=False, epsilon=1e-08,\n",
        "        hidden_layer_sizes=7, learning_rate='adaptive',\n",
        "        learning_rate_init=0.001, max_iter=3000, momentum=0.9,\n",
        "        nesterovs_momentum=True, power_t=0.5, random_state=None,\n",
        "        shuffle=True, solver='adam', tol=0.0001, validation_fraction=0.1,\n",
        "        verbose=1, warm_start=False)\n",
        "\n",
        "model_3ii.fit(X_train, y_train)\n",
        "eval(model_3ii, X_valid, y_valid , 'Neural Network_random')"
      ],
      "execution_count": 62,
      "outputs": [
        {
          "output_type": "stream",
          "text": [
            "Iteration 1, loss = 1.61127582\n",
            "Iteration 2, loss = 1.28035392\n",
            "Iteration 3, loss = 1.23067465\n",
            "Iteration 4, loss = 1.21077775\n",
            "Iteration 5, loss = 1.19925697\n",
            "Iteration 6, loss = 1.19152820\n",
            "Iteration 7, loss = 1.18662681\n",
            "Iteration 8, loss = 1.18163982\n",
            "Iteration 9, loss = 1.17829196\n",
            "Iteration 10, loss = 1.17499897\n",
            "Iteration 11, loss = 1.17252632\n",
            "Iteration 12, loss = 1.16973143\n",
            "Iteration 13, loss = 1.16746479\n",
            "Iteration 14, loss = 1.16594455\n",
            "Iteration 15, loss = 1.16428573\n",
            "Iteration 16, loss = 1.16234044\n",
            "Iteration 17, loss = 1.16108161\n",
            "Iteration 18, loss = 1.15933410\n",
            "Iteration 19, loss = 1.15824738\n",
            "Iteration 20, loss = 1.15668528\n",
            "Iteration 21, loss = 1.15526862\n",
            "Iteration 22, loss = 1.15448076\n",
            "Iteration 23, loss = 1.15384225\n",
            "Iteration 24, loss = 1.15263199\n",
            "Iteration 25, loss = 1.15116475\n",
            "Iteration 26, loss = 1.15106819\n",
            "Iteration 27, loss = 1.14988592\n",
            "Iteration 28, loss = 1.14855502\n",
            "Iteration 29, loss = 1.14801491\n",
            "Iteration 30, loss = 1.14738275\n",
            "Iteration 31, loss = 1.14645936\n",
            "Iteration 32, loss = 1.14635652\n",
            "Iteration 33, loss = 1.14571407\n",
            "Iteration 34, loss = 1.14459536\n",
            "Iteration 35, loss = 1.14418544\n",
            "Iteration 36, loss = 1.14269054\n",
            "Iteration 37, loss = 1.14206992\n",
            "Iteration 38, loss = 1.14141506\n",
            "Iteration 39, loss = 1.14148542\n",
            "Iteration 40, loss = 1.14185282\n",
            "Iteration 41, loss = 1.14120604\n",
            "Iteration 42, loss = 1.14038361\n",
            "Iteration 43, loss = 1.13985487\n",
            "Iteration 44, loss = 1.13922682\n",
            "Iteration 45, loss = 1.13923534\n",
            "Iteration 46, loss = 1.13826994\n",
            "Iteration 47, loss = 1.13864940\n",
            "Iteration 48, loss = 1.13871996\n",
            "Iteration 49, loss = 1.13690685\n",
            "Iteration 50, loss = 1.13627882\n",
            "Iteration 51, loss = 1.13707480\n",
            "Iteration 52, loss = 1.13623929\n",
            "Iteration 53, loss = 1.13576638\n",
            "Iteration 54, loss = 1.13568746\n",
            "Iteration 55, loss = 1.13539651\n",
            "Iteration 56, loss = 1.13476143\n",
            "Iteration 57, loss = 1.13465722\n",
            "Iteration 58, loss = 1.13449917\n",
            "Iteration 59, loss = 1.13430873\n",
            "Iteration 60, loss = 1.13398496\n",
            "Iteration 61, loss = 1.13457770\n",
            "Iteration 62, loss = 1.13355146\n",
            "Iteration 63, loss = 1.13245385\n",
            "Iteration 64, loss = 1.13520571\n",
            "Iteration 65, loss = 1.13325872\n",
            "Iteration 66, loss = 1.13234886\n",
            "Iteration 67, loss = 1.13231949\n",
            "Iteration 68, loss = 1.13188621\n",
            "Iteration 69, loss = 1.13148019\n",
            "Iteration 70, loss = 1.13123042\n",
            "Iteration 71, loss = 1.13097542\n",
            "Iteration 72, loss = 1.13114389\n",
            "Iteration 73, loss = 1.13073821\n",
            "Iteration 74, loss = 1.13023095\n",
            "Iteration 75, loss = 1.13062601\n",
            "Iteration 76, loss = 1.12987807\n",
            "Iteration 77, loss = 1.13029103\n",
            "Iteration 78, loss = 1.12959958\n",
            "Iteration 79, loss = 1.12995811\n",
            "Iteration 80, loss = 1.12972066\n",
            "Iteration 81, loss = 1.12889276\n",
            "Iteration 82, loss = 1.12874063\n",
            "Iteration 83, loss = 1.12828975\n",
            "Iteration 84, loss = 1.12936898\n",
            "Iteration 85, loss = 1.12807243\n",
            "Iteration 86, loss = 1.12842704\n",
            "Iteration 87, loss = 1.12813976\n",
            "Iteration 88, loss = 1.12750371\n",
            "Iteration 89, loss = 1.12693458\n",
            "Iteration 90, loss = 1.12723903\n",
            "Iteration 91, loss = 1.12674460\n",
            "Iteration 92, loss = 1.12666085\n",
            "Iteration 93, loss = 1.12642687\n",
            "Iteration 94, loss = 1.12654512\n",
            "Iteration 95, loss = 1.12617939\n",
            "Iteration 96, loss = 1.12577411\n",
            "Iteration 97, loss = 1.12611001\n",
            "Iteration 98, loss = 1.12587447\n",
            "Iteration 99, loss = 1.12612626\n",
            "Iteration 100, loss = 1.12548117\n",
            "Iteration 101, loss = 1.12528382\n",
            "Iteration 102, loss = 1.12579180\n",
            "Iteration 103, loss = 1.12527257\n",
            "Iteration 104, loss = 1.12541508\n",
            "Iteration 105, loss = 1.12523197\n",
            "Iteration 106, loss = 1.12489689\n",
            "Iteration 107, loss = 1.12526063\n",
            "Iteration 108, loss = 1.12487734\n",
            "Iteration 109, loss = 1.12535079\n",
            "Iteration 110, loss = 1.12419459\n",
            "Iteration 111, loss = 1.12445498\n",
            "Iteration 112, loss = 1.12411207\n",
            "Iteration 113, loss = 1.12431195\n",
            "Iteration 114, loss = 1.12491731\n",
            "Iteration 115, loss = 1.12438060\n",
            "Iteration 116, loss = 1.12344343\n",
            "Iteration 117, loss = 1.12452010\n",
            "Iteration 118, loss = 1.12393421\n",
            "Iteration 119, loss = 1.12339530\n",
            "Iteration 120, loss = 1.12402866\n",
            "Iteration 121, loss = 1.12394380\n",
            "Iteration 122, loss = 1.12319735\n",
            "Iteration 123, loss = 1.12339451\n",
            "Iteration 124, loss = 1.12275778\n",
            "Iteration 125, loss = 1.12347752\n",
            "Iteration 126, loss = 1.12292531\n",
            "Iteration 127, loss = 1.12309283\n",
            "Iteration 128, loss = 1.12293363\n",
            "Iteration 129, loss = 1.12265876\n",
            "Iteration 130, loss = 1.12306498\n",
            "Iteration 131, loss = 1.12302015\n",
            "Iteration 132, loss = 1.12263489\n",
            "Iteration 133, loss = 1.12281813\n",
            "Iteration 134, loss = 1.12208675\n",
            "Iteration 135, loss = 1.12219685\n",
            "Iteration 136, loss = 1.12262147\n",
            "Iteration 137, loss = 1.12195504\n",
            "Iteration 138, loss = 1.12209176\n",
            "Iteration 139, loss = 1.12173392\n",
            "Iteration 140, loss = 1.12087460\n",
            "Iteration 141, loss = 1.12152532\n",
            "Iteration 142, loss = 1.12218255\n",
            "Iteration 143, loss = 1.12170810\n",
            "Iteration 144, loss = 1.12170661\n",
            "Iteration 145, loss = 1.12162977\n",
            "Iteration 146, loss = 1.12137165\n",
            "Iteration 147, loss = 1.12106103\n",
            "Iteration 148, loss = 1.12148349\n",
            "Iteration 149, loss = 1.12130682\n",
            "Iteration 150, loss = 1.12070707\n",
            "Iteration 151, loss = 1.12013689\n",
            "Iteration 152, loss = 1.12106146\n",
            "Iteration 153, loss = 1.12082486\n",
            "Iteration 154, loss = 1.12087382\n",
            "Iteration 155, loss = 1.12100996\n",
            "Iteration 156, loss = 1.12063285\n",
            "Iteration 157, loss = 1.12053890\n",
            "Iteration 158, loss = 1.12074484\n",
            "Iteration 159, loss = 1.12064452\n",
            "Iteration 160, loss = 1.12051771\n",
            "Iteration 161, loss = 1.12106006\n",
            "Iteration 162, loss = 1.12026947\n",
            "Training loss did not improve more than tol=0.000100 for 10 consecutive epochs. Stopping.\n",
            "RMSLE of Neural Network_random : 0.5393\n",
            "R2 value of Neural Network_random : 0.0254\n",
            "Err value of Neural Network_random : 0.5393\n"
          ],
          "name": "stdout"
        }
      ]
    },
    {
      "cell_type": "markdown",
      "metadata": {
        "id": "BRabSrujJ44t"
      },
      "source": [
        "**Hyperparameter Optimization using Grid Search**"
      ]
    },
    {
      "cell_type": "code",
      "metadata": {
        "id": "uBfOkQNpeO2n"
      },
      "source": [
        "#parameter_grid = {'hidden_layer_sizes': [i for i in range(1,10)],\r\n",
        "#                  'activation': ['tanh', 'relu'],\r\n",
        "#                  'solver': ['sgd','adam'],\r\n",
        "#                  'learning_rate': ['constant'],\r\n",
        "#                  'learning_rate_init': [0.001],\r\n",
        "#                  'alpha': [0.0001],\r\n",
        "#                  'max_iter': [1000],}\r\n",
        "\r\n",
        "#rgr = GridSearchCV(MLPRegressor(), parameter_grid,\r\n",
        "#                   cv = 5, verbose=True, pre_dispatch='2*n_jobs')\r\n",
        "#rgr.fit(X_train, y_train)\r\n",
        "\r\n",
        "#train_mse = mean_squared_error(y_train, rgr.predict(X_train))\r\n",
        "#test_mse = mean_squared_error(y_valid, rgr.predict(X_valid))\r\n",
        "\r\n",
        "#print(rgr.best_params_)\r\n",
        "#print(rgr.best_score_)\r\n",
        "#print(\"Train MSE:\", np.round(train_mse,2))\r\n",
        "#print(\"Test MSE:\", np.round(test_mse,2))"
      ],
      "execution_count": 63,
      "outputs": []
    },
    {
      "cell_type": "code",
      "metadata": {
        "colab": {
          "base_uri": "https://localhost:8080/"
        },
        "id": "-rFUO9A92R8T",
        "outputId": "26b75c24-851b-419e-e98a-a3a4c2ef8b83"
      },
      "source": [
        "from sklearn.neural_network import MLPRegressor\n",
        "\n",
        "model_3 = MLPRegressor(activation='relu', alpha=0.0001, batch_size='auto', beta_1=0.9,\n",
        "        beta_2=0.999, early_stopping=False, epsilon=1e-08,\n",
        "        hidden_layer_sizes=2, learning_rate='constant',\n",
        "        learning_rate_init=0.001, max_iter=1000, momentum=0.9,\n",
        "        nesterovs_momentum=True, power_t=0.5, random_state=None,\n",
        "        shuffle=True, solver='adam', tol=0.0001, validation_fraction=0.1,\n",
        "        verbose=1, warm_start=False)\n",
        "\n",
        "model_3.fit(X_train, y_train)\n",
        "eval(model_3, X_valid, y_valid, 'Neural Network_gridsearch')"
      ],
      "execution_count": 64,
      "outputs": [
        {
          "output_type": "stream",
          "text": [
            "Iteration 1, loss = 2.51288521\n",
            "Iteration 2, loss = 1.67161508\n",
            "Iteration 3, loss = 1.54225849\n",
            "Iteration 4, loss = 1.45406863\n",
            "Iteration 5, loss = 1.38510022\n",
            "Iteration 6, loss = 1.32881298\n",
            "Iteration 7, loss = 1.26736518\n",
            "Iteration 8, loss = 1.22458448\n",
            "Iteration 9, loss = 1.20980892\n",
            "Iteration 10, loss = 1.20251628\n",
            "Iteration 11, loss = 1.19833443\n",
            "Iteration 12, loss = 1.19617733\n",
            "Iteration 13, loss = 1.19442525\n",
            "Iteration 14, loss = 1.19362266\n",
            "Iteration 15, loss = 1.19279822\n",
            "Iteration 16, loss = 1.19269064\n",
            "Iteration 17, loss = 1.19138065\n",
            "Iteration 18, loss = 1.19073539\n",
            "Iteration 19, loss = 1.19012105\n",
            "Iteration 20, loss = 1.18920344\n",
            "Iteration 21, loss = 1.18904740\n",
            "Iteration 22, loss = 1.18894133\n",
            "Iteration 23, loss = 1.18782244\n",
            "Iteration 24, loss = 1.18715329\n",
            "Iteration 25, loss = 1.18743901\n",
            "Iteration 26, loss = 1.18696565\n",
            "Iteration 27, loss = 1.18644280\n",
            "Iteration 28, loss = 1.18635615\n",
            "Iteration 29, loss = 1.18596846\n",
            "Iteration 30, loss = 1.18555506\n",
            "Iteration 31, loss = 1.18556309\n",
            "Iteration 32, loss = 1.18472635\n",
            "Iteration 33, loss = 1.18432702\n",
            "Iteration 34, loss = 1.18386925\n",
            "Iteration 35, loss = 1.18345082\n",
            "Iteration 36, loss = 1.18360327\n",
            "Iteration 37, loss = 1.18285401\n",
            "Iteration 38, loss = 1.18238256\n",
            "Iteration 39, loss = 1.18231071\n",
            "Iteration 40, loss = 1.18185519\n",
            "Iteration 41, loss = 1.18142949\n",
            "Iteration 42, loss = 1.18094563\n",
            "Iteration 43, loss = 1.18031926\n",
            "Iteration 44, loss = 1.18025454\n",
            "Iteration 45, loss = 1.17952822\n",
            "Iteration 46, loss = 1.17928720\n",
            "Iteration 47, loss = 1.17923727\n",
            "Iteration 48, loss = 1.17872354\n",
            "Iteration 49, loss = 1.17887509\n",
            "Iteration 50, loss = 1.17828573\n",
            "Iteration 51, loss = 1.17875679\n",
            "Iteration 52, loss = 1.17831368\n",
            "Iteration 53, loss = 1.17796628\n",
            "Iteration 54, loss = 1.17787621\n",
            "Iteration 55, loss = 1.17796281\n",
            "Iteration 56, loss = 1.17736252\n",
            "Iteration 57, loss = 1.17755896\n",
            "Iteration 58, loss = 1.17766192\n",
            "Iteration 59, loss = 1.17744642\n",
            "Iteration 60, loss = 1.17668931\n",
            "Iteration 61, loss = 1.17733086\n",
            "Iteration 62, loss = 1.17685340\n",
            "Iteration 63, loss = 1.17691667\n",
            "Iteration 64, loss = 1.17677591\n",
            "Iteration 65, loss = 1.17698060\n",
            "Iteration 66, loss = 1.17656890\n",
            "Iteration 67, loss = 1.17626454\n",
            "Iteration 68, loss = 1.17638311\n",
            "Iteration 69, loss = 1.17603232\n",
            "Iteration 70, loss = 1.17590764\n",
            "Iteration 71, loss = 1.17607292\n",
            "Iteration 72, loss = 1.17567354\n",
            "Iteration 73, loss = 1.17610332\n",
            "Iteration 74, loss = 1.17545393\n",
            "Iteration 75, loss = 1.17558968\n",
            "Iteration 76, loss = 1.17531984\n",
            "Iteration 77, loss = 1.17565315\n",
            "Iteration 78, loss = 1.17491326\n",
            "Iteration 79, loss = 1.17509313\n",
            "Iteration 80, loss = 1.17454393\n",
            "Iteration 81, loss = 1.17497374\n",
            "Iteration 82, loss = 1.17469173\n",
            "Iteration 83, loss = 1.17481960\n",
            "Iteration 84, loss = 1.17457630\n",
            "Iteration 85, loss = 1.17426938\n",
            "Iteration 86, loss = 1.17454629\n",
            "Iteration 87, loss = 1.17471287\n",
            "Iteration 88, loss = 1.17425998\n",
            "Iteration 89, loss = 1.17431324\n",
            "Iteration 90, loss = 1.17409477\n",
            "Iteration 91, loss = 1.17387071\n",
            "Iteration 92, loss = 1.17365282\n",
            "Iteration 93, loss = 1.17356269\n",
            "Iteration 94, loss = 1.17338203\n",
            "Iteration 95, loss = 1.17354106\n",
            "Iteration 96, loss = 1.17352772\n",
            "Iteration 97, loss = 1.17348137\n",
            "Iteration 98, loss = 1.17321188\n",
            "Iteration 99, loss = 1.17389511\n",
            "Iteration 100, loss = 1.17333116\n",
            "Iteration 101, loss = 1.17334889\n",
            "Iteration 102, loss = 1.17298662\n",
            "Iteration 103, loss = 1.17244901\n",
            "Iteration 104, loss = 1.17283959\n",
            "Iteration 105, loss = 1.17282605\n",
            "Iteration 106, loss = 1.17257371\n",
            "Iteration 107, loss = 1.17331069\n",
            "Iteration 108, loss = 1.17277736\n",
            "Iteration 109, loss = 1.17293862\n",
            "Iteration 110, loss = 1.17282284\n",
            "Iteration 111, loss = 1.17291877\n",
            "Iteration 112, loss = 1.17242037\n",
            "Iteration 113, loss = 1.17246621\n",
            "Iteration 114, loss = 1.17265408\n",
            "Training loss did not improve more than tol=0.000100 for 10 consecutive epochs. Stopping.\n",
            "RMSLE of Neural Network_gridsearch : 0.5261\n",
            "R2 value of Neural Network_gridsearch : 0.0353\n",
            "Err value of Neural Network_gridsearch : 0.5261\n"
          ],
          "name": "stdout"
        }
      ]
    },
    {
      "cell_type": "markdown",
      "metadata": {
        "id": "eVUxzLr-bcw5"
      },
      "source": [
        "## MODEL 4: XGBoost -  Gradient Boost Linear Regression Function"
      ]
    },
    {
      "cell_type": "code",
      "metadata": {
        "colab": {
          "base_uri": "https://localhost:8080/"
        },
        "id": "hBJ42ntWeZxa",
        "outputId": "970769f6-952f-4590-daf2-cb18d8ad8ced"
      },
      "source": [
        "reg = ensemble.GradientBoostingRegressor(n_estimators = 500,\r\n",
        "          max_depth = 4,\r\n",
        "          min_samples_split= 5,\r\n",
        "          learning_rate = 0.01,\r\n",
        "          loss = 'ls')\r\n",
        "reg.fit(X_train, y_train)\r\n",
        "eval(reg, X_valid, y_valid,'Gradient Boosting Regressor')"
      ],
      "execution_count": 67,
      "outputs": [
        {
          "output_type": "stream",
          "text": [
            "RMSLE of GradientBoostingRegressor : 0.5259\n",
            "R2 value of GradientBoostingRegressor : 0.0525\n",
            "Err value of GradientBoostingRegressor : 0.5259\n"
          ],
          "name": "stdout"
        }
      ]
    },
    {
      "cell_type": "code",
      "metadata": {
        "id": "RqkQIJJ6bcw8"
      },
      "source": [
        "# Set XGBoost DataMatrix\n",
        "dmatrix_train = xgboost.DMatrix(data=X_train,label=y_train)\n",
        "dmatrix_test = xgboost.DMatrix(data=X_test,label=y_test)"
      ],
      "execution_count": 65,
      "outputs": []
    },
    {
      "cell_type": "code",
      "metadata": {
        "id": "bvrLEOK4bcxA",
        "scrolled": true,
        "colab": {
          "base_uri": "https://localhost:8080/",
          "height": 1000
        },
        "outputId": "87c5270a-c7ab-4110-af81-e197e5a879f7"
      },
      "source": [
        "# XGBoost\n",
        "params = {'objective': 'reg:linear', 'gamma': 0,\n",
        "          'subsample': 0.3, 'colsample_by*': 0.5, 'learning_rate': 0.1, 'max_depth': 15, 'lambda': 10,\n",
        "          'booster': 'gblinear'}\n",
        "xgb_results = {}\n",
        "xgb_model = xgboost.train(dtrain=dmatrix_train, params=params, evals_result=xgb_results,\n",
        "                          feval=rmsle, evals=[(dmatrix_test,'test'), (dmatrix_train,'train')], \n",
        "                          num_boost_round=500, early_stopping_rounds=5)\n",
        "\n",
        "plotResult(xgb_results, cv=False)\n",
        "print('RMSLE Train set:', xgb_results['train']['RMSLE'][-1])"
      ],
      "execution_count": 66,
      "outputs": [
        {
          "output_type": "stream",
          "text": [
            "[02:46:18] WARNING: /workspace/src/objective/regression_obj.cu:152: reg:linear is now deprecated in favor of reg:squarederror.\n",
            "[0]\ttest-rmse:1.52266\ttrain-rmse:1.5929\ttest-RMSLE:0.519652\ttrain-RMSLE:0.527452\n",
            "Multiple eval metrics have been passed: 'train-RMSLE' will be used for early stopping.\n",
            "\n",
            "Will train until train-RMSLE hasn't improved in 5 rounds.\n",
            "[1]\ttest-rmse:1.51572\ttrain-rmse:1.58685\ttest-RMSLE:0.516016\ttrain-RMSLE:0.523135\n",
            "[2]\ttest-rmse:1.51098\ttrain-rmse:1.58266\ttest-RMSLE:0.513727\ttrain-RMSLE:0.52021\n",
            "[3]\ttest-rmse:1.50765\ttrain-rmse:1.57969\ttest-RMSLE:0.512198\ttrain-RMSLE:0.518139\n",
            "[4]\ttest-rmse:1.50527\ttrain-rmse:1.57752\ttest-RMSLE:0.511108\ttrain-RMSLE:0.516607\n",
            "[5]\ttest-rmse:1.50352\ttrain-rmse:1.57592\ttest-RMSLE:0.510281\ttrain-RMSLE:0.515428\n",
            "[6]\ttest-rmse:1.5022\ttrain-rmse:1.57471\ttest-RMSLE:0.509617\ttrain-RMSLE:0.514487\n",
            "[7]\ttest-rmse:1.50119\ttrain-rmse:1.57378\ttest-RMSLE:0.509058\ttrain-RMSLE:0.513714\n",
            "[8]\ttest-rmse:1.5004\ttrain-rmse:1.57305\ttest-RMSLE:0.508572\ttrain-RMSLE:0.513063\n",
            "[9]\ttest-rmse:1.49977\ttrain-rmse:1.57247\ttest-RMSLE:0.508141\ttrain-RMSLE:0.512505\n",
            "[10]\ttest-rmse:1.49926\ttrain-rmse:1.572\ttest-RMSLE:0.507754\ttrain-RMSLE:0.512022\n",
            "[11]\ttest-rmse:1.49885\ttrain-rmse:1.57162\ttest-RMSLE:0.507403\ttrain-RMSLE:0.511598\n",
            "[12]\ttest-rmse:1.4985\ttrain-rmse:1.57131\ttest-RMSLE:0.507084\ttrain-RMSLE:0.511223\n",
            "[13]\ttest-rmse:1.49822\ttrain-rmse:1.57105\ttest-RMSLE:0.506794\ttrain-RMSLE:0.510892\n",
            "[14]\ttest-rmse:1.49798\ttrain-rmse:1.57084\ttest-RMSLE:0.50653\ttrain-RMSLE:0.510597\n",
            "[15]\ttest-rmse:1.49778\ttrain-rmse:1.57066\ttest-RMSLE:0.506289\ttrain-RMSLE:0.510333\n",
            "[16]\ttest-rmse:1.49761\ttrain-rmse:1.5705\ttest-RMSLE:0.506071\ttrain-RMSLE:0.510098\n",
            "[17]\ttest-rmse:1.49746\ttrain-rmse:1.57038\ttest-RMSLE:0.505873\ttrain-RMSLE:0.509888\n",
            "[18]\ttest-rmse:1.49733\ttrain-rmse:1.57027\ttest-RMSLE:0.505693\ttrain-RMSLE:0.509699\n",
            "[19]\ttest-rmse:1.49722\ttrain-rmse:1.57017\ttest-RMSLE:0.505531\ttrain-RMSLE:0.50953\n",
            "[20]\ttest-rmse:1.49712\ttrain-rmse:1.57009\ttest-RMSLE:0.505384\ttrain-RMSLE:0.509379\n",
            "[21]\ttest-rmse:1.49704\ttrain-rmse:1.57002\ttest-RMSLE:0.505251\ttrain-RMSLE:0.509243\n",
            "[22]\ttest-rmse:1.49697\ttrain-rmse:1.56995\ttest-RMSLE:0.505131\ttrain-RMSLE:0.509121\n",
            "[23]\ttest-rmse:1.4969\ttrain-rmse:1.5699\ttest-RMSLE:0.505022\ttrain-RMSLE:0.509012\n",
            "[24]\ttest-rmse:1.49684\ttrain-rmse:1.56985\ttest-RMSLE:0.504925\ttrain-RMSLE:0.508914\n",
            "[25]\ttest-rmse:1.4968\ttrain-rmse:1.56981\ttest-RMSLE:0.504836\ttrain-RMSLE:0.508825\n",
            "[26]\ttest-rmse:1.49675\ttrain-rmse:1.56977\ttest-RMSLE:0.504757\ttrain-RMSLE:0.508746\n",
            "[27]\ttest-rmse:1.49671\ttrain-rmse:1.56974\ttest-RMSLE:0.504686\ttrain-RMSLE:0.508675\n",
            "[28]\ttest-rmse:1.49668\ttrain-rmse:1.56971\ttest-RMSLE:0.504621\ttrain-RMSLE:0.508611\n",
            "[29]\ttest-rmse:1.49665\ttrain-rmse:1.56969\ttest-RMSLE:0.504563\ttrain-RMSLE:0.508554\n",
            "[30]\ttest-rmse:1.49662\ttrain-rmse:1.56966\ttest-RMSLE:0.504511\ttrain-RMSLE:0.508502\n",
            "[31]\ttest-rmse:1.4966\ttrain-rmse:1.56964\ttest-RMSLE:0.504464\ttrain-RMSLE:0.508456\n",
            "[32]\ttest-rmse:1.49657\ttrain-rmse:1.56963\ttest-RMSLE:0.504422\ttrain-RMSLE:0.508414\n",
            "[33]\ttest-rmse:1.49656\ttrain-rmse:1.56961\ttest-RMSLE:0.504384\ttrain-RMSLE:0.508377\n",
            "[34]\ttest-rmse:1.49654\ttrain-rmse:1.5696\ttest-RMSLE:0.50435\ttrain-RMSLE:0.508343\n",
            "[35]\ttest-rmse:1.49653\ttrain-rmse:1.56959\ttest-RMSLE:0.504319\ttrain-RMSLE:0.508313\n",
            "[36]\ttest-rmse:1.49651\ttrain-rmse:1.56957\ttest-RMSLE:0.504291\ttrain-RMSLE:0.508286\n",
            "[37]\ttest-rmse:1.4965\ttrain-rmse:1.56956\ttest-RMSLE:0.504266\ttrain-RMSLE:0.508261\n",
            "[38]\ttest-rmse:1.49649\ttrain-rmse:1.56955\ttest-RMSLE:0.504244\ttrain-RMSLE:0.508239\n",
            "[39]\ttest-rmse:1.49648\ttrain-rmse:1.56955\ttest-RMSLE:0.504224\ttrain-RMSLE:0.508219\n",
            "[40]\ttest-rmse:1.49647\ttrain-rmse:1.56954\ttest-RMSLE:0.504206\ttrain-RMSLE:0.508202\n",
            "[41]\ttest-rmse:1.49647\ttrain-rmse:1.56953\ttest-RMSLE:0.504189\ttrain-RMSLE:0.508186\n",
            "[42]\ttest-rmse:1.49646\ttrain-rmse:1.56953\ttest-RMSLE:0.504175\ttrain-RMSLE:0.508171\n",
            "[43]\ttest-rmse:1.49645\ttrain-rmse:1.56952\ttest-RMSLE:0.504162\ttrain-RMSLE:0.508158\n",
            "[44]\ttest-rmse:1.49645\ttrain-rmse:1.56952\ttest-RMSLE:0.50415\ttrain-RMSLE:0.508147\n",
            "[45]\ttest-rmse:1.49644\ttrain-rmse:1.56952\ttest-RMSLE:0.504139\ttrain-RMSLE:0.508136\n",
            "[46]\ttest-rmse:1.49644\ttrain-rmse:1.56951\ttest-RMSLE:0.504129\ttrain-RMSLE:0.508127\n",
            "[47]\ttest-rmse:1.49643\ttrain-rmse:1.56951\ttest-RMSLE:0.504121\ttrain-RMSLE:0.508119\n",
            "[48]\ttest-rmse:1.49643\ttrain-rmse:1.56951\ttest-RMSLE:0.504113\ttrain-RMSLE:0.508111\n",
            "[49]\ttest-rmse:1.49643\ttrain-rmse:1.5695\ttest-RMSLE:0.504106\ttrain-RMSLE:0.508104\n",
            "[50]\ttest-rmse:1.49643\ttrain-rmse:1.5695\ttest-RMSLE:0.5041\ttrain-RMSLE:0.508098\n",
            "[51]\ttest-rmse:1.49642\ttrain-rmse:1.5695\ttest-RMSLE:0.504094\ttrain-RMSLE:0.508093\n",
            "[52]\ttest-rmse:1.49642\ttrain-rmse:1.5695\ttest-RMSLE:0.504089\ttrain-RMSLE:0.508088\n",
            "[53]\ttest-rmse:1.49642\ttrain-rmse:1.5695\ttest-RMSLE:0.504085\ttrain-RMSLE:0.508083\n",
            "[54]\ttest-rmse:1.49642\ttrain-rmse:1.56949\ttest-RMSLE:0.504081\ttrain-RMSLE:0.508079\n",
            "[55]\ttest-rmse:1.49642\ttrain-rmse:1.56949\ttest-RMSLE:0.504077\ttrain-RMSLE:0.508076\n",
            "[56]\ttest-rmse:1.49641\ttrain-rmse:1.56949\ttest-RMSLE:0.504074\ttrain-RMSLE:0.508072\n",
            "[57]\ttest-rmse:1.49641\ttrain-rmse:1.56949\ttest-RMSLE:0.504071\ttrain-RMSLE:0.508069\n",
            "[58]\ttest-rmse:1.49641\ttrain-rmse:1.56949\ttest-RMSLE:0.504068\ttrain-RMSLE:0.508067\n",
            "[59]\ttest-rmse:1.49641\ttrain-rmse:1.56949\ttest-RMSLE:0.504066\ttrain-RMSLE:0.508065\n",
            "[60]\ttest-rmse:1.49641\ttrain-rmse:1.56949\ttest-RMSLE:0.504063\ttrain-RMSLE:0.508062\n",
            "[61]\ttest-rmse:1.49641\ttrain-rmse:1.56949\ttest-RMSLE:0.504061\ttrain-RMSLE:0.50806\n",
            "[62]\ttest-rmse:1.49641\ttrain-rmse:1.56949\ttest-RMSLE:0.50406\ttrain-RMSLE:0.508059\n",
            "[63]\ttest-rmse:1.49641\ttrain-rmse:1.56949\ttest-RMSLE:0.504058\ttrain-RMSLE:0.508057\n",
            "[64]\ttest-rmse:1.49641\ttrain-rmse:1.56949\ttest-RMSLE:0.504057\ttrain-RMSLE:0.508056\n",
            "[65]\ttest-rmse:1.49641\ttrain-rmse:1.56949\ttest-RMSLE:0.504055\ttrain-RMSLE:0.508055\n",
            "[66]\ttest-rmse:1.4964\ttrain-rmse:1.56949\ttest-RMSLE:0.504054\ttrain-RMSLE:0.508053\n",
            "[67]\ttest-rmse:1.4964\ttrain-rmse:1.56948\ttest-RMSLE:0.504053\ttrain-RMSLE:0.508052\n",
            "[68]\ttest-rmse:1.4964\ttrain-rmse:1.56948\ttest-RMSLE:0.504052\ttrain-RMSLE:0.508051\n",
            "[69]\ttest-rmse:1.4964\ttrain-rmse:1.56948\ttest-RMSLE:0.504051\ttrain-RMSLE:0.508051\n",
            "[70]\ttest-rmse:1.4964\ttrain-rmse:1.56948\ttest-RMSLE:0.504051\ttrain-RMSLE:0.50805\n",
            "[71]\ttest-rmse:1.4964\ttrain-rmse:1.56948\ttest-RMSLE:0.50405\ttrain-RMSLE:0.508049\n",
            "[72]\ttest-rmse:1.4964\ttrain-rmse:1.56948\ttest-RMSLE:0.504049\ttrain-RMSLE:0.508049\n",
            "[73]\ttest-rmse:1.4964\ttrain-rmse:1.56948\ttest-RMSLE:0.504049\ttrain-RMSLE:0.508048\n",
            "[74]\ttest-rmse:1.4964\ttrain-rmse:1.56948\ttest-RMSLE:0.504048\ttrain-RMSLE:0.508048\n",
            "[75]\ttest-rmse:1.4964\ttrain-rmse:1.56948\ttest-RMSLE:0.504048\ttrain-RMSLE:0.508047\n",
            "[76]\ttest-rmse:1.4964\ttrain-rmse:1.56948\ttest-RMSLE:0.504047\ttrain-RMSLE:0.508047\n",
            "[77]\ttest-rmse:1.4964\ttrain-rmse:1.56948\ttest-RMSLE:0.504047\ttrain-RMSLE:0.508047\n",
            "[78]\ttest-rmse:1.4964\ttrain-rmse:1.56948\ttest-RMSLE:0.504047\ttrain-RMSLE:0.508046\n",
            "[79]\ttest-rmse:1.4964\ttrain-rmse:1.56948\ttest-RMSLE:0.504047\ttrain-RMSLE:0.508046\n",
            "[80]\ttest-rmse:1.4964\ttrain-rmse:1.56948\ttest-RMSLE:0.504046\ttrain-RMSLE:0.508046\n",
            "[81]\ttest-rmse:1.4964\ttrain-rmse:1.56948\ttest-RMSLE:0.504046\ttrain-RMSLE:0.508045\n",
            "[82]\ttest-rmse:1.4964\ttrain-rmse:1.56948\ttest-RMSLE:0.504046\ttrain-RMSLE:0.508045\n",
            "[83]\ttest-rmse:1.4964\ttrain-rmse:1.56948\ttest-RMSLE:0.504046\ttrain-RMSLE:0.508045\n",
            "[84]\ttest-rmse:1.4964\ttrain-rmse:1.56948\ttest-RMSLE:0.504045\ttrain-RMSLE:0.508045\n",
            "[85]\ttest-rmse:1.4964\ttrain-rmse:1.56948\ttest-RMSLE:0.504045\ttrain-RMSLE:0.508045\n",
            "[86]\ttest-rmse:1.4964\ttrain-rmse:1.56948\ttest-RMSLE:0.504045\ttrain-RMSLE:0.508045\n",
            "Stopping. Best iteration:\n",
            "[81]\ttest-rmse:1.4964\ttrain-rmse:1.56948\ttest-RMSLE:0.504046\ttrain-RMSLE:0.508045\n",
            "\n"
          ],
          "name": "stdout"
        },
        {
          "output_type": "display_data",
          "data": {
            "image/png": "[encoded data removed]",
            "text/plain": [
              "<Figure size 432x288 with 1 Axes>"
            ]
          },
          "metadata": {
            "tags": []
          }
        },
        {
          "output_type": "stream",
          "text": [
            "RMSLE Train set: 0.508045\n"
          ],
          "name": "stdout"
        }
      ]
    },
    {
      "cell_type": "markdown",
      "metadata": {
        "id": "DoFhyWI4Fr5t"
      },
      "source": [
        "# Final Results"
      ]
    },
    {
      "cell_type": "code",
      "metadata": {
        "id": "biOZdcZD2pLA",
        "colab": {
          "base_uri": "https://localhost:8080/"
        },
        "outputId": "5151b333-99ee-4687-fd85-a507b0510949"
      },
      "source": [
        "eval(model_1, X_test, y_test,'linear regression')\r\n",
        "print('******')\r\n",
        "eval(model_2, X_test, y_test, 'Stochastic Gradient Descent')\r\n",
        "print('******')\r\n",
        "eval(model_2i, X_test, y_test, 'Lasso regression')\r\n",
        "print('******')\r\n",
        "eval(model_3i, X_test, y_test, 'Neural Network_default')\r\n",
        "print('******')\r\n",
        "eval(model_3ii, X_test, y_test, 'Neural Network_random')\r\n",
        "print('******')\r\n",
        "eval(model_3, X_test, y_test, 'Neural Network_gridsearch')\r\n",
        "print('******')\r\n",
        "eval(reg, X_test, y_test,'Gradient Boosting Regressor')\r\n",
        "print('******')\r\n",
        "print('Gradient Boost Linear Regression _ RMSLE Test set:', xgb_results['test']['RMSLE'][-1]) "
      ],
      "execution_count": 72,
      "outputs": [
        {
          "output_type": "stream",
          "text": [
            "RMSLE of linear regression : 0.5328\n",
            "R2 value of linear regression : 0.0307\n",
            "Err value of linear regression : 0.5328\n",
            "******\n",
            "RMSLE of Stochastic Gradient Descent : 0.5646\n",
            "R2 value of Stochastic Gradient Descent : -0.0476\n",
            "Err value of Stochastic Gradient Descent : 0.5646\n",
            "******\n",
            "RMSLE of Lasso regression : 0.5322\n",
            "R2 value of Lasso regression : 0.0309\n",
            "Err value of Lasso regression : 0.5322\n",
            "******\n",
            "RMSLE of Neural Network_default : 0.6130\n",
            "R2 value of Neural Network_default : -0.2430\n",
            "Err value of Neural Network_default : 0.6130\n",
            "******\n",
            "RMSLE of Neural Network_random : 0.5458\n",
            "R2 value of Neural Network_random : -0.0149\n",
            "Err value of Neural Network_random : 0.5458\n",
            "******\n",
            "RMSLE of Neural Network_gridsearch : 0.5253\n",
            "R2 value of Neural Network_gridsearch : 0.0316\n",
            "Err value of Neural Network_gridsearch : 0.5253\n",
            "******\n",
            "RMSLE of Gradient Boosting Regressor : 0.5269\n",
            "R2 value of Gradient Boosting Regressor : 0.0376\n",
            "Err value of Gradient Boosting Regressor : 0.5269\n",
            "******\n",
            "Gradient Boost Linear Regression _ RMSLE Test set: 0.504045\n"
          ],
          "name": "stdout"
        }
      ]
    },
    {
      "cell_type": "code",
      "metadata": {
        "id": "nEm4Q-V32sCU",
        "colab": {
          "base_uri": "https://localhost:8080/"
        },
        "outputId": "85f53214-ea6d-4386-83d8-2485d443d547"
      },
      "source": [
        "pred_y = xgb_model.predict(dmatrix_test)\r\n",
        "\r\n",
        "submission = pd.DataFrame()\r\n",
        "submission['MemberID'] = dataY2_df['MemberID']\r\n",
        "\r\n",
        "pred_y = pred_y.clip(min=0)\r\n",
        "pred_y = pred_y.clip(max=15)\r\n",
        "# pred_y = pred_y.astype(int)\r\n",
        "\r\n",
        "submission['DIH'] = pred_y\r\n",
        "submission.groupby(['DIH']).size()"
      ],
      "execution_count": 69,
      "outputs": [
        {
          "output_type": "execute_result",
          "data": {
            "text/plain": [
              "DIH\n",
              "0.238622    1\n",
              "0.241725    1\n",
              "0.242691    1\n",
              "0.242733    1\n",
              "0.242760    1\n",
              "           ..\n",
              "1.753915    1\n",
              "1.812428    1\n",
              "1.814641    1\n",
              "1.834850    1\n",
              "1.854447    1\n",
              "Length: 70830, dtype: int64"
            ]
          },
          "metadata": {
            "tags": []
          },
          "execution_count": 69
        }
      ]
    },
    {
      "cell_type": "code",
      "metadata": {
        "colab": {
          "base_uri": "https://localhost:8080/",
          "height": 402
        },
        "id": "niH1gNwsEZ7W",
        "outputId": "6fc047e9-e63a-4695-c9e0-210121e6c25e"
      },
      "source": [
        "submission[submission['DIH']>=1]"
      ],
      "execution_count": 70,
      "outputs": [
        {
          "output_type": "execute_result",
          "data": {
            "text/html": [
              "<div>\n",
              "<style scoped>\n",
              "    .dataframe tbody tr th:only-of-type {\n",
              "        vertical-align: middle;\n",
              "    }\n",
              "\n",
              "    .dataframe tbody tr th {\n",
              "        vertical-align: top;\n",
              "    }\n",
              "\n",
              "    .dataframe thead th {\n",
              "        text-align: right;\n",
              "    }\n",
              "</style>\n",
              "<table border=\"1\" class=\"dataframe\">\n",
              "  <thead>\n",
              "    <tr style=\"text-align: right;\">\n",
              "      <th></th>\n",
              "      <th>MemberID</th>\n",
              "      <th>DIH</th>\n",
              "    </tr>\n",
              "  </thead>\n",
              "  <tbody>\n",
              "    <tr>\n",
              "      <th>16</th>\n",
              "      <td>20072</td>\n",
              "      <td>1.256879</td>\n",
              "    </tr>\n",
              "    <tr>\n",
              "      <th>24</th>\n",
              "      <td>32491</td>\n",
              "      <td>1.001403</td>\n",
              "    </tr>\n",
              "    <tr>\n",
              "      <th>25</th>\n",
              "      <td>33120</td>\n",
              "      <td>1.380690</td>\n",
              "    </tr>\n",
              "    <tr>\n",
              "      <th>29</th>\n",
              "      <td>42758</td>\n",
              "      <td>1.257469</td>\n",
              "    </tr>\n",
              "    <tr>\n",
              "      <th>30</th>\n",
              "      <td>47103</td>\n",
              "      <td>1.053468</td>\n",
              "    </tr>\n",
              "    <tr>\n",
              "      <th>...</th>\n",
              "      <td>...</td>\n",
              "      <td>...</td>\n",
              "    </tr>\n",
              "    <tr>\n",
              "      <th>71256</th>\n",
              "      <td>99752497</td>\n",
              "      <td>1.066949</td>\n",
              "    </tr>\n",
              "    <tr>\n",
              "      <th>71303</th>\n",
              "      <td>99827727</td>\n",
              "      <td>1.055702</td>\n",
              "    </tr>\n",
              "    <tr>\n",
              "      <th>71306</th>\n",
              "      <td>99829076</td>\n",
              "      <td>1.008087</td>\n",
              "    </tr>\n",
              "    <tr>\n",
              "      <th>71377</th>\n",
              "      <td>99916939</td>\n",
              "      <td>1.091267</td>\n",
              "    </tr>\n",
              "    <tr>\n",
              "      <th>71389</th>\n",
              "      <td>99932868</td>\n",
              "      <td>1.315483</td>\n",
              "    </tr>\n",
              "  </tbody>\n",
              "</table>\n",
              "<p>3189 rows × 2 columns</p>\n",
              "</div>"
            ],
            "text/plain": [
              "       MemberID       DIH\n",
              "16        20072  1.256879\n",
              "24        32491  1.001403\n",
              "25        33120  1.380690\n",
              "29        42758  1.257469\n",
              "30        47103  1.053468\n",
              "...         ...       ...\n",
              "71256  99752497  1.066949\n",
              "71303  99827727  1.055702\n",
              "71306  99829076  1.008087\n",
              "71377  99916939  1.091267\n",
              "71389  99932868  1.315483\n",
              "\n",
              "[3189 rows x 2 columns]"
            ]
          },
          "metadata": {
            "tags": []
          },
          "execution_count": 70
        }
      ]
    },
    {
      "cell_type": "code",
      "metadata": {
        "colab": {
          "base_uri": "https://localhost:8080/",
          "height": 159
        },
        "id": "a3cIDxLqEfft",
        "outputId": "3ffb6078-d7f7-4467-8e7f-e495f4128971"
      },
      "source": [
        "dataY2_df[dataY2_df['MemberID']==\t99932868]"
      ],
      "execution_count": 71,
      "outputs": [
        {
          "output_type": "execute_result",
          "data": {
            "text/html": [
              "<div>\n",
              "<style scoped>\n",
              "    .dataframe tbody tr th:only-of-type {\n",
              "        vertical-align: middle;\n",
              "    }\n",
              "\n",
              "    .dataframe tbody tr th {\n",
              "        vertical-align: top;\n",
              "    }\n",
              "\n",
              "    .dataframe thead th {\n",
              "        text-align: right;\n",
              "    }\n",
              "</style>\n",
              "<table border=\"1\" class=\"dataframe\">\n",
              "  <thead>\n",
              "    <tr style=\"text-align: right;\">\n",
              "      <th></th>\n",
              "      <th>MemberID</th>\n",
              "      <th>AgeAtFirstClaim</th>\n",
              "      <th>Male</th>\n",
              "      <th>Female</th>\n",
              "      <th>Unknown</th>\n",
              "      <th>no_Claims</th>\n",
              "      <th>no_Providers</th>\n",
              "      <th>no_Specialties</th>\n",
              "      <th>no_PCG</th>\n",
              "      <th>no_Procedure</th>\n",
              "      <th>sum_PayDelay</th>\n",
              "      <th>sum_LOS</th>\n",
              "      <th>Specialty_Anesthesiology</th>\n",
              "      <th>Specialty_Diagnostic Imaging</th>\n",
              "      <th>Specialty_Emergency</th>\n",
              "      <th>Specialty_General Practice</th>\n",
              "      <th>Specialty_Internal</th>\n",
              "      <th>Specialty_Laboratory</th>\n",
              "      <th>Specialty_Obstetrics and Gynecology</th>\n",
              "      <th>Specialty_Other</th>\n",
              "      <th>Specialty_Pathology</th>\n",
              "      <th>Specialty_Pediatrics</th>\n",
              "      <th>Specialty_Rehabilitation</th>\n",
              "      <th>Specialty_Surgery</th>\n",
              "      <th>Place_Ambulance</th>\n",
              "      <th>Place_Home</th>\n",
              "      <th>Place_Independent Lab</th>\n",
              "      <th>Place_Inpatient Hospital</th>\n",
              "      <th>Place_Office</th>\n",
              "      <th>Place_Other</th>\n",
              "      <th>Place_Outpatient Hospital</th>\n",
              "      <th>Place_Urgent Care</th>\n",
              "      <th>DSFS_0- 1 month</th>\n",
              "      <th>DSFS_1- 2 months</th>\n",
              "      <th>DSFS_10-11 months</th>\n",
              "      <th>DSFS_11-12 months</th>\n",
              "      <th>DSFS_2- 3 months</th>\n",
              "      <th>DSFS_3- 4 months</th>\n",
              "      <th>DSFS_4- 5 months</th>\n",
              "      <th>DSFS_5- 6 months</th>\n",
              "      <th>...</th>\n",
              "      <th>PCG_PERVALV</th>\n",
              "      <th>PCG_PNCRDZ</th>\n",
              "      <th>PCG_PNEUM</th>\n",
              "      <th>PCG_PRGNCY</th>\n",
              "      <th>PCG_RENAL1</th>\n",
              "      <th>PCG_RENAL2</th>\n",
              "      <th>PCG_RENAL3</th>\n",
              "      <th>PCG_RESPR4</th>\n",
              "      <th>PCG_ROAMI</th>\n",
              "      <th>PCG_SEIZURE</th>\n",
              "      <th>PCG_SEPSIS</th>\n",
              "      <th>PCG_SKNAUT</th>\n",
              "      <th>PCG_STROKE</th>\n",
              "      <th>PCG_TRAUMA</th>\n",
              "      <th>PCG_UTI</th>\n",
              "      <th>Charlson_0</th>\n",
              "      <th>Charlson_1-2</th>\n",
              "      <th>Charlson_3-4</th>\n",
              "      <th>Charlson_5+</th>\n",
              "      <th>Procedure_ANES</th>\n",
              "      <th>Procedure_EM</th>\n",
              "      <th>Procedure_MED</th>\n",
              "      <th>Procedure_PL</th>\n",
              "      <th>Procedure_RAD</th>\n",
              "      <th>Procedure_SAS</th>\n",
              "      <th>Procedure_SCS</th>\n",
              "      <th>Procedure_SDS</th>\n",
              "      <th>Procedure_SEOA</th>\n",
              "      <th>Procedure_SGS</th>\n",
              "      <th>Procedure_SIS</th>\n",
              "      <th>Procedure_SMCD</th>\n",
              "      <th>Procedure_SMS</th>\n",
              "      <th>Procedure_SNS</th>\n",
              "      <th>Procedure_SO</th>\n",
              "      <th>Procedure_SRS</th>\n",
              "      <th>Procedure_SUS</th>\n",
              "      <th>DrugSum</th>\n",
              "      <th>LabSum</th>\n",
              "      <th>TARGET</th>\n",
              "      <th>CLASS</th>\n",
              "    </tr>\n",
              "  </thead>\n",
              "  <tbody>\n",
              "    <tr>\n",
              "      <th>71389</th>\n",
              "      <td>99932868</td>\n",
              "      <td>45</td>\n",
              "      <td>0</td>\n",
              "      <td>0</td>\n",
              "      <td>1</td>\n",
              "      <td>42</td>\n",
              "      <td>13</td>\n",
              "      <td>6</td>\n",
              "      <td>9</td>\n",
              "      <td>7</td>\n",
              "      <td>1588</td>\n",
              "      <td>8</td>\n",
              "      <td>0</td>\n",
              "      <td>3</td>\n",
              "      <td>8</td>\n",
              "      <td>5</td>\n",
              "      <td>22</td>\n",
              "      <td>2</td>\n",
              "      <td>0</td>\n",
              "      <td>2</td>\n",
              "      <td>0</td>\n",
              "      <td>0</td>\n",
              "      <td>0</td>\n",
              "      <td>0</td>\n",
              "      <td>0</td>\n",
              "      <td>0</td>\n",
              "      <td>2</td>\n",
              "      <td>22</td>\n",
              "      <td>12</td>\n",
              "      <td>2</td>\n",
              "      <td>0</td>\n",
              "      <td>5</td>\n",
              "      <td>39</td>\n",
              "      <td>3</td>\n",
              "      <td>0</td>\n",
              "      <td>0</td>\n",
              "      <td>0</td>\n",
              "      <td>0</td>\n",
              "      <td>0</td>\n",
              "      <td>0</td>\n",
              "      <td>...</td>\n",
              "      <td>1</td>\n",
              "      <td>0</td>\n",
              "      <td>0</td>\n",
              "      <td>0</td>\n",
              "      <td>1</td>\n",
              "      <td>3</td>\n",
              "      <td>0</td>\n",
              "      <td>0</td>\n",
              "      <td>7</td>\n",
              "      <td>0</td>\n",
              "      <td>0</td>\n",
              "      <td>0</td>\n",
              "      <td>0</td>\n",
              "      <td>0</td>\n",
              "      <td>0</td>\n",
              "      <td>1</td>\n",
              "      <td>34</td>\n",
              "      <td>8</td>\n",
              "      <td>0</td>\n",
              "      <td>0</td>\n",
              "      <td>19</td>\n",
              "      <td>11</td>\n",
              "      <td>2</td>\n",
              "      <td>5</td>\n",
              "      <td>0</td>\n",
              "      <td>0</td>\n",
              "      <td>1</td>\n",
              "      <td>0</td>\n",
              "      <td>0</td>\n",
              "      <td>1</td>\n",
              "      <td>0</td>\n",
              "      <td>3</td>\n",
              "      <td>0</td>\n",
              "      <td>0</td>\n",
              "      <td>0</td>\n",
              "      <td>0</td>\n",
              "      <td>17</td>\n",
              "      <td>4</td>\n",
              "      <td>0</td>\n",
              "      <td>-1</td>\n",
              "    </tr>\n",
              "  </tbody>\n",
              "</table>\n",
              "<p>1 rows × 114 columns</p>\n",
              "</div>"
            ],
            "text/plain": [
              "       MemberID  AgeAtFirstClaim  Male  Female  ...  DrugSum  LabSum  TARGET  CLASS\n",
              "71389  99932868               45     0       0  ...       17       4       0     -1\n",
              "\n",
              "[1 rows x 114 columns]"
            ]
          },
          "metadata": {
            "tags": []
          },
          "execution_count": 71
        }
      ]
    }
  ]
}